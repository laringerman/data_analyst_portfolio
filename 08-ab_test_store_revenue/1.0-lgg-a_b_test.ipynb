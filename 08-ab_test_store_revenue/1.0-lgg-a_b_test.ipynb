{
 "cells": [
  {
   "cell_type": "markdown",
   "metadata": {},
   "source": [
    "# A/B тест в интегрнет магазине"
   ]
  },
  {
   "cell_type": "markdown",
   "metadata": {},
   "source": [
    "Совместно с отделом маркетинга был подготовлен список гипотез для увеличения выручи.  \n",
    "В данной работе мы:  \n",
    "- провеем приоритизацию гипотез, \n",
    "- запустим A/B-тест,  \n",
    "- проанализируем результаты A/B-теста."
   ]
  },
  {
   "cell_type": "markdown",
   "metadata": {},
   "source": [
    "## Загрузка данных и подготовка к анализу"
   ]
  },
  {
   "cell_type": "markdown",
   "metadata": {},
   "source": [
    "Импортируем необходимые для работы библиотеки."
   ]
  },
  {
   "cell_type": "code",
   "execution_count": 1,
   "metadata": {},
   "outputs": [],
   "source": [
    "import pandas as pd\n",
    "import matplotlib.pyplot as plt\n",
    "import datetime as dt\n",
    "import scipy.stats as stats\n",
    "import numpy as np\n",
    "import seaborn as sns\n",
    "from datetime import datetime, timedelta"
   ]
  },
  {
   "cell_type": "markdown",
   "metadata": {},
   "source": [
    "Уберем ограничение по выводу строк, колонок и символов в записи"
   ]
  },
  {
   "cell_type": "code",
   "execution_count": 2,
   "metadata": {},
   "outputs": [],
   "source": [
    "# Сброс ограничений на количество выводимых рядов\n",
    "pd.set_option('display.max_rows', None)\n",
    " \n",
    "# Сброс ограничений на число столбцов\n",
    "pd.set_option('display.max_columns', None)\n",
    " \n",
    "# Сброс ограничений на количество символов в записи\n",
    "pd.set_option('display.max_colwidth', None)"
   ]
  },
  {
   "cell_type": "markdown",
   "metadata": {},
   "source": [
    "### Загрузка данных"
   ]
  },
  {
   "cell_type": "markdown",
   "metadata": {},
   "source": [
    "Запишем датасеты hypothesis.csv, orders.csv, visitors.csv в датафреймы hypothesis, orders и visitors соответственно, посмотрим на их первые 5 строк и посмотрим информацию.\n"
   ]
  },
  {
   "cell_type": "code",
   "execution_count": 3,
   "metadata": {},
   "outputs": [],
   "source": [
    "try:\n",
    "    hypothesis, orders, visitors = (\n",
    "        pd.read_csv('/datasets/hypothesis.csv'),\n",
    "        pd.read_csv('/datasets/orders.csv'),\n",
    "        pd.read_csv('/datasets/visitors.csv')\n",
    "    )\n",
    "\n",
    "\n",
    "except:\n",
    "    hypothesis, orders, visitors = (\n",
    "        pd.read_csv('hypothesis.csv'),\n",
    "        pd.read_csv('orders.csv'),\n",
    "        pd.read_csv('visitors.csv')\n",
    "    )"
   ]
  },
  {
   "cell_type": "code",
   "execution_count": 4,
   "metadata": {},
   "outputs": [
    {
     "name": "stdout",
     "output_type": "stream",
     "text": [
      "                                                                                                     Hypothesis  \\\n",
      "0            Добавить два новых канала привлечения трафика, что позволит привлекать на 30% больше пользователей   \n",
      "1                                     Запустить собственную службу доставки, что сократит срок доставки заказов   \n",
      "2  Добавить блоки рекомендаций товаров на сайт интернет магазина, чтобы повысить конверсию и средний чек заказа   \n",
      "3           Изменить структура категорий, что увеличит конверсию, т.к. пользователи быстрее найдут нужный товар   \n",
      "4                              Изменить цвет фона главной страницы, чтобы увеличить вовлеченность пользователей   \n",
      "\n",
      "   Reach  Impact  Confidence  Efforts  \n",
      "0      3      10           8        6  \n",
      "1      2       5           4       10  \n",
      "2      8       3           7        3  \n",
      "3      8       3           3        8  \n",
      "4      3       1           1        1  \n",
      "<class 'pandas.core.frame.DataFrame'>\n",
      "RangeIndex: 9 entries, 0 to 8\n",
      "Data columns (total 5 columns):\n",
      " #   Column      Non-Null Count  Dtype \n",
      "---  ------      --------------  ----- \n",
      " 0   Hypothesis  9 non-null      object\n",
      " 1   Reach       9 non-null      int64 \n",
      " 2   Impact      9 non-null      int64 \n",
      " 3   Confidence  9 non-null      int64 \n",
      " 4   Efforts     9 non-null      int64 \n",
      "dtypes: int64(4), object(1)\n",
      "memory usage: 488.0+ bytes\n",
      "None\n"
     ]
    }
   ],
   "source": [
    "print(hypothesis.head())\n",
    "print(hypothesis.info())"
   ]
  },
  {
   "cell_type": "markdown",
   "metadata": {},
   "source": [
    "Датафоейм **hypothesis**:  \n",
    "  \n",
    "`Hypothesis` — краткое описание гипотезы;  \n",
    "`Reach` — охват пользователей по 10-балльной шкале;  \n",
    "`Impact` — влияние на пользователей по 10-балльной шкале;  \n",
    "`Confidence` — уверенность в гипотезе по 10-балльной шкале;  \n",
    "`Efforts` — затраты ресурсов на проверку гипотезы по 10-балльной шкале. Чем больше значение Efforts, тем дороже проверка гипотезы. \n",
    "  \n",
    "5 столбцов, 9 строк."
   ]
  },
  {
   "cell_type": "code",
   "execution_count": 5,
   "metadata": {},
   "outputs": [
    {
     "name": "stdout",
     "output_type": "stream",
     "text": [
      "   transactionId   visitorId        date  revenue group\n",
      "0     3667963787  3312258926  2019-08-15     1650     B\n",
      "1     2804400009  3642806036  2019-08-15      730     B\n",
      "2     2961555356  4069496402  2019-08-15      400     A\n",
      "3     3797467345  1196621759  2019-08-15     9759     B\n",
      "4     2282983706  2322279887  2019-08-15     2308     B\n",
      "<class 'pandas.core.frame.DataFrame'>\n",
      "RangeIndex: 1197 entries, 0 to 1196\n",
      "Data columns (total 5 columns):\n",
      " #   Column         Non-Null Count  Dtype \n",
      "---  ------         --------------  ----- \n",
      " 0   transactionId  1197 non-null   int64 \n",
      " 1   visitorId      1197 non-null   int64 \n",
      " 2   date           1197 non-null   object\n",
      " 3   revenue        1197 non-null   int64 \n",
      " 4   group          1197 non-null   object\n",
      "dtypes: int64(3), object(2)\n",
      "memory usage: 46.9+ KB\n",
      "None\n"
     ]
    }
   ],
   "source": [
    "print(orders.head())\n",
    "print(orders.info())"
   ]
  },
  {
   "cell_type": "markdown",
   "metadata": {},
   "source": [
    "Датафоейм **orders**:  \n",
    "  \n",
    "`transactionId` — идентификатор заказа;  \n",
    "`visitorId` — идентификатор пользователя, совершившего заказ;  \n",
    "`date` — дата, когда был совершён заказ;  \n",
    "`revenue` — выручка заказа;  \n",
    "`group` — группа A/B-теста, в которую попал заказ.  \n",
    "  \n",
    "5 столбцов, 1197 строк."
   ]
  },
  {
   "cell_type": "code",
   "execution_count": 6,
   "metadata": {},
   "outputs": [
    {
     "name": "stdout",
     "output_type": "stream",
     "text": [
      "         date group  visitors\n",
      "0  2019-08-01     A       719\n",
      "1  2019-08-02     A       619\n",
      "2  2019-08-03     A       507\n",
      "3  2019-08-04     A       717\n",
      "4  2019-08-05     A       756\n",
      "<class 'pandas.core.frame.DataFrame'>\n",
      "RangeIndex: 62 entries, 0 to 61\n",
      "Data columns (total 3 columns):\n",
      " #   Column    Non-Null Count  Dtype \n",
      "---  ------    --------------  ----- \n",
      " 0   date      62 non-null     object\n",
      " 1   group     62 non-null     object\n",
      " 2   visitors  62 non-null     int64 \n",
      "dtypes: int64(1), object(2)\n",
      "memory usage: 1.6+ KB\n",
      "None\n"
     ]
    }
   ],
   "source": [
    "print(visitors.head())\n",
    "print(visitors.info())"
   ]
  },
  {
   "cell_type": "markdown",
   "metadata": {},
   "source": [
    "Датафрейм **visitors**:  \n",
    "  \n",
    "`date` — дата;  \n",
    "`group` — группа A/B-теста;  \n",
    "`visitors` — количество пользователей в указанную дату в указанной группе A/B-теста.  \n",
    "  \n",
    "5 колонок, 62 строки."
   ]
  },
  {
   "cell_type": "markdown",
   "metadata": {},
   "source": [
    "### Переименование столбцов"
   ]
  },
  {
   "cell_type": "markdown",
   "metadata": {},
   "source": [
    "Приведем название столбцов к нижнему и \"змеиному\" регистру."
   ]
  },
  {
   "cell_type": "code",
   "execution_count": 7,
   "metadata": {},
   "outputs": [
    {
     "name": "stdout",
     "output_type": "stream",
     "text": [
      "Index(['hypothesis', 'reach', 'impact', 'confidence', 'efforts'], dtype='object')\n",
      "Index(['transaction_id', 'visitor_id', 'date', 'revenue', 'group'], dtype='object')\n",
      "Index(['date', 'group', 'visitors'], dtype='object')\n"
     ]
    }
   ],
   "source": [
    "hypothesis.columns = hypothesis.columns.str.lower()\n",
    "orders.columns = ['transaction_id', 'visitor_id', 'date', 'revenue', 'group']\n",
    "\n",
    "for i in (hypothesis, orders, visitors):\n",
    "    print(i.columns)"
   ]
  },
  {
   "cell_type": "markdown",
   "metadata": {},
   "source": [
    "### Проверка на дубли"
   ]
  },
  {
   "cell_type": "markdown",
   "metadata": {},
   "source": [
    "Проверим датафреймы на явные дубли."
   ]
  },
  {
   "cell_type": "code",
   "execution_count": 8,
   "metadata": {},
   "outputs": [
    {
     "name": "stdout",
     "output_type": "stream",
     "text": [
      "Явных дублей в датафреме 0\n",
      "Явных дублей в датафреме 0\n",
      "Явных дублей в датафреме 0\n"
     ]
    }
   ],
   "source": [
    "for i in (hypothesis, orders, visitors):\n",
    "    print(f'Явных дублей в датафреме {i.duplicated().sum()}')"
   ]
  },
  {
   "cell_type": "markdown",
   "metadata": {},
   "source": [
    "Явных дублей нет."
   ]
  },
  {
   "cell_type": "markdown",
   "metadata": {},
   "source": [
    "### Преобразование данных"
   ]
  },
  {
   "cell_type": "markdown",
   "metadata": {},
   "source": [
    "Преобразуем данные в столбцах с датой в формат дат."
   ]
  },
  {
   "cell_type": "code",
   "execution_count": 9,
   "metadata": {},
   "outputs": [
    {
     "name": "stdout",
     "output_type": "stream",
     "text": [
      "datetime64[ns]\n",
      "datetime64[ns]\n"
     ]
    }
   ],
   "source": [
    "visitors['date'] = visitors['date'].map(\n",
    "    lambda x: dt.datetime.strptime(x, '%Y-%m-%d')\n",
    ")\n",
    "\n",
    "orders['date'] = orders['date'].map(\n",
    "    lambda x: dt.datetime.strptime(x, '%Y-%m-%d')\n",
    ")\n",
    "\n",
    "print(visitors['date'].dtype)\n",
    "print(orders['date'].dtype)\n"
   ]
  },
  {
   "cell_type": "markdown",
   "metadata": {},
   "source": [
    "### Проверка на пропуски"
   ]
  },
  {
   "cell_type": "markdown",
   "metadata": {},
   "source": [
    "Проверим датафреймы на пропуски."
   ]
  },
  {
   "cell_type": "code",
   "execution_count": 10,
   "metadata": {},
   "outputs": [
    {
     "name": "stdout",
     "output_type": "stream",
     "text": [
      "Пропусков в датафреме hypothesis    0\n",
      "reach         0\n",
      "impact        0\n",
      "confidence    0\n",
      "efforts       0\n",
      "dtype: int64\n",
      "Пропусков в датафреме transaction_id    0\n",
      "visitor_id        0\n",
      "date              0\n",
      "revenue           0\n",
      "group             0\n",
      "dtype: int64\n",
      "Пропусков в датафреме date        0\n",
      "group       0\n",
      "visitors    0\n",
      "dtype: int64\n"
     ]
    }
   ],
   "source": [
    "for i in (hypothesis, orders, visitors):\n",
    "    print(f'Пропусков в датафреме {i.isna().sum()}')"
   ]
  },
  {
   "cell_type": "markdown",
   "metadata": {},
   "source": [
    "Пропусков нет."
   ]
  },
  {
   "cell_type": "markdown",
   "metadata": {},
   "source": [
    "### Проверка групп A/B-тестирования"
   ]
  },
  {
   "cell_type": "markdown",
   "metadata": {},
   "source": [
    "Проверим, сколько в действительности у нас групп тестирования и как на них делятся данные."
   ]
  },
  {
   "cell_type": "code",
   "execution_count": 11,
   "metadata": {},
   "outputs": [
    {
     "data": {
      "text/html": [
       "<div>\n",
       "<style scoped>\n",
       "    .dataframe tbody tr th:only-of-type {\n",
       "        vertical-align: middle;\n",
       "    }\n",
       "\n",
       "    .dataframe tbody tr th {\n",
       "        vertical-align: top;\n",
       "    }\n",
       "\n",
       "    .dataframe thead th {\n",
       "        text-align: right;\n",
       "    }\n",
       "</style>\n",
       "<table border=\"1\" class=\"dataframe\">\n",
       "  <thead>\n",
       "    <tr style=\"text-align: right;\">\n",
       "      <th></th>\n",
       "      <th>transaction_id</th>\n",
       "      <th>visitor_id</th>\n",
       "      <th>date</th>\n",
       "      <th>revenue</th>\n",
       "      <th>group</th>\n",
       "    </tr>\n",
       "  </thead>\n",
       "  <tbody>\n",
       "    <tr>\n",
       "      <th>0</th>\n",
       "      <td>3667963787</td>\n",
       "      <td>3312258926</td>\n",
       "      <td>2019-08-15</td>\n",
       "      <td>1650</td>\n",
       "      <td>B</td>\n",
       "    </tr>\n",
       "    <tr>\n",
       "      <th>1</th>\n",
       "      <td>2804400009</td>\n",
       "      <td>3642806036</td>\n",
       "      <td>2019-08-15</td>\n",
       "      <td>730</td>\n",
       "      <td>B</td>\n",
       "    </tr>\n",
       "    <tr>\n",
       "      <th>2</th>\n",
       "      <td>2961555356</td>\n",
       "      <td>4069496402</td>\n",
       "      <td>2019-08-15</td>\n",
       "      <td>400</td>\n",
       "      <td>A</td>\n",
       "    </tr>\n",
       "    <tr>\n",
       "      <th>3</th>\n",
       "      <td>3797467345</td>\n",
       "      <td>1196621759</td>\n",
       "      <td>2019-08-15</td>\n",
       "      <td>9759</td>\n",
       "      <td>B</td>\n",
       "    </tr>\n",
       "    <tr>\n",
       "      <th>4</th>\n",
       "      <td>2282983706</td>\n",
       "      <td>2322279887</td>\n",
       "      <td>2019-08-15</td>\n",
       "      <td>2308</td>\n",
       "      <td>B</td>\n",
       "    </tr>\n",
       "  </tbody>\n",
       "</table>\n",
       "</div>"
      ],
      "text/plain": [
       "   transaction_id  visitor_id       date  revenue group\n",
       "0      3667963787  3312258926 2019-08-15     1650     B\n",
       "1      2804400009  3642806036 2019-08-15      730     B\n",
       "2      2961555356  4069496402 2019-08-15      400     A\n",
       "3      3797467345  1196621759 2019-08-15     9759     B\n",
       "4      2282983706  2322279887 2019-08-15     2308     B"
      ]
     },
     "execution_count": 11,
     "metadata": {},
     "output_type": "execute_result"
    }
   ],
   "source": [
    "orders.head()"
   ]
  },
  {
   "cell_type": "code",
   "execution_count": 12,
   "metadata": {},
   "outputs": [
    {
     "name": "stdout",
     "output_type": "stream",
     "text": [
      "Группы, представленные в датасетах\n",
      "['B' 'A']\n",
      "['A' 'B']\n",
      "Количество пользователей по группам в visitors\n",
      "  group  visitors\n",
      "0     A     18736\n",
      "1     B     18916\n",
      "Количество пользователей по группам в orders\n",
      "  group  visitor_id\n",
      "0     A         503\n",
      "1     B         586\n"
     ]
    }
   ],
   "source": [
    "print('Группы, представленные в датасетах')\n",
    "for i in (orders, visitors):\n",
    "    print(i['group'].unique())\n",
    "    \n",
    "print('Количество пользователей по группам в visitors')\n",
    "print(visitors.groupby('group', as_index=False).agg({'visitors': 'sum'}))\n",
    "\n",
    "print('Количество пользователей по группам в orders')\n",
    "print(orders.groupby('group', as_index=False).agg({'visitor_id': 'nunique'}))"
   ]
  },
  {
   "cell_type": "markdown",
   "metadata": {},
   "source": [
    "Как мы видим, в обоих датасетах только 2 группы.  \n",
    "в датасете orders пользователи делятся не ровно пополам, но это и не обязательное условие, т.к. не каждый пользователь, из А/В группы обязательно должен совершить заказ.\n",
    "В датасете visitors пользователи делятся не ровно пополам, но довольно близко. Посмотрим, в каком соотношении поделились."
   ]
  },
  {
   "cell_type": "code",
   "execution_count": 13,
   "metadata": {},
   "outputs": [
    {
     "data": {
      "image/png": "[encoded data removed]",
      "text/plain": [
       "<Figure size 432x432 with 1 Axes>"
      ]
     },
     "metadata": {},
     "output_type": "display_data"
    }
   ],
   "source": [
    "\n",
    "visitors_count = visitors.groupby('group').agg({'visitors': 'sum'})\n",
    "\n",
    "visitors_count['visitors'].plot(kind=\"pie\",\n",
    "                                           autopct='%1.1f%%',\n",
    "                                           explode=[0.05, 0.01],\n",
    "                                           legend=True,\n",
    "                                           title='Количество посетителей по группам',\n",
    "                                           ylabel='',\n",
    "                                           labeldistance=None,\n",
    "                                           figsize=(6, 6),\n",
    "                                           cmap='Pastel2');\n",
    "\n"
   ]
  },
  {
   "cell_type": "markdown",
   "metadata": {},
   "source": [
    "Мы видим, что пользователей в группе B 50,2%, а в группе A - 49,8%."
   ]
  },
  {
   "cell_type": "markdown",
   "metadata": {},
   "source": [
    "Проверим, нет ли у нас пользователей, которые попали в группу A и B в заказах."
   ]
  },
  {
   "cell_type": "code",
   "execution_count": 14,
   "metadata": {
    "scrolled": true
   },
   "outputs": [
    {
     "name": "stdout",
     "output_type": "stream",
     "text": [
      "   index group_a  visitor_id group_b\n",
      "0      0       A  4069496402       B\n",
      "1      1       A   199603092       B\n",
      "2      5       A  3803269165       B\n",
      "3      9       A  2378935119       B\n",
      "4     29       A   237748145       B\n",
      "Количество пересекающихся id 58\n"
     ]
    }
   ],
   "source": [
    "intersecting_id = (\n",
    "    orders[orders['group']=='A'][['group','visitor_id']] \\\n",
    "    .merge(orders[orders['group']=='B'][['group','visitor_id']],\n",
    "           left_on='visitor_id',\n",
    "           right_on='visitor_id',\n",
    "           how='inner',\n",
    "          suffixes=['_a', '_b']) \\\n",
    "    .drop_duplicates(subset=['visitor_id']) \\\n",
    "    .reset_index())\n",
    "\n",
    "\n",
    "print(intersecting_id.head())\n",
    "print('Количество пересекающихся id',len(intersecting_id['visitor_id']))"
   ]
  },
  {
   "cell_type": "markdown",
   "metadata": {},
   "source": [
    "58 пользователей попали в группы A и B. Возможно, это id тестировщиков, а возможно была допущенка ошибка при делении трафика. Удалим их, чтобы они не повлияли на наш анализ."
   ]
  },
  {
   "cell_type": "code",
   "execution_count": 15,
   "metadata": {
    "scrolled": true
   },
   "outputs": [
    {
     "name": "stdout",
     "output_type": "stream",
     "text": [
      "Строк в orders до фильтрации было 1197\n",
      "Строк в orders после фильтрации стало 1016\n"
     ]
    }
   ],
   "source": [
    "intersecting_id_list = intersecting_id['visitor_id']\n",
    "\n",
    "print('Строк в orders до фильтрации было', len(orders))\n",
    "orders = orders.loc[~orders['visitor_id'].isin(intersecting_id_list)]\n",
    "print('Строк в orders после фильтрации стало', len(orders))\n"
   ]
  },
  {
   "cell_type": "markdown",
   "metadata": {},
   "source": [
    "Мы очистили данные от пересекающихся пользователей из групп А и В."
   ]
  },
  {
   "cell_type": "markdown",
   "metadata": {},
   "source": [
    "**Вывод**  \n",
    "Мы провели предобработку данных: переименовали столбцы, изменили тип данных в столбцах с датами, проверили на дубликаты и пропуски, очистили данные от пользователей, пересекающихся в группах А и В.  "
   ]
  },
  {
   "cell_type": "markdown",
   "metadata": {},
   "source": [
    "## Приоритизация гипотез."
   ]
  },
  {
   "cell_type": "markdown",
   "metadata": {},
   "source": [
    "### Метод приоритизации гипотез ICE"
   ]
  },
  {
   "cell_type": "markdown",
   "metadata": {},
   "source": [
    "Проведем приоритизацию гипотез методом ICE (от англ. impact, confidence, effort «влияние, уверенность, усилия»)"
   ]
  },
  {
   "cell_type": "code",
   "execution_count": 16,
   "metadata": {},
   "outputs": [
    {
     "name": "stdout",
     "output_type": "stream",
     "text": [
      "                                                                                                     hypothesis  \\\n",
      "8                                                       Запустить акцию, дающую скидку на товар в день рождения   \n",
      "0            Добавить два новых канала привлечения трафика, что позволит привлекать на 30% больше пользователей   \n",
      "7              Добавить форму подписки на все основные страницы, чтобы собрать базу клиентов для email-рассылок   \n",
      "6          Показать на главной странице баннеры с актуальными акциями и распродажами, чтобы увеличить конверсию   \n",
      "2  Добавить блоки рекомендаций товаров на сайт интернет магазина, чтобы повысить конверсию и средний чек заказа   \n",
      "1                                     Запустить собственную службу доставки, что сократит срок доставки заказов   \n",
      "5                      Добавить страницу отзывов клиентов о магазине, что позволит увеличить количество заказов   \n",
      "3           Изменить структура категорий, что увеличит конверсию, т.к. пользователи быстрее найдут нужный товар   \n",
      "4                              Изменить цвет фона главной страницы, чтобы увеличить вовлеченность пользователей   \n",
      "\n",
      "     ice  \n",
      "8  16.20  \n",
      "0  13.33  \n",
      "7  11.20  \n",
      "6   8.00  \n",
      "2   7.00  \n",
      "1   2.00  \n",
      "5   1.33  \n",
      "3   1.12  \n",
      "4   1.00  \n"
     ]
    }
   ],
   "source": [
    "hypothesis['ice'] = (hypothesis['impact'] * hypothesis['confidence'] / hypothesis['efforts']).round(2)\n",
    "\n",
    "print(hypothesis[['hypothesis', 'ice']].sort_values(by='ice', ascending=False));"
   ]
  },
  {
   "cell_type": "markdown",
   "metadata": {},
   "source": [
    "Наиболее перспективные гипотезы по методу ICE 9, 1, 8:  \n",
    "- Запустить акцию, дающую скидку на товар в день рождения  \n",
    "- Добавить два новых канала привлечения трафика, что позволит привлекать на 30% больше пользователей  \n",
    "- Добавить форму подписки на все основные страницы, чтобы собрать базу клиентов для email-рассылок"
   ]
  },
  {
   "cell_type": "markdown",
   "metadata": {},
   "source": [
    "### Метод приоритизации гипотез RICE"
   ]
  },
  {
   "cell_type": "markdown",
   "metadata": {},
   "source": [
    "Проведем приоритизацию гипотез методом RICE (от англ. reach, impact, confidence, effort «охва, влияние, уверенность, усилия»)"
   ]
  },
  {
   "cell_type": "code",
   "execution_count": 17,
   "metadata": {},
   "outputs": [
    {
     "name": "stdout",
     "output_type": "stream",
     "text": [
      "                                                                                                     hypothesis  \\\n",
      "7              Добавить форму подписки на все основные страницы, чтобы собрать базу клиентов для email-рассылок   \n",
      "2  Добавить блоки рекомендаций товаров на сайт интернет магазина, чтобы повысить конверсию и средний чек заказа   \n",
      "0            Добавить два новых канала привлечения трафика, что позволит привлекать на 30% больше пользователей   \n",
      "6          Показать на главной странице баннеры с актуальными акциями и распродажами, чтобы увеличить конверсию   \n",
      "8                                                       Запустить акцию, дающую скидку на товар в день рождения   \n",
      "3           Изменить структура категорий, что увеличит конверсию, т.к. пользователи быстрее найдут нужный товар   \n",
      "1                                     Запустить собственную службу доставки, что сократит срок доставки заказов   \n",
      "5                      Добавить страницу отзывов клиентов о магазине, что позволит увеличить количество заказов   \n",
      "4                              Изменить цвет фона главной страницы, чтобы увеличить вовлеченность пользователей   \n",
      "\n",
      "    rice  \n",
      "7  112.0  \n",
      "2   56.0  \n",
      "0   40.0  \n",
      "6   40.0  \n",
      "8   16.2  \n",
      "3    9.0  \n",
      "1    4.0  \n",
      "5    4.0  \n",
      "4    3.0  \n"
     ]
    }
   ],
   "source": [
    "hypothesis['rice'] = hypothesis['reach'] * hypothesis['impact'] * hypothesis['confidence'] / hypothesis['efforts']\n",
    "\n",
    "print(hypothesis[['hypothesis', 'rice']].sort_values(by='rice', ascending=False))"
   ]
  },
  {
   "cell_type": "markdown",
   "metadata": {},
   "source": [
    "Наиболее перспективные гипотезы по методу RICE 8 (с большим отрывом), 3, 1:  \n",
    "- Добавить форму подписки на все основные страницы, чтобы собрать базу клиентов для email-рассылок   \n",
    "- Добавить блоки рекомендаций товаров на сайт интернет магазина, чтобы повысить конверсию и средний чек заказа   \n",
    "- Добавить два новых канала привлечения трафика, что позволит привлекать на 30% больше пользователей "
   ]
  },
  {
   "cell_type": "markdown",
   "metadata": {},
   "source": [
    "Разница в результатах в методах ICE и RICE заключается в том, что у гипотезы 8 максимальный охват (10 из 10), т.е. она затронет большее число пользователей, нежели гипотезы 3, 1 и 9."
   ]
  },
  {
   "cell_type": "markdown",
   "metadata": {},
   "source": [
    "**Вывод**  \n",
    "По методу ICE лучше отдать приоритет гипотезам 9, 1, 8:  \n",
    "- Запустить акцию, дающую скидку на товар в день рождения  \n",
    "- Добавить два новых канала привлечения трафика, что позволит привлекать на 30% больше пользователей  \n",
    "- Добавить форму подписки на все основные страницы, чтобы собрать базу клиентов для email-рассылок  \n",
    "  \n",
    "По методу RICE лучше отдать приоритет гипотезам 8 (с большим отрывом), 3, 1:  \n",
    "- Добавить форму подписки на все основные страницы, чтобы собрать базу клиентов для email-рассылок   \n",
    "- Добавить блоки рекомендаций товаров на сайт интернет магазина, чтобы повысить конверсию и средний чек заказа   \n",
    "- Добавить два новых канала привлечения трафика, что позволит привлекать на 30% больше пользователей "
   ]
  },
  {
   "cell_type": "markdown",
   "metadata": {},
   "source": [
    "## Анализ A/B-теста"
   ]
  },
  {
   "cell_type": "markdown",
   "metadata": {},
   "source": [
    "Был проведен A/B-тест и получены результаты, которые описаны в датафреймах orders и visitors. Проведем их анализ."
   ]
  },
  {
   "cell_type": "markdown",
   "metadata": {},
   "source": [
    "### Кумулятивная выручка"
   ]
  },
  {
   "cell_type": "markdown",
   "metadata": {},
   "source": [
    "Посчитаем и построим график кумулятивной выручки по группам."
   ]
  },
  {
   "cell_type": "markdown",
   "metadata": {},
   "source": [
    "Создадим вспомогательный датафрейм dates_groups с уникальными парами значений `date` и `group`, таблицы orders"
   ]
  },
  {
   "cell_type": "code",
   "execution_count": 18,
   "metadata": {},
   "outputs": [
    {
     "data": {
      "text/html": [
       "<div>\n",
       "<style scoped>\n",
       "    .dataframe tbody tr th:only-of-type {\n",
       "        vertical-align: middle;\n",
       "    }\n",
       "\n",
       "    .dataframe tbody tr th {\n",
       "        vertical-align: top;\n",
       "    }\n",
       "\n",
       "    .dataframe thead th {\n",
       "        text-align: right;\n",
       "    }\n",
       "</style>\n",
       "<table border=\"1\" class=\"dataframe\">\n",
       "  <thead>\n",
       "    <tr style=\"text-align: right;\">\n",
       "      <th></th>\n",
       "      <th>date</th>\n",
       "      <th>group</th>\n",
       "    </tr>\n",
       "  </thead>\n",
       "  <tbody>\n",
       "    <tr>\n",
       "      <th>0</th>\n",
       "      <td>2019-08-15</td>\n",
       "      <td>B</td>\n",
       "    </tr>\n",
       "    <tr>\n",
       "      <th>7</th>\n",
       "      <td>2019-08-15</td>\n",
       "      <td>A</td>\n",
       "    </tr>\n",
       "    <tr>\n",
       "      <th>45</th>\n",
       "      <td>2019-08-16</td>\n",
       "      <td>A</td>\n",
       "    </tr>\n",
       "    <tr>\n",
       "      <th>47</th>\n",
       "      <td>2019-08-16</td>\n",
       "      <td>B</td>\n",
       "    </tr>\n",
       "    <tr>\n",
       "      <th>55</th>\n",
       "      <td>2019-08-01</td>\n",
       "      <td>A</td>\n",
       "    </tr>\n",
       "  </tbody>\n",
       "</table>\n",
       "</div>"
      ],
      "text/plain": [
       "         date group\n",
       "0  2019-08-15     B\n",
       "7  2019-08-15     A\n",
       "45 2019-08-16     A\n",
       "47 2019-08-16     B\n",
       "55 2019-08-01     A"
      ]
     },
     "execution_count": 18,
     "metadata": {},
     "output_type": "execute_result"
    }
   ],
   "source": [
    "dates_groups = orders[['date', 'group']].drop_duplicates()\n",
    "dates_groups.head()"
   ]
  },
  {
   "cell_type": "markdown",
   "metadata": {},
   "source": [
    "Создадим вспомогательный датафрейм orders_aggregated содержащий:\n",
    "- дату;\n",
    "- группу A/B-теста;\n",
    "- число уникальных заказов в группе теста по указанную дату включительно;\n",
    "- число уникальных пользователей, совершивших хотя бы 1 заказ в группе теста по указанную дату включительно;\n",
    "- суммарную выручку заказов в группе теста по указанную дату включительно."
   ]
  },
  {
   "cell_type": "code",
   "execution_count": 19,
   "metadata": {},
   "outputs": [
    {
     "data": {
      "text/html": [
       "<div>\n",
       "<style scoped>\n",
       "    .dataframe tbody tr th:only-of-type {\n",
       "        vertical-align: middle;\n",
       "    }\n",
       "\n",
       "    .dataframe tbody tr th {\n",
       "        vertical-align: top;\n",
       "    }\n",
       "\n",
       "    .dataframe thead th {\n",
       "        text-align: right;\n",
       "    }\n",
       "</style>\n",
       "<table border=\"1\" class=\"dataframe\">\n",
       "  <thead>\n",
       "    <tr style=\"text-align: right;\">\n",
       "      <th></th>\n",
       "      <th>date</th>\n",
       "      <th>group</th>\n",
       "      <th>transaction_id</th>\n",
       "      <th>visitor_id</th>\n",
       "      <th>revenue</th>\n",
       "    </tr>\n",
       "  </thead>\n",
       "  <tbody>\n",
       "    <tr>\n",
       "      <th>55</th>\n",
       "      <td>2019-08-01</td>\n",
       "      <td>A</td>\n",
       "      <td>23</td>\n",
       "      <td>19</td>\n",
       "      <td>142779</td>\n",
       "    </tr>\n",
       "    <tr>\n",
       "      <th>66</th>\n",
       "      <td>2019-08-01</td>\n",
       "      <td>B</td>\n",
       "      <td>17</td>\n",
       "      <td>17</td>\n",
       "      <td>59758</td>\n",
       "    </tr>\n",
       "    <tr>\n",
       "      <th>175</th>\n",
       "      <td>2019-08-02</td>\n",
       "      <td>A</td>\n",
       "      <td>42</td>\n",
       "      <td>36</td>\n",
       "      <td>234381</td>\n",
       "    </tr>\n",
       "    <tr>\n",
       "      <th>173</th>\n",
       "      <td>2019-08-02</td>\n",
       "      <td>B</td>\n",
       "      <td>40</td>\n",
       "      <td>39</td>\n",
       "      <td>221801</td>\n",
       "    </tr>\n",
       "    <tr>\n",
       "      <th>291</th>\n",
       "      <td>2019-08-03</td>\n",
       "      <td>A</td>\n",
       "      <td>66</td>\n",
       "      <td>60</td>\n",
       "      <td>346854</td>\n",
       "    </tr>\n",
       "  </tbody>\n",
       "</table>\n",
       "</div>"
      ],
      "text/plain": [
       "          date group  transaction_id  visitor_id  revenue\n",
       "55  2019-08-01     A              23          19   142779\n",
       "66  2019-08-01     B              17          17    59758\n",
       "175 2019-08-02     A              42          36   234381\n",
       "173 2019-08-02     B              40          39   221801\n",
       "291 2019-08-03     A              66          60   346854"
      ]
     },
     "execution_count": 19,
     "metadata": {},
     "output_type": "execute_result"
    }
   ],
   "source": [
    "\n",
    "orders_aggregated = (\n",
    "    dates_groups.apply(\n",
    "        lambda x: orders[np.logical_and(\n",
    "            orders['date'] <= x['date'],\n",
    "            orders['group'] == x['group'])] \\\n",
    "        .agg({'date':'max', 'group':'max', 'transaction_id':'nunique', 'visitor_id':'nunique', 'revenue':'sum'}),\n",
    "        axis=1) \\\n",
    "    .sort_values(by=['date','group'])\n",
    ")\n",
    "\n",
    "orders_aggregated.head()"
   ]
  },
  {
   "cell_type": "markdown",
   "metadata": {},
   "source": [
    "Создадим вспомогательный датафрейм visitors_aggregated содержащий:  \n",
    "- дату;  \n",
    "- группу A/B-теста;  \n",
    "- количество уникальных посетителей в группе теста по указанную дату включительно."
   ]
  },
  {
   "cell_type": "code",
   "execution_count": 20,
   "metadata": {},
   "outputs": [
    {
     "data": {
      "text/html": [
       "<div>\n",
       "<style scoped>\n",
       "    .dataframe tbody tr th:only-of-type {\n",
       "        vertical-align: middle;\n",
       "    }\n",
       "\n",
       "    .dataframe tbody tr th {\n",
       "        vertical-align: top;\n",
       "    }\n",
       "\n",
       "    .dataframe thead th {\n",
       "        text-align: right;\n",
       "    }\n",
       "</style>\n",
       "<table border=\"1\" class=\"dataframe\">\n",
       "  <thead>\n",
       "    <tr style=\"text-align: right;\">\n",
       "      <th></th>\n",
       "      <th>date</th>\n",
       "      <th>group</th>\n",
       "      <th>visitors</th>\n",
       "    </tr>\n",
       "  </thead>\n",
       "  <tbody>\n",
       "    <tr>\n",
       "      <th>55</th>\n",
       "      <td>2019-08-01</td>\n",
       "      <td>A</td>\n",
       "      <td>719</td>\n",
       "    </tr>\n",
       "    <tr>\n",
       "      <th>66</th>\n",
       "      <td>2019-08-01</td>\n",
       "      <td>B</td>\n",
       "      <td>713</td>\n",
       "    </tr>\n",
       "    <tr>\n",
       "      <th>175</th>\n",
       "      <td>2019-08-02</td>\n",
       "      <td>A</td>\n",
       "      <td>1338</td>\n",
       "    </tr>\n",
       "    <tr>\n",
       "      <th>173</th>\n",
       "      <td>2019-08-02</td>\n",
       "      <td>B</td>\n",
       "      <td>1294</td>\n",
       "    </tr>\n",
       "    <tr>\n",
       "      <th>291</th>\n",
       "      <td>2019-08-03</td>\n",
       "      <td>A</td>\n",
       "      <td>1845</td>\n",
       "    </tr>\n",
       "  </tbody>\n",
       "</table>\n",
       "</div>"
      ],
      "text/plain": [
       "          date group  visitors\n",
       "55  2019-08-01     A       719\n",
       "66  2019-08-01     B       713\n",
       "175 2019-08-02     A      1338\n",
       "173 2019-08-02     B      1294\n",
       "291 2019-08-03     A      1845"
      ]
     },
     "execution_count": 20,
     "metadata": {},
     "output_type": "execute_result"
    }
   ],
   "source": [
    "visitors_aggregated  = (\n",
    "    dates_groups.apply(\n",
    "        lambda x: visitors[np.logical_and(\n",
    "            visitors['date'] <= x['date'], \n",
    "            visitors['group'] == x['group'])] \\\n",
    "        .agg({'date':'max', 'group':'max', 'visitors':'sum'}), \n",
    "        axis=1) \\\n",
    "    .sort_values(by=['date','group'])\n",
    ")\n",
    "\n",
    "visitors_aggregated.head()"
   ]
  },
  {
   "cell_type": "markdown",
   "metadata": {},
   "source": [
    "Объединим датафреймы  orders_aggregated и visitors_aggregated по дате и группе."
   ]
  },
  {
   "cell_type": "code",
   "execution_count": 21,
   "metadata": {},
   "outputs": [
    {
     "data": {
      "text/html": [
       "<div>\n",
       "<style scoped>\n",
       "    .dataframe tbody tr th:only-of-type {\n",
       "        vertical-align: middle;\n",
       "    }\n",
       "\n",
       "    .dataframe tbody tr th {\n",
       "        vertical-align: top;\n",
       "    }\n",
       "\n",
       "    .dataframe thead th {\n",
       "        text-align: right;\n",
       "    }\n",
       "</style>\n",
       "<table border=\"1\" class=\"dataframe\">\n",
       "  <thead>\n",
       "    <tr style=\"text-align: right;\">\n",
       "      <th></th>\n",
       "      <th>date</th>\n",
       "      <th>group</th>\n",
       "      <th>orders</th>\n",
       "      <th>buyers</th>\n",
       "      <th>revenue</th>\n",
       "      <th>visitors</th>\n",
       "    </tr>\n",
       "  </thead>\n",
       "  <tbody>\n",
       "    <tr>\n",
       "      <th>0</th>\n",
       "      <td>2019-08-01</td>\n",
       "      <td>A</td>\n",
       "      <td>23</td>\n",
       "      <td>19</td>\n",
       "      <td>142779</td>\n",
       "      <td>719</td>\n",
       "    </tr>\n",
       "    <tr>\n",
       "      <th>1</th>\n",
       "      <td>2019-08-01</td>\n",
       "      <td>B</td>\n",
       "      <td>17</td>\n",
       "      <td>17</td>\n",
       "      <td>59758</td>\n",
       "      <td>713</td>\n",
       "    </tr>\n",
       "    <tr>\n",
       "      <th>2</th>\n",
       "      <td>2019-08-02</td>\n",
       "      <td>A</td>\n",
       "      <td>42</td>\n",
       "      <td>36</td>\n",
       "      <td>234381</td>\n",
       "      <td>1338</td>\n",
       "    </tr>\n",
       "    <tr>\n",
       "      <th>3</th>\n",
       "      <td>2019-08-02</td>\n",
       "      <td>B</td>\n",
       "      <td>40</td>\n",
       "      <td>39</td>\n",
       "      <td>221801</td>\n",
       "      <td>1294</td>\n",
       "    </tr>\n",
       "    <tr>\n",
       "      <th>4</th>\n",
       "      <td>2019-08-03</td>\n",
       "      <td>A</td>\n",
       "      <td>66</td>\n",
       "      <td>60</td>\n",
       "      <td>346854</td>\n",
       "      <td>1845</td>\n",
       "    </tr>\n",
       "  </tbody>\n",
       "</table>\n",
       "</div>"
      ],
      "text/plain": [
       "        date group  orders  buyers  revenue  visitors\n",
       "0 2019-08-01     A      23      19   142779       719\n",
       "1 2019-08-01     B      17      17    59758       713\n",
       "2 2019-08-02     A      42      36   234381      1338\n",
       "3 2019-08-02     B      40      39   221801      1294\n",
       "4 2019-08-03     A      66      60   346854      1845"
      ]
     },
     "execution_count": 21,
     "metadata": {},
     "output_type": "execute_result"
    }
   ],
   "source": [
    "cumulative_data = orders_aggregated.merge(visitors_aggregated, left_on=['date', 'group'], right_on=['date', 'group'])\n",
    "\n",
    "cumulative_data.columns = ['date', 'group', 'orders', 'buyers', 'revenue', 'visitors']\n",
    "\n",
    "cumulative_data.head()"
   ]
  },
  {
   "cell_type": "markdown",
   "metadata": {},
   "source": [
    "Разделим датафрейм cumulative_data по группам тестирования."
   ]
  },
  {
   "cell_type": "code",
   "execution_count": 22,
   "metadata": {},
   "outputs": [
    {
     "name": "stdout",
     "output_type": "stream",
     "text": [
      "        date  revenue  orders  visitors\n",
      "0 2019-08-01   142779      23       719\n",
      "2 2019-08-02   234381      42      1338\n",
      "4 2019-08-03   346854      66      1845\n",
      "6 2019-08-04   388030      77      2562\n",
      "8 2019-08-05   474413      99      3318\n",
      "\n",
      "        date  revenue  orders  visitors\n",
      "1 2019-08-01    59758      17       713\n",
      "3 2019-08-02   221801      40      1294\n",
      "5 2019-08-03   288850      54      1803\n",
      "7 2019-08-04   385740      68      2573\n",
      "9 2019-08-05   475648      89      3280\n"
     ]
    }
   ],
   "source": [
    "cumulative_revenue_a = cumulative_data[cumulative_data['group']=='A'][['date','revenue', 'orders', 'visitors']]\n",
    "\n",
    "cumulative_revenue_b = cumulative_data[cumulative_data['group']=='B'][['date','revenue', 'orders', 'visitors']]\n",
    "\n",
    "print(cumulative_revenue_a.head())\n",
    "print()\n",
    "print(cumulative_revenue_b.head())"
   ]
  },
  {
   "cell_type": "markdown",
   "metadata": {},
   "source": [
    "Построим график кумулятивной выручки по группам."
   ]
  },
  {
   "cell_type": "code",
   "execution_count": 23,
   "metadata": {},
   "outputs": [
    {
     "data": {
      "image/png": "[encoded data removed]",
      "text/plain": [
       "<Figure size 1080x360 with 1 Axes>"
      ]
     },
     "metadata": {
      "needs_background": "light"
     },
     "output_type": "display_data"
    }
   ],
   "source": [
    "plt.figure(figsize=(15, 5))\n",
    "plt.title('Кумулятивная выручка по группам')\n",
    "\n",
    "plt.plot(cumulative_revenue_a['date'], cumulative_revenue_a['revenue'], label='A')\n",
    "plt.plot(cumulative_revenue_b['date'], cumulative_revenue_b['revenue'], label='B')\n",
    "\n",
    "plt.xlabel('Дата')\n",
    "plt.ylabel('Выручка')\n",
    "plt.legend(loc='upper left')\n",
    "plt.show();"
   ]
  },
  {
   "cell_type": "markdown",
   "metadata": {},
   "source": [
    "У группы А кумулятивная выручка стабильно и равномерно растет. У группы B 19 августа 2019 есть резкий скачок, возможно, был сделан аномально большой заказ, который можно будет посчитать выбросом, или аномально большое количество заказов.  \n",
    "По текущей картине группа B c 13 августа 2019 г. вырвалась вперед по выручке и продолжала лидировать  весь оставшийся период."
   ]
  },
  {
   "cell_type": "markdown",
   "metadata": {},
   "source": [
    "### Кумулятивный средний чек"
   ]
  },
  {
   "cell_type": "markdown",
   "metadata": {},
   "source": [
    "Построим график кумулятивного среднего чека по группам тестирования."
   ]
  },
  {
   "cell_type": "code",
   "execution_count": 24,
   "metadata": {},
   "outputs": [
    {
     "data": {
      "image/png": "[encoded data removed]",
      "text/plain": [
       "<Figure size 1080x360 with 1 Axes>"
      ]
     },
     "metadata": {
      "needs_background": "light"
     },
     "output_type": "display_data"
    }
   ],
   "source": [
    "plt.figure(figsize=(15, 5))\n",
    "plt.title('Кумулятивная средний чек по группам')\n",
    "plt.plot(cumulative_revenue_a['date'], cumulative_revenue_a['revenue'] / cumulative_revenue_a['orders'], label='A')\n",
    "plt.plot(cumulative_revenue_b['date'], cumulative_revenue_b['revenue'] / cumulative_revenue_b['orders'], label='B')\n",
    "plt.xlabel('Дата')\n",
    "plt.ylabel('Средний чек')\n",
    "plt.legend(loc='upper left')\n",
    "plt.show();"
   ]
  },
  {
   "cell_type": "markdown",
   "metadata": {},
   "source": [
    "В первые две недели теста не было определенного лидера по кумулятивному среднему чек, но у группы B 19 августа 2019 г. мы опять видим огромный скачок, значит, скорее всего, тогда был сделан все-таки аномально большой заказ, который может оказаться выбросом, а учитывая, что после него график группы B идет по низходящей сделать однозначный вывод, что группа B лидирует мы не можем."
   ]
  },
  {
   "cell_type": "markdown",
   "metadata": {},
   "source": [
    "### Относительное изменение кумулятивного среднего чека"
   ]
  },
  {
   "cell_type": "markdown",
   "metadata": {},
   "source": [
    "Построим график относительного изменения кумулятивного среднего чека группы B к группе A."
   ]
  },
  {
   "cell_type": "code",
   "execution_count": 25,
   "metadata": {},
   "outputs": [
    {
     "data": {
      "image/png": "[encoded data removed]",
      "text/plain": [
       "<Figure size 1080x360 with 1 Axes>"
      ]
     },
     "metadata": {
      "needs_background": "light"
     },
     "output_type": "display_data"
    }
   ],
   "source": [
    "#объединим датафреймы по дате, добавив к столбцам выручки и \n",
    "#количества заказов в названии суффиксы соответствующей группы\n",
    "merged_cumulative_revenue = cumulative_revenue_a.merge(cumulative_revenue_b, \n",
    "                                                       left_on='date', \n",
    "                                                       right_on='date', \n",
    "                                                       how='left', \n",
    "                                                       suffixes=['_a', '_b'])\n",
    "#построим график\n",
    "plt.figure(figsize=(15, 5))\n",
    "plt.title('Относительное изменение кумулятивного среднего чека группы B к группе A')\n",
    "plt.plot(merged_cumulative_revenue['date'], \n",
    "         (merged_cumulative_revenue['revenue_b']/merged_cumulative_revenue['orders_b']) \\\n",
    "         /(merged_cumulative_revenue['revenue_a']/merged_cumulative_revenue['orders_a']) - 1)\n",
    "\n",
    "plt.axhline(y=0, color='black', linestyle='--')\n",
    "plt.xlabel('Дата')\n",
    "plt.ylabel('Отношение')\n",
    "plt.show();"
   ]
  },
  {
   "cell_type": "markdown",
   "metadata": {},
   "source": [
    "Мы видим, что результаты теста менялись несколько раз и довольно резко за наблюдаемый период, возможно, из-за аномальных заказов. Делать выводы по такому графику пока что рано."
   ]
  },
  {
   "cell_type": "markdown",
   "metadata": {},
   "source": [
    "### Кумулятивное среднее количество заказов на посетителя"
   ]
  },
  {
   "cell_type": "markdown",
   "metadata": {},
   "source": [
    "Построим график кумулятивного среднего количества заказов на посетителя по группам."
   ]
  },
  {
   "cell_type": "code",
   "execution_count": 26,
   "metadata": {},
   "outputs": [
    {
     "data": {
      "image/png": "[encoded data removed]",
      "text/plain": [
       "<Figure size 1080x360 with 1 Axes>"
      ]
     },
     "metadata": {
      "needs_background": "light"
     },
     "output_type": "display_data"
    }
   ],
   "source": [
    "plt.figure(figsize=(15, 5))\n",
    "plt.title('Кумулятивное среднее количество заказов на посетителя')\n",
    "\n",
    "plt.plot(cumulative_revenue_a['date'], cumulative_revenue_a['orders'] / cumulative_revenue_a['visitors'], label='A')\n",
    "plt.plot(cumulative_revenue_b['date'], cumulative_revenue_b['orders'] / cumulative_revenue_b['visitors'], label='B')\n",
    "\n",
    "plt.xlabel('Дата')\n",
    "plt.ylabel('Количество заказов на посетителя')\n",
    "plt.legend(loc='upper left')\n",
    "plt.show();"
   ]
  },
  {
   "cell_type": "markdown",
   "metadata": {},
   "source": [
    "Н аграфике мы видим, что срреднее кумулятивное количество заказов у группы B стабильно выше после 6 августа 2019, чем у группы A. Каких-либо радикальных скачков на графике мы не видим, возможно, наше предыдущее предположение, что на прошлых графиках скачки вызваны аномально большим заказом верны."
   ]
  },
  {
   "cell_type": "markdown",
   "metadata": {},
   "source": [
    "###  Относительное изменения кумулятивного среднего количества заказов на посетителя"
   ]
  },
  {
   "cell_type": "markdown",
   "metadata": {},
   "source": [
    "Построим график относительного изменения кумулятивного среднего количества заказов на посетителя группы B к группе A. "
   ]
  },
  {
   "cell_type": "code",
   "execution_count": 27,
   "metadata": {},
   "outputs": [
    {
     "data": {
      "image/png": "[encoded data removed]",
      "text/plain": [
       "<Figure size 1080x360 with 1 Axes>"
      ]
     },
     "metadata": {
      "needs_background": "light"
     },
     "output_type": "display_data"
    }
   ],
   "source": [
    "plt.figure(figsize=(15, 5))\n",
    "plt.title('Относительное изменение кумулятивного среднего количества заказов на посетителя группы B к группе A')\n",
    "plt.plot(merged_cumulative_revenue['date'], \n",
    "         ((merged_cumulative_revenue['orders_b']/merged_cumulative_revenue['visitors_b']) \\\n",
    "          /(merged_cumulative_revenue['orders_a']/merged_cumulative_revenue['visitors_a'])) - 1)\n",
    "\n",
    "plt.axhline(y=0, color='black', linestyle='--')\n",
    "plt.axhline(y=0.1, color='grey', linestyle='-.')\n",
    "plt.axhline(y=0.2, color='grey', linestyle='-.')\n",
    "plt.xlabel('Дата')\n",
    "plt.ylabel('Отношение')\n",
    "plt.show();"
   ]
  },
  {
   "cell_type": "markdown",
   "metadata": {},
   "source": [
    "У группы B 6 августа 2019 стабильно большьше относительное кумулятивное среднее количество заказов на посетителя."
   ]
  },
  {
   "cell_type": "markdown",
   "metadata": {},
   "source": [
    "### Количество заказов по пользователям"
   ]
  },
  {
   "cell_type": "markdown",
   "metadata": {},
   "source": [
    "Построим точечный график количества заказов по пользователям."
   ]
  },
  {
   "cell_type": "code",
   "execution_count": 28,
   "metadata": {},
   "outputs": [
    {
     "name": "stdout",
     "output_type": "stream",
     "text": [
      "     visitor_id  orders\n",
      "908  3967698036       3\n",
      "55    249864742       3\n",
      "478  2108163459       3\n",
      "687  2988190573       3\n",
      "890  3908431265       3\n",
      "138   611059232       3\n",
      "632  2742574263       3\n",
      "157   678354126       2\n",
      "323  1404560065       2\n",
      "452  1985475298       2\n"
     ]
    }
   ],
   "source": [
    "#создадим датафрейм, где сгруппируем количество заказов по пользователям.\n",
    "orders_by_users= (\n",
    "    orders.groupby('visitor_id', as_index=False)\n",
    "    .agg({'transaction_id': 'nunique'})\n",
    ")\n",
    "orders_by_users.columns = ['visitor_id', 'orders']\n",
    "\n",
    "print(orders_by_users.sort_values(by='orders', ascending=False).head(10))\n"
   ]
  },
  {
   "cell_type": "code",
   "execution_count": 29,
   "metadata": {},
   "outputs": [
    {
     "data": {
      "image/png": "[encoded data removed]",
      "text/plain": [
       "<Figure size 1080x360 with 1 Axes>"
      ]
     },
     "metadata": {
      "needs_background": "light"
     },
     "output_type": "display_data"
    }
   ],
   "source": [
    "#построим график\n",
    "plt.figure(figsize=(15, 5))\n",
    "plt.title('Количество заказов по пользователям')\n",
    "plt.scatter(orders_by_users.index, orders_by_users['orders'])\n",
    "plt.ylabel('Количество заказов')\n",
    "plt.show();"
   ]
  },
  {
   "cell_type": "markdown",
   "metadata": {},
   "source": [
    "Мы видим, что осноаная масса пользователей совершает 1 заказ, пользователей, котррые заказали больше двух заказов немного, они могут оказаться аномальными."
   ]
  },
  {
   "cell_type": "markdown",
   "metadata": {},
   "source": [
    "### 95-й и 99-й перцентили количества заказов на пользователя"
   ]
  },
  {
   "cell_type": "markdown",
   "metadata": {},
   "source": [
    "Посчитаем 95-й и 99-й перцентили количества заказов на пользователя. "
   ]
  },
  {
   "cell_type": "code",
   "execution_count": 30,
   "metadata": {},
   "outputs": [
    {
     "name": "stdout",
     "output_type": "stream",
     "text": [
      "[1. 2.]\n"
     ]
    }
   ],
   "source": [
    "print(np.percentile(orders_by_users['orders'], [95, 99]))"
   ]
  },
  {
   "cell_type": "markdown",
   "metadata": {},
   "source": [
    "Не больше 5% пользователей сделали более 1 заказа, и не более 1% больше 2 заказов.  \n",
    "Для дальнейшего анализа можно будет ограничить по 99 перценталю - 2 заказами на пользователя."
   ]
  },
  {
   "cell_type": "markdown",
   "metadata": {},
   "source": [
    "### Стоимость заказов"
   ]
  },
  {
   "cell_type": "markdown",
   "metadata": {},
   "source": [
    "Построим точечный график стоимостей заказов."
   ]
  },
  {
   "cell_type": "code",
   "execution_count": 31,
   "metadata": {},
   "outputs": [
    {
     "data": {
      "image/png": "[encoded data removed]",
      "text/plain": [
       "<Figure size 1080x360 with 1 Axes>"
      ]
     },
     "metadata": {
      "needs_background": "light"
     },
     "output_type": "display_data"
    }
   ],
   "source": [
    "plt.figure(figsize=(15, 5))\n",
    "plt.title('Стоимости заказовов')\n",
    "plt.scatter(orders.index, orders['revenue'])\n",
    "plt.ylabel('Стоимость заказа (в млн.)')\n",
    "plt.show();"
   ]
  },
  {
   "cell_type": "markdown",
   "metadata": {},
   "source": [
    "Стоимость заказов обычно не превышает 100 000, есть 2 явно аномально больших заказов, один на 200 000, в второй на целых 1 200 000."
   ]
  },
  {
   "cell_type": "markdown",
   "metadata": {},
   "source": [
    "### 95-й и 99-й перцентили стоимости заказов"
   ]
  },
  {
   "cell_type": "markdown",
   "metadata": {},
   "source": [
    "Посчитаем 95-й и 99-й перцентили стоимости заказов."
   ]
  },
  {
   "cell_type": "code",
   "execution_count": 32,
   "metadata": {},
   "outputs": [
    {
     "name": "stdout",
     "output_type": "stream",
     "text": [
      "[26785. 53904.]\n"
     ]
    }
   ],
   "source": [
    "print(np.percentile(orders['revenue'], [95, 99]))"
   ]
  },
  {
   "cell_type": "markdown",
   "metadata": {},
   "source": [
    "Не больше 5% заказов стиоимостью выше 28 000, и не более 1% больше 58233,2.  \n",
    "Для дальнейшего анализа можно будет ограничить стоимость заказа по 99 перцентялю -  53904."
   ]
  },
  {
   "cell_type": "markdown",
   "metadata": {},
   "source": [
    "### Статистическая значимость различий в среднем количестве заказов на посетителя"
   ]
  },
  {
   "cell_type": "markdown",
   "metadata": {},
   "source": [
    "Посчитаем статистическую значимость различий в среднем количестве заказов на посетителя между группами по «сырым» данным. "
   ]
  },
  {
   "cell_type": "markdown",
   "metadata": {},
   "source": [
    "Для начала посдготовим \"сырые\" данные"
   ]
  },
  {
   "cell_type": "markdown",
   "metadata": {},
   "source": [
    "Посчитаем количество посетителей по в день, а также кумулятивноое по датам по группам."
   ]
  },
  {
   "cell_type": "code",
   "execution_count": 33,
   "metadata": {
    "scrolled": true
   },
   "outputs": [
    {
     "name": "stdout",
     "output_type": "stream",
     "text": [
      "        date  visitors_cummulative_a\n",
      "0 2019-08-01                     719\n",
      "1 2019-08-02                    1338\n",
      "2 2019-08-03                    1845\n",
      "3 2019-08-04                    2562\n",
      "4 2019-08-05                    3318\n",
      "         date  visitors_cummulative_b\n",
      "31 2019-08-01                     713\n",
      "32 2019-08-02                    1294\n",
      "33 2019-08-03                    1803\n",
      "34 2019-08-04                    2573\n",
      "35 2019-08-05                    3280\n"
     ]
    }
   ],
   "source": [
    "\n",
    "visitors_a_daily = visitors[visitors['group'] == 'A'][['date', 'visitors']]\n",
    "visitors_a_daily.columns = ['date', 'visitors_per_date_a']\n",
    "\n",
    "visitors_a_cummulative = visitors_a_daily.apply(\n",
    "    lambda x: visitors_a_daily[visitors_a_daily['date'] <= x['date']].agg(\n",
    "        {'date': 'max', 'visitors_per_date_a': 'sum'}\n",
    "    ),\n",
    "    axis=1,\n",
    ")\n",
    "visitors_a_cummulative.columns = ['date', 'visitors_cummulative_a']\n",
    "\n",
    "visitors_b_daily = visitors[visitors['group'] == 'B'][['date', 'visitors']]\n",
    "visitors_b_daily.columns = ['date', 'visitors_per_date_b']\n",
    "\n",
    "visitors_b_cummulative = visitors_b_daily.apply(\n",
    "    lambda x: visitors_b_daily[visitors_b_daily['date'] <= x['date']].agg(\n",
    "        {'date': 'max', 'visitors_per_date_b': 'sum'}\n",
    "    ),\n",
    "    axis=1,\n",
    ")\n",
    "visitors_b_cummulative.columns = ['date', 'visitors_cummulative_b']\n",
    "\n",
    "print(visitors_a_cummulative.head())\n",
    "print(visitors_b_cummulative.head())"
   ]
  },
  {
   "cell_type": "markdown",
   "metadata": {},
   "source": [
    "Посчитаем количество заказов в день, а также кумулятивноое по датам по группам."
   ]
  },
  {
   "cell_type": "code",
   "execution_count": 34,
   "metadata": {},
   "outputs": [
    {
     "name": "stdout",
     "output_type": "stream",
     "text": [
      "        date  orders_cummulative_a  revenue_cummulative_a\n",
      "0 2019-08-01                    23                 142779\n",
      "1 2019-08-02                    42                 234381\n",
      "2 2019-08-03                    66                 346854\n",
      "3 2019-08-04                    77                 388030\n",
      "4 2019-08-05                    99                 474413\n",
      "        date  orders_cummulative_b  revenue_cummulative_b\n",
      "0 2019-08-01                    17                  59758\n",
      "1 2019-08-02                    40                 221801\n",
      "2 2019-08-03                    54                 288850\n",
      "3 2019-08-04                    68                 385740\n",
      "4 2019-08-05                    89                 475648\n"
     ]
    }
   ],
   "source": [
    "orders_a_daily = (\n",
    "    orders[orders['group'] == 'A'][['date', 'transaction_id', 'visitor_id', 'revenue']]\n",
    "    .groupby('date', as_index=False)\n",
    "    .agg({'transaction_id': 'nunique', 'revenue': 'sum'})\n",
    ")\n",
    "orders_a_daily.columns = ['date', 'orders_per_date_a', 'revenue_per_date_a']\n",
    "\n",
    "orders_a_cummulative = orders_a_daily.apply(\n",
    "    lambda x: orders_a_daily[orders_a_daily['date'] <= x['date']].agg(\n",
    "        {'date': 'max', 'orders_per_date_a': 'sum', 'revenue_per_date_a': 'sum'}\n",
    "    ),\n",
    "    axis=1,\n",
    ").sort_values(by=['date'])\n",
    "orders_a_cummulative.columns = [\n",
    "    'date',\n",
    "    'orders_cummulative_a',\n",
    "    'revenue_cummulative_a',\n",
    "]\n",
    "\n",
    "orders_b_daily = (\n",
    "    orders[orders['group'] == 'B'][['date', 'transaction_id', 'visitor_id', 'revenue']]\n",
    "    .groupby('date', as_index=False)\n",
    "    .agg({'transaction_id': 'nunique', 'revenue': 'sum'})\n",
    ")\n",
    "orders_b_daily.columns = ['date', 'orders_per_date_b', 'revenue_per_date_b']\n",
    "\n",
    "orders_b_cummulative = orders_b_daily.apply(\n",
    "    lambda x: orders_b_daily[orders_b_daily['date'] <= x['date']].agg(\n",
    "        {'date': 'max', 'orders_per_date_b': 'sum', 'revenue_per_date_b': 'sum'}\n",
    "    ),\n",
    "    axis=1,\n",
    ").sort_values(by=['date'])\n",
    "orders_b_cummulative.columns = [\n",
    "    'date',\n",
    "    'orders_cummulative_b',\n",
    "    'revenue_cummulative_b',\n",
    "]\n",
    "\n",
    "print(orders_a_cummulative.head())\n",
    "print(orders_b_cummulative.head())"
   ]
  },
  {
   "cell_type": "markdown",
   "metadata": {},
   "source": [
    "Сгруппируем \"сырые\" данные."
   ]
  },
  {
   "cell_type": "code",
   "execution_count": 35,
   "metadata": {},
   "outputs": [
    {
     "name": "stdout",
     "output_type": "stream",
     "text": [
      "        date  orders_per_date_a  revenue_per_date_a  orders_per_date_b  \\\n",
      "0 2019-08-01                 23              142779                 17   \n",
      "1 2019-08-02                 19               91602                 23   \n",
      "2 2019-08-03                 24              112473                 14   \n",
      "3 2019-08-04                 11               41176                 14   \n",
      "4 2019-08-05                 22               86383                 21   \n",
      "\n",
      "   revenue_per_date_b  orders_cummulative_a  revenue_cummulative_a  \\\n",
      "0               59758                    23                 142779   \n",
      "1              162043                    42                 234381   \n",
      "2               67049                    66                 346854   \n",
      "3               96890                    77                 388030   \n",
      "4               89908                    99                 474413   \n",
      "\n",
      "   orders_cummulative_b  revenue_cummulative_b  visitors_per_date_a  \\\n",
      "0                    17                  59758                  719   \n",
      "1                    40                 221801                  619   \n",
      "2                    54                 288850                  507   \n",
      "3                    68                 385740                  717   \n",
      "4                    89                 475648                  756   \n",
      "\n",
      "   visitors_per_date_b  visitors_cummulative_a  visitors_cummulative_b  \n",
      "0                  713                     719                     713  \n",
      "1                  581                    1338                    1294  \n",
      "2                  509                    1845                    1803  \n",
      "3                  770                    2562                    2573  \n",
      "4                  707                    3318                    3280  \n"
     ]
    }
   ],
   "source": [
    "\n",
    "data = (\n",
    "    orders_a_daily.merge(\n",
    "        orders_b_daily, left_on='date', right_on='date', how='left'\n",
    "    )\n",
    "    .merge(orders_a_cummulative, left_on='date', right_on='date', how='left')\n",
    "    .merge(orders_b_cummulative, left_on='date', right_on='date', how='left')\n",
    "    .merge(visitors_a_daily, left_on='date', right_on='date', how='left')\n",
    "    .merge(visitors_b_daily, left_on='date', right_on='date', how='left')\n",
    "    .merge(visitors_a_cummulative, left_on='date', right_on='date', how='left')\n",
    "    .merge(visitors_b_cummulative, left_on='date', right_on='date', how='left')\n",
    ")\n",
    "\n",
    "print(data.head(5))"
   ]
  },
  {
   "cell_type": "markdown",
   "metadata": {},
   "source": [
    "Значение столбцов:  \n",
    "`date` — дата;  \n",
    "`revenue_per_date_a` — количество заказов в выбранную дату в группе A;  \n",
    "`revenue_per_date_a` — суммарная выручка в выбранную дату в группе A;  \n",
    "`orders_per_date_b` — количество заказов в выбранную дату в группе B;  \n",
    "`revenue_per_date_b` — суммарная выручка в выбранную дату в группе B;  \n",
    "`orders_cummulative_a` — суммарное число заказов до выбранной даты включительно в группе A;  \n",
    "`revenue_cummulative_a` — суммарная выручка до выбранной даты включительно в группе A;  \n",
    "`orders_cummulative_b` — суммарное количество заказов до выбранной даты включительно в группе B;  \n",
    "`revenue_cummulative_b` — суммарная выручка до выбранной даты включительно в группе B;  \n",
    "`visitors_per_date_a` — количество пользователей в выбранную дату в группе A;  \n",
    "`visitors_per_date_b` — количество пользователей в выбранную дату в группе B;  \n",
    "`visitors_cummulative_a` — количество пользователей до выбранной даты включительно в группе A;  \n",
    "`visitors_cummulative_b` — количество пользователей до выбранной даты включительно в группе B.  "
   ]
  },
  {
   "cell_type": "markdown",
   "metadata": {},
   "source": [
    "Посчитаем количество заказов на каждого пользователя."
   ]
  },
  {
   "cell_type": "code",
   "execution_count": 36,
   "metadata": {},
   "outputs": [
    {
     "name": "stdout",
     "output_type": "stream",
     "text": [
      "    user_id  orders\n",
      "0  11685486       1\n",
      "1  54447517       1\n",
      "2  66685450       1\n",
      "3  78758296       1\n",
      "4  85103373       1\n",
      "    user_id  orders\n",
      "0   5114589       1\n",
      "1   6958315       1\n",
      "2  39475350       1\n",
      "3  47206413       1\n",
      "4  48147722       1\n"
     ]
    }
   ],
   "source": [
    "orders_by_users_a = (\n",
    "    orders[orders['group'] == 'A']\n",
    "    .groupby('visitor_id', as_index=False)\n",
    "    .agg({'transaction_id': 'nunique'})\n",
    ")\n",
    "orders_by_users_a.columns = ['user_id', 'orders']\n",
    "\n",
    "orders_by_users_b = (\n",
    "    orders[orders['group'] == 'B']\n",
    "    .groupby('visitor_id', as_index=False)\n",
    "    .agg({'transaction_id': 'nunique'})\n",
    ")\n",
    "orders_by_users_b.columns = ['user_id', 'orders']\n",
    "\n",
    "print(orders_by_users_a.head())\n",
    "print(orders_by_users_b.head())"
   ]
  },
  {
   "cell_type": "markdown",
   "metadata": {},
   "source": [
    "Добавим в таблицу всех посетителей, и среди тех, кто не делал заказ, в графе количество заказов укажим ноль."
   ]
  },
  {
   "cell_type": "code",
   "execution_count": 37,
   "metadata": {},
   "outputs": [
    {
     "name": "stdout",
     "output_type": "stream",
     "text": [
      "0    1\n",
      "1    1\n",
      "2    1\n",
      "3    1\n",
      "4    1\n",
      "Name: orders, dtype: int64\n",
      "0    1\n",
      "1    1\n",
      "2    1\n",
      "3    1\n",
      "4    1\n",
      "Name: orders, dtype: int64\n"
     ]
    }
   ],
   "source": [
    "sample_a = pd.concat(\n",
    "    [\n",
    "        orders_by_users_a['orders'],\n",
    "        pd.Series(\n",
    "            0,\n",
    "            index=np.arange(\n",
    "                data['visitors_per_date_a'].sum() - len(orders_by_users_a['orders'])\n",
    "            ),\n",
    "            name='orders',\n",
    "        ),\n",
    "    ],\n",
    "    axis=0,\n",
    ")\n",
    "\n",
    "sample_b = pd.concat(\n",
    "    [\n",
    "        orders_by_users_b['orders'],\n",
    "        pd.Series(\n",
    "            0,\n",
    "            index=np.arange(\n",
    "                data['visitors_per_date_b'].sum() - len(orders_by_users_b['orders'])\n",
    "            ),\n",
    "            name='orders',\n",
    "        ),\n",
    "    ],\n",
    "    axis=0,\n",
    ")\n",
    "\n",
    "print(sample_a.head())\n",
    "print(sample_b.head())"
   ]
  },
  {
   "cell_type": "markdown",
   "metadata": {},
   "source": [
    "Выдвенем нулевую гипотезу, что статистически значимых различий в среднем числе заказов между группами нет. Альтернативная гипотеза - статистически значимые различия в среднем числе заказов между группами есть. Проверим ее методом U-теста Манна-Уитни. Задаем уровень значимости alpha=0.05"
   ]
  },
  {
   "cell_type": "code",
   "execution_count": 38,
   "metadata": {},
   "outputs": [
    {
     "name": "stdout",
     "output_type": "stream",
     "text": [
      "p-value равен 0.01102\n",
      "Отвергаем нулевую гипотезу, есть основания считать группы разными\n",
      "Отношение среднего числа заказов группы B к A равно  0.160\n"
     ]
    }
   ],
   "source": [
    "alpha=0.05\n",
    "print('p-value равен', '{0:.5f}'.format(stats.mannwhitneyu(sample_a, sample_b)[1]))\n",
    "\n",
    "if stats.mannwhitneyu(sample_a, sample_b)[1] > alpha:\n",
    "    print('Не отвергаем нулевую гипотезу, нет оснований считать группы разными')\n",
    "else:\n",
    "        print('Отвергаем нулевую гипотезу, есть основания считать группы разными')\n",
    "        \n",
    "print('Отношение среднего числа заказов группы B к A равно ', \n",
    "      '{0:.3f}'.format(sample_b.mean() / sample_a.mean() - 1))\n"
   ]
  },
  {
   "cell_type": "markdown",
   "metadata": {},
   "source": [
    "P-value меньше 0.05, потому нулевую гипотезу отвергаем. Анализ «сырых данных» сообщает, что в среднем количестве заказов между группами есть статистически значимые различия. Относительный прирост среднего группы B к конверсии группы A равен 16%.\n"
   ]
  },
  {
   "cell_type": "markdown",
   "metadata": {},
   "source": [
    "### Cтатистическая значимость различий в среднем чеке заказа между группами по «сырым» данным"
   ]
  },
  {
   "cell_type": "markdown",
   "metadata": {},
   "source": [
    "Теперь проверим статистическую значимость различий в среднем чеке между сегментами. Нулевая гипотеза: различий в среднем чеке между группами нет. Альтернативная гипотеза: различия в среднем чеке между группами есть. "
   ]
  },
  {
   "cell_type": "code",
   "execution_count": 39,
   "metadata": {},
   "outputs": [
    {
     "name": "stdout",
     "output_type": "stream",
     "text": [
      "p-value равен 0.829\n",
      "Не отвергаем нулевую гипотезу, нет оснований считать группы разными\n",
      "Отношение среднего чека группы B к A равно 0.287\n"
     ]
    }
   ],
   "source": [
    "alpha = 0.05\n",
    "print('p-value равен', '{0:.3f}'.format(stats.mannwhitneyu(orders[orders['group']=='A']['revenue'], \n",
    "                                          orders[orders['group']=='B']['revenue'])[1]))\n",
    "\n",
    "if stats.mannwhitneyu(orders[orders['group']=='A']['revenue'], \n",
    "                                          orders[orders['group']=='B']['revenue'])[1] > alpha:\n",
    "    print('Не отвергаем нулевую гипотезу, нет оснований считать группы разными')\n",
    "else:\n",
    "        print('Отвергаем нулевую гипотезу, есть основания считать группы разными')\n",
    "        \n",
    "print('Отношение среднего чека группы B к A равно', '{0:.3f}'.format(orders[orders['group']=='B']['revenue'] \\\n",
    "                       .mean()/orders[orders['group']=='A']['revenue'].mean()-1))\n"
   ]
  },
  {
   "cell_type": "markdown",
   "metadata": {},
   "source": [
    "P-value значительно больше 0.05. Значит, нет причин отвергать нулевую гипотезу, нет оснований считать группы разными.  \n",
    "Средний чек группы B больше среднего чека группы А."
   ]
  },
  {
   "cell_type": "markdown",
   "metadata": {},
   "source": [
    "### Cтатистическая значимость различий в среднем количестве заказов на посетителя между группами по «очищенным» данным"
   ]
  },
  {
   "cell_type": "markdown",
   "metadata": {},
   "source": [
    "Прежде чем считать статистическую значимость, посмотрим, сколько пользователей сделали более 2 заказов (99 перценталь), и сколько пользователей сделали заказ более чем на 53 904 (99 перценталь)."
   ]
  },
  {
   "cell_type": "code",
   "execution_count": 40,
   "metadata": {},
   "outputs": [
    {
     "name": "stdout",
     "output_type": "stream",
     "text": [
      "1099    148427295\n",
      "33      249864742\n",
      "58      611059232\n",
      "949     887908475\n",
      "744     888512513\n",
      "dtype: int64\n",
      "16\n"
     ]
    }
   ],
   "source": [
    "users_with_many_orders = pd.concat(\n",
    "    [\n",
    "        orders_by_users_a[orders_by_users_a['orders'] > np.percentile(orders_by_users['orders'], \n",
    "                                                                      [99])[0]]['user_id'],\n",
    "        orders_by_users_b[orders_by_users_b['orders'] > np.percentile(orders_by_users['orders'], \n",
    "                                                                      [99])[0]]['user_id'],\n",
    "    \n",
    "    ],\n",
    "    axis=0,\n",
    ")\n",
    "users_with_expensive_orders = orders[orders['revenue'] > np.percentile(orders['revenue'], [99])[0]]['visitor_id']\n",
    "abnormal_users = (\n",
    "    pd.concat([users_with_many_orders, users_with_expensive_orders], axis=0)\n",
    "    .drop_duplicates()\n",
    "    .sort_values()\n",
    ")\n",
    "print(abnormal_users.head(5))\n",
    "print(abnormal_users.shape[0])"
   ]
  },
  {
   "cell_type": "markdown",
   "metadata": {},
   "source": [
    "16 аномальных пользователей."
   ]
  },
  {
   "cell_type": "markdown",
   "metadata": {},
   "source": [
    "Посмотрим, как они влияют на результаты теста. Посчитаем статистическую значимость различий в среднем количестве заказов между группами теста по очищенным данным. Сначала подготовим выборки количества заказов по пользователям по группам теста"
   ]
  },
  {
   "cell_type": "code",
   "execution_count": 41,
   "metadata": {},
   "outputs": [
    {
     "name": "stdout",
     "output_type": "stream",
     "text": [
      "0    1\n",
      "1    1\n",
      "2    1\n",
      "3    1\n",
      "4    1\n",
      "Name: orders, dtype: int64\n",
      "\n",
      "0    1\n",
      "1    1\n",
      "2    1\n",
      "3    1\n",
      "4    1\n",
      "Name: orders, dtype: int64\n"
     ]
    }
   ],
   "source": [
    "sample_a_filtered = pd.concat(\n",
    "    [\n",
    "        orders_by_users_a[\n",
    "            np.logical_not(orders_by_users_a['user_id'].isin(abnormal_users))\n",
    "        ]['orders'],\n",
    "        pd.Series(\n",
    "            0,\n",
    "            index=np.arange(\n",
    "                data['visitors_per_date_a'].sum() - len(orders_by_users_a['orders'])\n",
    "            ),\n",
    "            name='orders',\n",
    "        ),\n",
    "    ],\n",
    "    axis=0,\n",
    ")\n",
    "\n",
    "sample_b_filtered = pd.concat(\n",
    "    [\n",
    "        orders_by_users_b[\n",
    "            np.logical_not(orders_by_users_b['user_id'].isin(abnormal_users))\n",
    "        ]['orders'],\n",
    "        pd.Series(\n",
    "            0,\n",
    "            index=np.arange(\n",
    "                data['visitors_per_date_b'].sum() - len(orders_by_users_b['orders'])\n",
    "            ),\n",
    "            name='orders',\n",
    "        ),\n",
    "    ],\n",
    "    axis=0,\n",
    ")\n",
    "\n",
    "print(sample_a_filtered.head())\n",
    "print()\n",
    "print(sample_b_filtered.head())"
   ]
  },
  {
   "cell_type": "markdown",
   "metadata": {},
   "source": [
    "Применим статистический критерий Манна-Уитни к полученным выборкам. Выдвенем нулевую гипотезу, что статистически значимых различий в среднем числе заказов между группами нет. Альтернативная гипотеза - статистически значимые различия в среднем числе заказов между группами есть."
   ]
  },
  {
   "cell_type": "code",
   "execution_count": 42,
   "metadata": {},
   "outputs": [
    {
     "name": "stdout",
     "output_type": "stream",
     "text": [
      "p-value равен 0.00702\n",
      "Отвергаем нулевую гипотезу, есть основания считать группы разными\n",
      "Отношение среднего чека группы B к A равно 0.189\n"
     ]
    }
   ],
   "source": [
    "\n",
    "alpha = 0.05\n",
    "\n",
    "print('p-value равен', '{0:.5f}'.format(stats.mannwhitneyu(sample_a_filtered, sample_b_filtered)[1]))\n",
    "if stats.mannwhitneyu(sample_a_filtered, sample_b_filtered)[1] > alpha:\n",
    "    print('Не отвергаем нулевую гипотезу, нет оснований считать группы разными')\n",
    "else:\n",
    "        print('Отвергаем нулевую гипотезу, есть основания считать группы разными')\n",
    "print('Отношение среднего чека группы B к A равно', '{0:.3f}'.format(sample_b_filtered.mean()/sample_a_filtered.mean()-1))"
   ]
  },
  {
   "cell_type": "markdown",
   "metadata": {},
   "source": [
    "Результаты не изменились, P-value меньше 0.05, потому нулевую гипотезу отвергаем. Анализ «сырых данных» сообщает, что в среднем количестве заказов между группами есть статистически значимые различия. Относительный прирост среднего количества заказов группы B к среднему количеству заказов группы A равен 14.8%."
   ]
  },
  {
   "cell_type": "markdown",
   "metadata": {},
   "source": [
    "### Cтатистическая значимость различий в среднем чеке заказа между группами по «очищенным» данным"
   ]
  },
  {
   "cell_type": "markdown",
   "metadata": {},
   "source": [
    "Теперь проверим статистическую значимость различий в среднем чеке между сегментами по \"очищенным\". Нулевая гипотеза: различий в среднем чеке между группами нет. Альтернативная гипотеза: различия в среднем чеке между группами есть. "
   ]
  },
  {
   "cell_type": "code",
   "execution_count": 43,
   "metadata": {},
   "outputs": [
    {
     "name": "stdout",
     "output_type": "stream",
     "text": [
      "0.829\n",
      "0.287\n",
      "p-value равен 0.788\n",
      "Не отвергаем нулевую гипотезу, нет оснований считать группы разными\n",
      "Отношение среднего чека группы B к A равно -0.032\n"
     ]
    }
   ],
   "source": [
    "\n",
    "print('{0:.3f}'.format(stats.mannwhitneyu(orders[orders['group']=='A']['revenue'], \n",
    "                                          orders[orders['group']=='B']['revenue'])[1]))\n",
    "\n",
    "print('{0:.3f}'.format(orders[orders['group']=='B']['revenue'] \\\n",
    "                       .mean()/orders[orders['group']=='A']['revenue'].mean()-1))\n",
    "\n",
    "\n",
    "alpha = 0.05\n",
    "print('p-value равен', \n",
    "    '{0:.3f}'.format(\n",
    "        stats.mannwhitneyu(\n",
    "            orders[\n",
    "                np.logical_and(\n",
    "                    orders['group'] == 'A',\n",
    "                    np.logical_not(orders['visitor_id'].isin(abnormal_users)),\n",
    "                )\n",
    "            ]['revenue'],\n",
    "            orders[\n",
    "                np.logical_and(\n",
    "                    orders['group'] == 'B',\n",
    "                    np.logical_not(orders['visitor_id'].isin(abnormal_users)),\n",
    "                )\n",
    "            ]['revenue'],\n",
    "        )[1]\n",
    "    )\n",
    ")\n",
    "\n",
    "if stats.mannwhitneyu(orders[\n",
    "    np.logical_and(\n",
    "        orders['group'] == 'A',\n",
    "        np.logical_not(orders['visitor_id'].isin(abnormal_users)),\n",
    "    )\n",
    "    ]['revenue'],\n",
    "                      orders[\n",
    "                          np.logical_and(\n",
    "                              orders['group'] == 'B',\n",
    "                              np.logical_not(orders['visitor_id'].isin(abnormal_users)),\n",
    "                          )\n",
    "                      ]['revenue'],\n",
    "                     )[1] > alpha:\n",
    "    print('Не отвергаем нулевую гипотезу, нет оснований считать группы разными')\n",
    "else:\n",
    "        print('Отвергаем нулевую гипотезу, есть основания считать группы разными')\n",
    "\n",
    "\n",
    "print('Отношение среднего чека группы B к A равно', \n",
    "    \"{0:.3f}\".format(\n",
    "        orders[\n",
    "            np.logical_and(\n",
    "                orders['group'] == 'B',\n",
    "                np.logical_not(orders['visitor_id'].isin(abnormal_users)),\n",
    "            )\n",
    "        ]['revenue'].mean()\n",
    "        / orders[\n",
    "            np.logical_and(\n",
    "                orders['group'] == 'A',\n",
    "                np.logical_not(orders['visitor_id'].isin(abnormal_users)),\n",
    "            )\n",
    "        ]['revenue'].mean()\n",
    "        - 1\n",
    "    )\n",
    ")"
   ]
  },
  {
   "cell_type": "markdown",
   "metadata": {},
   "source": [
    "P-value все еще значительно больше 0.05. Значит, причин отвергать нулевую гипотезу и считать, что в среднем чеке есть различия, нет.\n",
    "Но средний чек группы B теперь меньше среднего чека группы А."
   ]
  },
  {
   "cell_type": "markdown",
   "metadata": {},
   "source": [
    "## Вывод"
   ]
  },
  {
   "cell_type": "markdown",
   "metadata": {},
   "source": [
    "Мы провели предобаботку данных:  \n",
    "\n",
    "- Переименовали часть столбцов - привели к “змеиному” регистру.\n",
    "- Проверили данные на явные дубли и пропуски.\n",
    "- Изменили тип данных в столбцах с датами, сделали типом datetime64.\n",
    "- Очистили данные от пользователей, пересекающихся в группах А и В\n",
    "\n",
    "Провели приоритезацию гипотез.  \n",
    "\n",
    "По методу ICE лучше отдать приоритет гипотезам 9, 1, 8:  \n",
    "\n",
    "- Запустить акцию, дающую скидку на товар в день рождения\n",
    "- Добавить два новых канала привлечения трафика, что позволит привлекать на 30% больше пользователей\n",
    "- Добавить форму подписки на все основные страницы, чтобы собрать базу клиентов для email-рассылок\n",
    "\n",
    "По методу RICE (т.е. с учетом охвата пользователей) лучше отдать приоритет гипотезам 8 (с большим отрывом), 3, 1:  \n",
    "\n",
    "- Добавить форму подписки на все основные страницы, чтобы собрать базу клиентов для email-рассылок\n",
    "- Добавить блоки рекомендаций товаров на сайт интернет магазина, чтобы повысить конверсию и средний чек заказа\n",
    "- Добавить два новых канала привлечения трафика, что позволит привлекать на 30% больше пользователей\n",
    "\n",
    "Изучили результаты A/B теста.  \n",
    "\n",
    "Результаты по “сырым” данным:  \n",
    "\n",
    "- В среднем количестве заказов на пользователя между группами есть статистически значимые различия. Относительный прирост среднего группы B к конверсии группы A равен 13.8%.\n",
    "- Статистически значимых различий в среднем чеке заказа между группами нет. Средний чек группы B больше среднего чека группы А на 26%.\n",
    "\n",
    "Результаты по отфильтрованным данным:  \n",
    "\n",
    "- В среднем количестве заказов на пользователя между группами есть статистически значимые различия. Относительный прирост среднего группы B к конверсии группы A равен 14.8%.\n",
    "- Статистически значимых различий в среднем чеке заказа между группами нет. Средний чек группы B меньше среднего чека группы А на 2%.\n",
    "  \n",
    "  \n",
    "**Рекомендации**  \n",
    "Остановить A/B-тест. Мы увидели рост конверсии у группы B, что практически не повлияло на средний чек.  \n",
    "проверить деление трафика на группы, т.к. есть 58 пользователей (их id в датафрейме intersecting_id_list), которые попали в обе группы тестирования, возможно это шибка деления, и, может быть, это id сотрудников компании, которые проводили тестирование."
   ]
  }
 ],
 "metadata": {
  "ExecuteTimeLog": [
   {
    "duration": 1403,
    "start_time": "2023-08-04T09:33:14.448Z"
   },
   {
    "duration": 96,
    "start_time": "2023-08-04T09:44:13.879Z"
   },
   {
    "duration": 204,
    "start_time": "2023-08-04T09:44:40.004Z"
   },
   {
    "duration": 30,
    "start_time": "2023-08-04T09:45:44.969Z"
   },
   {
    "duration": 30,
    "start_time": "2023-08-04T09:46:15.178Z"
   },
   {
    "duration": 30,
    "start_time": "2023-08-04T09:46:37.338Z"
   },
   {
    "duration": 30,
    "start_time": "2023-08-04T09:46:52.569Z"
   },
   {
    "duration": 13,
    "start_time": "2023-08-04T09:48:57.563Z"
   },
   {
    "duration": 12,
    "start_time": "2023-08-04T09:51:49.498Z"
   },
   {
    "duration": 16,
    "start_time": "2023-08-04T09:52:00.348Z"
   },
   {
    "duration": 15,
    "start_time": "2023-08-04T09:53:33.884Z"
   },
   {
    "duration": 14,
    "start_time": "2023-08-04T09:54:32.305Z"
   },
   {
    "duration": 4,
    "start_time": "2023-08-04T09:56:39.134Z"
   },
   {
    "duration": 5,
    "start_time": "2023-08-04T09:58:09.598Z"
   },
   {
    "duration": 8,
    "start_time": "2023-08-04T10:01:57.264Z"
   },
   {
    "duration": 33,
    "start_time": "2023-08-04T10:03:45.159Z"
   },
   {
    "duration": 16,
    "start_time": "2023-08-04T10:07:50.544Z"
   },
   {
    "duration": 8,
    "start_time": "2023-08-04T10:09:13.428Z"
   },
   {
    "duration": 1178,
    "start_time": "2023-08-04T10:10:07.823Z"
   },
   {
    "duration": 79,
    "start_time": "2023-08-04T10:10:09.004Z"
   },
   {
    "duration": 15,
    "start_time": "2023-08-04T10:10:09.085Z"
   },
   {
    "duration": 34,
    "start_time": "2023-08-04T10:10:09.102Z"
   },
   {
    "duration": 14,
    "start_time": "2023-08-04T10:10:09.137Z"
   },
   {
    "duration": 6,
    "start_time": "2023-08-04T10:10:09.153Z"
   },
   {
    "duration": 16,
    "start_time": "2023-08-04T10:10:09.161Z"
   },
   {
    "duration": 20,
    "start_time": "2023-08-04T10:10:09.178Z"
   },
   {
    "duration": 16,
    "start_time": "2023-08-04T10:10:09.200Z"
   },
   {
    "duration": 12,
    "start_time": "2023-08-04T10:37:42.187Z"
   },
   {
    "duration": 10,
    "start_time": "2023-08-04T10:38:46.103Z"
   },
   {
    "duration": 7,
    "start_time": "2023-08-04T10:39:06.153Z"
   },
   {
    "duration": 3,
    "start_time": "2023-08-04T10:41:10.372Z"
   },
   {
    "duration": 9,
    "start_time": "2023-08-04T10:41:12.837Z"
   },
   {
    "duration": 3,
    "start_time": "2023-08-04T10:42:17.677Z"
   },
   {
    "duration": 9,
    "start_time": "2023-08-04T10:47:05.334Z"
   },
   {
    "duration": 9,
    "start_time": "2023-08-04T10:50:00.092Z"
   },
   {
    "duration": 1241,
    "start_time": "2023-08-04T10:56:08.653Z"
   },
   {
    "duration": 3,
    "start_time": "2023-08-04T10:56:09.896Z"
   },
   {
    "duration": 92,
    "start_time": "2023-08-04T10:56:09.901Z"
   },
   {
    "duration": 15,
    "start_time": "2023-08-04T10:56:09.995Z"
   },
   {
    "duration": 59,
    "start_time": "2023-08-04T10:56:10.011Z"
   },
   {
    "duration": 30,
    "start_time": "2023-08-04T10:56:10.072Z"
   },
   {
    "duration": 8,
    "start_time": "2023-08-04T10:56:10.103Z"
   },
   {
    "duration": 27,
    "start_time": "2023-08-04T10:56:10.112Z"
   },
   {
    "duration": 25,
    "start_time": "2023-08-04T10:56:10.141Z"
   },
   {
    "duration": 22,
    "start_time": "2023-08-04T10:56:10.169Z"
   },
   {
    "duration": 23,
    "start_time": "2023-08-04T10:56:10.192Z"
   },
   {
    "duration": 22,
    "start_time": "2023-08-04T10:56:10.217Z"
   },
   {
    "duration": 16,
    "start_time": "2023-08-04T10:56:10.241Z"
   },
   {
    "duration": 12,
    "start_time": "2023-08-04T11:07:34.738Z"
   },
   {
    "duration": 7,
    "start_time": "2023-08-04T11:09:02.534Z"
   },
   {
    "duration": 115,
    "start_time": "2023-08-04T11:12:14.939Z"
   },
   {
    "duration": 177,
    "start_time": "2023-08-04T11:12:45.843Z"
   },
   {
    "duration": 147,
    "start_time": "2023-08-04T11:13:01.859Z"
   },
   {
    "duration": 109,
    "start_time": "2023-08-04T11:13:07.803Z"
   },
   {
    "duration": 186,
    "start_time": "2023-08-04T11:13:48.980Z"
   },
   {
    "duration": 188,
    "start_time": "2023-08-04T11:16:41.830Z"
   },
   {
    "duration": 9,
    "start_time": "2023-08-04T11:20:08.198Z"
   },
   {
    "duration": 174,
    "start_time": "2023-08-04T11:20:27.554Z"
   },
   {
    "duration": 145,
    "start_time": "2023-08-04T11:20:42.598Z"
   },
   {
    "duration": 134,
    "start_time": "2023-08-04T11:21:25.004Z"
   },
   {
    "duration": 147,
    "start_time": "2023-08-04T11:21:45.194Z"
   },
   {
    "duration": 153,
    "start_time": "2023-08-04T11:21:58.454Z"
   },
   {
    "duration": 191,
    "start_time": "2023-08-04T11:23:09.614Z"
   },
   {
    "duration": 20,
    "start_time": "2023-08-04T11:24:22.939Z"
   },
   {
    "duration": 15,
    "start_time": "2023-08-04T11:24:45.439Z"
   },
   {
    "duration": 1726,
    "start_time": "2023-08-04T12:59:23.575Z"
   },
   {
    "duration": 3,
    "start_time": "2023-08-04T12:59:25.303Z"
   },
   {
    "duration": 271,
    "start_time": "2023-08-04T12:59:25.307Z"
   },
   {
    "duration": 20,
    "start_time": "2023-08-04T12:59:25.581Z"
   },
   {
    "duration": 14,
    "start_time": "2023-08-04T12:59:25.603Z"
   },
   {
    "duration": 23,
    "start_time": "2023-08-04T12:59:25.619Z"
   },
   {
    "duration": 5,
    "start_time": "2023-08-04T12:59:25.644Z"
   },
   {
    "duration": 14,
    "start_time": "2023-08-04T12:59:25.650Z"
   },
   {
    "duration": 24,
    "start_time": "2023-08-04T12:59:25.666Z"
   },
   {
    "duration": 13,
    "start_time": "2023-08-04T12:59:25.693Z"
   },
   {
    "duration": 10,
    "start_time": "2023-08-04T12:59:25.707Z"
   },
   {
    "duration": 8,
    "start_time": "2023-08-04T12:59:25.718Z"
   },
   {
    "duration": 41,
    "start_time": "2023-08-04T12:59:25.728Z"
   },
   {
    "duration": 223,
    "start_time": "2023-08-04T12:59:25.772Z"
   },
   {
    "duration": 154,
    "start_time": "2023-08-04T12:59:25.996Z"
   },
   {
    "duration": 21,
    "start_time": "2023-08-04T12:59:26.152Z"
   },
   {
    "duration": 166,
    "start_time": "2023-08-04T13:06:21.948Z"
   },
   {
    "duration": 10,
    "start_time": "2023-08-04T13:06:43.695Z"
   },
   {
    "duration": 306,
    "start_time": "2023-08-04T13:07:29.694Z"
   },
   {
    "duration": 255,
    "start_time": "2023-08-04T13:07:37.728Z"
   },
   {
    "duration": 298,
    "start_time": "2023-08-04T13:08:41.194Z"
   },
   {
    "duration": 245,
    "start_time": "2023-08-04T13:09:01.698Z"
   },
   {
    "duration": 297,
    "start_time": "2023-08-04T13:09:07.078Z"
   },
   {
    "duration": 295,
    "start_time": "2023-08-04T13:11:11.542Z"
   },
   {
    "duration": 245,
    "start_time": "2023-08-04T13:18:37.269Z"
   },
   {
    "duration": 319,
    "start_time": "2023-08-04T13:21:26.102Z"
   },
   {
    "duration": 207,
    "start_time": "2023-08-04T13:21:41.862Z"
   },
   {
    "duration": 359,
    "start_time": "2023-08-04T13:34:21.809Z"
   },
   {
    "duration": 230,
    "start_time": "2023-08-04T13:41:36.455Z"
   },
   {
    "duration": 342,
    "start_time": "2023-08-04T13:55:19.856Z"
   },
   {
    "duration": 13,
    "start_time": "2023-08-04T13:55:53.322Z"
   },
   {
    "duration": 9,
    "start_time": "2023-08-04T13:56:07.733Z"
   },
   {
    "duration": 383,
    "start_time": "2023-08-04T13:57:07.737Z"
   },
   {
    "duration": 10,
    "start_time": "2023-08-04T13:58:44.042Z"
   },
   {
    "duration": 9,
    "start_time": "2023-08-04T13:59:16.742Z"
   },
   {
    "duration": 1269,
    "start_time": "2023-08-04T14:00:57.607Z"
   },
   {
    "duration": 4,
    "start_time": "2023-08-04T14:00:58.882Z"
   },
   {
    "duration": 98,
    "start_time": "2023-08-04T14:00:58.888Z"
   },
   {
    "duration": 21,
    "start_time": "2023-08-04T14:00:58.988Z"
   },
   {
    "duration": 22,
    "start_time": "2023-08-04T14:00:59.012Z"
   },
   {
    "duration": 35,
    "start_time": "2023-08-04T14:00:59.036Z"
   },
   {
    "duration": 11,
    "start_time": "2023-08-04T14:00:59.074Z"
   },
   {
    "duration": 18,
    "start_time": "2023-08-04T14:00:59.088Z"
   },
   {
    "duration": 23,
    "start_time": "2023-08-04T14:00:59.110Z"
   },
   {
    "duration": 33,
    "start_time": "2023-08-04T14:00:59.135Z"
   },
   {
    "duration": 18,
    "start_time": "2023-08-04T14:00:59.170Z"
   },
   {
    "duration": 24,
    "start_time": "2023-08-04T14:00:59.190Z"
   },
   {
    "duration": 24,
    "start_time": "2023-08-04T14:00:59.216Z"
   },
   {
    "duration": 244,
    "start_time": "2023-08-04T14:00:59.243Z"
   },
   {
    "duration": 182,
    "start_time": "2023-08-04T14:00:59.489Z"
   },
   {
    "duration": 22,
    "start_time": "2023-08-04T14:00:59.674Z"
   },
   {
    "duration": 18,
    "start_time": "2023-08-04T14:00:59.701Z"
   },
   {
    "duration": 328,
    "start_time": "2023-08-04T14:00:59.721Z"
   },
   {
    "duration": 262,
    "start_time": "2023-08-04T14:01:00.051Z"
   },
   {
    "duration": 389,
    "start_time": "2023-08-04T14:01:00.315Z"
   },
   {
    "duration": 10,
    "start_time": "2023-08-04T14:01:00.706Z"
   },
   {
    "duration": 265,
    "start_time": "2023-08-04T14:01:09.425Z"
   },
   {
    "duration": 278,
    "start_time": "2023-08-04T14:02:02.430Z"
   },
   {
    "duration": 360,
    "start_time": "2023-08-04T14:05:26.404Z"
   },
   {
    "duration": 9,
    "start_time": "2023-08-04T14:19:30.338Z"
   },
   {
    "duration": 9,
    "start_time": "2023-08-04T14:21:19.938Z"
   },
   {
    "duration": 122,
    "start_time": "2023-08-04T14:23:14.003Z"
   },
   {
    "duration": 9,
    "start_time": "2023-08-04T14:23:27.738Z"
   },
   {
    "duration": 9,
    "start_time": "2023-08-04T14:24:12.608Z"
   },
   {
    "duration": 129,
    "start_time": "2023-08-04T14:24:21.789Z"
   },
   {
    "duration": 171,
    "start_time": "2023-08-04T14:25:44.318Z"
   },
   {
    "duration": 11,
    "start_time": "2023-08-04T14:40:08.314Z"
   },
   {
    "duration": 9,
    "start_time": "2023-08-04T14:43:56.199Z"
   },
   {
    "duration": 193,
    "start_time": "2023-08-04T14:45:26.572Z"
   },
   {
    "duration": 5,
    "start_time": "2023-08-04T14:48:15.215Z"
   },
   {
    "duration": 12,
    "start_time": "2023-08-04T15:12:36.532Z"
   },
   {
    "duration": 125,
    "start_time": "2023-08-04T15:21:48.464Z"
   },
   {
    "duration": 10,
    "start_time": "2023-08-04T15:24:56.115Z"
   },
   {
    "duration": 128,
    "start_time": "2023-08-04T15:31:10.010Z"
   },
   {
    "duration": 25,
    "start_time": "2023-08-04T15:32:32.114Z"
   },
   {
    "duration": 14,
    "start_time": "2023-08-04T15:33:23.679Z"
   },
   {
    "duration": 19,
    "start_time": "2023-08-04T15:36:07.798Z"
   },
   {
    "duration": 9,
    "start_time": "2023-08-04T15:39:18.333Z"
   },
   {
    "duration": 43,
    "start_time": "2023-08-04T15:39:52.824Z"
   },
   {
    "duration": 126,
    "start_time": "2023-08-04T15:43:02.019Z"
   },
   {
    "duration": 26,
    "start_time": "2023-08-04T15:43:03.730Z"
   },
   {
    "duration": 1257,
    "start_time": "2023-08-04T15:44:56.713Z"
   },
   {
    "duration": 5,
    "start_time": "2023-08-04T15:44:57.972Z"
   },
   {
    "duration": 104,
    "start_time": "2023-08-04T15:44:57.979Z"
   },
   {
    "duration": 15,
    "start_time": "2023-08-04T15:44:58.086Z"
   },
   {
    "duration": 15,
    "start_time": "2023-08-04T15:44:58.103Z"
   },
   {
    "duration": 27,
    "start_time": "2023-08-04T15:44:58.120Z"
   },
   {
    "duration": 16,
    "start_time": "2023-08-04T15:44:58.149Z"
   },
   {
    "duration": 18,
    "start_time": "2023-08-04T15:44:58.172Z"
   },
   {
    "duration": 15,
    "start_time": "2023-08-04T15:44:58.192Z"
   },
   {
    "duration": 12,
    "start_time": "2023-08-04T15:44:58.211Z"
   },
   {
    "duration": 10,
    "start_time": "2023-08-04T15:44:58.225Z"
   },
   {
    "duration": 25,
    "start_time": "2023-08-04T15:44:58.237Z"
   },
   {
    "duration": 37,
    "start_time": "2023-08-04T15:44:58.264Z"
   },
   {
    "duration": 203,
    "start_time": "2023-08-04T15:44:58.303Z"
   },
   {
    "duration": 179,
    "start_time": "2023-08-04T15:44:58.508Z"
   },
   {
    "duration": 14,
    "start_time": "2023-08-04T15:44:58.689Z"
   },
   {
    "duration": 14,
    "start_time": "2023-08-04T15:44:58.705Z"
   },
   {
    "duration": 402,
    "start_time": "2023-08-04T15:44:58.720Z"
   },
   {
    "duration": 269,
    "start_time": "2023-08-04T15:44:59.124Z"
   },
   {
    "duration": 317,
    "start_time": "2023-08-04T15:44:59.395Z"
   },
   {
    "duration": 238,
    "start_time": "2023-08-04T15:44:59.714Z"
   },
   {
    "duration": 353,
    "start_time": "2023-08-04T15:44:59.954Z"
   },
   {
    "duration": 13,
    "start_time": "2023-08-04T15:45:00.309Z"
   },
   {
    "duration": 203,
    "start_time": "2023-08-04T15:45:00.324Z"
   },
   {
    "duration": 5,
    "start_time": "2023-08-04T15:45:00.529Z"
   },
   {
    "duration": 52,
    "start_time": "2023-08-04T15:45:00.535Z"
   },
   {
    "duration": 205,
    "start_time": "2023-08-04T15:45:00.589Z"
   },
   {
    "duration": 5,
    "start_time": "2023-08-04T15:45:00.797Z"
   },
   {
    "duration": 244,
    "start_time": "2023-08-04T15:45:00.803Z"
   },
   {
    "duration": 132,
    "start_time": "2023-08-04T15:45:01.059Z"
   },
   {
    "duration": 26,
    "start_time": "2023-08-04T15:45:01.193Z"
   },
   {
    "duration": 69,
    "start_time": "2023-08-04T15:45:01.222Z"
   },
   {
    "duration": 34,
    "start_time": "2023-08-04T15:45:01.292Z"
   },
   {
    "duration": 95,
    "start_time": "2023-08-04T15:45:01.328Z"
   },
   {
    "duration": 1476,
    "start_time": "2023-08-07T10:38:43.448Z"
   },
   {
    "duration": 3,
    "start_time": "2023-08-07T10:38:44.926Z"
   },
   {
    "duration": 206,
    "start_time": "2023-08-07T10:38:44.931Z"
   },
   {
    "duration": 18,
    "start_time": "2023-08-07T10:38:45.139Z"
   },
   {
    "duration": 28,
    "start_time": "2023-08-07T10:38:45.159Z"
   },
   {
    "duration": 30,
    "start_time": "2023-08-07T10:38:45.188Z"
   },
   {
    "duration": 10,
    "start_time": "2023-08-07T10:38:45.220Z"
   },
   {
    "duration": 23,
    "start_time": "2023-08-07T10:38:45.231Z"
   },
   {
    "duration": 31,
    "start_time": "2023-08-07T10:38:45.256Z"
   },
   {
    "duration": 17,
    "start_time": "2023-08-07T10:38:45.289Z"
   },
   {
    "duration": 20,
    "start_time": "2023-08-07T10:38:45.308Z"
   },
   {
    "duration": 32,
    "start_time": "2023-08-07T10:38:45.331Z"
   },
   {
    "duration": 75,
    "start_time": "2023-08-07T10:38:45.365Z"
   },
   {
    "duration": 200,
    "start_time": "2023-08-07T10:38:45.442Z"
   },
   {
    "duration": 137,
    "start_time": "2023-08-07T10:38:45.644Z"
   },
   {
    "duration": 12,
    "start_time": "2023-08-07T10:38:45.783Z"
   },
   {
    "duration": 18,
    "start_time": "2023-08-07T10:38:45.797Z"
   },
   {
    "duration": 325,
    "start_time": "2023-08-07T10:38:45.817Z"
   },
   {
    "duration": 217,
    "start_time": "2023-08-07T10:38:46.144Z"
   },
   {
    "duration": 353,
    "start_time": "2023-08-07T10:38:46.363Z"
   },
   {
    "duration": 243,
    "start_time": "2023-08-07T10:38:46.718Z"
   },
   {
    "duration": 334,
    "start_time": "2023-08-07T10:38:46.963Z"
   },
   {
    "duration": 10,
    "start_time": "2023-08-07T10:38:47.299Z"
   },
   {
    "duration": 261,
    "start_time": "2023-08-07T10:38:47.312Z"
   },
   {
    "duration": 111,
    "start_time": "2023-08-07T10:38:47.575Z"
   },
   {
    "duration": 100,
    "start_time": "2023-08-07T10:38:47.688Z"
   },
   {
    "duration": 164,
    "start_time": "2023-08-07T10:38:47.790Z"
   },
   {
    "duration": 4,
    "start_time": "2023-08-07T10:38:47.957Z"
   },
   {
    "duration": 198,
    "start_time": "2023-08-07T10:38:47.963Z"
   },
   {
    "duration": 143,
    "start_time": "2023-08-07T10:38:48.164Z"
   },
   {
    "duration": 33,
    "start_time": "2023-08-07T10:38:48.309Z"
   },
   {
    "duration": 55,
    "start_time": "2023-08-07T10:38:48.344Z"
   },
   {
    "duration": 60,
    "start_time": "2023-08-07T10:38:48.402Z"
   },
   {
    "duration": 45,
    "start_time": "2023-08-07T10:38:48.464Z"
   },
   {
    "duration": 11,
    "start_time": "2023-08-07T11:06:22.630Z"
   },
   {
    "duration": 7,
    "start_time": "2023-08-07T11:18:17.272Z"
   },
   {
    "duration": 9,
    "start_time": "2023-08-07T11:18:25.863Z"
   },
   {
    "duration": 15,
    "start_time": "2023-08-07T11:24:30.608Z"
   },
   {
    "duration": 10,
    "start_time": "2023-08-07T11:28:21.963Z"
   },
   {
    "duration": 11,
    "start_time": "2023-08-07T11:29:16.279Z"
   },
   {
    "duration": 36,
    "start_time": "2023-08-07T11:29:47.822Z"
   },
   {
    "duration": 36,
    "start_time": "2023-08-07T11:29:52.387Z"
   },
   {
    "duration": 9,
    "start_time": "2023-08-07T11:34:04.051Z"
   },
   {
    "duration": 13,
    "start_time": "2023-08-07T11:34:46.471Z"
   },
   {
    "duration": 40,
    "start_time": "2023-08-07T11:59:55.474Z"
   },
   {
    "duration": 124,
    "start_time": "2023-08-07T12:02:43.722Z"
   },
   {
    "duration": 42,
    "start_time": "2023-08-07T12:02:53.757Z"
   },
   {
    "duration": 42,
    "start_time": "2023-08-07T12:04:01.464Z"
   },
   {
    "duration": 41,
    "start_time": "2023-08-07T12:04:07.966Z"
   },
   {
    "duration": 17,
    "start_time": "2023-08-07T12:05:36.952Z"
   },
   {
    "duration": 15,
    "start_time": "2023-08-07T12:08:20.176Z"
   },
   {
    "duration": 40,
    "start_time": "2023-08-07T12:09:02.761Z"
   },
   {
    "duration": 140,
    "start_time": "2023-08-07T12:11:07.581Z"
   },
   {
    "duration": 41,
    "start_time": "2023-08-07T12:11:36.226Z"
   },
   {
    "duration": 27,
    "start_time": "2023-08-07T12:20:11.493Z"
   },
   {
    "duration": 10,
    "start_time": "2023-08-07T12:32:48.232Z"
   },
   {
    "duration": 1403,
    "start_time": "2023-08-07T12:49:13.488Z"
   },
   {
    "duration": 3,
    "start_time": "2023-08-07T12:49:14.893Z"
   },
   {
    "duration": 88,
    "start_time": "2023-08-07T12:49:14.898Z"
   },
   {
    "duration": 16,
    "start_time": "2023-08-07T12:49:14.988Z"
   },
   {
    "duration": 29,
    "start_time": "2023-08-07T12:49:15.006Z"
   },
   {
    "duration": 46,
    "start_time": "2023-08-07T12:49:15.037Z"
   },
   {
    "duration": 18,
    "start_time": "2023-08-07T12:49:15.085Z"
   },
   {
    "duration": 19,
    "start_time": "2023-08-07T12:49:15.105Z"
   },
   {
    "duration": 15,
    "start_time": "2023-08-07T12:49:15.126Z"
   },
   {
    "duration": 14,
    "start_time": "2023-08-07T12:49:15.143Z"
   },
   {
    "duration": 19,
    "start_time": "2023-08-07T12:49:15.159Z"
   },
   {
    "duration": 9,
    "start_time": "2023-08-07T12:49:15.181Z"
   },
   {
    "duration": 21,
    "start_time": "2023-08-07T12:49:15.192Z"
   },
   {
    "duration": 219,
    "start_time": "2023-08-07T12:49:15.217Z"
   },
   {
    "duration": 141,
    "start_time": "2023-08-07T12:49:15.438Z"
   },
   {
    "duration": 13,
    "start_time": "2023-08-07T12:49:15.580Z"
   },
   {
    "duration": 15,
    "start_time": "2023-08-07T12:49:15.595Z"
   },
   {
    "duration": 303,
    "start_time": "2023-08-07T12:49:15.612Z"
   },
   {
    "duration": 215,
    "start_time": "2023-08-07T12:49:15.918Z"
   },
   {
    "duration": 358,
    "start_time": "2023-08-07T12:49:16.135Z"
   },
   {
    "duration": 259,
    "start_time": "2023-08-07T12:49:16.495Z"
   },
   {
    "duration": 318,
    "start_time": "2023-08-07T12:49:16.758Z"
   },
   {
    "duration": 10,
    "start_time": "2023-08-07T12:49:17.078Z"
   },
   {
    "duration": 153,
    "start_time": "2023-08-07T12:49:17.090Z"
   },
   {
    "duration": 5,
    "start_time": "2023-08-07T12:49:17.244Z"
   },
   {
    "duration": 183,
    "start_time": "2023-08-07T12:49:17.258Z"
   },
   {
    "duration": 4,
    "start_time": "2023-08-07T12:49:17.442Z"
   },
   {
    "duration": 188,
    "start_time": "2023-08-07T12:49:17.448Z"
   },
   {
    "duration": 122,
    "start_time": "2023-08-07T12:49:17.638Z"
   },
   {
    "duration": 27,
    "start_time": "2023-08-07T12:49:17.762Z"
   },
   {
    "duration": 29,
    "start_time": "2023-08-07T12:49:17.790Z"
   },
   {
    "duration": 12,
    "start_time": "2023-08-07T12:49:17.821Z"
   },
   {
    "duration": 50,
    "start_time": "2023-08-07T12:49:17.835Z"
   },
   {
    "duration": 16,
    "start_time": "2023-08-07T12:49:17.887Z"
   },
   {
    "duration": 11,
    "start_time": "2023-08-07T12:49:17.905Z"
   },
   {
    "duration": 14,
    "start_time": "2023-08-07T12:49:17.917Z"
   },
   {
    "duration": 84,
    "start_time": "2023-08-07T12:49:17.933Z"
   },
   {
    "duration": 26,
    "start_time": "2023-08-07T12:49:18.020Z"
   },
   {
    "duration": 1387,
    "start_time": "2023-08-07T13:05:09.311Z"
   },
   {
    "duration": 3,
    "start_time": "2023-08-07T13:05:10.700Z"
   },
   {
    "duration": 226,
    "start_time": "2023-08-07T13:05:10.705Z"
   },
   {
    "duration": 18,
    "start_time": "2023-08-07T13:05:10.934Z"
   },
   {
    "duration": 17,
    "start_time": "2023-08-07T13:05:10.954Z"
   },
   {
    "duration": 15,
    "start_time": "2023-08-07T13:05:10.973Z"
   },
   {
    "duration": 13,
    "start_time": "2023-08-07T13:05:10.991Z"
   },
   {
    "duration": 10,
    "start_time": "2023-08-07T13:05:11.006Z"
   },
   {
    "duration": 42,
    "start_time": "2023-08-07T13:05:11.018Z"
   },
   {
    "duration": 14,
    "start_time": "2023-08-07T13:05:11.062Z"
   },
   {
    "duration": 20,
    "start_time": "2023-08-07T13:05:11.078Z"
   },
   {
    "duration": 26,
    "start_time": "2023-08-07T13:05:11.100Z"
   },
   {
    "duration": 23,
    "start_time": "2023-08-07T13:05:11.129Z"
   },
   {
    "duration": 171,
    "start_time": "2023-08-07T13:05:11.156Z"
   },
   {
    "duration": 164,
    "start_time": "2023-08-07T13:05:11.329Z"
   },
   {
    "duration": 14,
    "start_time": "2023-08-07T13:05:11.494Z"
   },
   {
    "duration": 19,
    "start_time": "2023-08-07T13:05:11.511Z"
   },
   {
    "duration": 312,
    "start_time": "2023-08-07T13:05:11.532Z"
   },
   {
    "duration": 230,
    "start_time": "2023-08-07T13:05:11.847Z"
   },
   {
    "duration": 368,
    "start_time": "2023-08-07T13:05:12.080Z"
   },
   {
    "duration": 243,
    "start_time": "2023-08-07T13:05:12.450Z"
   },
   {
    "duration": 303,
    "start_time": "2023-08-07T13:05:12.695Z"
   },
   {
    "duration": 11,
    "start_time": "2023-08-07T13:05:13.000Z"
   },
   {
    "duration": 165,
    "start_time": "2023-08-07T13:05:13.012Z"
   },
   {
    "duration": 5,
    "start_time": "2023-08-07T13:05:13.179Z"
   },
   {
    "duration": 179,
    "start_time": "2023-08-07T13:05:13.185Z"
   },
   {
    "duration": 5,
    "start_time": "2023-08-07T13:05:13.366Z"
   },
   {
    "duration": 203,
    "start_time": "2023-08-07T13:05:13.372Z"
   },
   {
    "duration": 117,
    "start_time": "2023-08-07T13:05:13.577Z"
   },
   {
    "duration": 25,
    "start_time": "2023-08-07T13:05:13.697Z"
   },
   {
    "duration": 13,
    "start_time": "2023-08-07T13:05:13.724Z"
   },
   {
    "duration": 9,
    "start_time": "2023-08-07T13:05:13.758Z"
   },
   {
    "duration": 44,
    "start_time": "2023-08-07T13:05:13.768Z"
   },
   {
    "duration": 14,
    "start_time": "2023-08-07T13:05:13.814Z"
   },
   {
    "duration": 34,
    "start_time": "2023-08-07T13:05:13.830Z"
   },
   {
    "duration": 14,
    "start_time": "2023-08-07T13:05:13.866Z"
   },
   {
    "duration": 47,
    "start_time": "2023-08-07T13:05:13.881Z"
   },
   {
    "duration": 38,
    "start_time": "2023-08-07T13:05:13.929Z"
   },
   {
    "duration": 1484,
    "start_time": "2023-08-08T08:13:01.390Z"
   },
   {
    "duration": 5,
    "start_time": "2023-08-08T08:13:02.883Z"
   },
   {
    "duration": 309,
    "start_time": "2023-08-08T08:13:02.890Z"
   },
   {
    "duration": 15,
    "start_time": "2023-08-08T08:13:03.201Z"
   },
   {
    "duration": 32,
    "start_time": "2023-08-08T08:13:03.218Z"
   },
   {
    "duration": 59,
    "start_time": "2023-08-08T08:13:03.252Z"
   },
   {
    "duration": 44,
    "start_time": "2023-08-08T08:13:03.313Z"
   },
   {
    "duration": 52,
    "start_time": "2023-08-08T08:13:03.359Z"
   },
   {
    "duration": 70,
    "start_time": "2023-08-08T08:13:03.413Z"
   },
   {
    "duration": 8,
    "start_time": "2023-08-08T08:13:03.486Z"
   },
   {
    "duration": 5,
    "start_time": "2023-08-08T08:20:03.314Z"
   },
   {
    "duration": 127,
    "start_time": "2023-08-08T08:22:27.166Z"
   },
   {
    "duration": 81,
    "start_time": "2023-08-08T08:22:50.565Z"
   },
   {
    "duration": 13,
    "start_time": "2023-08-08T08:23:06.724Z"
   },
   {
    "duration": 38,
    "start_time": "2023-08-08T08:24:36.026Z"
   },
   {
    "duration": 62,
    "start_time": "2023-08-08T08:25:59.310Z"
   },
   {
    "duration": 43,
    "start_time": "2023-08-08T08:26:11.345Z"
   },
   {
    "duration": 81,
    "start_time": "2023-08-08T08:35:36.760Z"
   },
   {
    "duration": 67,
    "start_time": "2023-08-08T08:35:58.387Z"
   },
   {
    "duration": 18,
    "start_time": "2023-08-08T08:36:35.839Z"
   },
   {
    "duration": 10,
    "start_time": "2023-08-08T08:37:10.159Z"
   },
   {
    "duration": 9,
    "start_time": "2023-08-08T08:38:08.660Z"
   },
   {
    "duration": 10,
    "start_time": "2023-08-08T08:39:15.580Z"
   },
   {
    "duration": 24,
    "start_time": "2023-08-08T08:40:30.460Z"
   },
   {
    "duration": 16,
    "start_time": "2023-08-08T08:40:43.500Z"
   },
   {
    "duration": 22,
    "start_time": "2023-08-08T08:42:36.159Z"
   },
   {
    "duration": 185,
    "start_time": "2023-08-08T08:56:44.991Z"
   },
   {
    "duration": 212,
    "start_time": "2023-08-08T08:57:13.885Z"
   },
   {
    "duration": 214,
    "start_time": "2023-08-08T08:57:19.719Z"
   },
   {
    "duration": 180,
    "start_time": "2023-08-08T08:57:28.486Z"
   },
   {
    "duration": 283,
    "start_time": "2023-08-08T08:58:09.904Z"
   },
   {
    "duration": 215,
    "start_time": "2023-08-08T08:58:34.223Z"
   },
   {
    "duration": 161,
    "start_time": "2023-08-08T08:58:47.205Z"
   },
   {
    "duration": 165,
    "start_time": "2023-08-08T08:58:57.189Z"
   },
   {
    "duration": 267,
    "start_time": "2023-08-08T08:59:12.820Z"
   },
   {
    "duration": 164,
    "start_time": "2023-08-08T08:59:22.394Z"
   },
   {
    "duration": 157,
    "start_time": "2023-08-08T08:59:48.514Z"
   },
   {
    "duration": 153,
    "start_time": "2023-08-08T09:00:03.440Z"
   },
   {
    "duration": 172,
    "start_time": "2023-08-08T09:00:20.139Z"
   },
   {
    "duration": 185,
    "start_time": "2023-08-08T09:00:42.758Z"
   },
   {
    "duration": 160,
    "start_time": "2023-08-08T09:00:51.044Z"
   },
   {
    "duration": 151,
    "start_time": "2023-08-08T09:01:01.609Z"
   },
   {
    "duration": 150,
    "start_time": "2023-08-08T09:01:13.288Z"
   },
   {
    "duration": 166,
    "start_time": "2023-08-08T09:01:26.313Z"
   },
   {
    "duration": 187,
    "start_time": "2023-08-08T09:01:35.844Z"
   },
   {
    "duration": 232,
    "start_time": "2023-08-08T09:01:52.203Z"
   },
   {
    "duration": 169,
    "start_time": "2023-08-08T09:02:01.390Z"
   },
   {
    "duration": 203,
    "start_time": "2023-08-08T09:02:05.534Z"
   },
   {
    "duration": 20,
    "start_time": "2023-08-08T09:03:08.649Z"
   },
   {
    "duration": 12,
    "start_time": "2023-08-08T09:13:12.739Z"
   },
   {
    "duration": 112,
    "start_time": "2023-08-08T09:15:03.558Z"
   },
   {
    "duration": 67,
    "start_time": "2023-08-08T09:15:22.010Z"
   },
   {
    "duration": 22,
    "start_time": "2023-08-08T09:15:28.169Z"
   },
   {
    "duration": 13,
    "start_time": "2023-08-08T09:15:39.544Z"
   },
   {
    "duration": 78,
    "start_time": "2023-08-08T09:16:49.498Z"
   },
   {
    "duration": 21,
    "start_time": "2023-08-08T09:16:56.920Z"
   },
   {
    "duration": 1604,
    "start_time": "2023-08-08T09:17:27.538Z"
   },
   {
    "duration": 1416,
    "start_time": "2023-08-08T09:17:47.309Z"
   },
   {
    "duration": 39,
    "start_time": "2023-08-08T09:18:11.119Z"
   },
   {
    "duration": 26,
    "start_time": "2023-08-08T09:18:27.985Z"
   },
   {
    "duration": 23,
    "start_time": "2023-08-08T09:19:00.113Z"
   },
   {
    "duration": 16,
    "start_time": "2023-08-08T09:19:33.033Z"
   },
   {
    "duration": 18,
    "start_time": "2023-08-08T09:20:38.629Z"
   },
   {
    "duration": 13,
    "start_time": "2023-08-08T09:22:27.048Z"
   },
   {
    "duration": 29,
    "start_time": "2023-08-08T09:22:48.968Z"
   },
   {
    "duration": 18,
    "start_time": "2023-08-08T09:23:40.024Z"
   },
   {
    "duration": 18,
    "start_time": "2023-08-08T09:24:04.335Z"
   },
   {
    "duration": 37,
    "start_time": "2023-08-08T09:24:10.864Z"
   },
   {
    "duration": 22,
    "start_time": "2023-08-08T09:24:34.231Z"
   },
   {
    "duration": 24,
    "start_time": "2023-08-08T09:24:46.095Z"
   },
   {
    "duration": 18,
    "start_time": "2023-08-08T09:26:16.603Z"
   },
   {
    "duration": 21,
    "start_time": "2023-08-08T09:26:23.493Z"
   },
   {
    "duration": 75,
    "start_time": "2023-08-08T09:26:46.304Z"
   },
   {
    "duration": 15,
    "start_time": "2023-08-08T09:27:12.719Z"
   },
   {
    "duration": 14,
    "start_time": "2023-08-08T09:27:50.449Z"
   },
   {
    "duration": 36,
    "start_time": "2023-08-08T09:28:15.758Z"
   },
   {
    "duration": 18,
    "start_time": "2023-08-08T09:30:23.358Z"
   },
   {
    "duration": 16,
    "start_time": "2023-08-08T09:30:35.553Z"
   },
   {
    "duration": 13,
    "start_time": "2023-08-08T09:54:18.321Z"
   },
   {
    "duration": 16,
    "start_time": "2023-08-08T09:55:57.741Z"
   },
   {
    "duration": 26,
    "start_time": "2023-08-08T09:56:27.560Z"
   },
   {
    "duration": 17,
    "start_time": "2023-08-08T09:56:48.989Z"
   },
   {
    "duration": 25,
    "start_time": "2023-08-08T09:58:59.941Z"
   },
   {
    "duration": 5,
    "start_time": "2023-08-08T10:03:33.792Z"
   },
   {
    "duration": 16,
    "start_time": "2023-08-08T10:03:42.146Z"
   },
   {
    "duration": 5,
    "start_time": "2023-08-08T10:07:48.236Z"
   },
   {
    "duration": 3,
    "start_time": "2023-08-08T10:09:02.357Z"
   },
   {
    "duration": 18,
    "start_time": "2023-08-08T10:09:09.407Z"
   },
   {
    "duration": 7,
    "start_time": "2023-08-08T10:10:08.112Z"
   },
   {
    "duration": 9,
    "start_time": "2023-08-08T10:10:51.707Z"
   },
   {
    "duration": 17,
    "start_time": "2023-08-08T10:11:27.722Z"
   },
   {
    "duration": 7,
    "start_time": "2023-08-08T10:11:37.999Z"
   },
   {
    "duration": 17,
    "start_time": "2023-08-08T10:11:44.922Z"
   },
   {
    "duration": 17,
    "start_time": "2023-08-08T10:14:36.842Z"
   },
   {
    "duration": 21,
    "start_time": "2023-08-08T10:15:15.007Z"
   },
   {
    "duration": 16,
    "start_time": "2023-08-08T10:19:28.794Z"
   },
   {
    "duration": 68,
    "start_time": "2023-08-08T10:21:59.469Z"
   },
   {
    "duration": 5,
    "start_time": "2023-08-08T10:22:05.926Z"
   },
   {
    "duration": 6,
    "start_time": "2023-08-08T10:22:19.706Z"
   },
   {
    "duration": 11,
    "start_time": "2023-08-08T10:22:30.146Z"
   },
   {
    "duration": 19,
    "start_time": "2023-08-08T10:22:43.929Z"
   },
   {
    "duration": 1287,
    "start_time": "2023-08-08T10:24:46.861Z"
   },
   {
    "duration": 3,
    "start_time": "2023-08-08T10:24:48.151Z"
   },
   {
    "duration": 150,
    "start_time": "2023-08-08T10:24:48.156Z"
   },
   {
    "duration": 18,
    "start_time": "2023-08-08T10:24:48.308Z"
   },
   {
    "duration": 13,
    "start_time": "2023-08-08T10:24:48.328Z"
   },
   {
    "duration": 15,
    "start_time": "2023-08-08T10:24:48.342Z"
   },
   {
    "duration": 8,
    "start_time": "2023-08-08T10:24:48.359Z"
   },
   {
    "duration": 22,
    "start_time": "2023-08-08T10:24:48.369Z"
   },
   {
    "duration": 15,
    "start_time": "2023-08-08T10:24:48.393Z"
   },
   {
    "duration": 12,
    "start_time": "2023-08-08T10:24:48.410Z"
   },
   {
    "duration": 12,
    "start_time": "2023-08-08T10:24:48.424Z"
   },
   {
    "duration": 47,
    "start_time": "2023-08-08T10:24:48.438Z"
   },
   {
    "duration": 199,
    "start_time": "2023-08-08T10:24:48.488Z"
   },
   {
    "duration": 16,
    "start_time": "2023-08-08T10:24:48.689Z"
   },
   {
    "duration": 67,
    "start_time": "2023-08-08T10:24:54.221Z"
   },
   {
    "duration": 72,
    "start_time": "2023-08-08T10:25:06.287Z"
   },
   {
    "duration": 91,
    "start_time": "2023-08-08T10:25:30.095Z"
   },
   {
    "duration": 87,
    "start_time": "2023-08-08T10:26:04.315Z"
   },
   {
    "duration": 126,
    "start_time": "2023-08-08T10:26:28.149Z"
   },
   {
    "duration": 11,
    "start_time": "2023-08-08T10:26:58.207Z"
   },
   {
    "duration": 17,
    "start_time": "2023-08-08T10:27:43.247Z"
   },
   {
    "duration": 14,
    "start_time": "2023-08-08T10:29:37.298Z"
   },
   {
    "duration": 1342,
    "start_time": "2023-08-08T10:30:34.558Z"
   },
   {
    "duration": 4,
    "start_time": "2023-08-08T10:30:35.903Z"
   },
   {
    "duration": 111,
    "start_time": "2023-08-08T10:30:35.909Z"
   },
   {
    "duration": 22,
    "start_time": "2023-08-08T10:30:36.023Z"
   },
   {
    "duration": 14,
    "start_time": "2023-08-08T10:30:36.047Z"
   },
   {
    "duration": 27,
    "start_time": "2023-08-08T10:30:36.062Z"
   },
   {
    "duration": 12,
    "start_time": "2023-08-08T10:30:36.091Z"
   },
   {
    "duration": 23,
    "start_time": "2023-08-08T10:30:36.105Z"
   },
   {
    "duration": 24,
    "start_time": "2023-08-08T10:30:36.131Z"
   },
   {
    "duration": 22,
    "start_time": "2023-08-08T10:30:36.158Z"
   },
   {
    "duration": 15,
    "start_time": "2023-08-08T10:30:36.183Z"
   },
   {
    "duration": 18,
    "start_time": "2023-08-08T10:30:36.200Z"
   },
   {
    "duration": 204,
    "start_time": "2023-08-08T10:30:36.221Z"
   },
   {
    "duration": 18,
    "start_time": "2023-08-08T10:30:36.426Z"
   },
   {
    "duration": 7,
    "start_time": "2023-08-08T10:30:39.651Z"
   },
   {
    "duration": 1304,
    "start_time": "2023-08-08T10:32:48.123Z"
   },
   {
    "duration": 4,
    "start_time": "2023-08-08T10:32:49.430Z"
   },
   {
    "duration": 106,
    "start_time": "2023-08-08T10:32:49.436Z"
   },
   {
    "duration": 16,
    "start_time": "2023-08-08T10:32:49.545Z"
   },
   {
    "duration": 20,
    "start_time": "2023-08-08T10:32:49.564Z"
   },
   {
    "duration": 17,
    "start_time": "2023-08-08T10:32:49.588Z"
   },
   {
    "duration": 17,
    "start_time": "2023-08-08T10:32:49.607Z"
   },
   {
    "duration": 21,
    "start_time": "2023-08-08T10:32:49.626Z"
   },
   {
    "duration": 31,
    "start_time": "2023-08-08T10:32:49.649Z"
   },
   {
    "duration": 63,
    "start_time": "2023-08-08T10:32:49.684Z"
   },
   {
    "duration": 31,
    "start_time": "2023-08-08T10:32:49.750Z"
   },
   {
    "duration": 33,
    "start_time": "2023-08-08T10:32:49.783Z"
   },
   {
    "duration": 171,
    "start_time": "2023-08-08T10:32:49.817Z"
   },
   {
    "duration": 16,
    "start_time": "2023-08-08T10:32:49.990Z"
   },
   {
    "duration": 21,
    "start_time": "2023-08-08T10:32:50.008Z"
   },
   {
    "duration": 25,
    "start_time": "2023-08-08T10:32:50.031Z"
   },
   {
    "duration": 36,
    "start_time": "2023-08-08T10:32:50.058Z"
   },
   {
    "duration": 26,
    "start_time": "2023-08-08T10:32:50.096Z"
   },
   {
    "duration": 228,
    "start_time": "2023-08-08T10:32:50.124Z"
   },
   {
    "duration": 159,
    "start_time": "2023-08-08T10:32:50.354Z"
   },
   {
    "duration": 13,
    "start_time": "2023-08-08T10:32:50.514Z"
   },
   {
    "duration": 29,
    "start_time": "2023-08-08T10:32:50.529Z"
   },
   {
    "duration": 338,
    "start_time": "2023-08-08T10:32:53.409Z"
   },
   {
    "duration": 259,
    "start_time": "2023-08-08T10:32:59.159Z"
   },
   {
    "duration": 5,
    "start_time": "2023-08-08T10:33:48.120Z"
   },
   {
    "duration": 6,
    "start_time": "2023-08-08T10:33:48.133Z"
   },
   {
    "duration": 101,
    "start_time": "2023-08-08T10:33:48.142Z"
   },
   {
    "duration": 16,
    "start_time": "2023-08-08T10:33:48.246Z"
   },
   {
    "duration": 38,
    "start_time": "2023-08-08T10:33:48.264Z"
   },
   {
    "duration": 16,
    "start_time": "2023-08-08T10:33:48.305Z"
   },
   {
    "duration": 12,
    "start_time": "2023-08-08T10:33:48.323Z"
   },
   {
    "duration": 16,
    "start_time": "2023-08-08T10:33:48.337Z"
   },
   {
    "duration": 45,
    "start_time": "2023-08-08T10:33:48.355Z"
   },
   {
    "duration": 49,
    "start_time": "2023-08-08T10:33:48.403Z"
   },
   {
    "duration": 43,
    "start_time": "2023-08-08T10:33:48.454Z"
   },
   {
    "duration": 31,
    "start_time": "2023-08-08T10:33:48.498Z"
   },
   {
    "duration": 225,
    "start_time": "2023-08-08T10:33:48.531Z"
   },
   {
    "duration": 28,
    "start_time": "2023-08-08T10:33:48.758Z"
   },
   {
    "duration": 10,
    "start_time": "2023-08-08T10:33:48.800Z"
   },
   {
    "duration": 31,
    "start_time": "2023-08-08T10:33:48.812Z"
   },
   {
    "duration": 35,
    "start_time": "2023-08-08T10:33:48.845Z"
   },
   {
    "duration": 16,
    "start_time": "2023-08-08T10:33:48.886Z"
   },
   {
    "duration": 225,
    "start_time": "2023-08-08T10:33:48.903Z"
   },
   {
    "duration": 171,
    "start_time": "2023-08-08T10:33:49.130Z"
   },
   {
    "duration": 14,
    "start_time": "2023-08-08T10:33:49.303Z"
   },
   {
    "duration": 20,
    "start_time": "2023-08-08T10:33:49.319Z"
   },
   {
    "duration": 278,
    "start_time": "2023-08-08T10:33:49.341Z"
   },
   {
    "duration": 267,
    "start_time": "2023-08-08T10:33:49.622Z"
   },
   {
    "duration": 354,
    "start_time": "2023-08-08T10:33:49.892Z"
   },
   {
    "duration": 417,
    "start_time": "2023-08-08T10:33:50.247Z"
   },
   {
    "duration": 356,
    "start_time": "2023-08-08T10:33:50.667Z"
   },
   {
    "duration": 10,
    "start_time": "2023-08-08T10:33:51.025Z"
   },
   {
    "duration": 200,
    "start_time": "2023-08-08T10:34:00.598Z"
   },
   {
    "duration": 1316,
    "start_time": "2023-08-08T10:37:48.275Z"
   },
   {
    "duration": 3,
    "start_time": "2023-08-08T10:37:49.593Z"
   },
   {
    "duration": 133,
    "start_time": "2023-08-08T10:37:49.597Z"
   },
   {
    "duration": 15,
    "start_time": "2023-08-08T10:37:49.732Z"
   },
   {
    "duration": 18,
    "start_time": "2023-08-08T10:37:49.749Z"
   },
   {
    "duration": 26,
    "start_time": "2023-08-08T10:37:49.776Z"
   },
   {
    "duration": 14,
    "start_time": "2023-08-08T10:37:49.804Z"
   },
   {
    "duration": 16,
    "start_time": "2023-08-08T10:37:49.820Z"
   },
   {
    "duration": 24,
    "start_time": "2023-08-08T10:37:49.838Z"
   },
   {
    "duration": 29,
    "start_time": "2023-08-08T10:37:49.864Z"
   },
   {
    "duration": 16,
    "start_time": "2023-08-08T10:37:49.895Z"
   },
   {
    "duration": 38,
    "start_time": "2023-08-08T10:37:49.913Z"
   },
   {
    "duration": 193,
    "start_time": "2023-08-08T10:37:49.953Z"
   },
   {
    "duration": 33,
    "start_time": "2023-08-08T10:37:50.148Z"
   },
   {
    "duration": 6,
    "start_time": "2023-08-08T10:37:50.184Z"
   },
   {
    "duration": 21,
    "start_time": "2023-08-08T10:37:50.192Z"
   },
   {
    "duration": 63,
    "start_time": "2023-08-08T10:37:50.214Z"
   },
   {
    "duration": 16,
    "start_time": "2023-08-08T10:37:50.280Z"
   },
   {
    "duration": 221,
    "start_time": "2023-08-08T10:37:50.298Z"
   },
   {
    "duration": 170,
    "start_time": "2023-08-08T10:37:50.521Z"
   },
   {
    "duration": 15,
    "start_time": "2023-08-08T10:37:50.693Z"
   },
   {
    "duration": 36,
    "start_time": "2023-08-08T10:37:50.710Z"
   },
   {
    "duration": 341,
    "start_time": "2023-08-08T10:37:50.748Z"
   },
   {
    "duration": 243,
    "start_time": "2023-08-08T10:37:51.092Z"
   },
   {
    "duration": 363,
    "start_time": "2023-08-08T10:37:51.338Z"
   },
   {
    "duration": 255,
    "start_time": "2023-08-08T10:37:51.703Z"
   },
   {
    "duration": 485,
    "start_time": "2023-08-08T10:38:00.257Z"
   },
   {
    "duration": 332,
    "start_time": "2023-08-08T10:38:47.596Z"
   },
   {
    "duration": 11,
    "start_time": "2023-08-08T10:39:01.351Z"
   },
   {
    "duration": 284,
    "start_time": "2023-08-08T10:39:08.511Z"
   },
   {
    "duration": 8,
    "start_time": "2023-08-08T10:39:43.679Z"
   },
   {
    "duration": 177,
    "start_time": "2023-08-08T10:40:14.888Z"
   },
   {
    "duration": 6,
    "start_time": "2023-08-08T10:40:26.132Z"
   },
   {
    "duration": 18,
    "start_time": "2023-08-08T10:57:54.466Z"
   },
   {
    "duration": 5,
    "start_time": "2023-08-08T10:58:04.598Z"
   },
   {
    "duration": 3,
    "start_time": "2023-08-08T10:58:04.609Z"
   },
   {
    "duration": 101,
    "start_time": "2023-08-08T10:58:04.615Z"
   },
   {
    "duration": 15,
    "start_time": "2023-08-08T10:58:04.718Z"
   },
   {
    "duration": 34,
    "start_time": "2023-08-08T10:58:04.735Z"
   },
   {
    "duration": 122,
    "start_time": "2023-08-08T10:58:04.771Z"
   },
   {
    "duration": 200,
    "start_time": "2023-08-08T10:58:04.895Z"
   },
   {
    "duration": 9,
    "start_time": "2023-08-08T10:58:05.188Z"
   },
   {
    "duration": 24,
    "start_time": "2023-08-08T10:58:05.199Z"
   },
   {
    "duration": 12,
    "start_time": "2023-08-08T10:58:05.225Z"
   },
   {
    "duration": 17,
    "start_time": "2023-08-08T10:58:05.239Z"
   },
   {
    "duration": 39,
    "start_time": "2023-08-08T10:58:05.268Z"
   },
   {
    "duration": 167,
    "start_time": "2023-08-08T10:58:05.310Z"
   },
   {
    "duration": 23,
    "start_time": "2023-08-08T10:58:05.480Z"
   },
   {
    "duration": 8,
    "start_time": "2023-08-08T10:58:05.506Z"
   },
   {
    "duration": 47,
    "start_time": "2023-08-08T10:58:05.516Z"
   },
   {
    "duration": 43,
    "start_time": "2023-08-08T10:58:05.566Z"
   },
   {
    "duration": 36,
    "start_time": "2023-08-08T10:58:05.611Z"
   },
   {
    "duration": 230,
    "start_time": "2023-08-08T10:58:05.650Z"
   },
   {
    "duration": 147,
    "start_time": "2023-08-08T10:58:05.883Z"
   },
   {
    "duration": 15,
    "start_time": "2023-08-08T10:58:06.034Z"
   },
   {
    "duration": 36,
    "start_time": "2023-08-08T10:58:06.050Z"
   },
   {
    "duration": 211,
    "start_time": "2023-08-08T10:58:06.088Z"
   },
   {
    "duration": 229,
    "start_time": "2023-08-08T10:58:06.301Z"
   },
   {
    "duration": 402,
    "start_time": "2023-08-08T10:58:06.532Z"
   },
   {
    "duration": 237,
    "start_time": "2023-08-08T10:58:06.936Z"
   },
   {
    "duration": 394,
    "start_time": "2023-08-08T10:58:07.175Z"
   },
   {
    "duration": 12,
    "start_time": "2023-08-08T10:58:07.571Z"
   },
   {
    "duration": 225,
    "start_time": "2023-08-08T10:58:07.585Z"
   },
   {
    "duration": 5,
    "start_time": "2023-08-08T10:58:07.813Z"
   },
   {
    "duration": 183,
    "start_time": "2023-08-08T10:58:07.820Z"
   },
   {
    "duration": 5,
    "start_time": "2023-08-08T10:58:08.005Z"
   },
   {
    "duration": 115,
    "start_time": "2023-08-08T10:58:08.012Z"
   },
   {
    "duration": 128,
    "start_time": "2023-08-08T10:58:08.129Z"
   },
   {
    "duration": 40,
    "start_time": "2023-08-08T10:58:08.267Z"
   },
   {
    "duration": 17,
    "start_time": "2023-08-08T10:58:08.309Z"
   },
   {
    "duration": 9,
    "start_time": "2023-08-08T10:58:08.328Z"
   },
   {
    "duration": 60,
    "start_time": "2023-08-08T10:58:08.368Z"
   },
   {
    "duration": 19,
    "start_time": "2023-08-08T10:58:08.430Z"
   },
   {
    "duration": 20,
    "start_time": "2023-08-08T10:58:11.855Z"
   },
   {
    "duration": 6,
    "start_time": "2023-08-08T10:59:23.092Z"
   },
   {
    "duration": 12,
    "start_time": "2023-08-08T10:59:33.074Z"
   },
   {
    "duration": 6,
    "start_time": "2023-08-08T10:59:38.780Z"
   },
   {
    "duration": 17,
    "start_time": "2023-08-08T10:59:59.280Z"
   },
   {
    "duration": 1277,
    "start_time": "2023-08-08T11:01:22.869Z"
   },
   {
    "duration": 5,
    "start_time": "2023-08-08T11:01:24.152Z"
   },
   {
    "duration": 106,
    "start_time": "2023-08-08T11:01:24.159Z"
   },
   {
    "duration": 17,
    "start_time": "2023-08-08T11:01:24.267Z"
   },
   {
    "duration": 17,
    "start_time": "2023-08-08T11:01:24.287Z"
   },
   {
    "duration": 49,
    "start_time": "2023-08-08T11:01:24.305Z"
   },
   {
    "duration": 7,
    "start_time": "2023-08-08T11:01:24.356Z"
   },
   {
    "duration": 19,
    "start_time": "2023-08-08T11:01:24.365Z"
   },
   {
    "duration": 55,
    "start_time": "2023-08-08T11:01:24.386Z"
   },
   {
    "duration": 10,
    "start_time": "2023-08-08T11:01:24.444Z"
   },
   {
    "duration": 12,
    "start_time": "2023-08-08T11:01:24.456Z"
   },
   {
    "duration": 17,
    "start_time": "2023-08-08T11:01:24.470Z"
   },
   {
    "duration": 233,
    "start_time": "2023-08-08T11:01:24.489Z"
   },
   {
    "duration": 17,
    "start_time": "2023-08-08T11:01:24.724Z"
   },
   {
    "duration": 24,
    "start_time": "2023-08-08T11:01:24.743Z"
   },
   {
    "duration": 9,
    "start_time": "2023-08-08T11:01:24.769Z"
   },
   {
    "duration": 23,
    "start_time": "2023-08-08T11:01:24.780Z"
   },
   {
    "duration": 38,
    "start_time": "2023-08-08T11:01:24.806Z"
   },
   {
    "duration": 199,
    "start_time": "2023-08-08T11:01:24.847Z"
   },
   {
    "duration": 154,
    "start_time": "2023-08-08T11:01:25.048Z"
   },
   {
    "duration": 12,
    "start_time": "2023-08-08T11:01:25.204Z"
   },
   {
    "duration": 35,
    "start_time": "2023-08-08T11:01:25.218Z"
   },
   {
    "duration": 296,
    "start_time": "2023-08-08T11:01:25.254Z"
   },
   {
    "duration": 237,
    "start_time": "2023-08-08T11:01:25.551Z"
   },
   {
    "duration": 338,
    "start_time": "2023-08-08T11:01:25.790Z"
   },
   {
    "duration": 233,
    "start_time": "2023-08-08T11:01:26.130Z"
   },
   {
    "duration": 337,
    "start_time": "2023-08-08T11:01:26.367Z"
   },
   {
    "duration": 15,
    "start_time": "2023-08-08T11:01:26.709Z"
   },
   {
    "duration": 218,
    "start_time": "2023-08-08T11:01:26.726Z"
   },
   {
    "duration": 6,
    "start_time": "2023-08-08T11:01:26.945Z"
   },
   {
    "duration": 300,
    "start_time": "2023-08-08T11:01:26.952Z"
   },
   {
    "duration": 13,
    "start_time": "2023-08-08T11:01:27.254Z"
   },
   {
    "duration": 128,
    "start_time": "2023-08-08T11:01:27.269Z"
   },
   {
    "duration": 132,
    "start_time": "2023-08-08T11:01:27.400Z"
   },
   {
    "duration": 45,
    "start_time": "2023-08-08T11:01:27.534Z"
   },
   {
    "duration": 16,
    "start_time": "2023-08-08T11:01:27.581Z"
   },
   {
    "duration": 10,
    "start_time": "2023-08-08T11:01:27.599Z"
   },
   {
    "duration": 68,
    "start_time": "2023-08-08T11:01:27.611Z"
   },
   {
    "duration": 15,
    "start_time": "2023-08-08T11:01:27.681Z"
   },
   {
    "duration": 16,
    "start_time": "2023-08-08T11:01:27.698Z"
   },
   {
    "duration": 11,
    "start_time": "2023-08-08T11:01:27.716Z"
   },
   {
    "duration": 71,
    "start_time": "2023-08-08T11:01:27.729Z"
   },
   {
    "duration": 28,
    "start_time": "2023-08-08T11:01:27.802Z"
   },
   {
    "duration": 12,
    "start_time": "2023-08-08T11:02:45.199Z"
   },
   {
    "duration": 4,
    "start_time": "2023-08-08T11:02:53.265Z"
   },
   {
    "duration": 17,
    "start_time": "2023-08-08T11:02:53.272Z"
   },
   {
    "duration": 104,
    "start_time": "2023-08-08T11:02:53.291Z"
   },
   {
    "duration": 19,
    "start_time": "2023-08-08T11:02:53.397Z"
   },
   {
    "duration": 19,
    "start_time": "2023-08-08T11:02:53.419Z"
   },
   {
    "duration": 21,
    "start_time": "2023-08-08T11:02:53.441Z"
   },
   {
    "duration": 7,
    "start_time": "2023-08-08T11:02:53.464Z"
   },
   {
    "duration": 12,
    "start_time": "2023-08-08T11:02:53.474Z"
   },
   {
    "duration": 16,
    "start_time": "2023-08-08T11:02:53.488Z"
   },
   {
    "duration": 11,
    "start_time": "2023-08-08T11:02:53.506Z"
   },
   {
    "duration": 9,
    "start_time": "2023-08-08T11:02:53.519Z"
   },
   {
    "duration": 50,
    "start_time": "2023-08-08T11:02:53.530Z"
   },
   {
    "duration": 155,
    "start_time": "2023-08-08T11:02:53.582Z"
   },
   {
    "duration": 31,
    "start_time": "2023-08-08T11:02:53.740Z"
   },
   {
    "duration": 6,
    "start_time": "2023-08-08T11:02:53.773Z"
   },
   {
    "duration": 16,
    "start_time": "2023-08-08T11:02:53.781Z"
   },
   {
    "duration": 17,
    "start_time": "2023-08-08T11:02:53.799Z"
   },
   {
    "duration": 12,
    "start_time": "2023-08-08T11:02:53.818Z"
   },
   {
    "duration": 274,
    "start_time": "2023-08-08T11:02:53.832Z"
   },
   {
    "duration": 176,
    "start_time": "2023-08-08T11:02:54.109Z"
   },
   {
    "duration": 22,
    "start_time": "2023-08-08T11:02:54.288Z"
   },
   {
    "duration": 19,
    "start_time": "2023-08-08T11:02:54.312Z"
   },
   {
    "duration": 244,
    "start_time": "2023-08-08T11:02:54.333Z"
   },
   {
    "duration": 235,
    "start_time": "2023-08-08T11:02:54.579Z"
   },
   {
    "duration": 320,
    "start_time": "2023-08-08T11:02:54.816Z"
   },
   {
    "duration": 261,
    "start_time": "2023-08-08T11:02:55.138Z"
   },
   {
    "duration": 310,
    "start_time": "2023-08-08T11:02:55.401Z"
   },
   {
    "duration": 11,
    "start_time": "2023-08-08T11:02:55.713Z"
   },
   {
    "duration": 200,
    "start_time": "2023-08-08T11:02:55.726Z"
   },
   {
    "duration": 5,
    "start_time": "2023-08-08T11:02:55.929Z"
   },
   {
    "duration": 194,
    "start_time": "2023-08-08T11:02:55.936Z"
   },
   {
    "duration": 6,
    "start_time": "2023-08-08T11:02:56.131Z"
   },
   {
    "duration": 136,
    "start_time": "2023-08-08T11:02:56.139Z"
   },
   {
    "duration": 137,
    "start_time": "2023-08-08T11:02:56.277Z"
   },
   {
    "duration": 29,
    "start_time": "2023-08-08T11:02:56.416Z"
   },
   {
    "duration": 22,
    "start_time": "2023-08-08T11:02:56.466Z"
   },
   {
    "duration": 10,
    "start_time": "2023-08-08T11:02:56.490Z"
   },
   {
    "duration": 49,
    "start_time": "2023-08-08T11:02:56.502Z"
   },
   {
    "duration": 16,
    "start_time": "2023-08-08T11:02:56.568Z"
   },
   {
    "duration": 22,
    "start_time": "2023-08-08T11:02:56.586Z"
   },
   {
    "duration": 12,
    "start_time": "2023-08-08T11:02:56.613Z"
   },
   {
    "duration": 98,
    "start_time": "2023-08-08T11:02:56.627Z"
   },
   {
    "duration": 48,
    "start_time": "2023-08-08T11:02:56.728Z"
   },
   {
    "duration": 1235,
    "start_time": "2023-08-08T11:08:25.832Z"
   },
   {
    "duration": 5,
    "start_time": "2023-08-08T11:08:27.069Z"
   },
   {
    "duration": 89,
    "start_time": "2023-08-08T11:08:27.076Z"
   },
   {
    "duration": 15,
    "start_time": "2023-08-08T11:08:27.168Z"
   },
   {
    "duration": 13,
    "start_time": "2023-08-08T11:08:27.185Z"
   },
   {
    "duration": 15,
    "start_time": "2023-08-08T11:08:27.200Z"
   },
   {
    "duration": 5,
    "start_time": "2023-08-08T11:08:27.216Z"
   },
   {
    "duration": 11,
    "start_time": "2023-08-08T11:08:27.223Z"
   },
   {
    "duration": 25,
    "start_time": "2023-08-08T11:08:27.266Z"
   },
   {
    "duration": 15,
    "start_time": "2023-08-08T11:08:27.294Z"
   },
   {
    "duration": 26,
    "start_time": "2023-08-08T11:08:27.311Z"
   },
   {
    "duration": 21,
    "start_time": "2023-08-08T11:08:27.339Z"
   },
   {
    "duration": 153,
    "start_time": "2023-08-08T11:08:27.362Z"
   },
   {
    "duration": 19,
    "start_time": "2023-08-08T11:08:27.517Z"
   },
   {
    "duration": 6,
    "start_time": "2023-08-08T11:08:27.538Z"
   },
   {
    "duration": 27,
    "start_time": "2023-08-08T11:08:27.545Z"
   },
   {
    "duration": 27,
    "start_time": "2023-08-08T11:08:27.573Z"
   },
   {
    "duration": 13,
    "start_time": "2023-08-08T11:08:27.601Z"
   },
   {
    "duration": 209,
    "start_time": "2023-08-08T11:08:27.616Z"
   },
   {
    "duration": 167,
    "start_time": "2023-08-08T11:08:27.826Z"
   },
   {
    "duration": 13,
    "start_time": "2023-08-08T11:08:27.995Z"
   },
   {
    "duration": 15,
    "start_time": "2023-08-08T11:08:28.010Z"
   },
   {
    "duration": 301,
    "start_time": "2023-08-08T11:08:28.026Z"
   },
   {
    "duration": 229,
    "start_time": "2023-08-08T11:08:28.329Z"
   },
   {
    "duration": 331,
    "start_time": "2023-08-08T11:08:28.560Z"
   },
   {
    "duration": 244,
    "start_time": "2023-08-08T11:08:28.892Z"
   },
   {
    "duration": 353,
    "start_time": "2023-08-08T11:08:29.138Z"
   },
   {
    "duration": 10,
    "start_time": "2023-08-08T11:08:29.494Z"
   },
   {
    "duration": 206,
    "start_time": "2023-08-08T11:08:29.506Z"
   },
   {
    "duration": 5,
    "start_time": "2023-08-08T11:08:29.714Z"
   },
   {
    "duration": 276,
    "start_time": "2023-08-08T11:08:29.721Z"
   },
   {
    "duration": 6,
    "start_time": "2023-08-08T11:08:29.998Z"
   },
   {
    "duration": 275,
    "start_time": "2023-08-08T11:08:30.005Z"
   },
   {
    "duration": 118,
    "start_time": "2023-08-08T11:08:30.282Z"
   },
   {
    "duration": 26,
    "start_time": "2023-08-08T11:08:30.402Z"
   },
   {
    "duration": 41,
    "start_time": "2023-08-08T11:08:30.430Z"
   },
   {
    "duration": 151,
    "start_time": "2023-08-08T11:08:30.473Z"
   },
   {
    "duration": 71,
    "start_time": "2023-08-08T11:08:30.625Z"
   },
   {
    "duration": 47,
    "start_time": "2023-08-08T11:08:30.698Z"
   },
   {
    "duration": 54,
    "start_time": "2023-08-08T11:08:30.746Z"
   },
   {
    "duration": 45,
    "start_time": "2023-08-08T11:08:30.802Z"
   },
   {
    "duration": 139,
    "start_time": "2023-08-08T11:08:30.849Z"
   },
   {
    "duration": 33,
    "start_time": "2023-08-08T11:08:30.990Z"
   },
   {
    "duration": 1312,
    "start_time": "2023-08-08T16:39:10.975Z"
   },
   {
    "duration": 3,
    "start_time": "2023-08-08T16:39:12.289Z"
   },
   {
    "duration": 224,
    "start_time": "2023-08-08T16:39:12.294Z"
   },
   {
    "duration": 17,
    "start_time": "2023-08-08T16:39:12.520Z"
   },
   {
    "duration": 13,
    "start_time": "2023-08-08T16:39:12.539Z"
   },
   {
    "duration": 16,
    "start_time": "2023-08-08T16:39:12.554Z"
   },
   {
    "duration": 4,
    "start_time": "2023-08-08T16:39:12.573Z"
   },
   {
    "duration": 13,
    "start_time": "2023-08-08T16:39:12.579Z"
   },
   {
    "duration": 14,
    "start_time": "2023-08-08T16:39:12.594Z"
   },
   {
    "duration": 8,
    "start_time": "2023-08-08T16:39:12.611Z"
   },
   {
    "duration": 12,
    "start_time": "2023-08-08T16:39:12.620Z"
   },
   {
    "duration": 40,
    "start_time": "2023-08-08T16:39:12.634Z"
   },
   {
    "duration": 143,
    "start_time": "2023-08-08T16:39:12.677Z"
   },
   {
    "duration": 16,
    "start_time": "2023-08-08T16:39:12.822Z"
   },
   {
    "duration": 21,
    "start_time": "2023-08-08T16:39:12.839Z"
   },
   {
    "duration": 9,
    "start_time": "2023-08-08T16:39:12.861Z"
   },
   {
    "duration": 19,
    "start_time": "2023-08-08T16:39:12.872Z"
   },
   {
    "duration": 14,
    "start_time": "2023-08-08T16:39:12.892Z"
   },
   {
    "duration": 187,
    "start_time": "2023-08-08T16:39:12.907Z"
   },
   {
    "duration": 131,
    "start_time": "2023-08-08T16:39:13.095Z"
   },
   {
    "duration": 13,
    "start_time": "2023-08-08T16:39:13.227Z"
   },
   {
    "duration": 23,
    "start_time": "2023-08-08T16:39:13.242Z"
   },
   {
    "duration": 290,
    "start_time": "2023-08-08T16:39:13.267Z"
   },
   {
    "duration": 222,
    "start_time": "2023-08-08T16:39:13.560Z"
   },
   {
    "duration": 348,
    "start_time": "2023-08-08T16:39:13.784Z"
   },
   {
    "duration": 249,
    "start_time": "2023-08-08T16:39:14.135Z"
   },
   {
    "duration": 291,
    "start_time": "2023-08-08T16:39:14.386Z"
   },
   {
    "duration": 10,
    "start_time": "2023-08-08T16:39:14.680Z"
   },
   {
    "duration": 168,
    "start_time": "2023-08-08T16:39:14.692Z"
   },
   {
    "duration": 4,
    "start_time": "2023-08-08T16:39:14.862Z"
   },
   {
    "duration": 249,
    "start_time": "2023-08-08T16:39:14.868Z"
   },
   {
    "duration": 5,
    "start_time": "2023-08-08T16:39:15.119Z"
   },
   {
    "duration": 111,
    "start_time": "2023-08-08T16:39:15.126Z"
   },
   {
    "duration": 129,
    "start_time": "2023-08-08T16:39:15.239Z"
   },
   {
    "duration": 23,
    "start_time": "2023-08-08T16:39:15.370Z"
   },
   {
    "duration": 31,
    "start_time": "2023-08-08T16:39:15.395Z"
   },
   {
    "duration": 26,
    "start_time": "2023-08-08T16:39:15.428Z"
   },
   {
    "duration": 53,
    "start_time": "2023-08-08T16:39:15.456Z"
   },
   {
    "duration": 14,
    "start_time": "2023-08-08T16:39:15.510Z"
   },
   {
    "duration": 29,
    "start_time": "2023-08-08T16:39:15.526Z"
   },
   {
    "duration": 34,
    "start_time": "2023-08-08T16:39:15.557Z"
   },
   {
    "duration": 50,
    "start_time": "2023-08-08T16:39:15.593Z"
   },
   {
    "duration": 24,
    "start_time": "2023-08-08T16:39:15.645Z"
   },
   {
    "duration": 1173,
    "start_time": "2023-11-01T09:52:34.194Z"
   },
   {
    "duration": 3,
    "start_time": "2023-11-01T09:52:35.369Z"
   },
   {
    "duration": 248,
    "start_time": "2023-11-01T09:52:35.374Z"
   },
   {
    "duration": 15,
    "start_time": "2023-11-01T09:52:35.624Z"
   },
   {
    "duration": 30,
    "start_time": "2023-11-01T09:52:35.642Z"
   },
   {
    "duration": 68,
    "start_time": "2023-11-01T09:52:35.675Z"
   },
   {
    "duration": 66,
    "start_time": "2023-11-01T09:52:35.744Z"
   },
   {
    "duration": 86,
    "start_time": "2023-11-01T09:52:35.812Z"
   },
   {
    "duration": 124,
    "start_time": "2023-11-01T09:52:35.900Z"
   },
   {
    "duration": 46,
    "start_time": "2023-11-01T09:52:36.026Z"
   },
   {
    "duration": 72,
    "start_time": "2023-11-01T09:52:36.074Z"
   },
   {
    "duration": 58,
    "start_time": "2023-11-01T09:52:36.148Z"
   },
   {
    "duration": 191,
    "start_time": "2023-11-01T09:52:36.208Z"
   },
   {
    "duration": 28,
    "start_time": "2023-11-01T09:52:36.402Z"
   },
   {
    "duration": 14,
    "start_time": "2023-11-01T09:52:36.431Z"
   },
   {
    "duration": 63,
    "start_time": "2023-11-01T09:52:36.447Z"
   },
   {
    "duration": 56,
    "start_time": "2023-11-01T09:52:36.512Z"
   },
   {
    "duration": 73,
    "start_time": "2023-11-01T09:52:36.570Z"
   },
   {
    "duration": 222,
    "start_time": "2023-11-01T09:52:36.645Z"
   },
   {
    "duration": 137,
    "start_time": "2023-11-01T09:52:36.869Z"
   },
   {
    "duration": 25,
    "start_time": "2023-11-01T09:52:37.008Z"
   },
   {
    "duration": 56,
    "start_time": "2023-11-01T09:52:37.034Z"
   },
   {
    "duration": 345,
    "start_time": "2023-11-01T09:52:37.092Z"
   },
   {
    "duration": 211,
    "start_time": "2023-11-01T09:52:37.438Z"
   },
   {
    "duration": 281,
    "start_time": "2023-11-01T09:52:37.651Z"
   },
   {
    "duration": 212,
    "start_time": "2023-11-01T09:52:37.934Z"
   },
   {
    "duration": 291,
    "start_time": "2023-11-01T09:52:38.148Z"
   },
   {
    "duration": 8,
    "start_time": "2023-11-01T09:52:38.441Z"
   },
   {
    "duration": 329,
    "start_time": "2023-11-01T09:52:38.451Z"
   },
   {
    "duration": 4,
    "start_time": "2023-11-01T09:52:38.782Z"
   },
   {
    "duration": 291,
    "start_time": "2023-11-01T09:52:38.787Z"
   },
   {
    "duration": 4,
    "start_time": "2023-11-01T09:52:39.080Z"
   },
   {
    "duration": 130,
    "start_time": "2023-11-01T09:52:39.086Z"
   },
   {
    "duration": 154,
    "start_time": "2023-11-01T09:52:39.218Z"
   },
   {
    "duration": 24,
    "start_time": "2023-11-01T09:52:39.373Z"
   },
   {
    "duration": 56,
    "start_time": "2023-11-01T09:52:39.399Z"
   },
   {
    "duration": 72,
    "start_time": "2023-11-01T09:52:39.457Z"
   },
   {
    "duration": 88,
    "start_time": "2023-11-01T09:52:39.531Z"
   },
   {
    "duration": 17,
    "start_time": "2023-11-01T09:52:39.621Z"
   },
   {
    "duration": 104,
    "start_time": "2023-11-01T09:52:39.640Z"
   },
   {
    "duration": 41,
    "start_time": "2023-11-01T09:52:39.747Z"
   },
   {
    "duration": 152,
    "start_time": "2023-11-01T09:52:39.790Z"
   },
   {
    "duration": 24,
    "start_time": "2023-11-01T09:52:39.943Z"
   }
  ],
  "kernelspec": {
   "display_name": "Python 3 (ipykernel)",
   "language": "python",
   "name": "python3"
  },
  "language_info": {
   "codemirror_mode": {
    "name": "ipython",
    "version": 3
   },
   "file_extension": ".py",
   "mimetype": "text/x-python",
   "name": "python",
   "nbconvert_exporter": "python",
   "pygments_lexer": "ipython3",
   "version": "3.10.9"
  },
  "toc": {
   "base_numbering": 1,
   "nav_menu": {},
   "number_sections": true,
   "sideBar": true,
   "skip_h1_title": true,
   "title_cell": "Table of Contents",
   "title_sidebar": "Contents",
   "toc_cell": false,
   "toc_position": {},
   "toc_section_display": true,
   "toc_window_display": false
  }
 },
 "nbformat": 4,
 "nbformat_minor": 2
}
