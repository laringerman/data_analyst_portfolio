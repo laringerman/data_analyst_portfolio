{
 "cells": [
  {
   "cell_type": "markdown",
   "id": "429c680c",
   "metadata": {},
   "source": [
    "## SQL  StackOverflow"
   ]
  },
  {
   "cell_type": "markdown",
   "id": "78e56e49",
   "metadata": {},
   "source": [
    "<img src=\"https://pictures.s3.yandex.net/resources/Frame_353_1_1664969703.png\" alt=\"ER\"/>"
   ]
  },
  {
   "cell_type": "markdown",
   "id": "fa82d80b",
   "metadata": {},
   "source": [
    "## 1. Найдите количество вопросов, которые набрали больше 300 очков или как минимум 100 раз были добавлены в «Закладки»."
   ]
  },
  {
   "cell_type": "code",
   "execution_count": null,
   "id": "a243e6a4",
   "metadata": {},
   "outputs": [],
   "source": [
    "SELECT COUNT(*)\n",
    "FROM stackoverflow.posts\n",
    "WHERE (score > 300 OR  favorites_count >= 100) \n",
    "AND post_type_id = 1;"
   ]
  },
  {
   "cell_type": "markdown",
   "id": "ff7f84f1",
   "metadata": {},
   "source": [
    "## 2. Сколько в среднем в день задавали вопросов с 1 по 18 ноября 2008 включительно? Результат округлите до целого числа."
   ]
  },
  {
   "cell_type": "code",
   "execution_count": null,
   "id": "b7b6fb19",
   "metadata": {},
   "outputs": [],
   "source": [
    "SELECT ROUND(AVG(post_count), 0)\n",
    "FROM (SELECT DISTINCT creation_date :: date,\n",
    "              COUNT(*) OVER (PARTITION BY DATE_TRUNC('day', creation_date)) AS post_count\n",
    "      FROM stackoverflow.posts\n",
    "      WHERE post_type_id = 1\n",
    "      AND creation_date :: date  BETWEEN '01.11.2008' AND '18.11.2008') AS prs;"
   ]
  },
  {
   "cell_type": "markdown",
   "id": "919bde83",
   "metadata": {},
   "source": [
    "## 3. Сколько пользователей получили значки сразу в день регистрации? Выведите количество уникальных пользователей."
   ]
  },
  {
   "cell_type": "code",
   "execution_count": null,
   "id": "6bf94343",
   "metadata": {},
   "outputs": [],
   "source": [
    "WITH sb AS (SELECT DISTINCT user_id,\n",
    "                    CAST(MIN(creation_date) OVER (PARTITION BY user_id) AS date) AS point_date\n",
    "            FROM stackoverflow.badges),\n",
    "    su AS (SELECT id,\n",
    "                  CAST(creation_date AS date)\n",
    "          FROM stackoverflow.users)\n",
    "\n",
    "SELECT COUNT(*)\n",
    "FROM  sb\n",
    "INNER JOIN su ON sb.user_id=su.id AND sb.point_date=su.creation_date;"
   ]
  },
  {
   "cell_type": "markdown",
   "id": "87946aae",
   "metadata": {},
   "source": [
    "## 4. Сколько уникальных постов пользователя с именем Joel Coehoorn получили хотя бы один голос?"
   ]
  },
  {
   "cell_type": "code",
   "execution_count": null,
   "id": "34df3200",
   "metadata": {},
   "outputs": [],
   "source": [
    "SELECT COUNT(DISTINCT(post_id))\n",
    "FROM stackoverflow.votes\n",
    "WHERE post_id IN (SELECT id\n",
    "FROM stackoverflow.posts\n",
    "WHERE user_id IN (SELECT id\n",
    "         FROM stackoverflow.users\n",
    "         WHERE display_name LIKE '%Joel Coehoorn%'));"
   ]
  },
  {
   "cell_type": "markdown",
   "id": "6ae55a88",
   "metadata": {},
   "source": [
    "## 5. Выгрузите все поля таблицы vote_types. Добавьте к таблице поле rank, в которое войдут номера записей в обратном порядке. Таблица должна быть отсортирована по полю id."
   ]
  },
  {
   "cell_type": "code",
   "execution_count": null,
   "id": "08923641",
   "metadata": {},
   "outputs": [],
   "source": [
    "SELECT *,\n",
    "        RANK() OVER(ORDER BY id DESC)\n",
    "FROM stackoverflow.vote_types\n",
    "ORDER BY id;"
   ]
  },
  {
   "cell_type": "markdown",
   "id": "e12e276e",
   "metadata": {},
   "source": [
    "## 6. Отберите 10 пользователей, которые поставили больше всего голосов типа Close. Отобразите таблицу из двух полей: идентификатором пользователя и количеством голосов. Отсортируйте данные сначала по убыванию количества голосов, потом по убыванию значения идентификатора пользователя."
   ]
  },
  {
   "cell_type": "code",
   "execution_count": null,
   "id": "57695714",
   "metadata": {},
   "outputs": [],
   "source": [
    "WITH sv AS (SELECT DISTINCT user_id,\n",
    "      COUNT(*) OVER(PARTITION BY user_id) AS counter\n",
    "      FROM stackoverflow.votes\n",
    "      WHERE vote_type_id IN (SELECT id\n",
    "                             FROM stackoverflow.vote_types\n",
    "                             WHERE name = 'Close'))\n",
    "\n",
    "SELECT *\n",
    "FROM sv\n",
    "ORDER BY counter DESC, user_id DESC\n",
    "LIMIT 10;"
   ]
  },
  {
   "cell_type": "markdown",
   "id": "78a68a2e",
   "metadata": {},
   "source": [
    "## 7. Отберите 10 пользователей по количеству значков, полученных в период с 15 ноября по 15 декабря 2008 года включительно.  \n",
    "\n",
    "Отобразите несколько полей:\n",
    "- идентификатор пользователя;\n",
    "- число значков;\n",
    "- место в рейтинге — чем больше значков, тем выше рейтинг.  \n",
    "  \n",
    "Пользователям, которые набрали одинаковое количество значков, присвойте одно и то же место в рейтинге.\n",
    "Отсортируйте записи по количеству значков по убыванию, а затем по возрастанию значения идентификатора пользователя."
   ]
  },
  {
   "cell_type": "code",
   "execution_count": null,
   "id": "f3884035",
   "metadata": {},
   "outputs": [],
   "source": [
    "WITH sv AS (SELECT user_id,\n",
    "                   COUNT(id) AS badges\n",
    "           FROM stackoverflow.badges\n",
    "            WHERE CAST(creation_date AS date) BETWEEN '15.11.2008' AND '15.12.2008'\n",
    "           GROUP BY user_id\n",
    "           ORDER BY badges DESC\n",
    "           LIMIT 10)\n",
    "           \n",
    "SELECT *,\n",
    "        DENSE_RANK() OVER(ORDER BY badges DESC)\n",
    "FROM sv\n",
    "ORDER BY badges DESC, user_id;"
   ]
  },
  {
   "cell_type": "markdown",
   "id": "66b14218",
   "metadata": {},
   "source": [
    "## 8. Сколько в среднем очков получает пост каждого пользователя?  \n",
    "Сформируйте таблицу из следующих полей:\n",
    "- заголовок поста;\n",
    "- идентификатор пользователя;\n",
    "- число очков поста;\n",
    "- среднее число очков пользователя за пост, округлённое до целого числа.  \n",
    "  \n",
    "Не учитывайте посты без заголовка, а также те, что набрали ноль очков. "
   ]
  },
  {
   "cell_type": "code",
   "execution_count": null,
   "id": "73ff83b8",
   "metadata": {},
   "outputs": [],
   "source": [
    "WITH sas AS (SELECT title,\n",
    "     user_id,\n",
    "     score,\n",
    "     ROUND(AVG(score) OVER(PARTITION BY user_id), 0)\n",
    "     FROM stackoverflow.posts\n",
    "      WHERE title IS NOT NULL AND score <> 0       )\n",
    "SELECT *\n",
    "FROM sas;"
   ]
  },
  {
   "cell_type": "markdown",
   "id": "e09d6e2b",
   "metadata": {},
   "source": [
    "## 9. Отобразите заголовки постов, которые были написаны пользователями, получившими более 1000 значков. Посты без заголовков не должны попасть в список."
   ]
  },
  {
   "cell_type": "code",
   "execution_count": null,
   "id": "378e63b1",
   "metadata": {},
   "outputs": [],
   "source": [
    "SELECT title\n",
    "FROM stackoverflow.posts\n",
    "WHERE user_id IN (SELECT user_id\n",
    "FROM stackoverflow.badges\n",
    "GROUP BY user_id\n",
    "HAVING COUNT(id) > 1000)\n",
    "AND title IS NOT NULL;"
   ]
  },
  {
   "cell_type": "markdown",
   "id": "39dfbcff",
   "metadata": {},
   "source": [
    "## 10. Напишите запрос, который выгрузит данные о пользователях из Канады (англ. Canada). Разделите пользователей на три группы в зависимости от количества просмотров их профилей:\n",
    "- пользователям с числом просмотров больше либо равным 350 присвойте группу 1;\n",
    "- пользователям с числом просмотров меньше 350, но больше либо равно 100 — группу 2;\n",
    "- пользователям с числом просмотров меньше 100 — группу 3.  \n",
    "  \n",
    "Отобразите в итоговой таблице идентификатор пользователя, количество просмотров профиля и группу. Пользователи с количеством просмотров меньше либо равным нулю не должны войти в итоговую таблицу."
   ]
  },
  {
   "cell_type": "code",
   "execution_count": null,
   "id": "d69211e5",
   "metadata": {},
   "outputs": [],
   "source": [
    "SELECT id,\n",
    "        views,\n",
    "        CASE \n",
    "    WHEN views >= 350 THEN 1\n",
    "    WHEN views >= 100 THEN 2\n",
    "    ELSE 3\n",
    "    END\n",
    "FROM stackoverflow.users\n",
    "WHERE location LIKE '%Canada%' AND views <> 0;"
   ]
  },
  {
   "cell_type": "markdown",
   "id": "1c3f38b4",
   "metadata": {},
   "source": [
    "## 11. Дополните предыдущий запрос. Отобразите лидеров каждой группы — пользователей, которые набрали максимальное число просмотров в своей группе. Выведите поля с идентификатором пользователя, группой и количеством просмотров. Отсортируйте таблицу по убыванию просмотров, а затем по возрастанию значения идентификатора."
   ]
  },
  {
   "cell_type": "code",
   "execution_count": null,
   "id": "12ac8e87",
   "metadata": {},
   "outputs": [],
   "source": [
    "WITH sus AS((SELECT id,\n",
    "        views,\n",
    "        CASE \n",
    "    WHEN views >= 350 THEN 1\n",
    "    WHEN views >= 100 THEN 2\n",
    "    ELSE 3\n",
    "    END AS rang\n",
    "FROM stackoverflow.users\n",
    "WHERE location LIKE '%Canada%' AND views <> 0\n",
    "ORDER BY rang DESC, views, id)),\n",
    "\n",
    "    sas AS (SELECT *,\n",
    "            MAX(views) OVER(PARTITION BY rang) AS max_vi\n",
    "            FROM sus)\n",
    "            \n",
    "SELECT id,\n",
    "        rang,\n",
    "        views\n",
    "FROM sas\n",
    "WHERE views = max_vi\n",
    "ORDER BY views DESC, id;"
   ]
  },
  {
   "cell_type": "markdown",
   "id": "3ea6a652",
   "metadata": {},
   "source": [
    "## 12. Посчитайте ежедневный прирост новых пользователей в ноябре 2008 года. Сформируйте таблицу с полями:\n",
    "- номер дня;\n",
    "- число пользователей, зарегистрированных в этот день;\n",
    "- сумму пользователей с накоплением."
   ]
  },
  {
   "cell_type": "code",
   "execution_count": null,
   "id": "0abf3a15",
   "metadata": {},
   "outputs": [],
   "source": [
    "WITH sas AS (SELECT EXTRACT(DAY FROM CAST(creation_date AS timestamp)) AS day_num,\n",
    "             COUNT(id) AS cont\n",
    "             FROM stackoverflow.users\n",
    "             WHERE CAST(DATE_TRUNC('month', creation_date) AS date) = '01.11.2008'\n",
    "             GROUP BY day_num)\n",
    "\n",
    "SELECT *,\n",
    "        SUM(cont) OVER (ORDER BY day_num)\n",
    "FROM sas\n",
    "ORDER BY day_num;"
   ]
  },
  {
   "cell_type": "markdown",
   "id": "078e0ac7",
   "metadata": {},
   "source": [
    "## 13. Для каждого пользователя, который написал хотя бы один пост, найдите интервал между регистрацией и временем создания первого поста. Отобразите:\n",
    "- идентификатор пользователя;\n",
    "- разницу во времени между регистрацией и первым постом."
   ]
  },
  {
   "cell_type": "code",
   "execution_count": null,
   "id": "6d2a37ff",
   "metadata": {},
   "outputs": [],
   "source": [
    "WITH sas AS (SELECT DISTINCT user_id,\n",
    "             MIN(creation_date) OVER (PARTITION BY user_id)  AS first_post\n",
    "             FROM stackoverflow.posts\n",
    "            )\n",
    "\n",
    "\n",
    "\n",
    "SELECT DISTINCT sas.user_id,\n",
    "        first_post - creation_date\n",
    "FROM stackoverflow.users AS sa\n",
    "JOIN sas ON sas.user_id=sa.id;"
   ]
  },
  {
   "cell_type": "markdown",
   "id": "6a43fa4b",
   "metadata": {},
   "source": [
    "## 14. Выведите общую сумму просмотров у постов, опубликованных в каждый месяц 2008 года. Если данных за какой-либо месяц в базе нет, такой месяц можно пропустить. Результат отсортируйте по убыванию общего количества просмотров."
   ]
  },
  {
   "cell_type": "code",
   "execution_count": null,
   "id": "9784812e",
   "metadata": {},
   "outputs": [],
   "source": [
    "SELECT CAST(DATE_TRUNC('month', creation_date) AS date),\n",
    "        SUM(views_count)\n",
    "FROM stackoverflow.posts\n",
    "WHERE EXTRACT(YEAR FROM creation_date)= 2008\n",
    "GROUP BY DATE_TRUNC('month', creation_date)\n",
    "ORDER BY SUM(views_count) DESC;"
   ]
  },
  {
   "cell_type": "markdown",
   "id": "8d444948",
   "metadata": {},
   "source": [
    "## 15. Выведите имена самых активных пользователей, которые в первый месяц после регистрации (включая день регистрации) дали больше 100 ответов. Вопросы, которые задавали пользователи, не учитывайте. Для каждого имени пользователя выведите количество уникальных значений user_id. Отсортируйте результат по полю с именами в лексикографическом порядке."
   ]
  },
  {
   "cell_type": "code",
   "execution_count": null,
   "id": "965594f6",
   "metadata": {},
   "outputs": [],
   "source": [
    "SELECT su.display_name,\n",
    "        COUNT(DISTINCT sp.user_id)\n",
    "FROM stackoverflow.posts AS sp\n",
    "JOIN stackoverflow.users AS su ON su.id=sp.user_id\n",
    "JOIN  stackoverflow.post_types AS pt ON pt.id=sp.post_type_id \n",
    "WHERE  sp.creation_date:: date BETWEEN su.creation_date:: date AND (su.creation_date:: date + INTERVAL '1 months')\n",
    "AND pt.type LIKE '%Answer%'\n",
    "GROUP BY su.display_name\n",
    "HAVING COUNT(sp.id) > 100\n",
    "ORDER BY su.display_name;\n"
   ]
  },
  {
   "cell_type": "markdown",
   "id": "2ffc26d6",
   "metadata": {},
   "source": [
    "## 16. Выведите количество постов за 2008 год по месяцам. Отберите посты от пользователей, которые зарегистрировались в сентябре 2008 года и сделали хотя бы один пост в декабре того же года. Отсортируйте таблицу по значению месяца по убыванию."
   ]
  },
  {
   "cell_type": "code",
   "execution_count": null,
   "id": "545d3df3",
   "metadata": {},
   "outputs": [],
   "source": [
    "WITH sas AS (SELECT DISTINCT sp.user_id\n",
    "               FROM stackoverflow.posts AS sp\n",
    "               JOIN stackoverflow.users AS su ON su.id=sp.user_id\n",
    "               WHERE CAST(DATE_TRUNC('month', su.creation_date) AS date) = '01.09.2008'\n",
    "               AND CAST(DATE_TRUNC('month', sp.creation_date) as date) = '01.12.2008')\n",
    "\n",
    "SELECT CAST(DATE_TRUNC('month', creation_date) AS date) AS month_p,\n",
    "        COUNT(id)\n",
    "FROM stackoverflow.posts\n",
    "WHERE user_id IN (SELECT *\n",
    "    FROM sas)\n",
    "GROUP BY month_p\n",
    "ORDER BY month_p DESC;"
   ]
  },
  {
   "cell_type": "markdown",
   "id": "c306bb8a",
   "metadata": {},
   "source": [
    "## 17. Используя данные о постах, выведите несколько полей:\n",
    "- идентификатор пользователя, который написал пост;\n",
    "- дата создания поста;\n",
    "- количество просмотров у текущего поста;\n",
    "- сумма просмотров постов автора с накоплением.  \n",
    "  \n",
    "Данные в таблице должны быть отсортированы по возрастанию идентификаторов пользователей, а данные об одном и том же пользователе — по возрастанию даты создания поста."
   ]
  },
  {
   "cell_type": "code",
   "execution_count": null,
   "id": "2c311860",
   "metadata": {},
   "outputs": [],
   "source": [
    "SELECT user_id,\n",
    "        creation_date,\n",
    "        views_count,\n",
    "        SUM(views_count) OVER(PARTITION BY user_id ORDER BY creation_date)\n",
    "FROM stackoverflow.posts\n",
    "ORDER BY user_id, creation_date;"
   ]
  },
  {
   "cell_type": "markdown",
   "id": "08deb2c5",
   "metadata": {},
   "source": [
    "## 18. Сколько в среднем дней в период с 1 по 7 декабря 2008 года включительно пользователи взаимодействовали с платформой? Для каждого пользователя отберите дни, в которые он или она опубликовали хотя бы один пост. Нужно получить одно целое число — не забудьте округлить результат."
   ]
  },
  {
   "cell_type": "code",
   "execution_count": null,
   "id": "25f12754",
   "metadata": {},
   "outputs": [],
   "source": [
    "SELECT ROUND(AVG(days_act))\n",
    "FROM (SELECT  user_id,\n",
    "COUNT(DISTINCT CAST(EXTRACT(DAY FROM CAST(creation_date AS timestamp)) AS numeric)) As days_act\n",
    "FROM stackoverflow.posts\n",
    "WHERE creation_date :: date BETWEEN '01.12.2008' AND '07.12.2008'\n",
    "GROUP BY user_id) AS sus;"
   ]
  },
  {
   "cell_type": "markdown",
   "id": "345d6888",
   "metadata": {},
   "source": [
    "## 19. На сколько процентов менялось количество постов ежемесячно с 1 сентября по 31 декабря 2008 года? Отобразите таблицу со следующими полями:\n",
    "- Номер месяца.\n",
    "- Количество постов за месяц.\n",
    "- Процент, который показывает, насколько изменилось количество постов в текущем месяце по сравнению с предыдущим.  \n",
    "  \n",
    "Если постов стало меньше, значение процента должно быть отрицательным, если больше — положительным. Округлите значение процента до двух знаков после запятой.\n",
    "Напомним, что при делении одного целого числа на другое в PostgreSQL в результате получится целое число, округлённое до ближайшего целого вниз. Чтобы этого избежать, переведите делимое в тип numeric."
   ]
  },
  {
   "cell_type": "code",
   "execution_count": null,
   "id": "04d9de8a",
   "metadata": {},
   "outputs": [],
   "source": [
    "WITH sus AS (SELECT *,\n",
    "             LAG(count_pres) OVER (ORDER BY n_mon) AS mon_past\n",
    "    FROM (SELECT EXTRACT(MONTH FROM CAST(creation_date AS timestamp)) AS n_mon,\n",
    "        COUNT(*) AS count_pres\n",
    "FROM  stackoverflow.posts\n",
    "WHERE creation_date:: date BETWEEN '01.09.2008' AND '31.12.2008'\n",
    "GROUP BY n_mon) As bup)\n",
    "\n",
    "SELECT n_mon,\n",
    "        count_pres,\n",
    "       ROUND((( count_pres:: numeric / mon_past) - 1) * 100, 2) AS procent\n",
    "        \n",
    "FROM sus;"
   ]
  },
  {
   "cell_type": "markdown",
   "id": "9215c049",
   "metadata": {},
   "source": [
    "## 20. \n",
    "Найдите пользователя, который опубликовал больше всего постов за всё время с момента регистрации. Выведите данные его активности за октябрь 2008 года в таком виде:\n",
    "- номер недели;\n",
    "- дата и время последнего поста, опубликованного на этой неделе."
   ]
  },
  {
   "cell_type": "code",
   "execution_count": null,
   "id": "d15f55d3",
   "metadata": {},
   "outputs": [],
   "source": [
    "WITH top_user AS (SELECT user_id AS top,\n",
    "                COUNT(*) AS posts\n",
    "                  FROM stackoverflow.posts\n",
    "                  GROUP BY user_id\n",
    "                  ORDER BY posts DESC\n",
    "                 LIMIT 1)\n",
    "\n",
    "SELECT EXTRACT(WEEK FROM CAST(creation_date AS timestamp)) AS num_week,\n",
    "        MAX(creation_date)\n",
    "FROM stackoverflow.posts\n",
    "WHERE user_id IN (SELECT top\n",
    "                 FROM top_user)\n",
    "AND CAST(DATE_TRUNC('month', creation_date) AS date) = '01.10.2008'\n",
    "GROUP BY num_week;"
   ]
  }
 ],
 "metadata": {
  "kernelspec": {
   "display_name": "Python 3 (ipykernel)",
   "language": "python",
   "name": "python3"
  },
  "language_info": {
   "codemirror_mode": {
    "name": "ipython",
    "version": 3
   },
   "file_extension": ".py",
   "mimetype": "text/x-python",
   "name": "python",
   "nbconvert_exporter": "python",
   "pygments_lexer": "ipython3",
   "version": "3.10.9"
  }
 },
 "nbformat": 4,
 "nbformat_minor": 5
}
