{
 "cells": [
  {
   "cell_type": "markdown",
   "id": "d0293ddb",
   "metadata": {},
   "source": [
    "# Исследрвание данных сервиса аренды самокатов GoFas</a>  \n",
    "\n",
    "Мы получили данные части пользователей сервиса аренды самокатов GoFast: данные о пользователях нескольких городов и об их поездках. В данном проекте мы проанализируем данные и проверим некоторые гипотезы, которые могут помочь бизнесу вырасти. "
   ]
  },
  {
   "cell_type": "markdown",
   "id": "a35f0457",
   "metadata": {},
   "source": [
    "# Оглавление\n",
    "\n",
    "[1 Шаг. Загрузка данных](#step1)  \n",
    " \n",
    "[2 Шаг. Предобработка данных](#step2)  \n",
    " - [Проверка на пропуски](#step2.1)     \n",
    " - [Проверка на явные дубли](#step2.2)  \n",
    " - [Изменение типа данных](#step2.3)  \n",
    " - [Добавление новых столбцов](#step2.4)   \n",
    " \n",
    "[3 Шаг. Исследовательский анализ данных](#step3)   \n",
    " - [Частота встречаемости городов](#step3.1)   \n",
    " - [Соотношение пользователей с подпиской и без подписки](#step3.2)   \n",
    " - [ Возраст пользователей](#step3.3)  \n",
    " - [ Расстояние, которое пользователь преодолел за одну поездку](#step3.4) \n",
    " \n",
    "[4 Шаг. Объединение данных](#step4)  \n",
    " - [ Объединение данных](#step4.1)  \n",
    " - [Создание новых датафреймов](#step4.2)   \n",
    " - [Расстояние и время поездок пользователей с подпиской](#step4.3)   \n",
    " - [Расстояние и время поездок пользователей без подписки](#step4.4)   \n",
    " \n",
    "[5 Шаг. Подсчёт выручки](#step5)  \n",
    "\n",
    "[6 Шаг Проверка гипотез](#step6)   \n",
    " - [Гипотеза 1: пользователи с подпиской тратят больше времени на сессию.](#step6.1)   \n",
    " - [Гипотеза 2. Расстояние одной поездки в 3130 метров — оптимальное с точки зрения износа самоката.](#step6.2)   \n",
    " - [Гипотеза 3. Помесячная выручка от пользователей с подпиской по месяцам выше, чем выручка от пользователей без подписки. ](#step6.3)\n",
    " \n",
    "[7 Шаг. Распределения ](#step7)   \n",
    "\n",
    "[ Вывод ](#step8) \n"
   ]
  },
  {
   "cell_type": "markdown",
   "id": "99895432",
   "metadata": {},
   "source": [
    "Импортируем необходимые для работы библиотеки"
   ]
  },
  {
   "cell_type": "code",
   "execution_count": 1,
   "id": "5124c8bb",
   "metadata": {},
   "outputs": [],
   "source": [
    "import pandas as pd\n",
    "import matplotlib.pyplot as plt\n",
    "from scipy import stats as st\n",
    "import numpy as np\n",
    "from math import factorial\n",
    "from math import sqrt\n",
    "from math import factorial\n",
    "from scipy.stats import binom"
   ]
  },
  {
   "cell_type": "markdown",
   "id": "00483c29",
   "metadata": {},
   "source": [
    " <a id='step1'></a>  "
   ]
  },
  {
   "cell_type": "markdown",
   "id": "f3473c52",
   "metadata": {},
   "source": [
    "#### Шаг. Загрузка данных"
   ]
  },
  {
   "cell_type": "markdown",
   "id": "11b0f85c",
   "metadata": {},
   "source": [
    "Запишем датасет /datasets/users_go.csv в датафрейм **users**, посмотрим на его первые 5 строк и посмотрим информацию.<a id='intro'></a>"
   ]
  },
  {
   "cell_type": "code",
   "execution_count": 2,
   "id": "cdf764dc",
   "metadata": {
    "scrolled": true
   },
   "outputs": [
    {
     "data": {
      "text/html": [
       "<div>\n",
       "<style scoped>\n",
       "    .dataframe tbody tr th:only-of-type {\n",
       "        vertical-align: middle;\n",
       "    }\n",
       "\n",
       "    .dataframe tbody tr th {\n",
       "        vertical-align: top;\n",
       "    }\n",
       "\n",
       "    .dataframe thead th {\n",
       "        text-align: right;\n",
       "    }\n",
       "</style>\n",
       "<table border=\"1\" class=\"dataframe\">\n",
       "  <thead>\n",
       "    <tr style=\"text-align: right;\">\n",
       "      <th></th>\n",
       "      <th>user_id</th>\n",
       "      <th>name</th>\n",
       "      <th>age</th>\n",
       "      <th>city</th>\n",
       "      <th>subscription_type</th>\n",
       "    </tr>\n",
       "  </thead>\n",
       "  <tbody>\n",
       "    <tr>\n",
       "      <th>0</th>\n",
       "      <td>1</td>\n",
       "      <td>Кира</td>\n",
       "      <td>22</td>\n",
       "      <td>Тюмень</td>\n",
       "      <td>ultra</td>\n",
       "    </tr>\n",
       "    <tr>\n",
       "      <th>1</th>\n",
       "      <td>2</td>\n",
       "      <td>Станислав</td>\n",
       "      <td>31</td>\n",
       "      <td>Омск</td>\n",
       "      <td>ultra</td>\n",
       "    </tr>\n",
       "    <tr>\n",
       "      <th>2</th>\n",
       "      <td>3</td>\n",
       "      <td>Алексей</td>\n",
       "      <td>20</td>\n",
       "      <td>Москва</td>\n",
       "      <td>ultra</td>\n",
       "    </tr>\n",
       "    <tr>\n",
       "      <th>3</th>\n",
       "      <td>4</td>\n",
       "      <td>Константин</td>\n",
       "      <td>26</td>\n",
       "      <td>Ростов-на-Дону</td>\n",
       "      <td>ultra</td>\n",
       "    </tr>\n",
       "    <tr>\n",
       "      <th>4</th>\n",
       "      <td>5</td>\n",
       "      <td>Адель</td>\n",
       "      <td>28</td>\n",
       "      <td>Омск</td>\n",
       "      <td>ultra</td>\n",
       "    </tr>\n",
       "  </tbody>\n",
       "</table>\n",
       "</div>"
      ],
      "text/plain": [
       "   user_id        name  age            city subscription_type\n",
       "0        1        Кира   22          Тюмень             ultra\n",
       "1        2   Станислав   31            Омск             ultra\n",
       "2        3     Алексей   20          Москва             ultra\n",
       "3        4  Константин   26  Ростов-на-Дону             ultra\n",
       "4        5       Адель   28            Омск             ultra"
      ]
     },
     "execution_count": 2,
     "metadata": {},
     "output_type": "execute_result"
    }
   ],
   "source": [
    "users = pd.read_csv('/datasets/users_go.csv', sep=',')\n",
    "users.head()"
   ]
  },
  {
   "cell_type": "markdown",
   "id": "f4c99181",
   "metadata": {},
   "source": [
    "- `user_id`\tуникальный идентификатор пользователя\n",
    "- `name`\tимя пользователя\n",
    "- `age`\tвозраст\n",
    "- `city`\tгород\n",
    "- `subscription_type`\tтип подписки (free, ultra)"
   ]
  },
  {
   "cell_type": "code",
   "execution_count": 3,
   "id": "551c5452",
   "metadata": {},
   "outputs": [
    {
     "name": "stdout",
     "output_type": "stream",
     "text": [
      "<class 'pandas.core.frame.DataFrame'>\n",
      "RangeIndex: 1565 entries, 0 to 1564\n",
      "Data columns (total 5 columns):\n",
      " #   Column             Non-Null Count  Dtype \n",
      "---  ------             --------------  ----- \n",
      " 0   user_id            1565 non-null   int64 \n",
      " 1   name               1565 non-null   object\n",
      " 2   age                1565 non-null   int64 \n",
      " 3   city               1565 non-null   object\n",
      " 4   subscription_type  1565 non-null   object\n",
      "dtypes: int64(2), object(3)\n",
      "memory usage: 61.3+ KB\n"
     ]
    }
   ],
   "source": [
    "users.info()"
   ]
  },
  {
   "cell_type": "markdown",
   "id": "c78896ca",
   "metadata": {},
   "source": [
    "Запишем датасет /datasets/rides_go.csv в датафрейм **rides**, посмотрим на его первые 5 строк и посмотрим информацию."
   ]
  },
  {
   "cell_type": "code",
   "execution_count": 4,
   "id": "777e67fb",
   "metadata": {
    "scrolled": true
   },
   "outputs": [
    {
     "data": {
      "text/html": [
       "<div>\n",
       "<style scoped>\n",
       "    .dataframe tbody tr th:only-of-type {\n",
       "        vertical-align: middle;\n",
       "    }\n",
       "\n",
       "    .dataframe tbody tr th {\n",
       "        vertical-align: top;\n",
       "    }\n",
       "\n",
       "    .dataframe thead th {\n",
       "        text-align: right;\n",
       "    }\n",
       "</style>\n",
       "<table border=\"1\" class=\"dataframe\">\n",
       "  <thead>\n",
       "    <tr style=\"text-align: right;\">\n",
       "      <th></th>\n",
       "      <th>user_id</th>\n",
       "      <th>distance</th>\n",
       "      <th>duration</th>\n",
       "      <th>date</th>\n",
       "    </tr>\n",
       "  </thead>\n",
       "  <tbody>\n",
       "    <tr>\n",
       "      <th>0</th>\n",
       "      <td>1</td>\n",
       "      <td>4409.919140</td>\n",
       "      <td>25.599769</td>\n",
       "      <td>2021-01-01</td>\n",
       "    </tr>\n",
       "    <tr>\n",
       "      <th>1</th>\n",
       "      <td>1</td>\n",
       "      <td>2617.592153</td>\n",
       "      <td>15.816871</td>\n",
       "      <td>2021-01-18</td>\n",
       "    </tr>\n",
       "    <tr>\n",
       "      <th>2</th>\n",
       "      <td>1</td>\n",
       "      <td>754.159807</td>\n",
       "      <td>6.232113</td>\n",
       "      <td>2021-04-20</td>\n",
       "    </tr>\n",
       "    <tr>\n",
       "      <th>3</th>\n",
       "      <td>1</td>\n",
       "      <td>2694.783254</td>\n",
       "      <td>18.511000</td>\n",
       "      <td>2021-08-11</td>\n",
       "    </tr>\n",
       "    <tr>\n",
       "      <th>4</th>\n",
       "      <td>1</td>\n",
       "      <td>4028.687306</td>\n",
       "      <td>26.265803</td>\n",
       "      <td>2021-08-28</td>\n",
       "    </tr>\n",
       "  </tbody>\n",
       "</table>\n",
       "</div>"
      ],
      "text/plain": [
       "   user_id     distance   duration        date\n",
       "0        1  4409.919140  25.599769  2021-01-01\n",
       "1        1  2617.592153  15.816871  2021-01-18\n",
       "2        1   754.159807   6.232113  2021-04-20\n",
       "3        1  2694.783254  18.511000  2021-08-11\n",
       "4        1  4028.687306  26.265803  2021-08-28"
      ]
     },
     "execution_count": 4,
     "metadata": {},
     "output_type": "execute_result"
    }
   ],
   "source": [
    "rides = pd.read_csv('/datasets/rides_go.csv', sep=',')\n",
    "rides.head()"
   ]
  },
  {
   "cell_type": "markdown",
   "id": "84653a8d",
   "metadata": {},
   "source": [
    "- `user_id`\tуникальный идентификатор пользователя\n",
    "- `distance`\tрасстояние, которое пользователь проехал в текущей сессии (в метрах)\n",
    "- `duration`\tпродолжительность сессии (в минутах) — время с того момента, как пользователь нажал кнопку «Начать поездку» до момента, как он нажал кнопку «Завершить поездку»\n",
    "- `date`\tдата совершения поездки"
   ]
  },
  {
   "cell_type": "code",
   "execution_count": 5,
   "id": "ab340bd1",
   "metadata": {},
   "outputs": [
    {
     "name": "stdout",
     "output_type": "stream",
     "text": [
      "<class 'pandas.core.frame.DataFrame'>\n",
      "RangeIndex: 18068 entries, 0 to 18067\n",
      "Data columns (total 4 columns):\n",
      " #   Column    Non-Null Count  Dtype  \n",
      "---  ------    --------------  -----  \n",
      " 0   user_id   18068 non-null  int64  \n",
      " 1   distance  18068 non-null  float64\n",
      " 2   duration  18068 non-null  float64\n",
      " 3   date      18068 non-null  object \n",
      "dtypes: float64(2), int64(1), object(1)\n",
      "memory usage: 564.8+ KB\n"
     ]
    }
   ],
   "source": [
    "rides.info()"
   ]
  },
  {
   "cell_type": "markdown",
   "id": "3eeeef2c",
   "metadata": {},
   "source": [
    "Запишем датасет /datasets/subscriptions_go.csv в датафрейм **subscriptions**, посмотрим на его первые 5 строк и посмотрим информацию."
   ]
  },
  {
   "cell_type": "code",
   "execution_count": 6,
   "id": "dc587db8",
   "metadata": {
    "scrolled": true
   },
   "outputs": [
    {
     "data": {
      "text/html": [
       "<div>\n",
       "<style scoped>\n",
       "    .dataframe tbody tr th:only-of-type {\n",
       "        vertical-align: middle;\n",
       "    }\n",
       "\n",
       "    .dataframe tbody tr th {\n",
       "        vertical-align: top;\n",
       "    }\n",
       "\n",
       "    .dataframe thead th {\n",
       "        text-align: right;\n",
       "    }\n",
       "</style>\n",
       "<table border=\"1\" class=\"dataframe\">\n",
       "  <thead>\n",
       "    <tr style=\"text-align: right;\">\n",
       "      <th></th>\n",
       "      <th>subscription_type</th>\n",
       "      <th>minute_price</th>\n",
       "      <th>start_ride_price</th>\n",
       "      <th>subscription_fee</th>\n",
       "    </tr>\n",
       "  </thead>\n",
       "  <tbody>\n",
       "    <tr>\n",
       "      <th>0</th>\n",
       "      <td>free</td>\n",
       "      <td>8</td>\n",
       "      <td>50</td>\n",
       "      <td>0</td>\n",
       "    </tr>\n",
       "    <tr>\n",
       "      <th>1</th>\n",
       "      <td>ultra</td>\n",
       "      <td>6</td>\n",
       "      <td>0</td>\n",
       "      <td>199</td>\n",
       "    </tr>\n",
       "  </tbody>\n",
       "</table>\n",
       "</div>"
      ],
      "text/plain": [
       "  subscription_type  minute_price  start_ride_price  subscription_fee\n",
       "0              free             8                50                 0\n",
       "1             ultra             6                 0               199"
      ]
     },
     "execution_count": 6,
     "metadata": {},
     "output_type": "execute_result"
    }
   ],
   "source": [
    "subscriptions = pd.read_csv('/datasets/subscriptions_go.csv', sep=',')\n",
    "subscriptions.head()"
   ]
  },
  {
   "cell_type": "markdown",
   "id": "29755da7",
   "metadata": {},
   "source": [
    "- `subscription_type`\tтип подписки\n",
    "- `minute_price`\tстоимость одной минуты поездки по данной подписке\n",
    "- `start_ride_price`\tстоимость начала поездки\n",
    "- `subscription_fee`\tстоимость ежемесячного платежа"
   ]
  },
  {
   "cell_type": "code",
   "execution_count": 7,
   "id": "6363f217",
   "metadata": {
    "scrolled": true
   },
   "outputs": [
    {
     "name": "stdout",
     "output_type": "stream",
     "text": [
      "<class 'pandas.core.frame.DataFrame'>\n",
      "RangeIndex: 2 entries, 0 to 1\n",
      "Data columns (total 4 columns):\n",
      " #   Column             Non-Null Count  Dtype \n",
      "---  ------             --------------  ----- \n",
      " 0   subscription_type  2 non-null      object\n",
      " 1   minute_price       2 non-null      int64 \n",
      " 2   start_ride_price   2 non-null      int64 \n",
      " 3   subscription_fee   2 non-null      int64 \n",
      "dtypes: int64(3), object(1)\n",
      "memory usage: 192.0+ bytes\n"
     ]
    }
   ],
   "source": [
    "subscriptions.info()"
   ]
  },
  {
   "cell_type": "markdown",
   "id": "c3c16be7",
   "metadata": {},
   "source": [
    "**Вывод**  \n",
    "В нашем распоряжении 3 датафрейма:  \n",
    "**users** с данными о пользователях, 1564 строк, с 5 столбцами.  \n",
    "**rides** с данными о поездках пользователей, 18058 строк, с 4 колонками.  \n",
    "**subscriptions** с данными о тарифах подписки, 2 строки, с 4 столбцами."
   ]
  },
  {
   "cell_type": "markdown",
   "id": "350f92dd",
   "metadata": {},
   "source": [
    " <a id='step2'></a>"
   ]
  },
  {
   "cell_type": "markdown",
   "id": "8891ee17",
   "metadata": {},
   "source": [
    "#### Шаг. Предобработка данных"
   ]
  },
  {
   "cell_type": "markdown",
   "id": "cfd14936",
   "metadata": {},
   "source": [
    "<a id='step2.1'></a>"
   ]
  },
  {
   "cell_type": "markdown",
   "id": "d1a40f87",
   "metadata": {},
   "source": [
    "##### Проверка на пропуски "
   ]
  },
  {
   "cell_type": "markdown",
   "id": "97e71c71",
   "metadata": {},
   "source": [
    "Проверим данные на пропуски."
   ]
  },
  {
   "cell_type": "code",
   "execution_count": 8,
   "id": "d65ac37d",
   "metadata": {
    "scrolled": true
   },
   "outputs": [
    {
     "name": "stdout",
     "output_type": "stream",
     "text": [
      "Пропуски в users:\n",
      "user_id              0\n",
      "name                 0\n",
      "age                  0\n",
      "city                 0\n",
      "subscription_type    0\n",
      "dtype: int64\n",
      "\n",
      "Пропуски в rides:\n",
      "user_id     0\n",
      "distance    0\n",
      "duration    0\n",
      "date        0\n",
      "dtype: int64\n"
     ]
    }
   ],
   "source": [
    "print('Пропуски в users:')\n",
    "print(users.isna().sum())\n",
    "print()\n",
    "print('Пропуски в rides:')\n",
    "print(rides.isna().sum())"
   ]
  },
  {
   "cell_type": "markdown",
   "id": "db4fa9ed",
   "metadata": {},
   "source": [
    "Пропусков нет."
   ]
  },
  {
   "cell_type": "markdown",
   "id": "a81b590b",
   "metadata": {},
   "source": [
    "<a id='step2.2'></a>"
   ]
  },
  {
   "cell_type": "markdown",
   "id": "9bb00853",
   "metadata": {},
   "source": [
    "##### Проверка на явные дубли  "
   ]
  },
  {
   "cell_type": "markdown",
   "id": "52c8df82",
   "metadata": {},
   "source": [
    "Проверим датафреймы на явные дубли."
   ]
  },
  {
   "cell_type": "code",
   "execution_count": 9,
   "id": "8e08f5d1",
   "metadata": {
    "scrolled": true
   },
   "outputs": [
    {
     "name": "stdout",
     "output_type": "stream",
     "text": [
      "Явных дублей в users:\n",
      "31\n",
      "\n",
      "Явных дублей в rides:\n",
      "0\n"
     ]
    }
   ],
   "source": [
    "print('Явных дублей в users:')\n",
    "print(users.duplicated().sum())\n",
    "print()\n",
    "print('Явных дублей в rides:')\n",
    "print(rides.duplicated().sum())\n"
   ]
  },
  {
   "cell_type": "markdown",
   "id": "2d6a6b20",
   "metadata": {},
   "source": [
    "В users обнаружились 31 явный дубль, удалим их."
   ]
  },
  {
   "cell_type": "code",
   "execution_count": 10,
   "id": "144ddfae",
   "metadata": {
    "scrolled": true
   },
   "outputs": [],
   "source": [
    "users = users.drop_duplicates()"
   ]
  },
  {
   "cell_type": "markdown",
   "id": "57b4efa1",
   "metadata": {},
   "source": [
    "Проверим, удалились ли все дубли:"
   ]
  },
  {
   "cell_type": "code",
   "execution_count": 11,
   "id": "0c0b0606",
   "metadata": {},
   "outputs": [
    {
     "name": "stdout",
     "output_type": "stream",
     "text": [
      "Явных дублей в users:\n",
      "0\n",
      "\n",
      "Явных дублей в rides:\n",
      "0\n"
     ]
    }
   ],
   "source": [
    "print('Явных дублей в users:')\n",
    "print(users.duplicated().sum())\n",
    "print()\n",
    "print('Явных дублей в rides:')\n",
    "print(rides.duplicated().sum())\n"
   ]
  },
  {
   "cell_type": "markdown",
   "id": "dbbfa4bb",
   "metadata": {},
   "source": [
    "<a id='step2.3'></a>"
   ]
  },
  {
   "cell_type": "markdown",
   "id": "30c3968f",
   "metadata": {},
   "source": [
    "##### Изменение типа данных "
   ]
  },
  {
   "cell_type": "code",
   "execution_count": 12,
   "id": "16e791ee",
   "metadata": {
    "scrolled": true
   },
   "outputs": [
    {
     "data": {
      "text/plain": [
       "0    2021-01-01\n",
       "1    2021-01-18\n",
       "2    2021-04-20\n",
       "3    2021-08-11\n",
       "4    2021-08-28\n",
       "Name: date, dtype: object"
      ]
     },
     "execution_count": 12,
     "metadata": {},
     "output_type": "execute_result"
    }
   ],
   "source": [
    "rides['date'].head()"
   ]
  },
  {
   "cell_type": "markdown",
   "id": "aa52ef09",
   "metadata": {},
   "source": [
    "Приведем столбец `date` в **rides** к типу pandas datetime64"
   ]
  },
  {
   "cell_type": "code",
   "execution_count": 13,
   "id": "11377393",
   "metadata": {
    "scrolled": false
   },
   "outputs": [
    {
     "data": {
      "text/plain": [
       "0   2021-01-01\n",
       "1   2021-01-18\n",
       "2   2021-04-20\n",
       "3   2021-08-11\n",
       "4   2021-08-28\n",
       "Name: date, dtype: datetime64[ns]"
      ]
     },
     "execution_count": 13,
     "metadata": {},
     "output_type": "execute_result"
    }
   ],
   "source": [
    "#форматируем столбец\n",
    "rides['date'] = pd.to_datetime(rides['date'], format='%Y-%m-%d')\n",
    "#выводим первые 5 строк, чтобы удостовериться, что все выполнено верно\n",
    "rides['date'].head()"
   ]
  },
  {
   "cell_type": "markdown",
   "id": "b24b6384",
   "metadata": {},
   "source": [
    "Посмотрим, за какой период у нас есть данные:"
   ]
  },
  {
   "cell_type": "code",
   "execution_count": 14,
   "id": "89604f2e",
   "metadata": {
    "scrolled": true
   },
   "outputs": [
    {
     "name": "stdout",
     "output_type": "stream",
     "text": [
      "Самая ранняя дата в данных: 2021-01-01 00:00:00\n",
      "Самая поздняя дата в данных: 2021-12-30 00:00:00\n"
     ]
    }
   ],
   "source": [
    "print('Самая ранняя дата в данных:', rides['date'].min())\n",
    "print('Самая поздняя дата в данных:', rides['date'].max())"
   ]
  },
  {
   "cell_type": "markdown",
   "id": "721d1e7b",
   "metadata": {},
   "source": [
    "В нашем распоряжении данные с 1 января 2021 года по 30 декабря 2021 года."
   ]
  },
  {
   "cell_type": "markdown",
   "id": "617cd91a",
   "metadata": {},
   "source": [
    "<a id='step2.4'></a>"
   ]
  },
  {
   "cell_type": "markdown",
   "id": "f46f7d0f",
   "metadata": {},
   "source": [
    "##### Добавление новых столбцов "
   ]
  },
  {
   "cell_type": "markdown",
   "id": "6c0b2fa1",
   "metadata": {},
   "source": [
    "Создадим в **rides** столбец `month` со значениями номера месяца."
   ]
  },
  {
   "cell_type": "code",
   "execution_count": 15,
   "id": "2a3f0fdf",
   "metadata": {},
   "outputs": [
    {
     "data": {
      "text/html": [
       "<div>\n",
       "<style scoped>\n",
       "    .dataframe tbody tr th:only-of-type {\n",
       "        vertical-align: middle;\n",
       "    }\n",
       "\n",
       "    .dataframe tbody tr th {\n",
       "        vertical-align: top;\n",
       "    }\n",
       "\n",
       "    .dataframe thead th {\n",
       "        text-align: right;\n",
       "    }\n",
       "</style>\n",
       "<table border=\"1\" class=\"dataframe\">\n",
       "  <thead>\n",
       "    <tr style=\"text-align: right;\">\n",
       "      <th></th>\n",
       "      <th>date</th>\n",
       "      <th>month</th>\n",
       "    </tr>\n",
       "  </thead>\n",
       "  <tbody>\n",
       "    <tr>\n",
       "      <th>0</th>\n",
       "      <td>2021-01-01</td>\n",
       "      <td>1</td>\n",
       "    </tr>\n",
       "    <tr>\n",
       "      <th>1</th>\n",
       "      <td>2021-01-18</td>\n",
       "      <td>1</td>\n",
       "    </tr>\n",
       "    <tr>\n",
       "      <th>2</th>\n",
       "      <td>2021-04-20</td>\n",
       "      <td>4</td>\n",
       "    </tr>\n",
       "    <tr>\n",
       "      <th>3</th>\n",
       "      <td>2021-08-11</td>\n",
       "      <td>8</td>\n",
       "    </tr>\n",
       "    <tr>\n",
       "      <th>4</th>\n",
       "      <td>2021-08-28</td>\n",
       "      <td>8</td>\n",
       "    </tr>\n",
       "  </tbody>\n",
       "</table>\n",
       "</div>"
      ],
      "text/plain": [
       "        date  month\n",
       "0 2021-01-01      1\n",
       "1 2021-01-18      1\n",
       "2 2021-04-20      4\n",
       "3 2021-08-11      8\n",
       "4 2021-08-28      8"
      ]
     },
     "execution_count": 15,
     "metadata": {},
     "output_type": "execute_result"
    }
   ],
   "source": [
    "#Создаем столбец month\n",
    "rides['month'] = rides['date'].dt.month\n",
    "#выводим первые 5 строк, чтобы убедиться, что все сделано\n",
    "rides[['date', 'month']].head()"
   ]
  },
  {
   "cell_type": "markdown",
   "id": "66e16c27",
   "metadata": {},
   "source": [
    "**Вывод**  \n",
    "Мы проверили данные на отсутствие пропусков, удалили явные дубли, изменили тип данных в столбце `date` датафрейма **rides** на тип datetime64 для удобства работы с ним, добавили к датафрейму **rides**  столбец `month` со значениями номера месяца."
   ]
  },
  {
   "cell_type": "markdown",
   "id": "cc1080ca",
   "metadata": {},
   "source": [
    " <a id='step3'></a>"
   ]
  },
  {
   "cell_type": "markdown",
   "id": "a560fa40",
   "metadata": {},
   "source": [
    "#### Шаг. Исследовательский анализ данных"
   ]
  },
  {
   "cell_type": "markdown",
   "id": "e016ff14",
   "metadata": {},
   "source": [
    "<a id='step3.1'></a>"
   ]
  },
  {
   "cell_type": "markdown",
   "id": "9f896558",
   "metadata": {},
   "source": [
    "##### Частота встречаемости городов  "
   ]
  },
  {
   "cell_type": "markdown",
   "id": "afb0b697",
   "metadata": {},
   "source": [
    "Изучим в датафреме **users** столбец `city`."
   ]
  },
  {
   "cell_type": "code",
   "execution_count": 16,
   "id": "d0390da1",
   "metadata": {
    "scrolled": true
   },
   "outputs": [
    {
     "data": {
      "text/plain": [
       "Пятигорск         219\n",
       "Екатеринбург      204\n",
       "Ростов-на-Дону    198\n",
       "Краснодар         193\n",
       "Сочи              189\n",
       "Омск              183\n",
       "Тюмень            180\n",
       "Москва            168\n",
       "Name: city, dtype: int64"
      ]
     },
     "execution_count": 16,
     "metadata": {},
     "output_type": "execute_result"
    }
   ],
   "source": [
    "users['city'].value_counts()"
   ]
  },
  {
   "cell_type": "markdown",
   "id": "552516ba",
   "metadata": {},
   "source": [
    "Визуализируем эти данные."
   ]
  },
  {
   "cell_type": "code",
   "execution_count": 17,
   "id": "a6ea7e30",
   "metadata": {
    "scrolled": false
   },
   "outputs": [
    {
     "data": {
      "image/png": "[encoded data removed]",
      "text/plain": [
       "<Figure size 792x360 with 1 Axes>"
      ]
     },
     "metadata": {
      "needs_background": "light"
     },
     "output_type": "display_data"
    }
   ],
   "source": [
    "users['city'].value_counts().sort_values().plot.barh(figsize=(11, 5))\n",
    "plt.grid(axis='x')\n",
    "plt.title(\"Частота встречаемости городов \")\n",
    "plt.xlabel(\"Частота\")\n",
    "plt.ylabel(\"Города\");"
   ]
  },
  {
   "cell_type": "markdown",
   "id": "b063a5f9",
   "metadata": {},
   "source": [
    "Всего 8 городов, в каждом городе по 168-219 пользователей. Больше всего пользователей в Пятигорске, меньше всего - в Москве."
   ]
  },
  {
   "cell_type": "markdown",
   "id": "57b93ad0",
   "metadata": {},
   "source": [
    "<a id='step3.2'></a>"
   ]
  },
  {
   "cell_type": "markdown",
   "id": "e8ce4766",
   "metadata": {},
   "source": [
    "##### Соотношение пользователей с подпиской и без подписки "
   ]
  },
  {
   "cell_type": "markdown",
   "id": "aac60fe5",
   "metadata": {},
   "source": [
    "Изучим в датафреме **users** столбец `subscription_type`."
   ]
  },
  {
   "cell_type": "code",
   "execution_count": 18,
   "id": "c3763706",
   "metadata": {
    "scrolled": false
   },
   "outputs": [
    {
     "data": {
      "text/plain": [
       "free     835\n",
       "ultra    699\n",
       "Name: subscription_type, dtype: int64"
      ]
     },
     "execution_count": 18,
     "metadata": {},
     "output_type": "execute_result"
    }
   ],
   "source": [
    "users['subscription_type'].value_counts()"
   ]
  },
  {
   "cell_type": "markdown",
   "id": "44fbfb0c",
   "metadata": {},
   "source": [
    "Посчитаем в процентном соотношении%."
   ]
  },
  {
   "cell_type": "code",
   "execution_count": 19,
   "id": "e98380f8",
   "metadata": {},
   "outputs": [
    {
     "data": {
      "text/plain": [
       "free     54.432855\n",
       "ultra    45.567145\n",
       "Name: subscription_type, dtype: float64"
      ]
     },
     "execution_count": 19,
     "metadata": {},
     "output_type": "execute_result"
    }
   ],
   "source": [
    "users['subscription_type'].value_counts() / len(users['subscription_type']) * 100"
   ]
  },
  {
   "cell_type": "markdown",
   "id": "e9d77114",
   "metadata": {},
   "source": [
    "Визуализируем эти данные."
   ]
  },
  {
   "cell_type": "code",
   "execution_count": 20,
   "id": "37735169",
   "metadata": {},
   "outputs": [
    {
     "data": {
      "image/png": "[encoded data removed]",
      "text/plain": [
       "<Figure size 432x432 with 1 Axes>"
      ]
     },
     "metadata": {},
     "output_type": "display_data"
    }
   ],
   "source": [
    "users['subscription_type'].value_counts().plot(kind=\"pie\", \n",
    "                                               autopct='%1.1f%%',\n",
    "                                               explode=[0.01, 0.01],\n",
    "                                               legend=True, \n",
    "                                               title='Соотношение пользователей с подпиской (ultra) и без подписки (free)', \n",
    "                                               ylabel='', \n",
    "                                               labeldistance=None, \n",
    "                                               figsize=(6, 6))\n",
    "plt.legend()\n",
    "plt.show()"
   ]
  },
  {
   "cell_type": "markdown",
   "id": "f95f92ae",
   "metadata": {},
   "source": [
    "Пользователей без подписки, их около 54%, подписок типа \"ultra\" - около 46%."
   ]
  },
  {
   "cell_type": "markdown",
   "id": "940b61b4",
   "metadata": {},
   "source": [
    "<a id='step3.3'></a>"
   ]
  },
  {
   "cell_type": "markdown",
   "id": "78e7fd47",
   "metadata": {},
   "source": [
    "#####  Возраст пользователей "
   ]
  },
  {
   "cell_type": "markdown",
   "id": "07d4ae10",
   "metadata": {},
   "source": [
    "Изучим в датафреме **users** столбец `age`."
   ]
  },
  {
   "cell_type": "markdown",
   "id": "deb8fe11",
   "metadata": {},
   "source": [
    "Построим гистограмму."
   ]
  },
  {
   "cell_type": "code",
   "execution_count": 21,
   "id": "47d4a019",
   "metadata": {
    "scrolled": true
   },
   "outputs": [
    {
     "data": {
      "image/png": "[encoded data removed]",
      "text/plain": [
       "<Figure size 792x360 with 1 Axes>"
      ]
     },
     "metadata": {
      "needs_background": "light"
     },
     "output_type": "display_data"
    }
   ],
   "source": [
    "users['age'].hist(bins=62, figsize=(11, 5));\n",
    "plt.title('Возраст пользователей')\n",
    "plt.xlabel(\"Возраст\")\n",
    "plt.ylabel(\"Частота\")\n",
    "plt.show()\n"
   ]
  },
  {
   "cell_type": "markdown",
   "id": "16b998d6",
   "metadata": {},
   "source": [
    "Изучим данные."
   ]
  },
  {
   "cell_type": "code",
   "execution_count": 22,
   "id": "20594ee5",
   "metadata": {
    "scrolled": true
   },
   "outputs": [
    {
     "data": {
      "text/plain": [
       "count    1534.000000\n",
       "mean       24.903520\n",
       "std         4.572367\n",
       "min        12.000000\n",
       "25%        22.000000\n",
       "50%        25.000000\n",
       "75%        28.000000\n",
       "max        43.000000\n",
       "Name: age, dtype: float64"
      ]
     },
     "execution_count": 22,
     "metadata": {},
     "output_type": "execute_result"
    }
   ],
   "source": [
    "users['age'].describe()"
   ]
  },
  {
   "cell_type": "markdown",
   "id": "d35a7a6b",
   "metadata": {},
   "source": [
    "Самому молодому пользователю 12 лет, а самому взрослому - 43. Средний возраст пользователей - 24,9 года, медианное значение (и самый распространенный возраст) - 25 лет."
   ]
  },
  {
   "cell_type": "markdown",
   "id": "46f09149",
   "metadata": {},
   "source": [
    "<a id='step3.4'></a>"
   ]
  },
  {
   "cell_type": "markdown",
   "id": "59454828",
   "metadata": {},
   "source": [
    "#####  Расстояние, которое пользователь преодолел за одну поездку "
   ]
  },
  {
   "cell_type": "markdown",
   "id": "61ccaa65",
   "metadata": {},
   "source": [
    "Изучим столбец `distance` датафрема **rides**"
   ]
  },
  {
   "cell_type": "code",
   "execution_count": 23,
   "id": "cd8631cb",
   "metadata": {
    "scrolled": true
   },
   "outputs": [
    {
     "data": {
      "text/plain": [
       "count    18068.000000\n",
       "mean      3070.659976\n",
       "std       1116.831209\n",
       "min          0.855683\n",
       "25%       2543.226360\n",
       "50%       3133.609994\n",
       "75%       3776.222735\n",
       "max       7211.007745\n",
       "Name: distance, dtype: float64"
      ]
     },
     "execution_count": 23,
     "metadata": {},
     "output_type": "execute_result"
    }
   ],
   "source": [
    "rides['distance'].describe()"
   ]
  },
  {
   "cell_type": "code",
   "execution_count": 24,
   "id": "18c77459",
   "metadata": {
    "scrolled": true
   },
   "outputs": [
    {
     "data": {
      "image/png": "[encoded data removed]",
      "text/plain": [
       "<Figure size 792x360 with 1 Axes>"
      ]
     },
     "metadata": {
      "needs_background": "light"
     },
     "output_type": "display_data"
    }
   ],
   "source": [
    "rides['distance'].hist(bins=100, figsize=(11, 5));\n",
    "plt.title('Расстояние за одну поездку')\n",
    "plt.xlabel(\"Расстояние\")\n",
    "plt.ylabel(\"Частота\")\n",
    "plt.show()"
   ]
  },
  {
   "cell_type": "markdown",
   "id": "1c39c363",
   "metadata": {},
   "source": [
    "Мы видим, что минимальное расстояние за одну поездку - менее 1 метра, возможно, пользователи сталкиваются с какими-то проблемами (например, самокат не работает) и заканчивают почти сразу поездку. Максимальное расстояние одной поездки - более 7 км.  \n",
    "На гистограмме мы видим, что есть два пика: один поменьше, около 700 м., и второй побольше - около 3100 м. Возможно, часть пользователей берет самокат просто попробовать прокатиться, или доехать до ближайшей остановки общественного транспорта, а вторая часть пользователей предпочитает более дальние поездки, например, во время прогулки по городу.  \n",
    "Среднее расстояние поездки - 3071 м., медианное - 3134 м."
   ]
  },
  {
   "cell_type": "markdown",
   "id": "d3941085",
   "metadata": {},
   "source": [
    "Проверим значения 1 и менее метров."
   ]
  },
  {
   "cell_type": "code",
   "execution_count": 25,
   "id": "10c96922",
   "metadata": {},
   "outputs": [
    {
     "data": {
      "text/html": [
       "<div>\n",
       "<style scoped>\n",
       "    .dataframe tbody tr th:only-of-type {\n",
       "        vertical-align: middle;\n",
       "    }\n",
       "\n",
       "    .dataframe tbody tr th {\n",
       "        vertical-align: top;\n",
       "    }\n",
       "\n",
       "    .dataframe thead th {\n",
       "        text-align: right;\n",
       "    }\n",
       "</style>\n",
       "<table border=\"1\" class=\"dataframe\">\n",
       "  <thead>\n",
       "    <tr style=\"text-align: right;\">\n",
       "      <th></th>\n",
       "      <th>user_id</th>\n",
       "      <th>distance</th>\n",
       "      <th>duration</th>\n",
       "      <th>date</th>\n",
       "      <th>month</th>\n",
       "    </tr>\n",
       "  </thead>\n",
       "  <tbody>\n",
       "    <tr>\n",
       "      <th>11555</th>\n",
       "      <td>1069</td>\n",
       "      <td>0.855683</td>\n",
       "      <td>10.001902</td>\n",
       "      <td>2021-01-31</td>\n",
       "      <td>1</td>\n",
       "    </tr>\n",
       "  </tbody>\n",
       "</table>\n",
       "</div>"
      ],
      "text/plain": [
       "       user_id  distance   duration       date  month\n",
       "11555     1069  0.855683  10.001902 2021-01-31      1"
      ]
     },
     "execution_count": 25,
     "metadata": {},
     "output_type": "execute_result"
    }
   ],
   "source": [
    "rides[rides['distance'] <=1].head()"
   ]
  },
  {
   "cell_type": "markdown",
   "id": "8e2f1172",
   "metadata": {},
   "source": [
    "Только один раз пользователь взял самокат и через 10 минут завершил поездку. Возможно, действительно были какие-то технические проблемы с самокатом."
   ]
  },
  {
   "cell_type": "markdown",
   "id": "daedcd26",
   "metadata": {},
   "source": [
    "<a id='step3.5'></a>"
   ]
  },
  {
   "cell_type": "markdown",
   "id": "abd67880",
   "metadata": {},
   "source": [
    "##### Продолжительность поездок "
   ]
  },
  {
   "cell_type": "markdown",
   "id": "923f7558",
   "metadata": {},
   "source": [
    "Изучим столбец `duration` датафрема **rides**"
   ]
  },
  {
   "cell_type": "code",
   "execution_count": 26,
   "id": "fddaaf85",
   "metadata": {
    "scrolled": true
   },
   "outputs": [
    {
     "data": {
      "text/plain": [
       "count    18068.000000\n",
       "mean        17.805011\n",
       "std          6.091051\n",
       "min          0.500000\n",
       "25%         13.597563\n",
       "50%         17.678395\n",
       "75%         21.724800\n",
       "max         40.823963\n",
       "Name: duration, dtype: float64"
      ]
     },
     "execution_count": 26,
     "metadata": {},
     "output_type": "execute_result"
    }
   ],
   "source": [
    "rides['duration'].describe()"
   ]
  },
  {
   "cell_type": "code",
   "execution_count": 27,
   "id": "84dfe16b",
   "metadata": {
    "scrolled": false
   },
   "outputs": [
    {
     "data": {
      "image/png": "[encoded data removed]",
      "text/plain": [
       "<Figure size 792x360 with 1 Axes>"
      ]
     },
     "metadata": {
      "needs_background": "light"
     },
     "output_type": "display_data"
    }
   ],
   "source": [
    "rides['duration'].hist(bins=100, figsize=(11, 5));\n",
    "plt.title('Продолжительность поездок')\n",
    "plt.xlabel(\"Продолжительность\")\n",
    "plt.ylabel(\"Частота\")\n",
    "plt.show()"
   ]
  },
  {
   "cell_type": "markdown",
   "id": "458548eb",
   "metadata": {},
   "source": [
    "Мы видим, что около 100 пользователей использовали самокат менее 1 минуты."
   ]
  },
  {
   "cell_type": "code",
   "execution_count": 28,
   "id": "ba40c1c6",
   "metadata": {
    "scrolled": true
   },
   "outputs": [
    {
     "data": {
      "text/html": [
       "<div>\n",
       "<style scoped>\n",
       "    .dataframe tbody tr th:only-of-type {\n",
       "        vertical-align: middle;\n",
       "    }\n",
       "\n",
       "    .dataframe tbody tr th {\n",
       "        vertical-align: top;\n",
       "    }\n",
       "\n",
       "    .dataframe thead th {\n",
       "        text-align: right;\n",
       "    }\n",
       "</style>\n",
       "<table border=\"1\" class=\"dataframe\">\n",
       "  <thead>\n",
       "    <tr style=\"text-align: right;\">\n",
       "      <th></th>\n",
       "      <th>user_id</th>\n",
       "      <th>distance</th>\n",
       "      <th>duration</th>\n",
       "      <th>date</th>\n",
       "      <th>month</th>\n",
       "    </tr>\n",
       "  </thead>\n",
       "  <tbody>\n",
       "    <tr>\n",
       "      <th>6531</th>\n",
       "      <td>701</td>\n",
       "      <td>4196.445201</td>\n",
       "      <td>0.5</td>\n",
       "      <td>2021-08-31</td>\n",
       "      <td>8</td>\n",
       "    </tr>\n",
       "    <tr>\n",
       "      <th>6570</th>\n",
       "      <td>704</td>\n",
       "      <td>4830.824371</td>\n",
       "      <td>0.5</td>\n",
       "      <td>2021-10-14</td>\n",
       "      <td>10</td>\n",
       "    </tr>\n",
       "    <tr>\n",
       "      <th>6680</th>\n",
       "      <td>712</td>\n",
       "      <td>4684.004397</td>\n",
       "      <td>0.5</td>\n",
       "      <td>2021-03-04</td>\n",
       "      <td>3</td>\n",
       "    </tr>\n",
       "    <tr>\n",
       "      <th>6695</th>\n",
       "      <td>713</td>\n",
       "      <td>5215.642710</td>\n",
       "      <td>0.5</td>\n",
       "      <td>2021-02-25</td>\n",
       "      <td>2</td>\n",
       "    </tr>\n",
       "    <tr>\n",
       "      <th>6768</th>\n",
       "      <td>718</td>\n",
       "      <td>5197.436649</td>\n",
       "      <td>0.5</td>\n",
       "      <td>2021-02-11</td>\n",
       "      <td>2</td>\n",
       "    </tr>\n",
       "  </tbody>\n",
       "</table>\n",
       "</div>"
      ],
      "text/plain": [
       "      user_id     distance  duration       date  month\n",
       "6531      701  4196.445201       0.5 2021-08-31      8\n",
       "6570      704  4830.824371       0.5 2021-10-14     10\n",
       "6680      712  4684.004397       0.5 2021-03-04      3\n",
       "6695      713  5215.642710       0.5 2021-02-25      2\n",
       "6768      718  5197.436649       0.5 2021-02-11      2"
      ]
     },
     "execution_count": 28,
     "metadata": {},
     "output_type": "execute_result"
    }
   ],
   "source": [
    "rides[rides['duration'] <= 1].head()"
   ]
  },
  {
   "cell_type": "markdown",
   "id": "43a569e8",
   "metadata": {},
   "source": [
    "Мы видим, что пользователь пользовался самокатом менее 1 минуты, но проехал более 4 км, это невозможно (получается, что самокат ехал со скоростью более 250 км/ч). Средняя скорость самоката 13-15 км/ч, а максимальная разрешенная - 25 км/ч. т.е. около 417 м/мин. Уберем из датафрема поездки, продолжительность которых менее 1 минуты, а расстояние - более 417 м. "
   ]
  },
  {
   "cell_type": "code",
   "execution_count": 29,
   "id": "4e17b81e",
   "metadata": {},
   "outputs": [],
   "source": [
    "rides.loc[(rides['duration'] <= 1) & (rides['distance'] > 417), 'duration'] = None \n",
    "rides = rides.dropna(subset=['duration']) "
   ]
  },
  {
   "cell_type": "markdown",
   "id": "ec755694",
   "metadata": {},
   "source": [
    "Взглянем еще раз на данные."
   ]
  },
  {
   "cell_type": "code",
   "execution_count": 30,
   "id": "c034128a",
   "metadata": {},
   "outputs": [
    {
     "data": {
      "text/plain": [
       "count    17973.000000\n",
       "mean        17.896480\n",
       "std          5.975424\n",
       "min          2.035632\n",
       "25%         13.670439\n",
       "50%         17.714122\n",
       "75%         21.747016\n",
       "max         40.823963\n",
       "Name: duration, dtype: float64"
      ]
     },
     "execution_count": 30,
     "metadata": {},
     "output_type": "execute_result"
    }
   ],
   "source": [
    "rides['duration'].describe()"
   ]
  },
  {
   "cell_type": "code",
   "execution_count": 31,
   "id": "41822cda",
   "metadata": {
    "scrolled": true
   },
   "outputs": [
    {
     "data": {
      "image/png": "[encoded data removed]",
      "text/plain": [
       "<Figure size 792x360 with 1 Axes>"
      ]
     },
     "metadata": {
      "needs_background": "light"
     },
     "output_type": "display_data"
    }
   ],
   "source": [
    "rides['duration'].hist(bins=100, figsize=(11, 5));\n",
    "plt.title('Продолжительность поездок')\n",
    "plt.xlabel(\"Продолжительность\")\n",
    "plt.ylabel(\"Частота\")\n",
    "plt.show()"
   ]
  },
  {
   "cell_type": "markdown",
   "id": "bb12351d",
   "metadata": {},
   "source": [
    "Минимум пользователи берут самокат на 2 минуты, а максимум - на 40. Средня продолжительность времени поездки - 17,9 минут, а медианное значение - 17,7 мин."
   ]
  },
  {
   "cell_type": "markdown",
   "id": "1fef4326",
   "metadata": {},
   "source": [
    "**Вывод**  \n",
    "\n",
    "Мы проверили исследовательский анализ данных. У нас данные по 8 городам, в каждом городе по 168-219 пользователей. Больше всего пользователей в Пятигорске, меньше всего - в Москве. Пользователей без подписки, их около 54%, подписок типа \"ultra\" - около 46%. Самому молодому пользователю 12 лет, а самому взрослому - 43. Средний возраст пользователей - 24,9 года, медианное значение (и самый распространенный возраст) - 25 лет. Среднее расстояние поездки - 3071 м., медианное - 3134 м. Минимум пользователи берут самокат на 2 минуты, а максимум - на 40. Средня продолжительность времени поездки - 17,9 минут, а медианное значение - 17,7 мин.\n"
   ]
  },
  {
   "cell_type": "markdown",
   "id": "9b88cc28",
   "metadata": {},
   "source": [
    "<a id='step4'> </a>"
   ]
  },
  {
   "cell_type": "markdown",
   "id": "4d252767",
   "metadata": {},
   "source": [
    "#### Шаг. Объединение данных "
   ]
  },
  {
   "cell_type": "markdown",
   "id": "69bfcbb4",
   "metadata": {},
   "source": [
    "<a id='step4.1'></a>"
   ]
  },
  {
   "cell_type": "markdown",
   "id": "ae4a5d13",
   "metadata": {},
   "source": [
    "#####  Объединение данных "
   ]
  },
  {
   "cell_type": "markdown",
   "id": "2d04377a",
   "metadata": {},
   "source": [
    "Объединим датафремы **rides** и **users** по столбцу `user_id`. И к полученному датафрейму добавим данные из датафрема **subscriptions** по столбцу `subscription_type`"
   ]
  },
  {
   "cell_type": "code",
   "execution_count": 32,
   "id": "4827bbd2",
   "metadata": {
    "scrolled": true
   },
   "outputs": [
    {
     "data": {
      "text/html": [
       "<div>\n",
       "<style scoped>\n",
       "    .dataframe tbody tr th:only-of-type {\n",
       "        vertical-align: middle;\n",
       "    }\n",
       "\n",
       "    .dataframe tbody tr th {\n",
       "        vertical-align: top;\n",
       "    }\n",
       "\n",
       "    .dataframe thead th {\n",
       "        text-align: right;\n",
       "    }\n",
       "</style>\n",
       "<table border=\"1\" class=\"dataframe\">\n",
       "  <thead>\n",
       "    <tr style=\"text-align: right;\">\n",
       "      <th></th>\n",
       "      <th>user_id</th>\n",
       "      <th>distance</th>\n",
       "      <th>duration</th>\n",
       "      <th>date</th>\n",
       "      <th>month</th>\n",
       "      <th>name</th>\n",
       "      <th>age</th>\n",
       "      <th>city</th>\n",
       "      <th>subscription_type</th>\n",
       "      <th>minute_price</th>\n",
       "      <th>start_ride_price</th>\n",
       "      <th>subscription_fee</th>\n",
       "    </tr>\n",
       "  </thead>\n",
       "  <tbody>\n",
       "    <tr>\n",
       "      <th>0</th>\n",
       "      <td>1</td>\n",
       "      <td>4409.919140</td>\n",
       "      <td>25.599769</td>\n",
       "      <td>2021-01-01</td>\n",
       "      <td>1</td>\n",
       "      <td>Кира</td>\n",
       "      <td>22</td>\n",
       "      <td>Тюмень</td>\n",
       "      <td>ultra</td>\n",
       "      <td>6</td>\n",
       "      <td>0</td>\n",
       "      <td>199</td>\n",
       "    </tr>\n",
       "    <tr>\n",
       "      <th>1</th>\n",
       "      <td>1</td>\n",
       "      <td>2617.592153</td>\n",
       "      <td>15.816871</td>\n",
       "      <td>2021-01-18</td>\n",
       "      <td>1</td>\n",
       "      <td>Кира</td>\n",
       "      <td>22</td>\n",
       "      <td>Тюмень</td>\n",
       "      <td>ultra</td>\n",
       "      <td>6</td>\n",
       "      <td>0</td>\n",
       "      <td>199</td>\n",
       "    </tr>\n",
       "    <tr>\n",
       "      <th>2</th>\n",
       "      <td>1</td>\n",
       "      <td>754.159807</td>\n",
       "      <td>6.232113</td>\n",
       "      <td>2021-04-20</td>\n",
       "      <td>4</td>\n",
       "      <td>Кира</td>\n",
       "      <td>22</td>\n",
       "      <td>Тюмень</td>\n",
       "      <td>ultra</td>\n",
       "      <td>6</td>\n",
       "      <td>0</td>\n",
       "      <td>199</td>\n",
       "    </tr>\n",
       "    <tr>\n",
       "      <th>3</th>\n",
       "      <td>1</td>\n",
       "      <td>2694.783254</td>\n",
       "      <td>18.511000</td>\n",
       "      <td>2021-08-11</td>\n",
       "      <td>8</td>\n",
       "      <td>Кира</td>\n",
       "      <td>22</td>\n",
       "      <td>Тюмень</td>\n",
       "      <td>ultra</td>\n",
       "      <td>6</td>\n",
       "      <td>0</td>\n",
       "      <td>199</td>\n",
       "    </tr>\n",
       "    <tr>\n",
       "      <th>4</th>\n",
       "      <td>1</td>\n",
       "      <td>4028.687306</td>\n",
       "      <td>26.265803</td>\n",
       "      <td>2021-08-28</td>\n",
       "      <td>8</td>\n",
       "      <td>Кира</td>\n",
       "      <td>22</td>\n",
       "      <td>Тюмень</td>\n",
       "      <td>ultra</td>\n",
       "      <td>6</td>\n",
       "      <td>0</td>\n",
       "      <td>199</td>\n",
       "    </tr>\n",
       "  </tbody>\n",
       "</table>\n",
       "</div>"
      ],
      "text/plain": [
       "   user_id     distance   duration       date  month  name  age    city  \\\n",
       "0        1  4409.919140  25.599769 2021-01-01      1  Кира   22  Тюмень   \n",
       "1        1  2617.592153  15.816871 2021-01-18      1  Кира   22  Тюмень   \n",
       "2        1   754.159807   6.232113 2021-04-20      4  Кира   22  Тюмень   \n",
       "3        1  2694.783254  18.511000 2021-08-11      8  Кира   22  Тюмень   \n",
       "4        1  4028.687306  26.265803 2021-08-28      8  Кира   22  Тюмень   \n",
       "\n",
       "  subscription_type  minute_price  start_ride_price  subscription_fee  \n",
       "0             ultra             6                 0               199  \n",
       "1             ultra             6                 0               199  \n",
       "2             ultra             6                 0               199  \n",
       "3             ultra             6                 0               199  \n",
       "4             ultra             6                 0               199  "
      ]
     },
     "execution_count": 32,
     "metadata": {},
     "output_type": "execute_result"
    }
   ],
   "source": [
    "# объединяем датафрейм rides и users по столбцу user_id\n",
    "df = rides.merge(users, on='user_id')\n",
    "#объединяем датафрейм df и subscriptions по столбцу subscription_type\n",
    "df = df.merge(subscriptions, on='subscription_type')\n",
    "#\n",
    "df.head()"
   ]
  },
  {
   "cell_type": "markdown",
   "id": "b81c6ebc",
   "metadata": {},
   "source": [
    "Посмотрим информацию по новому получившемуся датафрему."
   ]
  },
  {
   "cell_type": "code",
   "execution_count": 33,
   "id": "8d91d0fc",
   "metadata": {
    "scrolled": false
   },
   "outputs": [
    {
     "name": "stdout",
     "output_type": "stream",
     "text": [
      "<class 'pandas.core.frame.DataFrame'>\n",
      "Int64Index: 17973 entries, 0 to 17972\n",
      "Data columns (total 12 columns):\n",
      " #   Column             Non-Null Count  Dtype         \n",
      "---  ------             --------------  -----         \n",
      " 0   user_id            17973 non-null  int64         \n",
      " 1   distance           17973 non-null  float64       \n",
      " 2   duration           17973 non-null  float64       \n",
      " 3   date               17973 non-null  datetime64[ns]\n",
      " 4   month              17973 non-null  int64         \n",
      " 5   name               17973 non-null  object        \n",
      " 6   age                17973 non-null  int64         \n",
      " 7   city               17973 non-null  object        \n",
      " 8   subscription_type  17973 non-null  object        \n",
      " 9   minute_price       17973 non-null  int64         \n",
      " 10  start_ride_price   17973 non-null  int64         \n",
      " 11  subscription_fee   17973 non-null  int64         \n",
      "dtypes: datetime64[ns](1), float64(2), int64(6), object(3)\n",
      "memory usage: 1.8+ MB\n"
     ]
    }
   ],
   "source": [
    "df.info()"
   ]
  },
  {
   "cell_type": "markdown",
   "id": "d77a36e3",
   "metadata": {},
   "source": [
    "И сравним размерности таблиц до и после объединения, чтобы удостовериться, что объединение прошло корректно."
   ]
  },
  {
   "cell_type": "code",
   "execution_count": 34,
   "id": "e9e636cc",
   "metadata": {
    "scrolled": true
   },
   "outputs": [
    {
     "name": "stdout",
     "output_type": "stream",
     "text": [
      "Размерность таблицы до объедиения:\n",
      "rides\n",
      "(17973, 5)\n",
      "users\n",
      "(1534, 5)\n",
      "subscriptions\n",
      "(2, 4)\n",
      "Размерность таблицы после объедиения:\n",
      "(17973, 12)\n"
     ]
    }
   ],
   "source": [
    "print('Размерность таблицы до объедиения:')\n",
    "print('rides')\n",
    "print(rides.shape)\n",
    "print('users')\n",
    "print(users.shape)\n",
    "print('subscriptions')\n",
    "print(subscriptions.shape)\n",
    "print('Размерность таблицы после объедиения:')\n",
    "print(df.shape)"
   ]
  },
  {
   "cell_type": "markdown",
   "id": "4e66f185",
   "metadata": {},
   "source": [
    "Строк, как в исходном датафрейме, столбцов 14-2=12, как и должно получиться."
   ]
  },
  {
   "cell_type": "markdown",
   "id": "a5a9b649",
   "metadata": {},
   "source": [
    "Все строки заполнены, объединение прошло правильно."
   ]
  },
  {
   "cell_type": "markdown",
   "id": "51344c29",
   "metadata": {},
   "source": [
    "<a id='step4.2'></a>"
   ]
  },
  {
   "cell_type": "markdown",
   "id": "a87d5a61",
   "metadata": {},
   "source": [
    "##### Создание новых датафреймов "
   ]
  },
  {
   "cell_type": "markdown",
   "id": "009255b9",
   "metadata": {},
   "source": [
    "Создадим новый датафрейм **df_ultra**, в котором будут данные пользователей с подпиской ultra."
   ]
  },
  {
   "cell_type": "code",
   "execution_count": 35,
   "id": "b6894c34",
   "metadata": {},
   "outputs": [
    {
     "data": {
      "text/html": [
       "<div>\n",
       "<style scoped>\n",
       "    .dataframe tbody tr th:only-of-type {\n",
       "        vertical-align: middle;\n",
       "    }\n",
       "\n",
       "    .dataframe tbody tr th {\n",
       "        vertical-align: top;\n",
       "    }\n",
       "\n",
       "    .dataframe thead th {\n",
       "        text-align: right;\n",
       "    }\n",
       "</style>\n",
       "<table border=\"1\" class=\"dataframe\">\n",
       "  <thead>\n",
       "    <tr style=\"text-align: right;\">\n",
       "      <th></th>\n",
       "      <th>user_id</th>\n",
       "      <th>distance</th>\n",
       "      <th>duration</th>\n",
       "      <th>date</th>\n",
       "      <th>month</th>\n",
       "      <th>name</th>\n",
       "      <th>age</th>\n",
       "      <th>city</th>\n",
       "      <th>subscription_type</th>\n",
       "      <th>minute_price</th>\n",
       "      <th>start_ride_price</th>\n",
       "      <th>subscription_fee</th>\n",
       "    </tr>\n",
       "  </thead>\n",
       "  <tbody>\n",
       "    <tr>\n",
       "      <th>0</th>\n",
       "      <td>1</td>\n",
       "      <td>4409.919140</td>\n",
       "      <td>25.599769</td>\n",
       "      <td>2021-01-01</td>\n",
       "      <td>1</td>\n",
       "      <td>Кира</td>\n",
       "      <td>22</td>\n",
       "      <td>Тюмень</td>\n",
       "      <td>ultra</td>\n",
       "      <td>6</td>\n",
       "      <td>0</td>\n",
       "      <td>199</td>\n",
       "    </tr>\n",
       "    <tr>\n",
       "      <th>1</th>\n",
       "      <td>1</td>\n",
       "      <td>2617.592153</td>\n",
       "      <td>15.816871</td>\n",
       "      <td>2021-01-18</td>\n",
       "      <td>1</td>\n",
       "      <td>Кира</td>\n",
       "      <td>22</td>\n",
       "      <td>Тюмень</td>\n",
       "      <td>ultra</td>\n",
       "      <td>6</td>\n",
       "      <td>0</td>\n",
       "      <td>199</td>\n",
       "    </tr>\n",
       "    <tr>\n",
       "      <th>2</th>\n",
       "      <td>1</td>\n",
       "      <td>754.159807</td>\n",
       "      <td>6.232113</td>\n",
       "      <td>2021-04-20</td>\n",
       "      <td>4</td>\n",
       "      <td>Кира</td>\n",
       "      <td>22</td>\n",
       "      <td>Тюмень</td>\n",
       "      <td>ultra</td>\n",
       "      <td>6</td>\n",
       "      <td>0</td>\n",
       "      <td>199</td>\n",
       "    </tr>\n",
       "    <tr>\n",
       "      <th>3</th>\n",
       "      <td>1</td>\n",
       "      <td>2694.783254</td>\n",
       "      <td>18.511000</td>\n",
       "      <td>2021-08-11</td>\n",
       "      <td>8</td>\n",
       "      <td>Кира</td>\n",
       "      <td>22</td>\n",
       "      <td>Тюмень</td>\n",
       "      <td>ultra</td>\n",
       "      <td>6</td>\n",
       "      <td>0</td>\n",
       "      <td>199</td>\n",
       "    </tr>\n",
       "    <tr>\n",
       "      <th>4</th>\n",
       "      <td>1</td>\n",
       "      <td>4028.687306</td>\n",
       "      <td>26.265803</td>\n",
       "      <td>2021-08-28</td>\n",
       "      <td>8</td>\n",
       "      <td>Кира</td>\n",
       "      <td>22</td>\n",
       "      <td>Тюмень</td>\n",
       "      <td>ultra</td>\n",
       "      <td>6</td>\n",
       "      <td>0</td>\n",
       "      <td>199</td>\n",
       "    </tr>\n",
       "  </tbody>\n",
       "</table>\n",
       "</div>"
      ],
      "text/plain": [
       "   user_id     distance   duration       date  month  name  age    city  \\\n",
       "0        1  4409.919140  25.599769 2021-01-01      1  Кира   22  Тюмень   \n",
       "1        1  2617.592153  15.816871 2021-01-18      1  Кира   22  Тюмень   \n",
       "2        1   754.159807   6.232113 2021-04-20      4  Кира   22  Тюмень   \n",
       "3        1  2694.783254  18.511000 2021-08-11      8  Кира   22  Тюмень   \n",
       "4        1  4028.687306  26.265803 2021-08-28      8  Кира   22  Тюмень   \n",
       "\n",
       "  subscription_type  minute_price  start_ride_price  subscription_fee  \n",
       "0             ultra             6                 0               199  \n",
       "1             ultra             6                 0               199  \n",
       "2             ultra             6                 0               199  \n",
       "3             ultra             6                 0               199  \n",
       "4             ultra             6                 0               199  "
      ]
     },
     "execution_count": 35,
     "metadata": {},
     "output_type": "execute_result"
    }
   ],
   "source": [
    "df_ultra = df.query('subscription_type == \"ultra\"')\n",
    "df_ultra.head()"
   ]
  },
  {
   "cell_type": "markdown",
   "id": "db52655b",
   "metadata": {},
   "source": [
    "Создадим новый датафрейм **df_free**, в котором будут данные пользователей без подписки."
   ]
  },
  {
   "cell_type": "code",
   "execution_count": 36,
   "id": "5cf148fe",
   "metadata": {
    "scrolled": true
   },
   "outputs": [
    {
     "data": {
      "text/html": [
       "<div>\n",
       "<style scoped>\n",
       "    .dataframe tbody tr th:only-of-type {\n",
       "        vertical-align: middle;\n",
       "    }\n",
       "\n",
       "    .dataframe tbody tr th {\n",
       "        vertical-align: top;\n",
       "    }\n",
       "\n",
       "    .dataframe thead th {\n",
       "        text-align: right;\n",
       "    }\n",
       "</style>\n",
       "<table border=\"1\" class=\"dataframe\">\n",
       "  <thead>\n",
       "    <tr style=\"text-align: right;\">\n",
       "      <th></th>\n",
       "      <th>user_id</th>\n",
       "      <th>distance</th>\n",
       "      <th>duration</th>\n",
       "      <th>date</th>\n",
       "      <th>month</th>\n",
       "      <th>name</th>\n",
       "      <th>age</th>\n",
       "      <th>city</th>\n",
       "      <th>subscription_type</th>\n",
       "      <th>minute_price</th>\n",
       "      <th>start_ride_price</th>\n",
       "      <th>subscription_fee</th>\n",
       "    </tr>\n",
       "  </thead>\n",
       "  <tbody>\n",
       "    <tr>\n",
       "      <th>6500</th>\n",
       "      <td>700</td>\n",
       "      <td>2515.690719</td>\n",
       "      <td>14.944286</td>\n",
       "      <td>2021-01-02</td>\n",
       "      <td>1</td>\n",
       "      <td>Айдар</td>\n",
       "      <td>22</td>\n",
       "      <td>Омск</td>\n",
       "      <td>free</td>\n",
       "      <td>8</td>\n",
       "      <td>50</td>\n",
       "      <td>0</td>\n",
       "    </tr>\n",
       "    <tr>\n",
       "      <th>6501</th>\n",
       "      <td>700</td>\n",
       "      <td>846.932642</td>\n",
       "      <td>16.234663</td>\n",
       "      <td>2021-02-01</td>\n",
       "      <td>2</td>\n",
       "      <td>Айдар</td>\n",
       "      <td>22</td>\n",
       "      <td>Омск</td>\n",
       "      <td>free</td>\n",
       "      <td>8</td>\n",
       "      <td>50</td>\n",
       "      <td>0</td>\n",
       "    </tr>\n",
       "    <tr>\n",
       "      <th>6502</th>\n",
       "      <td>700</td>\n",
       "      <td>4004.434142</td>\n",
       "      <td>20.016628</td>\n",
       "      <td>2021-02-04</td>\n",
       "      <td>2</td>\n",
       "      <td>Айдар</td>\n",
       "      <td>22</td>\n",
       "      <td>Омск</td>\n",
       "      <td>free</td>\n",
       "      <td>8</td>\n",
       "      <td>50</td>\n",
       "      <td>0</td>\n",
       "    </tr>\n",
       "    <tr>\n",
       "      <th>6503</th>\n",
       "      <td>700</td>\n",
       "      <td>1205.911290</td>\n",
       "      <td>9.782872</td>\n",
       "      <td>2021-02-10</td>\n",
       "      <td>2</td>\n",
       "      <td>Айдар</td>\n",
       "      <td>22</td>\n",
       "      <td>Омск</td>\n",
       "      <td>free</td>\n",
       "      <td>8</td>\n",
       "      <td>50</td>\n",
       "      <td>0</td>\n",
       "    </tr>\n",
       "    <tr>\n",
       "      <th>6504</th>\n",
       "      <td>700</td>\n",
       "      <td>3047.379435</td>\n",
       "      <td>17.427673</td>\n",
       "      <td>2021-02-14</td>\n",
       "      <td>2</td>\n",
       "      <td>Айдар</td>\n",
       "      <td>22</td>\n",
       "      <td>Омск</td>\n",
       "      <td>free</td>\n",
       "      <td>8</td>\n",
       "      <td>50</td>\n",
       "      <td>0</td>\n",
       "    </tr>\n",
       "  </tbody>\n",
       "</table>\n",
       "</div>"
      ],
      "text/plain": [
       "      user_id     distance   duration       date  month   name  age  city  \\\n",
       "6500      700  2515.690719  14.944286 2021-01-02      1  Айдар   22  Омск   \n",
       "6501      700   846.932642  16.234663 2021-02-01      2  Айдар   22  Омск   \n",
       "6502      700  4004.434142  20.016628 2021-02-04      2  Айдар   22  Омск   \n",
       "6503      700  1205.911290   9.782872 2021-02-10      2  Айдар   22  Омск   \n",
       "6504      700  3047.379435  17.427673 2021-02-14      2  Айдар   22  Омск   \n",
       "\n",
       "     subscription_type  minute_price  start_ride_price  subscription_fee  \n",
       "6500              free             8                50                 0  \n",
       "6501              free             8                50                 0  \n",
       "6502              free             8                50                 0  \n",
       "6503              free             8                50                 0  \n",
       "6504              free             8                50                 0  "
      ]
     },
     "execution_count": 36,
     "metadata": {},
     "output_type": "execute_result"
    }
   ],
   "source": [
    "df_free = df.query('subscription_type == \"free\"')\n",
    "df_free.head()"
   ]
  },
  {
   "cell_type": "markdown",
   "id": "5999e29e",
   "metadata": {},
   "source": [
    " <a id='step4.3'></a>"
   ]
  },
  {
   "cell_type": "markdown",
   "id": "3019fb5e",
   "metadata": {},
   "source": [
    "##### Расстояние и время поездок пользователей с подпиской"
   ]
  },
  {
   "cell_type": "markdown",
   "id": "0fe16891",
   "metadata": {},
   "source": [
    "Изучим столбец `distance` датафрейма **df_ultra**"
   ]
  },
  {
   "cell_type": "code",
   "execution_count": 37,
   "id": "f7d4bac2",
   "metadata": {},
   "outputs": [
    {
     "data": {
      "text/plain": [
       "count    6500.000000\n",
       "mean     3115.445388\n",
       "std       836.895330\n",
       "min       244.210438\n",
       "25%      2785.444017\n",
       "50%      3148.637229\n",
       "75%      3560.574425\n",
       "max      5699.769662\n",
       "Name: distance, dtype: float64"
      ]
     },
     "execution_count": 37,
     "metadata": {},
     "output_type": "execute_result"
    }
   ],
   "source": [
    "df_ultra['distance'].describe()"
   ]
  },
  {
   "cell_type": "code",
   "execution_count": 38,
   "id": "1ef1cb9d",
   "metadata": {
    "scrolled": false
   },
   "outputs": [
    {
     "data": {
      "image/png": "[encoded data removed]",
      "text/plain": [
       "<Figure size 792x360 with 1 Axes>"
      ]
     },
     "metadata": {
      "needs_background": "light"
     },
     "output_type": "display_data"
    }
   ],
   "source": [
    "df_ultra['distance'].hist(bins=100, figsize=(11, 5));\n",
    "plt.title('Расстояние поездок пользователей с подпиской')\n",
    "plt.xlabel(\"Расстояние\")\n",
    "plt.ylabel(\"Частота\")\n",
    "plt.show()"
   ]
  },
  {
   "cell_type": "markdown",
   "id": "de9ae779",
   "metadata": {},
   "source": [
    "Пользователи с подпиской в среднем проезжают на самокате 3115 метров за одну поездку, медианное значение 3149 м. На гистограмме мы видим 3 пика: около 1000 м., около 3000 м. и около 4000 м, что довольно удивительно, возможно, это связано с тем, что самокаты сервис устанавливает на таких расстояниях от ближайших важных точек (станций общественного транспорта, парков, ТЦ). Минимальное расстояние за одну сессию - 244 м, максимальное - 5700 м."
   ]
  },
  {
   "cell_type": "markdown",
   "id": "60e70d28",
   "metadata": {},
   "source": [
    "Изучим столбец `duration` датафрейма **df_ultra**"
   ]
  },
  {
   "cell_type": "code",
   "execution_count": 39,
   "id": "70009ec6",
   "metadata": {},
   "outputs": [
    {
     "data": {
      "text/plain": [
       "count    6500.000000\n",
       "mean       18.541985\n",
       "std         5.572048\n",
       "min         3.760353\n",
       "25%        14.524654\n",
       "50%        18.178153\n",
       "75%        21.884129\n",
       "max        40.823963\n",
       "Name: duration, dtype: float64"
      ]
     },
     "execution_count": 39,
     "metadata": {},
     "output_type": "execute_result"
    }
   ],
   "source": [
    "df_ultra['duration'].describe()"
   ]
  },
  {
   "cell_type": "code",
   "execution_count": 40,
   "id": "8142d09e",
   "metadata": {},
   "outputs": [
    {
     "data": {
      "image/png": "[encoded data removed]",
      "text/plain": [
       "<Figure size 792x360 with 1 Axes>"
      ]
     },
     "metadata": {
      "needs_background": "light"
     },
     "output_type": "display_data"
    }
   ],
   "source": [
    "df_ultra['duration'].hist(bins=100, figsize=(11, 5));\n",
    "plt.title('Продолжительность поездок пользователей с подпиской')\n",
    "plt.xlabel(\"Расстояние\")\n",
    "plt.ylabel(\"Частота\")\n",
    "plt.show()"
   ]
  },
  {
   "cell_type": "markdown",
   "id": "4d4168bb",
   "metadata": {},
   "source": [
    "Пользователи с подпиской в среднем едут на самокате около 18,5 минут, медианное значение также около 18 мин. Самая короткая поездка - около 3,8 мин, самая продолжительная - около 40 мин."
   ]
  },
  {
   "cell_type": "markdown",
   "id": "fb9b2f9b",
   "metadata": {},
   "source": [
    "<a id='step4.4'></a>"
   ]
  },
  {
   "cell_type": "markdown",
   "id": "1ad6e89b",
   "metadata": {},
   "source": [
    "##### Расстояние и время поездок пользователей без подписки"
   ]
  },
  {
   "cell_type": "markdown",
   "id": "88c4dc3a",
   "metadata": {},
   "source": [
    "Изучим столбец `distance` датафрейма **df_free**"
   ]
  },
  {
   "cell_type": "code",
   "execution_count": 41,
   "id": "ea5ccfc9",
   "metadata": {},
   "outputs": [
    {
     "data": {
      "text/plain": [
       "count    11473.000000\n",
       "mean      3028.374239\n",
       "std       1235.541051\n",
       "min          0.855683\n",
       "25%       2360.878149\n",
       "50%       3102.083025\n",
       "75%       3883.979311\n",
       "max       7066.003772\n",
       "Name: distance, dtype: float64"
      ]
     },
     "execution_count": 41,
     "metadata": {},
     "output_type": "execute_result"
    }
   ],
   "source": [
    "df_free['distance'].describe()"
   ]
  },
  {
   "cell_type": "code",
   "execution_count": 42,
   "id": "71733641",
   "metadata": {
    "scrolled": false
   },
   "outputs": [
    {
     "data": {
      "image/png": "[encoded data removed]",
      "text/plain": [
       "<Figure size 792x360 with 1 Axes>"
      ]
     },
     "metadata": {
      "needs_background": "light"
     },
     "output_type": "display_data"
    }
   ],
   "source": [
    "df_free['distance'].hist(bins=100, figsize=(11, 5));\n",
    "plt.title('Расстояние поездок пользователей без подписки')\n",
    "plt.xlabel(\"Расстояние\")\n",
    "plt.ylabel(\"Частота\")\n",
    "plt.show()"
   ]
  },
  {
   "cell_type": "markdown",
   "id": "1540032c",
   "metadata": {},
   "source": [
    "Пользователи без подписки в среднем проезжают на самокате 3028 метров за одну поездку, медианное значение 3102 м. На гистограмме мы видим 2 пика: около 500 м. и около 3000 м. и около 4000 м, что совпадает с пользователями с подпиской, но нет ярко выраженного пика около 4000 м. Минимальное расстояние за одну сессию - около 1 м, максимальное - 7066 м."
   ]
  },
  {
   "cell_type": "markdown",
   "id": "841d5e12",
   "metadata": {},
   "source": [
    "Изучим столбец `duration` датафрейма **df_free**"
   ]
  },
  {
   "cell_type": "code",
   "execution_count": 43,
   "id": "a8949038",
   "metadata": {},
   "outputs": [
    {
     "data": {
      "text/plain": [
       "count    11473.000000\n",
       "mean        17.530771\n",
       "std          6.162609\n",
       "min          2.035632\n",
       "25%         13.085688\n",
       "50%         17.383807\n",
       "75%         21.638038\n",
       "max         34.948498\n",
       "Name: duration, dtype: float64"
      ]
     },
     "execution_count": 43,
     "metadata": {},
     "output_type": "execute_result"
    }
   ],
   "source": [
    "df_free['duration'].describe()"
   ]
  },
  {
   "cell_type": "code",
   "execution_count": 44,
   "id": "2533a51e",
   "metadata": {},
   "outputs": [
    {
     "data": {
      "image/png": "[encoded data removed]",
      "text/plain": [
       "<Figure size 792x360 with 1 Axes>"
      ]
     },
     "metadata": {
      "needs_background": "light"
     },
     "output_type": "display_data"
    }
   ],
   "source": [
    "df_free['duration'].hist(bins=100, figsize=(11, 5));\n",
    "plt.title('Продолжительность поездок пользователей без подписки')\n",
    "plt.xlabel(\"Продолжительность\")\n",
    "plt.ylabel(\"Частота\")\n",
    "plt.show()"
   ]
  },
  {
   "cell_type": "markdown",
   "id": "60eb7ed4",
   "metadata": {},
   "source": [
    "Пользователи без подписки в среднем едут на самокате около 17,5 минут, медианное значение также около 17 мин. Самая короткая поездка - около 2 мин, самая продолжительная - около 35 мин."
   ]
  },
  {
   "cell_type": "markdown",
   "id": "49aacec7",
   "metadata": {},
   "source": [
    "Для наглядности сравнения, посмотрим совместную гистограмму продолжительности поездок, для пользователей с и без пописки."
   ]
  },
  {
   "cell_type": "code",
   "execution_count": 45,
   "id": "45db242f",
   "metadata": {
    "scrolled": true
   },
   "outputs": [
    {
     "data": {
      "image/png": "[encoded data removed]",
      "text/plain": [
       "<Figure size 792x360 with 1 Axes>"
      ]
     },
     "metadata": {
      "needs_background": "light"
     },
     "output_type": "display_data"
    }
   ],
   "source": [
    "fig, ax = plt.subplots(figsize=(11, 5))\n",
    "ax.hist(df_free['duration'], 100, alpha=0.5, label='free', )\n",
    "ax.hist(df_ultra['duration'], 100, alpha=0.5, label='ultra',)\n",
    "plt.title('Продолжительность поездок пользователей')\n",
    "plt.xlabel('Продолжительность')\n",
    "plt.ylabel('Частота')\n",
    "plt.legend()\n",
    "plt.grid()\n",
    "plt.show()"
   ]
  },
  {
   "cell_type": "markdown",
   "id": "b3171558",
   "metadata": {},
   "source": [
    "Для наглядности сравнения, посмотрим совместную гистограмму расстояния поездок, для пользователей с и без пописки."
   ]
  },
  {
   "cell_type": "code",
   "execution_count": 46,
   "id": "f4179c84",
   "metadata": {},
   "outputs": [
    {
     "data": {
      "image/png": "[encoded data removed]",
      "text/plain": [
       "<Figure size 792x360 with 1 Axes>"
      ]
     },
     "metadata": {
      "needs_background": "light"
     },
     "output_type": "display_data"
    }
   ],
   "source": [
    "fig, ax = plt.subplots(figsize=(11, 5))\n",
    "ax.hist(df_free['distance'], 100, alpha=0.5, label='free' )\n",
    "ax.hist(df_ultra['distance'], 100, alpha=0.5, label='ultra')\n",
    "plt.title('Расстояние поездок пользователей')\n",
    "plt.xlabel('Расстояние')\n",
    "plt.ylabel('Частота')\n",
    "plt.legend()\n",
    "plt.grid()\n",
    "plt.show()"
   ]
  },
  {
   "cell_type": "markdown",
   "id": "b0e4a420",
   "metadata": {},
   "source": [
    "**Вывод**  \n",
    "Мы создали 3 новых датафрейма:  \n",
    "**df** - датафрейм, объединяющий в себе все 3 исходных датафрема (**rides, users, subscriprion**) на основе \n",
    "**rides**,           \n",
    "\n",
    "**df_free** с данными пользователей без подписки,  \n",
    "**df_ultra** с данными пользователей с подпиской.  \n",
    "Изучили:  \n",
    "расстояние поездок пользователей с подпиской: минимальное - 244 м., максимальное - 5700 м., среднее - 3115 м., медианое- 3149 м.,  \n",
    "время сессий пользователей с подпиской: минимальное - 3,8 мин, максимальное - 40 мин., среднее - 18,5 мин, медианное - 18 мин.,  \n",
    "расстояние поездок пользователей без подписки: минимальное - 1 м., максимальное - 7066 м., среднее - 3028 м., медианое- 3102 м.,  \n",
    "время сессий пользователей без подписки: минимальное - 2 мин, максимальное - 35 мин., среднее - 17,5 мин, медианное - 17 мин."
   ]
  },
  {
   "cell_type": "markdown",
   "id": "ee02fa5f",
   "metadata": {},
   "source": [
    "<a id='step5'></a>"
   ]
  },
  {
   "cell_type": "markdown",
   "id": "f0f40016",
   "metadata": {},
   "source": [
    "####  Шаг. Подсчёт выручки "
   ]
  },
  {
   "cell_type": "markdown",
   "id": "bc904c3d",
   "metadata": {},
   "source": [
    "Для подсчета выручки посчитаем суммарное количество поездок, расстояние и времени сессий в месяц для каждого пользователя."
   ]
  },
  {
   "cell_type": "code",
   "execution_count": 47,
   "id": "8ac668dd",
   "metadata": {
    "scrolled": false
   },
   "outputs": [
    {
     "data": {
      "text/html": [
       "<div>\n",
       "<style scoped>\n",
       "    .dataframe tbody tr th:only-of-type {\n",
       "        vertical-align: middle;\n",
       "    }\n",
       "\n",
       "    .dataframe tbody tr th {\n",
       "        vertical-align: top;\n",
       "    }\n",
       "\n",
       "    .dataframe thead th {\n",
       "        text-align: right;\n",
       "    }\n",
       "</style>\n",
       "<table border=\"1\" class=\"dataframe\">\n",
       "  <thead>\n",
       "    <tr style=\"text-align: right;\">\n",
       "      <th></th>\n",
       "      <th>user_id</th>\n",
       "      <th>month</th>\n",
       "      <th>subscription_type</th>\n",
       "      <th>rides</th>\n",
       "      <th>total_distance</th>\n",
       "      <th>total_duration</th>\n",
       "    </tr>\n",
       "  </thead>\n",
       "  <tbody>\n",
       "    <tr>\n",
       "      <th>0</th>\n",
       "      <td>1</td>\n",
       "      <td>1</td>\n",
       "      <td>ultra</td>\n",
       "      <td>2</td>\n",
       "      <td>7027.511294</td>\n",
       "      <td>42</td>\n",
       "    </tr>\n",
       "    <tr>\n",
       "      <th>1</th>\n",
       "      <td>1</td>\n",
       "      <td>4</td>\n",
       "      <td>ultra</td>\n",
       "      <td>1</td>\n",
       "      <td>754.159807</td>\n",
       "      <td>7</td>\n",
       "    </tr>\n",
       "    <tr>\n",
       "      <th>2</th>\n",
       "      <td>1</td>\n",
       "      <td>8</td>\n",
       "      <td>ultra</td>\n",
       "      <td>2</td>\n",
       "      <td>6723.470560</td>\n",
       "      <td>46</td>\n",
       "    </tr>\n",
       "    <tr>\n",
       "      <th>3</th>\n",
       "      <td>1</td>\n",
       "      <td>10</td>\n",
       "      <td>ultra</td>\n",
       "      <td>2</td>\n",
       "      <td>5809.911100</td>\n",
       "      <td>32</td>\n",
       "    </tr>\n",
       "    <tr>\n",
       "      <th>4</th>\n",
       "      <td>1</td>\n",
       "      <td>11</td>\n",
       "      <td>ultra</td>\n",
       "      <td>3</td>\n",
       "      <td>7003.499363</td>\n",
       "      <td>56</td>\n",
       "    </tr>\n",
       "  </tbody>\n",
       "</table>\n",
       "</div>"
      ],
      "text/plain": [
       "   user_id  month subscription_type  rides  total_distance  total_duration\n",
       "0        1      1             ultra      2     7027.511294              42\n",
       "1        1      4             ultra      1      754.159807               7\n",
       "2        1      8             ultra      2     6723.470560              46\n",
       "3        1     10             ultra      2     5809.911100              32\n",
       "4        1     11             ultra      3     7003.499363              56"
      ]
     },
     "execution_count": 47,
     "metadata": {},
     "output_type": "execute_result"
    }
   ],
   "source": [
    "# огругляем значения в столбце duration значения в большую сторону\n",
    "df['duration'] = np.ceil(df['duration'])\n",
    "# сделаем сводную таблицу из df\n",
    "df_pivot = df.pivot_table = pd.pivot_table(df,\n",
    "                        #в качестве индексов используем ИД пользователя, месяц поездки и тип подписки\n",
    "                       index=[\"user_id\", 'month', 'subscription_type'],\n",
    "                        # значения, которые будем группировать расстояние и продолжительность сессии\n",
    "                       values=['distance', 'duration'],\n",
    "                        #расстояние - подсчитываем количество и сумму в каждый месяц, продолжительность - только сумму\n",
    "                       aggfunc={\"distance\": ['count', 'sum'], 'duration': 'sum'},\n",
    "                        #если появятся пустые значения, то заполним их нулем\n",
    "                       fill_value=0)\n",
    "#переименовываем столбцы для более простой работы и читаемости таблицы\n",
    "df_pivot = df_pivot.rename(columns={\"distance\":\"\", \"duration\":\"\"})\n",
    "df_pivot.columns = [t[0] if t[0] else t[1] for t in df_pivot.columns]\n",
    "df_pivot.columns = ['rides', 'total_distance', 'total_duration']\n",
    "#сбрасываем индекс\n",
    "df_pivot = df_pivot.reset_index()\n",
    "#выводим 5 первых строк\n",
    "df_pivot.head()"
   ]
  },
  {
   "cell_type": "markdown",
   "id": "3ef1b694",
   "metadata": {},
   "source": [
    "`user_id` - уникальный идентификатор пользователя,  \n",
    "`month` - месяц,  \n",
    "`subscription_type` - тип подписки,  \n",
    "`rides` - количество поездок,  \n",
    "`total_distance` - суммарное расстояние,  \n",
    "`total_duration` - суммарное время."
   ]
  },
  {
   "cell_type": "markdown",
   "id": "622fdb57",
   "metadata": {},
   "source": [
    "Для простоты подсчета добавим в нашу таблицу тарифы, в зависимости от типа подписки"
   ]
  },
  {
   "cell_type": "code",
   "execution_count": 48,
   "id": "046684db",
   "metadata": {
    "scrolled": true
   },
   "outputs": [
    {
     "data": {
      "text/html": [
       "<div>\n",
       "<style scoped>\n",
       "    .dataframe tbody tr th:only-of-type {\n",
       "        vertical-align: middle;\n",
       "    }\n",
       "\n",
       "    .dataframe tbody tr th {\n",
       "        vertical-align: top;\n",
       "    }\n",
       "\n",
       "    .dataframe thead th {\n",
       "        text-align: right;\n",
       "    }\n",
       "</style>\n",
       "<table border=\"1\" class=\"dataframe\">\n",
       "  <thead>\n",
       "    <tr style=\"text-align: right;\">\n",
       "      <th></th>\n",
       "      <th>user_id</th>\n",
       "      <th>month</th>\n",
       "      <th>subscription_type</th>\n",
       "      <th>rides</th>\n",
       "      <th>total_distance</th>\n",
       "      <th>total_duration</th>\n",
       "      <th>minute_price</th>\n",
       "      <th>start_ride_price</th>\n",
       "      <th>subscription_fee</th>\n",
       "    </tr>\n",
       "  </thead>\n",
       "  <tbody>\n",
       "    <tr>\n",
       "      <th>0</th>\n",
       "      <td>1</td>\n",
       "      <td>1</td>\n",
       "      <td>ultra</td>\n",
       "      <td>2</td>\n",
       "      <td>7027.511294</td>\n",
       "      <td>42</td>\n",
       "      <td>6</td>\n",
       "      <td>0</td>\n",
       "      <td>199</td>\n",
       "    </tr>\n",
       "    <tr>\n",
       "      <th>1</th>\n",
       "      <td>1</td>\n",
       "      <td>4</td>\n",
       "      <td>ultra</td>\n",
       "      <td>1</td>\n",
       "      <td>754.159807</td>\n",
       "      <td>7</td>\n",
       "      <td>6</td>\n",
       "      <td>0</td>\n",
       "      <td>199</td>\n",
       "    </tr>\n",
       "    <tr>\n",
       "      <th>2</th>\n",
       "      <td>1</td>\n",
       "      <td>8</td>\n",
       "      <td>ultra</td>\n",
       "      <td>2</td>\n",
       "      <td>6723.470560</td>\n",
       "      <td>46</td>\n",
       "      <td>6</td>\n",
       "      <td>0</td>\n",
       "      <td>199</td>\n",
       "    </tr>\n",
       "    <tr>\n",
       "      <th>3</th>\n",
       "      <td>1</td>\n",
       "      <td>10</td>\n",
       "      <td>ultra</td>\n",
       "      <td>2</td>\n",
       "      <td>5809.911100</td>\n",
       "      <td>32</td>\n",
       "      <td>6</td>\n",
       "      <td>0</td>\n",
       "      <td>199</td>\n",
       "    </tr>\n",
       "    <tr>\n",
       "      <th>4</th>\n",
       "      <td>1</td>\n",
       "      <td>11</td>\n",
       "      <td>ultra</td>\n",
       "      <td>3</td>\n",
       "      <td>7003.499363</td>\n",
       "      <td>56</td>\n",
       "      <td>6</td>\n",
       "      <td>0</td>\n",
       "      <td>199</td>\n",
       "    </tr>\n",
       "  </tbody>\n",
       "</table>\n",
       "</div>"
      ],
      "text/plain": [
       "   user_id  month subscription_type  rides  total_distance  total_duration  \\\n",
       "0        1      1             ultra      2     7027.511294              42   \n",
       "1        1      4             ultra      1      754.159807               7   \n",
       "2        1      8             ultra      2     6723.470560              46   \n",
       "3        1     10             ultra      2     5809.911100              32   \n",
       "4        1     11             ultra      3     7003.499363              56   \n",
       "\n",
       "   minute_price  start_ride_price  subscription_fee  \n",
       "0             6                 0               199  \n",
       "1             6                 0               199  \n",
       "2             6                 0               199  \n",
       "3             6                 0               199  \n",
       "4             6                 0               199  "
      ]
     },
     "execution_count": 48,
     "metadata": {},
     "output_type": "execute_result"
    }
   ],
   "source": [
    "df_pivot = df_pivot.merge(subscriptions, on='subscription_type')\n",
    "#\n",
    "df_pivot.head()"
   ]
  },
  {
   "cell_type": "markdown",
   "id": "d5295fd9",
   "metadata": {},
   "source": [
    "Создаем столбец `revenue` с ежемесячной выручкой, которую считаем по формуле:  \n",
    "(стоимость старта поездки × количество поездок) + (стоимость одной минуты поездки × общая продолжительность всех поездок в минутах) + стоимость подписки."
   ]
  },
  {
   "cell_type": "code",
   "execution_count": 49,
   "id": "37cc9bf1",
   "metadata": {
    "scrolled": false
   },
   "outputs": [
    {
     "data": {
      "text/html": [
       "<div>\n",
       "<style scoped>\n",
       "    .dataframe tbody tr th:only-of-type {\n",
       "        vertical-align: middle;\n",
       "    }\n",
       "\n",
       "    .dataframe tbody tr th {\n",
       "        vertical-align: top;\n",
       "    }\n",
       "\n",
       "    .dataframe thead th {\n",
       "        text-align: right;\n",
       "    }\n",
       "</style>\n",
       "<table border=\"1\" class=\"dataframe\">\n",
       "  <thead>\n",
       "    <tr style=\"text-align: right;\">\n",
       "      <th></th>\n",
       "      <th>user_id</th>\n",
       "      <th>month</th>\n",
       "      <th>subscription_type</th>\n",
       "      <th>rides</th>\n",
       "      <th>total_distance</th>\n",
       "      <th>total_duration</th>\n",
       "      <th>minute_price</th>\n",
       "      <th>start_ride_price</th>\n",
       "      <th>subscription_fee</th>\n",
       "      <th>revenue</th>\n",
       "    </tr>\n",
       "  </thead>\n",
       "  <tbody>\n",
       "    <tr>\n",
       "      <th>0</th>\n",
       "      <td>1</td>\n",
       "      <td>1</td>\n",
       "      <td>ultra</td>\n",
       "      <td>2</td>\n",
       "      <td>7027.511294</td>\n",
       "      <td>42</td>\n",
       "      <td>6</td>\n",
       "      <td>0</td>\n",
       "      <td>199</td>\n",
       "      <td>451</td>\n",
       "    </tr>\n",
       "    <tr>\n",
       "      <th>1</th>\n",
       "      <td>1</td>\n",
       "      <td>4</td>\n",
       "      <td>ultra</td>\n",
       "      <td>1</td>\n",
       "      <td>754.159807</td>\n",
       "      <td>7</td>\n",
       "      <td>6</td>\n",
       "      <td>0</td>\n",
       "      <td>199</td>\n",
       "      <td>241</td>\n",
       "    </tr>\n",
       "    <tr>\n",
       "      <th>2</th>\n",
       "      <td>1</td>\n",
       "      <td>8</td>\n",
       "      <td>ultra</td>\n",
       "      <td>2</td>\n",
       "      <td>6723.470560</td>\n",
       "      <td>46</td>\n",
       "      <td>6</td>\n",
       "      <td>0</td>\n",
       "      <td>199</td>\n",
       "      <td>475</td>\n",
       "    </tr>\n",
       "    <tr>\n",
       "      <th>3</th>\n",
       "      <td>1</td>\n",
       "      <td>10</td>\n",
       "      <td>ultra</td>\n",
       "      <td>2</td>\n",
       "      <td>5809.911100</td>\n",
       "      <td>32</td>\n",
       "      <td>6</td>\n",
       "      <td>0</td>\n",
       "      <td>199</td>\n",
       "      <td>391</td>\n",
       "    </tr>\n",
       "    <tr>\n",
       "      <th>4</th>\n",
       "      <td>1</td>\n",
       "      <td>11</td>\n",
       "      <td>ultra</td>\n",
       "      <td>3</td>\n",
       "      <td>7003.499363</td>\n",
       "      <td>56</td>\n",
       "      <td>6</td>\n",
       "      <td>0</td>\n",
       "      <td>199</td>\n",
       "      <td>535</td>\n",
       "    </tr>\n",
       "    <tr>\n",
       "      <th>5</th>\n",
       "      <td>1</td>\n",
       "      <td>12</td>\n",
       "      <td>ultra</td>\n",
       "      <td>2</td>\n",
       "      <td>6751.629942</td>\n",
       "      <td>28</td>\n",
       "      <td>6</td>\n",
       "      <td>0</td>\n",
       "      <td>199</td>\n",
       "      <td>367</td>\n",
       "    </tr>\n",
       "    <tr>\n",
       "      <th>6</th>\n",
       "      <td>2</td>\n",
       "      <td>3</td>\n",
       "      <td>ultra</td>\n",
       "      <td>3</td>\n",
       "      <td>10187.723006</td>\n",
       "      <td>63</td>\n",
       "      <td>6</td>\n",
       "      <td>0</td>\n",
       "      <td>199</td>\n",
       "      <td>577</td>\n",
       "    </tr>\n",
       "    <tr>\n",
       "      <th>7</th>\n",
       "      <td>2</td>\n",
       "      <td>4</td>\n",
       "      <td>ultra</td>\n",
       "      <td>2</td>\n",
       "      <td>6164.381824</td>\n",
       "      <td>40</td>\n",
       "      <td>6</td>\n",
       "      <td>0</td>\n",
       "      <td>199</td>\n",
       "      <td>439</td>\n",
       "    </tr>\n",
       "    <tr>\n",
       "      <th>8</th>\n",
       "      <td>2</td>\n",
       "      <td>6</td>\n",
       "      <td>ultra</td>\n",
       "      <td>1</td>\n",
       "      <td>3255.338202</td>\n",
       "      <td>14</td>\n",
       "      <td>6</td>\n",
       "      <td>0</td>\n",
       "      <td>199</td>\n",
       "      <td>283</td>\n",
       "    </tr>\n",
       "    <tr>\n",
       "      <th>9</th>\n",
       "      <td>2</td>\n",
       "      <td>7</td>\n",
       "      <td>ultra</td>\n",
       "      <td>2</td>\n",
       "      <td>6780.722964</td>\n",
       "      <td>48</td>\n",
       "      <td>6</td>\n",
       "      <td>0</td>\n",
       "      <td>199</td>\n",
       "      <td>487</td>\n",
       "    </tr>\n",
       "  </tbody>\n",
       "</table>\n",
       "</div>"
      ],
      "text/plain": [
       "   user_id  month subscription_type  rides  total_distance  total_duration  \\\n",
       "0        1      1             ultra      2     7027.511294              42   \n",
       "1        1      4             ultra      1      754.159807               7   \n",
       "2        1      8             ultra      2     6723.470560              46   \n",
       "3        1     10             ultra      2     5809.911100              32   \n",
       "4        1     11             ultra      3     7003.499363              56   \n",
       "5        1     12             ultra      2     6751.629942              28   \n",
       "6        2      3             ultra      3    10187.723006              63   \n",
       "7        2      4             ultra      2     6164.381824              40   \n",
       "8        2      6             ultra      1     3255.338202              14   \n",
       "9        2      7             ultra      2     6780.722964              48   \n",
       "\n",
       "   minute_price  start_ride_price  subscription_fee  revenue  \n",
       "0             6                 0               199      451  \n",
       "1             6                 0               199      241  \n",
       "2             6                 0               199      475  \n",
       "3             6                 0               199      391  \n",
       "4             6                 0               199      535  \n",
       "5             6                 0               199      367  \n",
       "6             6                 0               199      577  \n",
       "7             6                 0               199      439  \n",
       "8             6                 0               199      283  \n",
       "9             6                 0               199      487  "
      ]
     },
     "execution_count": 49,
     "metadata": {},
     "output_type": "execute_result"
    }
   ],
   "source": [
    "df_pivot['revenue'] = df_pivot['total_duration']*df_pivot['minute_price'] + df_pivot['rides']*df_pivot['start_ride_price'] + df_pivot['subscription_fee']\n",
    "df_pivot.head(10)\n"
   ]
  },
  {
   "cell_type": "markdown",
   "id": "3b4716aa",
   "metadata": {},
   "source": [
    "Уберем из датафрейма столбцы с тарифной информацией подписок, т.к. она нам больше не нужна."
   ]
  },
  {
   "cell_type": "code",
   "execution_count": 50,
   "id": "7c972f15",
   "metadata": {
    "scrolled": true
   },
   "outputs": [
    {
     "data": {
      "text/html": [
       "<div>\n",
       "<style scoped>\n",
       "    .dataframe tbody tr th:only-of-type {\n",
       "        vertical-align: middle;\n",
       "    }\n",
       "\n",
       "    .dataframe tbody tr th {\n",
       "        vertical-align: top;\n",
       "    }\n",
       "\n",
       "    .dataframe thead th {\n",
       "        text-align: right;\n",
       "    }\n",
       "</style>\n",
       "<table border=\"1\" class=\"dataframe\">\n",
       "  <thead>\n",
       "    <tr style=\"text-align: right;\">\n",
       "      <th></th>\n",
       "      <th>user_id</th>\n",
       "      <th>month</th>\n",
       "      <th>subscription_type</th>\n",
       "      <th>rides</th>\n",
       "      <th>total_distance</th>\n",
       "      <th>total_duration</th>\n",
       "      <th>revenue</th>\n",
       "    </tr>\n",
       "  </thead>\n",
       "  <tbody>\n",
       "    <tr>\n",
       "      <th>0</th>\n",
       "      <td>1</td>\n",
       "      <td>1</td>\n",
       "      <td>ultra</td>\n",
       "      <td>2</td>\n",
       "      <td>7027.511294</td>\n",
       "      <td>42</td>\n",
       "      <td>451</td>\n",
       "    </tr>\n",
       "    <tr>\n",
       "      <th>1</th>\n",
       "      <td>1</td>\n",
       "      <td>4</td>\n",
       "      <td>ultra</td>\n",
       "      <td>1</td>\n",
       "      <td>754.159807</td>\n",
       "      <td>7</td>\n",
       "      <td>241</td>\n",
       "    </tr>\n",
       "    <tr>\n",
       "      <th>2</th>\n",
       "      <td>1</td>\n",
       "      <td>8</td>\n",
       "      <td>ultra</td>\n",
       "      <td>2</td>\n",
       "      <td>6723.470560</td>\n",
       "      <td>46</td>\n",
       "      <td>475</td>\n",
       "    </tr>\n",
       "    <tr>\n",
       "      <th>3</th>\n",
       "      <td>1</td>\n",
       "      <td>10</td>\n",
       "      <td>ultra</td>\n",
       "      <td>2</td>\n",
       "      <td>5809.911100</td>\n",
       "      <td>32</td>\n",
       "      <td>391</td>\n",
       "    </tr>\n",
       "    <tr>\n",
       "      <th>4</th>\n",
       "      <td>1</td>\n",
       "      <td>11</td>\n",
       "      <td>ultra</td>\n",
       "      <td>3</td>\n",
       "      <td>7003.499363</td>\n",
       "      <td>56</td>\n",
       "      <td>535</td>\n",
       "    </tr>\n",
       "  </tbody>\n",
       "</table>\n",
       "</div>"
      ],
      "text/plain": [
       "   user_id  month subscription_type  rides  total_distance  total_duration  \\\n",
       "0        1      1             ultra      2     7027.511294              42   \n",
       "1        1      4             ultra      1      754.159807               7   \n",
       "2        1      8             ultra      2     6723.470560              46   \n",
       "3        1     10             ultra      2     5809.911100              32   \n",
       "4        1     11             ultra      3     7003.499363              56   \n",
       "\n",
       "   revenue  \n",
       "0      451  \n",
       "1      241  \n",
       "2      475  \n",
       "3      391  \n",
       "4      535  "
      ]
     },
     "execution_count": 50,
     "metadata": {},
     "output_type": "execute_result"
    }
   ],
   "source": [
    "df_pivot = df_pivot[['user_id', 'month', 'subscription_type',  'rides', 'total_distance', 'total_duration', 'revenue']]\n",
    "df_pivot.head()"
   ]
  },
  {
   "cell_type": "markdown",
   "id": "0710f508",
   "metadata": {},
   "source": [
    "`user_id` - уникальный идентификатор пользователя,  \n",
    "`month` - месяц,  \n",
    "`subscription_type` - тип подписки,   \n",
    "`rides` - количество поездок,  \n",
    "`total_distance` - суммарное расстояние,  \n",
    "`total_duration` - суммарное время,  \n",
    "`revenue` - выручка.\n"
   ]
  },
  {
   "cell_type": "markdown",
   "id": "bbf0f871",
   "metadata": {},
   "source": [
    "Посмотрим на данные по выручке."
   ]
  },
  {
   "cell_type": "code",
   "execution_count": 51,
   "id": "11a58ade",
   "metadata": {},
   "outputs": [
    {
     "data": {
      "text/plain": [
       "count    11300.000000\n",
       "mean       342.754956\n",
       "std        153.317314\n",
       "min         74.000000\n",
       "25%        234.000000\n",
       "50%        319.000000\n",
       "75%        415.000000\n",
       "max       1444.000000\n",
       "Name: revenue, dtype: float64"
      ]
     },
     "execution_count": 51,
     "metadata": {},
     "output_type": "execute_result"
    }
   ],
   "source": [
    "df_pivot['revenue'].describe()"
   ]
  },
  {
   "cell_type": "code",
   "execution_count": 52,
   "id": "8a95ef9e",
   "metadata": {
    "scrolled": false
   },
   "outputs": [
    {
     "data": {
      "image/png": "[encoded data removed]",
      "text/plain": [
       "<Figure size 792x360 with 1 Axes>"
      ]
     },
     "metadata": {
      "needs_background": "light"
     },
     "output_type": "display_data"
    }
   ],
   "source": [
    "df_pivot['revenue'].hist(bins=100, figsize=(11, 5));\n",
    "plt.title('Выручка в месяц')\n",
    "plt.xlabel('Выручка')\n",
    "plt.ylabel('Частота')\n",
    "plt.show()"
   ]
  },
  {
   "cell_type": "markdown",
   "id": "94db97c3",
   "metadata": {},
   "source": [
    "Минимальная выручка в месяц - 74, максимальная - 1444. Средняя выручка в месяц около 343, медианная - около 319."
   ]
  },
  {
   "cell_type": "markdown",
   "id": "2ef1264a",
   "metadata": {},
   "source": [
    "**Вывод**  \n",
    "Мы подсчитали выручку в месяц: минимальноя - 74, максимальная - 1444, средняя - 343, медианная - 319."
   ]
  },
  {
   "cell_type": "markdown",
   "id": "81560d92",
   "metadata": {},
   "source": [
    "<a id='step6'></a>"
   ]
  },
  {
   "cell_type": "markdown",
   "id": "a8f30d04",
   "metadata": {},
   "source": [
    "####  Шаг Проверка гипотез "
   ]
  },
  {
   "cell_type": "markdown",
   "id": "cb546253",
   "metadata": {},
   "source": [
    "<a id='step6.1'></a>"
   ]
  },
  {
   "cell_type": "markdown",
   "id": "f590d065",
   "metadata": {},
   "source": [
    "#####  Гипотеза 1: пользователи с подпиской тратят больше времени на сессию. "
   ]
  },
  {
   "cell_type": "markdown",
   "id": "74252385",
   "metadata": {},
   "source": [
    "Выидвенем нулевую гипотезу, что среднее время сессий у пользователей с подпиской равно среднему времени сессий у пользователей без подписки. Альтернативная гипотеза - пользователи с подпиской тратят больше времени на одну сессию. Проверим ее методом для проверки гипотезы о равенстве среднего двух генеральных совокупностей по взятым из них выборкам"
   ]
  },
  {
   "cell_type": "code",
   "execution_count": 53,
   "id": "d8895255",
   "metadata": {},
   "outputs": [
    {
     "name": "stdout",
     "output_type": "stream",
     "text": [
      "p-значение: 1.6162210195311063e-29\n",
      "Отвергаем нулевую гипотезу\n",
      "Среднее время сессии для пользователей с подпиской: 18.54198516280583\n",
      "Среднее время сессии для пользователей без подписки: 17.530771268800226\n"
     ]
    }
   ],
   "source": [
    "# задаём уровень значимости\n",
    "alpha = 0.05\n",
    "# проводим ttest для двух выборок, в качестве альтернативной используем одностороннюю гипотезу \"больше\"\n",
    "results = st.ttest_ind(df_ultra['duration'], df_free['duration'], equal_var=False, alternative='greater')\n",
    "\n",
    "# проверяем p-value\n",
    "print('p-значение:', results.pvalue)\n",
    "\n",
    "if results.pvalue < alpha:\n",
    "    print('Отвергаем нулевую гипотезу')\n",
    "else:\n",
    "    print('Не получилось отвергнуть нулевую гипотезу') \n",
    "print('Среднее время сессии для пользователей с подпиской:', df_ultra['duration'].mean())\n",
    "print('Среднее время сессии для пользователей без подписки:', df_free['duration'].mean())"
   ]
  },
  {
   "cell_type": "markdown",
   "id": "8e3b406b",
   "metadata": {},
   "source": [
    "Мы можем отвергнуть нулевую гипотезу, есть основания говорить, что пользователи с подпиской тратят больше времени на сессию."
   ]
  },
  {
   "cell_type": "markdown",
   "id": "5857a813",
   "metadata": {},
   "source": [
    " <a id='step6.2'></a>"
   ]
  },
  {
   "cell_type": "markdown",
   "id": "04da0585",
   "metadata": {},
   "source": [
    "##### Гипотеза 2. Расстояние одной поездки в 3130 метров — оптимальное с точки зрения износа самоката."
   ]
  },
  {
   "cell_type": "markdown",
   "id": "499bd268",
   "metadata": {},
   "source": [
    "В данной гипотезе мы проверям, можно ли сказать, что расстояние, которое проезжают пользователи с подпиской за одну поездку, не превышает 3130 метров?  \n",
    "Нулевая гипотеза - пользователи с подпиской за одну сессию проезжают в среднем 3130 метров.  \n",
    "Альтернативная гипотеза - пользователи с подпиской за одну сессию проезжают больше 3130 метров."
   ]
  },
  {
   "cell_type": "code",
   "execution_count": 54,
   "id": "a64ff875",
   "metadata": {},
   "outputs": [
    {
     "name": "stdout",
     "output_type": "stream",
     "text": [
      "p-значение: 0.9195368847849785\n",
      "Не отвергаем нулевую гипотезу\n"
     ]
    }
   ],
   "source": [
    "distance_value = 3130  ## предполагаемое значение среднего расстояния, которое пользователь с подпиской проезжает за одну сессию\n",
    "\n",
    "alpha = 0.05 # уровень статистической значимости\n",
    "\n",
    "results = st.ttest_1samp(\n",
    "    df_ultra['distance'], \n",
    "    distance_value,\n",
    "    alternative='greater')\n",
    "\n",
    "print('p-значение:', results.pvalue)\n",
    "\n",
    "if (results.pvalue < alpha):\n",
    "    print('Отвергаем нулевую гипотезу')\n",
    "else:\n",
    "    print('Не отвергаем нулевую гипотезу') "
   ]
  },
  {
   "cell_type": "markdown",
   "id": "8fa7890b",
   "metadata": {},
   "source": [
    "Мы не отвергаем нулевую гипотезу. Возможно пользователи с подпиской проезжают 3130 метров за одну сессию."
   ]
  },
  {
   "cell_type": "markdown",
   "id": "ad4f4185",
   "metadata": {},
   "source": [
    "<a id='step6.3'></a>"
   ]
  },
  {
   "cell_type": "markdown",
   "id": "b451ef41",
   "metadata": {},
   "source": [
    "##### Гипотеза 3. Помесячная выручка от пользователей с подпиской по месяцам выше, чем выручка от пользователей без подписки. "
   ]
  },
  {
   "cell_type": "markdown",
   "id": "df2a2e49",
   "metadata": {},
   "source": [
    "Нулевая гепотеза - помесячная вырочка от пользователей с подпиской по месяцам равна  выручке от пользователей без подписки.  \n",
    "Альтернативная гипотеза - помесячная вырочка от пользователей с подпиской по месяцам выше, чем выручка от пользователей без подписки."
   ]
  },
  {
   "cell_type": "code",
   "execution_count": 55,
   "id": "275536b5",
   "metadata": {
    "scrolled": true
   },
   "outputs": [
    {
     "name": "stdout",
     "output_type": "stream",
     "text": [
      "p-значение: 2.4970242872858465e-38\n",
      "Отвергаем нулевую гипотезу\n",
      "Средняя помесячная выручка пользователей с подпиской: 362.7921906022502\n",
      "Средняя помесячная выручка пользователей без подписки: 329.3326437121324\n"
     ]
    }
   ],
   "source": [
    "# задаём уровень значимости\n",
    "alpha = 0.05\n",
    "# проводим ttest для двух выборок, в качестве альтернативной используем одностороннюю гипотезу \"больше\"\n",
    "results = st.ttest_ind(df_pivot.query('subscription_type == \"ultra\"')['revenue'], df_pivot.query('subscription_type == \"free\"')['revenue'], equal_var=False, alternative='greater')\n",
    "\n",
    "# проверяем p-value\n",
    "print('p-значение:', results.pvalue)\n",
    "\n",
    "if results.pvalue < alpha:\n",
    "    print('Отвергаем нулевую гипотезу')\n",
    "else:\n",
    "    print('Не получилось отвергнуть нулевую гипотезу') \n",
    "\n",
    "print('Средняя помесячная выручка пользователей с подпиской:', df_pivot.query('subscription_type == \"ultra\"')['revenue'].mean())\n",
    "print('Средняя помесячная выручка пользователей без подписки:', df_pivot.query('subscription_type == \"free\"')['revenue'].mean())\n",
    "    "
   ]
  },
  {
   "cell_type": "markdown",
   "id": "5ddb3e1b",
   "metadata": {},
   "source": [
    "Мы можем отвергнуть нулевую гипотезу, есть основания говорить, что выручка от пользователей с подпиской по месяцам выше, чем выручка от пользователей без подписки."
   ]
  },
  {
   "cell_type": "markdown",
   "id": "497c9528",
   "metadata": {},
   "source": [
    "<a id='step6.4'></a>"
   ]
  },
  {
   "cell_type": "markdown",
   "id": "9913dd9a",
   "metadata": {},
   "source": [
    "##### Гипотеза 4. "
   ]
  },
  {
   "cell_type": "markdown",
   "id": "c95339c6",
   "metadata": {},
   "source": [
    "**Вопрос**  \n",
    "Представьте такую ситуацию: техническая команда сервиса обновила сервера, с которыми взаимодействует мобильное приложение. Она надеется, что из-за этого количество обращений в техподдержку значимо снизилось. Некоторый файл содержит для каждого пользователя данные о количестве обращений до обновления и после него. Какой тест вам понадобился бы для проверки этой гипотезы?"
   ]
  },
  {
   "cell_type": "markdown",
   "id": "a3dc86dd",
   "metadata": {},
   "source": [
    "**Ответ**  \n",
    "Нам нужно было бы проверить гипотезу о равенстве средних для зависимых (парных) выборок.  \n",
    "Выборки в этом случае будут зависимыми, иначе — парными. Парная выборка означает, что некоторая переменная измеряется дважды для одних и тех же объектов. В нашем примере это пара измерений для каждого пользователя — до и после обновления сервиса.  \n",
    "Оба набора должны быть одинаковыми по размеру: каждое измерение должно быть проведено до и после изменения.\n",
    "Подразумевается, что порядок объектов, для которых сделаны измерения, в обоих массивах тоже одинаковый:  \n",
    "k-е по порядку число в первом наборе и  \n",
    "k-е число во втором наборе — это измерения для одного и того же объекта до и после изменения.\n",
    "Проверить гипотезу можно удет методом `scipy.stats.ttest_rel()`"
   ]
  },
  {
   "cell_type": "markdown",
   "id": "7c8ed34c",
   "metadata": {},
   "source": [
    "**Вывод**  \n",
    "Мы проверили 4 гипотезы:\n",
    " - есть основания говорить, что пользователи с подпиской тратят больше времени на сессию,  \n",
    " - возможно пользователи с подпиской проезжают 3130 метров за одну сессию,  \n",
    " - основания говорить, что выручка от пользователей с подпиской по месяцам выше, чем выручка от пользователей без подписки,  \n",
    " - для проверки гипотезы о снижении количества обращейний в техподдержку после обновления сервиса необходимо проверить гипотезу о равенстве среднийх зависимых выборок методом `scipy.stats.ttest_rel()`.\n",
    "\n",
    " "
   ]
  },
  {
   "cell_type": "markdown",
   "id": "49165e6e",
   "metadata": {},
   "source": [
    "<a id='step8'></a>"
   ]
  },
  {
   "cell_type": "markdown",
   "id": "eaead965",
   "metadata": {},
   "source": [
    "#### Вывод  "
   ]
  },
  {
   "cell_type": "markdown",
   "id": "6cd1b55c",
   "metadata": {},
   "source": [
    "Мы провели предобаботку данных:\n",
    "- Очистили данные от явных дублей.\n",
    "- Изменили тип данных в столбце с датой сессии, сделали типом datetime64.\n",
    "- Добавили новы столбец `month` - с указанием месяца сессии.\n",
    "- Очистили данные от ошибочных данных, так, например, встречались данные, где пользователи менее чем за минуту проезжали тысячи метров.  \n",
    "  \n",
    "Мы провели исследование данных:\n",
    "- В данных информация из 8 городов, в каждом городе по 168-219 пользователей. Больше всего пользователей в Пятигорске, меньше всего - в Москве.\n",
    "- Пользователей без подписки, их около 54%, подписок типа \"ultra\" - около 46%.\n",
    "- Самому молодому пользователю 12 лет, а самому взрослому - 43. Средний возраст пользователей - 24,9 года, медианное значение (и самый распространенный возраст) - 25 лет.\n",
    "- Минимальное расстояние за одну поездку - менее 1 метра, возможно, пользователи сталкиваются с какими-то проблемами (например, самокат не работает). Максимальное расстояние одной поездки - более 7 км.  Среднее расстояние поездки - 3071 м., медианное - 3134 м.\n",
    "- Минимум пользователи берут самокат на 2 минуты, а максимум - на 40. Средня продолжительность времени поездки - 17,9 минут, а медианное значение - 17,7 мин.\n",
    "- Пользователи с подпиской в среднем проезжают на самокате 3115 метров за одну поездку, медианное значение 3149 м. На гистограмме мы видим 3 пика: около 1000 м., около 3000 м. и около 4000 м, что довольно удивительно, возможно, это связано с тем, что самокаты сервис устанавливает на таких расстояниях от ближайших важных точек (станций общественного транспорта, парков, ТЦ). Минимальное расстояние за одну сессию - 244 м, максимальное - 5700 м.\n",
    "- Пользователи без подписки в среднем проезжают на самокате 3028 метров за одну поездку, медианное значение 3102 м. На гистограмме мы видим 2 пика: около 500 м. и около 3000 м. и около 4000 м, что совпадает с пользователями с подпиской, но нет ярко выраженного пика около 4000 м. Минимальное расстояние за одну сессию - около 1 м, максимальное - 7066 м.\n",
    "- Пользователи с подпиской в среднем едут на самокате около 18,5 минут, медианное значение также около 18 мин. Самая короткая поездка - около 3,8 мин, самая продолжительная - около 40 мин.\n",
    "- Пользователи без подписки в среднем едут на самокате около 17,5 минут, медианное значение также около 17 мин. Самая короткая поездка - около 2 мин, самая продолжительная - около 35 мин.\n",
    "- Была посчитана выручка в месяц: минимальная выручка в месяц - 74, максимальная - 1444, средняя выручка в месяц около 343, медианная - около 319.\n",
    "Было проверено несколько гипотез:\n",
    "- Есть основания говорить, что пользователи с подпиской тратят больше времени на сессию, чем пользователи без подписки.\n",
    "- Возможно пользователи с подпиской проезжают 3130 метров за одну сессию.\n",
    "- Есть основания говорить, что выручка от пользователей с подпиской по месяцам выше, чем выручка от пользователей без подписки.\n",
    "\n",
    "Рекомендации:\n",
    "- Поправить точность измерения дистанции - сейчас данные о дистанции сохраняются с точностью до микрометра, нет необходимости такой точности.\n",
    "- Данные по продолжительности можно сохранять с округлением до большего целого значения, т.к. Плата взымается поминутно.\n"
   ]
  }
 ],
 "metadata": {
  "ExecuteTimeLog": [
   {
    "duration": 1222,
    "start_time": "2023-05-26T11:19:49.288Z"
   },
   {
    "duration": 80,
    "start_time": "2023-05-26T11:24:59.173Z"
   },
   {
    "duration": 33,
    "start_time": "2023-05-26T11:25:08.799Z"
   },
   {
    "duration": 84,
    "start_time": "2023-05-26T11:25:58.059Z"
   },
   {
    "duration": 73,
    "start_time": "2023-05-26T11:26:27.468Z"
   },
   {
    "duration": 12,
    "start_time": "2023-05-26T11:32:49.817Z"
   },
   {
    "duration": 121,
    "start_time": "2023-05-26T11:33:05.909Z"
   },
   {
    "duration": 31,
    "start_time": "2023-05-26T11:33:14.452Z"
   },
   {
    "duration": 9,
    "start_time": "2023-05-26T11:33:18.219Z"
   },
   {
    "duration": 21,
    "start_time": "2023-05-26T11:33:35.806Z"
   },
   {
    "duration": 2,
    "start_time": "2023-05-26T11:34:04.618Z"
   },
   {
    "duration": 31,
    "start_time": "2023-05-26T11:34:04.647Z"
   },
   {
    "duration": 16,
    "start_time": "2023-05-26T11:34:04.680Z"
   },
   {
    "duration": 48,
    "start_time": "2023-05-26T11:34:04.697Z"
   },
   {
    "duration": 10,
    "start_time": "2023-05-26T11:34:04.746Z"
   },
   {
    "duration": 25,
    "start_time": "2023-05-26T11:34:04.758Z"
   },
   {
    "duration": 19,
    "start_time": "2023-05-26T11:34:07.698Z"
   },
   {
    "duration": 29,
    "start_time": "2023-05-26T11:35:02.627Z"
   },
   {
    "duration": 12,
    "start_time": "2023-05-26T11:50:05.383Z"
   },
   {
    "duration": 8,
    "start_time": "2023-05-26T11:50:24.809Z"
   },
   {
    "duration": 14,
    "start_time": "2023-05-26T11:50:33.394Z"
   },
   {
    "duration": 15,
    "start_time": "2023-05-26T11:55:16.973Z"
   },
   {
    "duration": 9,
    "start_time": "2023-05-26T11:55:49.408Z"
   },
   {
    "duration": 19,
    "start_time": "2023-05-26T12:00:02.604Z"
   },
   {
    "duration": 5,
    "start_time": "2023-05-26T12:06:05.465Z"
   },
   {
    "duration": 10,
    "start_time": "2023-05-26T12:06:35.264Z"
   },
   {
    "duration": 11,
    "start_time": "2023-05-26T12:06:51.902Z"
   },
   {
    "duration": 12,
    "start_time": "2023-05-26T12:10:48.509Z"
   },
   {
    "duration": 3,
    "start_time": "2023-05-26T12:44:52.675Z"
   },
   {
    "duration": 58,
    "start_time": "2023-05-26T12:44:52.685Z"
   },
   {
    "duration": 11,
    "start_time": "2023-05-26T12:44:52.745Z"
   },
   {
    "duration": 70,
    "start_time": "2023-05-26T12:44:52.757Z"
   },
   {
    "duration": 10,
    "start_time": "2023-05-26T12:44:52.829Z"
   },
   {
    "duration": 24,
    "start_time": "2023-05-26T12:44:52.841Z"
   },
   {
    "duration": 13,
    "start_time": "2023-05-26T12:44:53.071Z"
   },
   {
    "duration": 50,
    "start_time": "2023-05-26T12:44:53.085Z"
   },
   {
    "duration": 38,
    "start_time": "2023-05-26T12:44:53.136Z"
   },
   {
    "duration": 15,
    "start_time": "2023-05-26T12:44:53.315Z"
   },
   {
    "duration": 5,
    "start_time": "2023-05-26T12:44:53.332Z"
   },
   {
    "duration": 37,
    "start_time": "2023-05-26T12:44:53.339Z"
   },
   {
    "duration": 10,
    "start_time": "2023-05-26T12:44:53.378Z"
   },
   {
    "duration": 256,
    "start_time": "2023-05-26T12:49:29.875Z"
   },
   {
    "duration": 4,
    "start_time": "2023-05-26T12:50:01.040Z"
   },
   {
    "duration": 138,
    "start_time": "2023-05-26T12:50:11.671Z"
   },
   {
    "duration": 213,
    "start_time": "2023-05-26T12:50:37.906Z"
   },
   {
    "duration": 138,
    "start_time": "2023-05-26T12:50:54.038Z"
   },
   {
    "duration": 163,
    "start_time": "2023-05-26T12:51:02.126Z"
   },
   {
    "duration": 147,
    "start_time": "2023-05-26T12:51:09.502Z"
   },
   {
    "duration": 129,
    "start_time": "2023-05-26T12:51:21.010Z"
   },
   {
    "duration": 146,
    "start_time": "2023-05-26T12:51:28.715Z"
   },
   {
    "duration": 10,
    "start_time": "2023-05-26T12:51:51.820Z"
   },
   {
    "duration": 11,
    "start_time": "2023-05-26T12:52:26.071Z"
   },
   {
    "duration": 5,
    "start_time": "2023-05-26T12:52:47.671Z"
   },
   {
    "duration": 209,
    "start_time": "2023-05-26T12:53:05.609Z"
   },
   {
    "duration": 138,
    "start_time": "2023-05-26T12:53:11.965Z"
   },
   {
    "duration": 172,
    "start_time": "2023-05-26T12:53:20.166Z"
   },
   {
    "duration": 139,
    "start_time": "2023-05-26T12:53:25.602Z"
   },
   {
    "duration": 153,
    "start_time": "2023-05-26T12:53:52.928Z"
   },
   {
    "duration": 186,
    "start_time": "2023-05-26T12:57:00.471Z"
   },
   {
    "duration": 7,
    "start_time": "2023-05-26T12:58:26.907Z"
   },
   {
    "duration": 9,
    "start_time": "2023-05-26T13:05:31.347Z"
   },
   {
    "duration": 3,
    "start_time": "2023-05-26T13:05:55.220Z"
   },
   {
    "duration": 8,
    "start_time": "2023-05-26T13:06:00.768Z"
   },
   {
    "duration": 128,
    "start_time": "2023-05-26T13:06:19.735Z"
   },
   {
    "duration": 559,
    "start_time": "2023-05-26T13:07:05.804Z"
   },
   {
    "duration": 359,
    "start_time": "2023-05-26T13:07:22.178Z"
   },
   {
    "duration": 223,
    "start_time": "2023-05-26T13:07:31.154Z"
   },
   {
    "duration": 161,
    "start_time": "2023-05-26T13:07:45.978Z"
   },
   {
    "duration": 183,
    "start_time": "2023-05-26T13:07:59.500Z"
   },
   {
    "duration": 301,
    "start_time": "2023-05-26T13:09:29.444Z"
   },
   {
    "duration": 87,
    "start_time": "2023-05-26T13:10:05.174Z"
   },
   {
    "duration": 89,
    "start_time": "2023-05-26T13:10:36.479Z"
   },
   {
    "duration": 6,
    "start_time": "2023-05-26T13:11:47.749Z"
   },
   {
    "duration": 13,
    "start_time": "2023-05-26T13:11:56.384Z"
   },
   {
    "duration": 6,
    "start_time": "2023-05-26T13:12:17.959Z"
   },
   {
    "duration": 6,
    "start_time": "2023-05-26T13:13:45.727Z"
   },
   {
    "duration": 3,
    "start_time": "2023-05-26T13:13:52.929Z"
   },
   {
    "duration": 41,
    "start_time": "2023-05-26T13:13:52.934Z"
   },
   {
    "duration": 16,
    "start_time": "2023-05-26T13:13:52.977Z"
   },
   {
    "duration": 62,
    "start_time": "2023-05-26T13:13:52.995Z"
   },
   {
    "duration": 9,
    "start_time": "2023-05-26T13:13:53.060Z"
   },
   {
    "duration": 34,
    "start_time": "2023-05-26T13:13:53.070Z"
   },
   {
    "duration": 33,
    "start_time": "2023-05-26T13:13:53.106Z"
   },
   {
    "duration": 18,
    "start_time": "2023-05-26T13:13:53.141Z"
   },
   {
    "duration": 9,
    "start_time": "2023-05-26T13:13:53.160Z"
   },
   {
    "duration": 12,
    "start_time": "2023-05-26T13:13:53.170Z"
   },
   {
    "duration": 5,
    "start_time": "2023-05-26T13:13:53.194Z"
   },
   {
    "duration": 41,
    "start_time": "2023-05-26T13:13:53.201Z"
   },
   {
    "duration": 8,
    "start_time": "2023-05-26T13:13:53.244Z"
   },
   {
    "duration": 7,
    "start_time": "2023-05-26T13:13:53.253Z"
   },
   {
    "duration": 184,
    "start_time": "2023-05-26T13:13:53.261Z"
   },
   {
    "duration": 4,
    "start_time": "2023-05-26T13:13:53.447Z"
   },
   {
    "duration": 9,
    "start_time": "2023-05-26T13:13:53.453Z"
   },
   {
    "duration": 84,
    "start_time": "2023-05-26T13:13:53.463Z"
   },
   {
    "duration": 5,
    "start_time": "2023-05-26T13:15:32.666Z"
   },
   {
    "duration": 180,
    "start_time": "2023-05-26T13:16:53.460Z"
   },
   {
    "duration": 202,
    "start_time": "2023-05-26T13:17:01.021Z"
   },
   {
    "duration": 262,
    "start_time": "2023-05-26T13:17:06.160Z"
   },
   {
    "duration": 9,
    "start_time": "2023-05-26T13:18:15.181Z"
   },
   {
    "duration": 10,
    "start_time": "2023-05-26T13:23:26.611Z"
   },
   {
    "duration": 354,
    "start_time": "2023-05-26T13:26:27.961Z"
   },
   {
    "duration": 257,
    "start_time": "2023-05-26T13:30:22.557Z"
   },
   {
    "duration": 301,
    "start_time": "2023-05-26T13:30:33.282Z"
   },
   {
    "duration": 23,
    "start_time": "2023-05-26T13:34:11.875Z"
   },
   {
    "duration": 292,
    "start_time": "2023-05-26T13:34:46.305Z"
   },
   {
    "duration": 12,
    "start_time": "2023-05-26T13:36:32.153Z"
   },
   {
    "duration": 31,
    "start_time": "2023-05-26T13:37:18.111Z"
   },
   {
    "duration": 10,
    "start_time": "2023-05-26T13:38:13.547Z"
   },
   {
    "duration": 12,
    "start_time": "2023-05-26T13:40:02.614Z"
   },
   {
    "duration": 5,
    "start_time": "2023-05-26T13:41:46.476Z"
   },
   {
    "duration": 2,
    "start_time": "2023-05-26T13:51:41.344Z"
   },
   {
    "duration": 45,
    "start_time": "2023-05-26T13:51:41.368Z"
   },
   {
    "duration": 14,
    "start_time": "2023-05-26T13:51:41.415Z"
   },
   {
    "duration": 45,
    "start_time": "2023-05-26T13:51:41.431Z"
   },
   {
    "duration": 17,
    "start_time": "2023-05-26T13:51:41.478Z"
   },
   {
    "duration": 61,
    "start_time": "2023-05-26T13:51:41.498Z"
   },
   {
    "duration": 9,
    "start_time": "2023-05-26T13:51:41.560Z"
   },
   {
    "duration": 9,
    "start_time": "2023-05-26T13:51:41.570Z"
   },
   {
    "duration": 19,
    "start_time": "2023-05-26T13:51:41.580Z"
   },
   {
    "duration": 61,
    "start_time": "2023-05-26T13:51:41.601Z"
   },
   {
    "duration": 5,
    "start_time": "2023-05-26T13:51:41.664Z"
   },
   {
    "duration": 9,
    "start_time": "2023-05-26T13:51:41.671Z"
   },
   {
    "duration": 59,
    "start_time": "2023-05-26T13:51:41.681Z"
   },
   {
    "duration": 7,
    "start_time": "2023-05-26T13:51:41.743Z"
   },
   {
    "duration": 190,
    "start_time": "2023-05-26T13:51:41.753Z"
   },
   {
    "duration": 10,
    "start_time": "2023-05-26T13:51:41.944Z"
   },
   {
    "duration": 10,
    "start_time": "2023-05-26T13:51:41.958Z"
   },
   {
    "duration": 99,
    "start_time": "2023-05-26T13:51:41.970Z"
   },
   {
    "duration": 213,
    "start_time": "2023-05-26T13:51:42.071Z"
   },
   {
    "duration": 13,
    "start_time": "2023-05-26T13:51:42.291Z"
   },
   {
    "duration": 49,
    "start_time": "2023-05-26T13:51:42.305Z"
   },
   {
    "duration": 370,
    "start_time": "2023-05-26T13:51:42.356Z"
   },
   {
    "duration": 16,
    "start_time": "2023-05-26T13:51:42.733Z"
   },
   {
    "duration": 7,
    "start_time": "2023-05-26T13:51:42.751Z"
   },
   {
    "duration": 305,
    "start_time": "2023-05-26T13:51:42.759Z"
   },
   {
    "duration": 9,
    "start_time": "2023-05-26T13:51:43.066Z"
   },
   {
    "duration": 17,
    "start_time": "2023-05-26T13:55:09.377Z"
   },
   {
    "duration": 15,
    "start_time": "2023-05-26T13:55:30.109Z"
   },
   {
    "duration": 335,
    "start_time": "2023-05-26T13:55:47.077Z"
   },
   {
    "duration": 399,
    "start_time": "2023-05-26T13:56:18.777Z"
   },
   {
    "duration": 30,
    "start_time": "2023-05-26T14:06:57.165Z"
   },
   {
    "duration": 19,
    "start_time": "2023-05-26T14:08:41.872Z"
   },
   {
    "duration": 16,
    "start_time": "2023-05-26T14:13:08.264Z"
   },
   {
    "duration": 32,
    "start_time": "2023-05-26T14:13:45.443Z"
   },
   {
    "duration": 22,
    "start_time": "2023-05-26T14:14:05.023Z"
   },
   {
    "duration": 23,
    "start_time": "2023-05-26T14:14:31.503Z"
   },
   {
    "duration": 8,
    "start_time": "2023-05-26T14:17:18.359Z"
   },
   {
    "duration": 285,
    "start_time": "2023-05-26T14:17:20.458Z"
   },
   {
    "duration": 275,
    "start_time": "2023-05-26T14:19:03.869Z"
   },
   {
    "duration": 11,
    "start_time": "2023-05-26T14:19:06.511Z"
   },
   {
    "duration": 345,
    "start_time": "2023-05-26T14:19:21.829Z"
   },
   {
    "duration": 7,
    "start_time": "2023-05-26T14:29:01.263Z"
   },
   {
    "duration": 273,
    "start_time": "2023-05-26T14:29:05.905Z"
   },
   {
    "duration": 16,
    "start_time": "2023-05-26T14:36:41.080Z"
   },
   {
    "duration": 81,
    "start_time": "2023-05-26T14:39:03.364Z"
   },
   {
    "duration": 93,
    "start_time": "2023-05-26T14:40:23.870Z"
   },
   {
    "duration": 53,
    "start_time": "2023-05-26T14:43:40.252Z"
   },
   {
    "duration": 70,
    "start_time": "2023-05-26T14:45:31.043Z"
   },
   {
    "duration": 38,
    "start_time": "2023-05-26T14:48:22.420Z"
   },
   {
    "duration": 1326,
    "start_time": "2023-05-26T14:48:32.357Z"
   },
   {
    "duration": 68,
    "start_time": "2023-05-26T14:49:01.807Z"
   },
   {
    "duration": 18,
    "start_time": "2023-05-26T14:50:15.210Z"
   },
   {
    "duration": 1421,
    "start_time": "2023-05-29T07:14:19.212Z"
   },
   {
    "duration": 129,
    "start_time": "2023-05-29T07:14:20.635Z"
   },
   {
    "duration": 16,
    "start_time": "2023-05-29T07:14:20.766Z"
   },
   {
    "duration": 229,
    "start_time": "2023-05-29T07:14:20.784Z"
   },
   {
    "duration": 13,
    "start_time": "2023-05-29T07:14:21.016Z"
   },
   {
    "duration": 81,
    "start_time": "2023-05-29T07:14:21.032Z"
   },
   {
    "duration": 10,
    "start_time": "2023-05-29T07:14:21.115Z"
   },
   {
    "duration": 9,
    "start_time": "2023-05-29T07:14:21.127Z"
   },
   {
    "duration": 11,
    "start_time": "2023-05-29T07:14:21.138Z"
   },
   {
    "duration": 14,
    "start_time": "2023-05-29T07:14:21.150Z"
   },
   {
    "duration": 5,
    "start_time": "2023-05-29T07:14:21.165Z"
   },
   {
    "duration": 35,
    "start_time": "2023-05-29T07:14:21.175Z"
   },
   {
    "duration": 13,
    "start_time": "2023-05-29T07:14:21.212Z"
   },
   {
    "duration": 6,
    "start_time": "2023-05-29T07:14:21.228Z"
   },
   {
    "duration": 220,
    "start_time": "2023-05-29T07:14:21.236Z"
   },
   {
    "duration": 6,
    "start_time": "2023-05-29T07:14:21.458Z"
   },
   {
    "duration": 23,
    "start_time": "2023-05-29T07:14:21.477Z"
   },
   {
    "duration": 81,
    "start_time": "2023-05-29T07:14:21.502Z"
   },
   {
    "duration": 239,
    "start_time": "2023-05-29T07:14:21.584Z"
   },
   {
    "duration": 8,
    "start_time": "2023-05-29T07:14:21.824Z"
   },
   {
    "duration": 10,
    "start_time": "2023-05-29T07:14:21.834Z"
   },
   {
    "duration": 343,
    "start_time": "2023-05-29T07:14:21.846Z"
   },
   {
    "duration": 15,
    "start_time": "2023-05-29T07:14:22.194Z"
   },
   {
    "duration": 34,
    "start_time": "2023-05-29T07:14:22.212Z"
   },
   {
    "duration": 282,
    "start_time": "2023-05-29T07:14:22.248Z"
   },
   {
    "duration": 10,
    "start_time": "2023-05-29T07:14:22.532Z"
   },
   {
    "duration": 13,
    "start_time": "2023-05-29T07:14:22.543Z"
   },
   {
    "duration": 39,
    "start_time": "2023-05-29T07:14:22.557Z"
   },
   {
    "duration": 411,
    "start_time": "2023-05-29T07:14:22.598Z"
   },
   {
    "duration": 24,
    "start_time": "2023-05-29T07:14:23.012Z"
   },
   {
    "duration": 15,
    "start_time": "2023-05-29T07:14:23.038Z"
   },
   {
    "duration": 55,
    "start_time": "2023-05-29T07:14:23.054Z"
   },
   {
    "duration": 17,
    "start_time": "2023-05-29T07:14:23.116Z"
   },
   {
    "duration": 9,
    "start_time": "2023-05-29T07:14:23.136Z"
   },
   {
    "duration": 294,
    "start_time": "2023-05-29T07:14:23.147Z"
   },
   {
    "duration": 9,
    "start_time": "2023-05-29T07:14:23.443Z"
   },
   {
    "duration": 316,
    "start_time": "2023-05-29T07:14:23.455Z"
   },
   {
    "duration": 10,
    "start_time": "2023-05-29T07:14:23.773Z"
   },
   {
    "duration": 341,
    "start_time": "2023-05-29T07:14:23.785Z"
   },
   {
    "duration": 15,
    "start_time": "2023-05-29T07:14:24.128Z"
   },
   {
    "duration": 432,
    "start_time": "2023-05-29T07:14:24.148Z"
   },
   {
    "duration": 27,
    "start_time": "2023-05-29T07:14:24.586Z"
   },
   {
    "duration": 96,
    "start_time": "2023-05-29T07:14:24.618Z"
   },
   {
    "duration": 119,
    "start_time": "2023-05-29T07:14:24.715Z"
   },
   {
    "duration": 4,
    "start_time": "2023-05-29T07:31:14.292Z"
   },
   {
    "duration": 54,
    "start_time": "2023-05-29T07:31:14.310Z"
   },
   {
    "duration": 26,
    "start_time": "2023-05-29T07:31:14.366Z"
   },
   {
    "duration": 54,
    "start_time": "2023-05-29T07:31:14.394Z"
   },
   {
    "duration": 19,
    "start_time": "2023-05-29T07:31:14.451Z"
   },
   {
    "duration": 38,
    "start_time": "2023-05-29T07:31:14.474Z"
   },
   {
    "duration": 17,
    "start_time": "2023-05-29T07:31:14.514Z"
   },
   {
    "duration": 15,
    "start_time": "2023-05-29T07:31:14.536Z"
   },
   {
    "duration": 16,
    "start_time": "2023-05-29T07:31:14.554Z"
   },
   {
    "duration": 22,
    "start_time": "2023-05-29T07:31:14.573Z"
   },
   {
    "duration": 5,
    "start_time": "2023-05-29T07:31:14.597Z"
   },
   {
    "duration": 16,
    "start_time": "2023-05-29T07:31:14.604Z"
   },
   {
    "duration": 13,
    "start_time": "2023-05-29T07:31:14.624Z"
   },
   {
    "duration": 7,
    "start_time": "2023-05-29T07:31:14.639Z"
   },
   {
    "duration": 241,
    "start_time": "2023-05-29T07:31:14.649Z"
   },
   {
    "duration": 27,
    "start_time": "2023-05-29T07:31:14.892Z"
   },
   {
    "duration": 18,
    "start_time": "2023-05-29T07:31:14.926Z"
   },
   {
    "duration": 101,
    "start_time": "2023-05-29T07:31:14.946Z"
   },
   {
    "duration": 379,
    "start_time": "2023-05-29T07:31:15.049Z"
   },
   {
    "duration": 13,
    "start_time": "2023-05-29T07:31:15.430Z"
   },
   {
    "duration": 11,
    "start_time": "2023-05-29T07:31:15.445Z"
   },
   {
    "duration": 369,
    "start_time": "2023-05-29T07:31:15.458Z"
   },
   {
    "duration": 12,
    "start_time": "2023-05-29T07:31:15.833Z"
   },
   {
    "duration": 13,
    "start_time": "2023-05-29T07:31:15.847Z"
   },
   {
    "duration": 365,
    "start_time": "2023-05-29T07:31:15.862Z"
   },
   {
    "duration": 24,
    "start_time": "2023-05-29T07:31:16.230Z"
   },
   {
    "duration": 10,
    "start_time": "2023-05-29T07:31:16.256Z"
   },
   {
    "duration": 33,
    "start_time": "2023-05-29T07:31:16.268Z"
   },
   {
    "duration": 390,
    "start_time": "2023-05-29T07:31:16.303Z"
   },
   {
    "duration": 35,
    "start_time": "2023-05-29T07:31:16.700Z"
   },
   {
    "duration": 21,
    "start_time": "2023-05-29T07:31:16.737Z"
   },
   {
    "duration": 67,
    "start_time": "2023-05-29T07:31:16.760Z"
   },
   {
    "duration": 17,
    "start_time": "2023-05-29T07:31:16.834Z"
   },
   {
    "duration": 12,
    "start_time": "2023-05-29T07:31:16.852Z"
   },
   {
    "duration": 326,
    "start_time": "2023-05-29T07:31:16.866Z"
   },
   {
    "duration": 18,
    "start_time": "2023-05-29T07:31:17.195Z"
   },
   {
    "duration": 442,
    "start_time": "2023-05-29T07:31:17.215Z"
   },
   {
    "duration": 18,
    "start_time": "2023-05-29T07:31:17.658Z"
   },
   {
    "duration": 333,
    "start_time": "2023-05-29T07:31:17.678Z"
   },
   {
    "duration": 10,
    "start_time": "2023-05-29T07:31:18.013Z"
   },
   {
    "duration": 327,
    "start_time": "2023-05-29T07:31:18.024Z"
   },
   {
    "duration": 20,
    "start_time": "2023-05-29T07:31:18.357Z"
   },
   {
    "duration": 143,
    "start_time": "2023-05-29T07:31:18.380Z"
   },
   {
    "duration": 16,
    "start_time": "2023-05-29T07:31:18.525Z"
   },
   {
    "duration": 53,
    "start_time": "2023-05-29T07:33:56.702Z"
   },
   {
    "duration": 61,
    "start_time": "2023-05-29T07:34:08.366Z"
   },
   {
    "duration": 61,
    "start_time": "2023-05-29T07:34:25.428Z"
   },
   {
    "duration": 189,
    "start_time": "2023-05-29T07:35:53.920Z"
   },
   {
    "duration": 83,
    "start_time": "2023-05-29T07:37:20.960Z"
   },
   {
    "duration": 105,
    "start_time": "2023-05-29T07:40:11.500Z"
   },
   {
    "duration": 17,
    "start_time": "2023-05-29T08:00:07.019Z"
   },
   {
    "duration": 8,
    "start_time": "2023-05-29T08:01:46.526Z"
   },
   {
    "duration": 13,
    "start_time": "2023-05-29T08:27:13.603Z"
   },
   {
    "duration": 11,
    "start_time": "2023-05-29T08:27:32.054Z"
   },
   {
    "duration": 435,
    "start_time": "2023-05-29T08:28:18.624Z"
   },
   {
    "duration": 31,
    "start_time": "2023-05-29T08:28:43.024Z"
   },
   {
    "duration": 39,
    "start_time": "2023-05-29T08:29:23.757Z"
   },
   {
    "duration": 28,
    "start_time": "2023-05-29T08:43:48.018Z"
   },
   {
    "duration": 42,
    "start_time": "2023-05-29T08:44:22.650Z"
   },
   {
    "duration": 31,
    "start_time": "2023-05-29T08:45:15.723Z"
   },
   {
    "duration": 33,
    "start_time": "2023-05-29T08:46:20.918Z"
   },
   {
    "duration": 36,
    "start_time": "2023-05-29T08:49:22.054Z"
   },
   {
    "duration": 30,
    "start_time": "2023-05-29T08:49:37.915Z"
   },
   {
    "duration": 40,
    "start_time": "2023-05-29T08:50:26.062Z"
   },
   {
    "duration": 43,
    "start_time": "2023-05-29T08:50:45.385Z"
   },
   {
    "duration": 34,
    "start_time": "2023-05-29T08:50:51.688Z"
   },
   {
    "duration": 36,
    "start_time": "2023-05-29T08:51:10.658Z"
   },
   {
    "duration": 37,
    "start_time": "2023-05-29T08:51:26.163Z"
   },
   {
    "duration": 40,
    "start_time": "2023-05-29T08:51:35.046Z"
   },
   {
    "duration": 32,
    "start_time": "2023-05-29T08:52:59.595Z"
   },
   {
    "duration": 34,
    "start_time": "2023-05-29T08:53:11.599Z"
   },
   {
    "duration": 44,
    "start_time": "2023-05-29T08:53:21.692Z"
   },
   {
    "duration": 38,
    "start_time": "2023-05-29T08:55:14.355Z"
   },
   {
    "duration": 34,
    "start_time": "2023-05-29T08:55:40.994Z"
   },
   {
    "duration": 24,
    "start_time": "2023-05-29T08:55:50.908Z"
   },
   {
    "duration": 57,
    "start_time": "2023-05-29T08:55:58.959Z"
   },
   {
    "duration": 26,
    "start_time": "2023-05-29T08:56:19.404Z"
   },
   {
    "duration": 26,
    "start_time": "2023-05-29T08:56:25.801Z"
   },
   {
    "duration": 29,
    "start_time": "2023-05-29T08:57:02.602Z"
   },
   {
    "duration": 25,
    "start_time": "2023-05-29T08:57:12.616Z"
   },
   {
    "duration": 25,
    "start_time": "2023-05-29T08:57:27.202Z"
   },
   {
    "duration": 31,
    "start_time": "2023-05-29T08:57:42.529Z"
   },
   {
    "duration": 31,
    "start_time": "2023-05-29T08:57:50.803Z"
   },
   {
    "duration": 25,
    "start_time": "2023-05-29T08:57:57.640Z"
   },
   {
    "duration": 29,
    "start_time": "2023-05-29T08:58:05.100Z"
   },
   {
    "duration": 43,
    "start_time": "2023-05-29T08:58:21.863Z"
   },
   {
    "duration": 32,
    "start_time": "2023-05-29T08:58:38.329Z"
   },
   {
    "duration": 28,
    "start_time": "2023-05-29T08:58:47.441Z"
   },
   {
    "duration": 1817,
    "start_time": "2023-05-29T08:59:03.700Z"
   },
   {
    "duration": 36,
    "start_time": "2023-05-29T08:59:11.401Z"
   },
   {
    "duration": 29,
    "start_time": "2023-05-29T08:59:43.518Z"
   },
   {
    "duration": 51,
    "start_time": "2023-05-29T09:00:41.776Z"
   },
   {
    "duration": 32,
    "start_time": "2023-05-29T09:01:06.141Z"
   },
   {
    "duration": 33,
    "start_time": "2023-05-29T09:01:11.339Z"
   },
   {
    "duration": 45,
    "start_time": "2023-05-29T09:01:42.122Z"
   },
   {
    "duration": 577,
    "start_time": "2023-05-29T09:03:44.910Z"
   },
   {
    "duration": 40,
    "start_time": "2023-05-29T09:04:01.053Z"
   },
   {
    "duration": 48,
    "start_time": "2023-05-29T09:04:37.280Z"
   },
   {
    "duration": 36,
    "start_time": "2023-05-29T09:05:31.010Z"
   },
   {
    "duration": 14,
    "start_time": "2023-05-29T09:10:37.123Z"
   },
   {
    "duration": 22,
    "start_time": "2023-05-29T09:10:51.704Z"
   },
   {
    "duration": 36,
    "start_time": "2023-05-29T09:11:29.800Z"
   },
   {
    "duration": 6,
    "start_time": "2023-05-29T09:19:00.106Z"
   },
   {
    "duration": 4017,
    "start_time": "2023-05-29T09:19:01.515Z"
   },
   {
    "duration": 2788,
    "start_time": "2023-05-29T09:19:17.903Z"
   },
   {
    "duration": 425,
    "start_time": "2023-05-29T09:19:55.001Z"
   },
   {
    "duration": 78,
    "start_time": "2023-05-29T09:22:10.352Z"
   },
   {
    "duration": 3747,
    "start_time": "2023-05-29T09:22:21.008Z"
   },
   {
    "duration": 164,
    "start_time": "2023-05-29T09:22:24.757Z"
   },
   {
    "duration": 14,
    "start_time": "2023-05-29T09:22:24.923Z"
   },
   {
    "duration": 194,
    "start_time": "2023-05-29T09:22:24.939Z"
   },
   {
    "duration": 12,
    "start_time": "2023-05-29T09:22:25.136Z"
   },
   {
    "duration": 94,
    "start_time": "2023-05-29T09:22:25.151Z"
   },
   {
    "duration": 13,
    "start_time": "2023-05-29T09:22:25.247Z"
   },
   {
    "duration": 47,
    "start_time": "2023-05-29T09:22:25.263Z"
   },
   {
    "duration": 11,
    "start_time": "2023-05-29T09:22:25.312Z"
   },
   {
    "duration": 14,
    "start_time": "2023-05-29T09:22:25.325Z"
   },
   {
    "duration": 5,
    "start_time": "2023-05-29T09:22:25.341Z"
   },
   {
    "duration": 11,
    "start_time": "2023-05-29T09:22:25.347Z"
   },
   {
    "duration": 46,
    "start_time": "2023-05-29T09:22:25.360Z"
   },
   {
    "duration": 7,
    "start_time": "2023-05-29T09:22:25.413Z"
   },
   {
    "duration": 245,
    "start_time": "2023-05-29T09:22:25.422Z"
   },
   {
    "duration": 7,
    "start_time": "2023-05-29T09:22:25.669Z"
   },
   {
    "duration": 13,
    "start_time": "2023-05-29T09:22:25.698Z"
   },
   {
    "duration": 97,
    "start_time": "2023-05-29T09:22:25.717Z"
   },
   {
    "duration": 286,
    "start_time": "2023-05-29T09:22:25.818Z"
   },
   {
    "duration": 18,
    "start_time": "2023-05-29T09:22:26.107Z"
   },
   {
    "duration": 18,
    "start_time": "2023-05-29T09:22:26.128Z"
   },
   {
    "duration": 371,
    "start_time": "2023-05-29T09:22:26.148Z"
   },
   {
    "duration": 10,
    "start_time": "2023-05-29T09:22:26.521Z"
   },
   {
    "duration": 20,
    "start_time": "2023-05-29T09:22:26.532Z"
   },
   {
    "duration": 348,
    "start_time": "2023-05-29T09:22:26.554Z"
   },
   {
    "duration": 18,
    "start_time": "2023-05-29T09:22:26.904Z"
   },
   {
    "duration": 10,
    "start_time": "2023-05-29T09:22:26.926Z"
   },
   {
    "duration": 9,
    "start_time": "2023-05-29T09:22:26.938Z"
   },
   {
    "duration": 454,
    "start_time": "2023-05-29T09:22:26.949Z"
   },
   {
    "duration": 28,
    "start_time": "2023-05-29T09:22:27.406Z"
   },
   {
    "duration": 54,
    "start_time": "2023-05-29T09:22:27.436Z"
   },
   {
    "duration": 28,
    "start_time": "2023-05-29T09:22:27.503Z"
   },
   {
    "duration": 24,
    "start_time": "2023-05-29T09:22:27.533Z"
   },
   {
    "duration": 11,
    "start_time": "2023-05-29T09:22:27.559Z"
   },
   {
    "duration": 364,
    "start_time": "2023-05-29T09:22:27.572Z"
   },
   {
    "duration": 10,
    "start_time": "2023-05-29T09:22:27.939Z"
   },
   {
    "duration": 354,
    "start_time": "2023-05-29T09:22:27.951Z"
   },
   {
    "duration": 14,
    "start_time": "2023-05-29T09:22:28.307Z"
   },
   {
    "duration": 404,
    "start_time": "2023-05-29T09:22:28.323Z"
   },
   {
    "duration": 10,
    "start_time": "2023-05-29T09:22:28.728Z"
   },
   {
    "duration": 361,
    "start_time": "2023-05-29T09:22:28.743Z"
   },
   {
    "duration": 17,
    "start_time": "2023-05-29T09:22:29.110Z"
   },
   {
    "duration": 74,
    "start_time": "2023-05-29T09:22:29.129Z"
   },
   {
    "duration": 37,
    "start_time": "2023-05-29T09:22:29.207Z"
   },
   {
    "duration": 4,
    "start_time": "2023-05-29T09:22:29.246Z"
   },
   {
    "duration": 3575,
    "start_time": "2023-05-29T09:22:29.251Z"
   },
   {
    "duration": 370,
    "start_time": "2023-05-29T09:24:28.902Z"
   },
   {
    "duration": 60,
    "start_time": "2023-05-29T09:27:57.299Z"
   },
   {
    "duration": 3577,
    "start_time": "2023-05-29T09:28:02.221Z"
   },
   {
    "duration": 121,
    "start_time": "2023-05-29T09:28:05.801Z"
   },
   {
    "duration": 12,
    "start_time": "2023-05-29T09:28:05.923Z"
   },
   {
    "duration": 207,
    "start_time": "2023-05-29T09:28:05.936Z"
   },
   {
    "duration": 14,
    "start_time": "2023-05-29T09:28:06.145Z"
   },
   {
    "duration": 96,
    "start_time": "2023-05-29T09:28:06.160Z"
   },
   {
    "duration": 12,
    "start_time": "2023-05-29T09:28:06.258Z"
   },
   {
    "duration": 33,
    "start_time": "2023-05-29T09:28:06.272Z"
   },
   {
    "duration": 18,
    "start_time": "2023-05-29T09:28:06.319Z"
   },
   {
    "duration": 14,
    "start_time": "2023-05-29T09:28:06.340Z"
   },
   {
    "duration": 5,
    "start_time": "2023-05-29T09:28:06.356Z"
   },
   {
    "duration": 24,
    "start_time": "2023-05-29T09:28:06.364Z"
   },
   {
    "duration": 23,
    "start_time": "2023-05-29T09:28:06.389Z"
   },
   {
    "duration": 5,
    "start_time": "2023-05-29T09:28:06.418Z"
   },
   {
    "duration": 209,
    "start_time": "2023-05-29T09:28:06.424Z"
   },
   {
    "duration": 7,
    "start_time": "2023-05-29T09:28:06.635Z"
   },
   {
    "duration": 11,
    "start_time": "2023-05-29T09:28:06.644Z"
   },
   {
    "duration": 82,
    "start_time": "2023-05-29T09:28:06.657Z"
   },
   {
    "duration": 284,
    "start_time": "2023-05-29T09:28:06.741Z"
   },
   {
    "duration": 9,
    "start_time": "2023-05-29T09:28:07.026Z"
   },
   {
    "duration": 8,
    "start_time": "2023-05-29T09:28:07.037Z"
   },
   {
    "duration": 319,
    "start_time": "2023-05-29T09:28:07.047Z"
   },
   {
    "duration": 17,
    "start_time": "2023-05-29T09:28:07.368Z"
   },
   {
    "duration": 28,
    "start_time": "2023-05-29T09:28:07.386Z"
   },
   {
    "duration": 313,
    "start_time": "2023-05-29T09:28:07.415Z"
   },
   {
    "duration": 10,
    "start_time": "2023-05-29T09:28:07.730Z"
   },
   {
    "duration": 14,
    "start_time": "2023-05-29T09:28:07.741Z"
   },
   {
    "duration": 23,
    "start_time": "2023-05-29T09:28:07.757Z"
   },
   {
    "duration": 456,
    "start_time": "2023-05-29T09:28:07.790Z"
   },
   {
    "duration": 41,
    "start_time": "2023-05-29T09:28:08.248Z"
   },
   {
    "duration": 33,
    "start_time": "2023-05-29T09:28:08.291Z"
   },
   {
    "duration": 29,
    "start_time": "2023-05-29T09:28:08.326Z"
   },
   {
    "duration": 26,
    "start_time": "2023-05-29T09:28:08.356Z"
   },
   {
    "duration": 14,
    "start_time": "2023-05-29T09:28:08.385Z"
   },
   {
    "duration": 302,
    "start_time": "2023-05-29T09:28:08.401Z"
   },
   {
    "duration": 16,
    "start_time": "2023-05-29T09:28:08.705Z"
   },
   {
    "duration": 316,
    "start_time": "2023-05-29T09:28:08.723Z"
   },
   {
    "duration": 10,
    "start_time": "2023-05-29T09:28:09.041Z"
   },
   {
    "duration": 339,
    "start_time": "2023-05-29T09:28:09.053Z"
   },
   {
    "duration": 12,
    "start_time": "2023-05-29T09:28:09.394Z"
   },
   {
    "duration": 294,
    "start_time": "2023-05-29T09:28:09.409Z"
   },
   {
    "duration": 14,
    "start_time": "2023-05-29T09:28:09.705Z"
   },
   {
    "duration": 68,
    "start_time": "2023-05-29T09:28:09.721Z"
   },
   {
    "duration": 32,
    "start_time": "2023-05-29T09:28:18.113Z"
   },
   {
    "duration": 283,
    "start_time": "2023-05-29T09:30:29.602Z"
   },
   {
    "duration": 1229,
    "start_time": "2023-05-29T09:30:50.010Z"
   },
   {
    "duration": 50,
    "start_time": "2023-05-29T09:30:51.242Z"
   },
   {
    "duration": 22,
    "start_time": "2023-05-29T09:30:51.299Z"
   },
   {
    "duration": 47,
    "start_time": "2023-05-29T09:30:51.323Z"
   },
   {
    "duration": 23,
    "start_time": "2023-05-29T09:30:51.372Z"
   },
   {
    "duration": 29,
    "start_time": "2023-05-29T09:30:51.402Z"
   },
   {
    "duration": 12,
    "start_time": "2023-05-29T09:30:51.432Z"
   },
   {
    "duration": 14,
    "start_time": "2023-05-29T09:30:51.445Z"
   },
   {
    "duration": 23,
    "start_time": "2023-05-29T09:30:51.461Z"
   },
   {
    "duration": 23,
    "start_time": "2023-05-29T09:30:51.486Z"
   },
   {
    "duration": 9,
    "start_time": "2023-05-29T09:30:51.511Z"
   },
   {
    "duration": 29,
    "start_time": "2023-05-29T09:30:51.522Z"
   },
   {
    "duration": 14,
    "start_time": "2023-05-29T09:30:51.553Z"
   },
   {
    "duration": 17,
    "start_time": "2023-05-29T09:30:51.571Z"
   },
   {
    "duration": 193,
    "start_time": "2023-05-29T09:30:51.600Z"
   },
   {
    "duration": 6,
    "start_time": "2023-05-29T09:30:51.795Z"
   },
   {
    "duration": 17,
    "start_time": "2023-05-29T09:30:51.803Z"
   },
   {
    "duration": 90,
    "start_time": "2023-05-29T09:30:51.821Z"
   },
   {
    "duration": 242,
    "start_time": "2023-05-29T09:30:51.913Z"
   },
   {
    "duration": 26,
    "start_time": "2023-05-29T09:30:52.157Z"
   },
   {
    "duration": 26,
    "start_time": "2023-05-29T09:30:52.185Z"
   },
   {
    "duration": 320,
    "start_time": "2023-05-29T09:30:52.213Z"
   },
   {
    "duration": 10,
    "start_time": "2023-05-29T09:30:52.535Z"
   },
   {
    "duration": 21,
    "start_time": "2023-05-29T09:30:52.547Z"
   },
   {
    "duration": 314,
    "start_time": "2023-05-29T09:30:52.579Z"
   },
   {
    "duration": 16,
    "start_time": "2023-05-29T09:30:52.899Z"
   },
   {
    "duration": 12,
    "start_time": "2023-05-29T09:30:52.918Z"
   },
   {
    "duration": 10,
    "start_time": "2023-05-29T09:30:52.933Z"
   },
   {
    "duration": 395,
    "start_time": "2023-05-29T09:30:52.944Z"
   },
   {
    "duration": 49,
    "start_time": "2023-05-29T09:30:53.340Z"
   },
   {
    "duration": 31,
    "start_time": "2023-05-29T09:30:53.390Z"
   },
   {
    "duration": 16,
    "start_time": "2023-05-29T09:30:53.423Z"
   },
   {
    "duration": 15,
    "start_time": "2023-05-29T09:30:53.441Z"
   },
   {
    "duration": 36,
    "start_time": "2023-05-29T09:30:53.459Z"
   },
   {
    "duration": 308,
    "start_time": "2023-05-29T09:30:53.508Z"
   },
   {
    "duration": 12,
    "start_time": "2023-05-29T09:30:53.817Z"
   },
   {
    "duration": 374,
    "start_time": "2023-05-29T09:30:53.830Z"
   },
   {
    "duration": 13,
    "start_time": "2023-05-29T09:30:54.212Z"
   },
   {
    "duration": 345,
    "start_time": "2023-05-29T09:30:54.229Z"
   },
   {
    "duration": 31,
    "start_time": "2023-05-29T09:30:54.587Z"
   },
   {
    "duration": 316,
    "start_time": "2023-05-29T09:30:54.627Z"
   },
   {
    "duration": 14,
    "start_time": "2023-05-29T09:30:54.944Z"
   },
   {
    "duration": 58,
    "start_time": "2023-05-29T09:30:54.960Z"
   },
   {
    "duration": 32,
    "start_time": "2023-05-29T09:30:55.020Z"
   },
   {
    "duration": 3,
    "start_time": "2023-05-29T09:30:55.054Z"
   },
   {
    "duration": 1847,
    "start_time": "2023-05-29T09:30:55.080Z"
   },
   {
    "duration": 1371,
    "start_time": "2023-05-29T10:19:53.022Z"
   },
   {
    "duration": 128,
    "start_time": "2023-05-29T10:19:54.396Z"
   },
   {
    "duration": 15,
    "start_time": "2023-05-29T10:19:54.527Z"
   },
   {
    "duration": 202,
    "start_time": "2023-05-29T10:19:54.544Z"
   },
   {
    "duration": 13,
    "start_time": "2023-05-29T10:19:54.749Z"
   },
   {
    "duration": 79,
    "start_time": "2023-05-29T10:19:54.763Z"
   },
   {
    "duration": 12,
    "start_time": "2023-05-29T10:19:54.844Z"
   },
   {
    "duration": 10,
    "start_time": "2023-05-29T10:19:54.858Z"
   },
   {
    "duration": 31,
    "start_time": "2023-05-29T10:19:54.871Z"
   },
   {
    "duration": 18,
    "start_time": "2023-05-29T10:19:54.904Z"
   },
   {
    "duration": 6,
    "start_time": "2023-05-29T10:19:54.924Z"
   },
   {
    "duration": 11,
    "start_time": "2023-05-29T10:19:54.932Z"
   },
   {
    "duration": 14,
    "start_time": "2023-05-29T10:19:54.945Z"
   },
   {
    "duration": 31,
    "start_time": "2023-05-29T10:19:54.974Z"
   },
   {
    "duration": 220,
    "start_time": "2023-05-29T10:19:55.007Z"
   },
   {
    "duration": 6,
    "start_time": "2023-05-29T10:19:55.228Z"
   },
   {
    "duration": 13,
    "start_time": "2023-05-29T10:19:55.236Z"
   },
   {
    "duration": 97,
    "start_time": "2023-05-29T10:19:55.251Z"
   },
   {
    "duration": 283,
    "start_time": "2023-05-29T10:19:55.350Z"
   },
   {
    "duration": 26,
    "start_time": "2023-05-29T10:19:55.635Z"
   },
   {
    "duration": 9,
    "start_time": "2023-05-29T10:19:55.663Z"
   },
   {
    "duration": 334,
    "start_time": "2023-05-29T10:19:55.682Z"
   },
   {
    "duration": 15,
    "start_time": "2023-05-29T10:19:56.018Z"
   },
   {
    "duration": 11,
    "start_time": "2023-05-29T10:19:56.035Z"
   },
   {
    "duration": 389,
    "start_time": "2023-05-29T10:19:56.048Z"
   },
   {
    "duration": 13,
    "start_time": "2023-05-29T10:19:56.439Z"
   },
   {
    "duration": 8,
    "start_time": "2023-05-29T10:19:56.454Z"
   },
   {
    "duration": 35,
    "start_time": "2023-05-29T10:19:56.464Z"
   },
   {
    "duration": 447,
    "start_time": "2023-05-29T10:19:56.501Z"
   },
   {
    "duration": 27,
    "start_time": "2023-05-29T10:19:56.950Z"
   },
   {
    "duration": 26,
    "start_time": "2023-05-29T10:19:56.990Z"
   },
   {
    "duration": 17,
    "start_time": "2023-05-29T10:19:57.018Z"
   },
   {
    "duration": 15,
    "start_time": "2023-05-29T10:19:57.037Z"
   },
   {
    "duration": 31,
    "start_time": "2023-05-29T10:19:57.054Z"
   },
   {
    "duration": 304,
    "start_time": "2023-05-29T10:19:57.095Z"
   },
   {
    "duration": 11,
    "start_time": "2023-05-29T10:19:57.406Z"
   },
   {
    "duration": 349,
    "start_time": "2023-05-29T10:19:57.420Z"
   },
   {
    "duration": 31,
    "start_time": "2023-05-29T10:19:57.771Z"
   },
   {
    "duration": 369,
    "start_time": "2023-05-29T10:19:57.804Z"
   },
   {
    "duration": 42,
    "start_time": "2023-05-29T10:19:58.175Z"
   },
   {
    "duration": 335,
    "start_time": "2023-05-29T10:19:58.221Z"
   },
   {
    "duration": 53,
    "start_time": "2023-05-29T10:19:58.559Z"
   },
   {
    "duration": 33,
    "start_time": "2023-05-29T10:19:58.614Z"
   },
   {
    "duration": 43,
    "start_time": "2023-05-29T10:20:17.969Z"
   },
   {
    "duration": 54,
    "start_time": "2023-05-29T10:23:26.404Z"
   },
   {
    "duration": 4,
    "start_time": "2023-05-29T10:23:54.830Z"
   },
   {
    "duration": 40,
    "start_time": "2023-05-29T10:24:48.208Z"
   },
   {
    "duration": 71,
    "start_time": "2023-05-29T10:26:17.462Z"
   },
   {
    "duration": 16,
    "start_time": "2023-05-29T10:26:30.025Z"
   },
   {
    "duration": 5,
    "start_time": "2023-05-29T10:26:42.053Z"
   },
   {
    "duration": 4,
    "start_time": "2023-05-29T10:27:18.959Z"
   },
   {
    "duration": 365,
    "start_time": "2023-05-29T10:27:22.361Z"
   },
   {
    "duration": 4,
    "start_time": "2023-05-29T10:32:36.566Z"
   },
   {
    "duration": 197,
    "start_time": "2023-05-29T10:32:36.572Z"
   },
   {
    "duration": 0,
    "start_time": "2023-05-29T10:32:36.772Z"
   },
   {
    "duration": 0,
    "start_time": "2023-05-29T10:32:36.774Z"
   },
   {
    "duration": 0,
    "start_time": "2023-05-29T10:32:36.778Z"
   },
   {
    "duration": 0,
    "start_time": "2023-05-29T10:32:36.778Z"
   },
   {
    "duration": 14,
    "start_time": "2023-05-29T10:32:36.835Z"
   },
   {
    "duration": 12,
    "start_time": "2023-05-29T10:32:36.852Z"
   },
   {
    "duration": 22,
    "start_time": "2023-05-29T10:32:36.867Z"
   },
   {
    "duration": 33,
    "start_time": "2023-05-29T10:32:36.892Z"
   },
   {
    "duration": 13,
    "start_time": "2023-05-29T10:32:36.929Z"
   },
   {
    "duration": 22,
    "start_time": "2023-05-29T10:32:36.945Z"
   },
   {
    "duration": 30,
    "start_time": "2023-05-29T10:32:36.970Z"
   },
   {
    "duration": 23,
    "start_time": "2023-05-29T10:32:37.005Z"
   },
   {
    "duration": 234,
    "start_time": "2023-05-29T10:32:37.030Z"
   },
   {
    "duration": 7,
    "start_time": "2023-05-29T10:32:37.266Z"
   },
   {
    "duration": 13,
    "start_time": "2023-05-29T10:32:37.275Z"
   },
   {
    "duration": 226,
    "start_time": "2023-05-29T10:32:37.289Z"
   },
   {
    "duration": 325,
    "start_time": "2023-05-29T10:32:37.517Z"
   },
   {
    "duration": 14,
    "start_time": "2023-05-29T10:32:37.846Z"
   },
   {
    "duration": 16,
    "start_time": "2023-05-29T10:32:37.862Z"
   },
   {
    "duration": 415,
    "start_time": "2023-05-29T10:32:37.889Z"
   },
   {
    "duration": 17,
    "start_time": "2023-05-29T10:32:38.309Z"
   },
   {
    "duration": 15,
    "start_time": "2023-05-29T10:32:38.331Z"
   },
   {
    "duration": 405,
    "start_time": "2023-05-29T10:32:38.348Z"
   },
   {
    "duration": 12,
    "start_time": "2023-05-29T10:32:38.756Z"
   },
   {
    "duration": 26,
    "start_time": "2023-05-29T10:32:38.769Z"
   },
   {
    "duration": 13,
    "start_time": "2023-05-29T10:32:38.797Z"
   },
   {
    "duration": 397,
    "start_time": "2023-05-29T10:32:38.812Z"
   },
   {
    "duration": 43,
    "start_time": "2023-05-29T10:32:39.213Z"
   },
   {
    "duration": 35,
    "start_time": "2023-05-29T10:32:39.259Z"
   },
   {
    "duration": 29,
    "start_time": "2023-05-29T10:32:39.299Z"
   },
   {
    "duration": 42,
    "start_time": "2023-05-29T10:32:39.337Z"
   },
   {
    "duration": 26,
    "start_time": "2023-05-29T10:32:39.385Z"
   },
   {
    "duration": 451,
    "start_time": "2023-05-29T10:32:39.422Z"
   },
   {
    "duration": 23,
    "start_time": "2023-05-29T10:32:39.875Z"
   },
   {
    "duration": 638,
    "start_time": "2023-05-29T10:32:39.900Z"
   },
   {
    "duration": 36,
    "start_time": "2023-05-29T10:32:40.553Z"
   },
   {
    "duration": 425,
    "start_time": "2023-05-29T10:32:40.602Z"
   },
   {
    "duration": 17,
    "start_time": "2023-05-29T10:32:41.034Z"
   },
   {
    "duration": 427,
    "start_time": "2023-05-29T10:32:41.058Z"
   },
   {
    "duration": 80,
    "start_time": "2023-05-29T10:32:41.487Z"
   },
   {
    "duration": 39,
    "start_time": "2023-05-29T10:32:41.570Z"
   },
   {
    "duration": 13,
    "start_time": "2023-05-29T10:32:41.615Z"
   },
   {
    "duration": 53,
    "start_time": "2023-05-29T10:32:54.622Z"
   },
   {
    "duration": 42,
    "start_time": "2023-05-29T10:33:10.419Z"
   },
   {
    "duration": 15,
    "start_time": "2023-05-29T10:44:37.005Z"
   },
   {
    "duration": 58,
    "start_time": "2023-05-29T10:44:40.092Z"
   },
   {
    "duration": 4,
    "start_time": "2023-05-29T10:44:47.605Z"
   },
   {
    "duration": 44,
    "start_time": "2023-05-29T10:44:47.612Z"
   },
   {
    "duration": 11,
    "start_time": "2023-05-29T10:44:47.658Z"
   },
   {
    "duration": 56,
    "start_time": "2023-05-29T10:44:47.671Z"
   },
   {
    "duration": 15,
    "start_time": "2023-05-29T10:44:47.730Z"
   },
   {
    "duration": 20,
    "start_time": "2023-05-29T10:44:47.747Z"
   },
   {
    "duration": 17,
    "start_time": "2023-05-29T10:44:47.769Z"
   },
   {
    "duration": 15,
    "start_time": "2023-05-29T10:44:47.788Z"
   },
   {
    "duration": 14,
    "start_time": "2023-05-29T10:44:47.805Z"
   },
   {
    "duration": 14,
    "start_time": "2023-05-29T10:44:47.854Z"
   },
   {
    "duration": 15,
    "start_time": "2023-05-29T10:44:47.870Z"
   },
   {
    "duration": 19,
    "start_time": "2023-05-29T10:44:47.892Z"
   },
   {
    "duration": 13,
    "start_time": "2023-05-29T10:44:47.913Z"
   },
   {
    "duration": 6,
    "start_time": "2023-05-29T10:44:47.929Z"
   },
   {
    "duration": 204,
    "start_time": "2023-05-29T10:44:47.937Z"
   },
   {
    "duration": 6,
    "start_time": "2023-05-29T10:44:48.144Z"
   },
   {
    "duration": 9,
    "start_time": "2023-05-29T10:44:48.152Z"
   },
   {
    "duration": 92,
    "start_time": "2023-05-29T10:44:48.162Z"
   },
   {
    "duration": 280,
    "start_time": "2023-05-29T10:44:48.256Z"
   },
   {
    "duration": 16,
    "start_time": "2023-05-29T10:44:48.539Z"
   },
   {
    "duration": 11,
    "start_time": "2023-05-29T10:44:48.556Z"
   },
   {
    "duration": 452,
    "start_time": "2023-05-29T10:44:48.578Z"
   },
   {
    "duration": 10,
    "start_time": "2023-05-29T10:44:49.033Z"
   },
   {
    "duration": 18,
    "start_time": "2023-05-29T10:44:49.046Z"
   },
   {
    "duration": 347,
    "start_time": "2023-05-29T10:44:49.066Z"
   },
   {
    "duration": 12,
    "start_time": "2023-05-29T10:44:49.416Z"
   },
   {
    "duration": 32,
    "start_time": "2023-05-29T10:44:49.430Z"
   },
   {
    "duration": 35,
    "start_time": "2023-05-29T10:44:49.464Z"
   },
   {
    "duration": 334,
    "start_time": "2023-05-29T10:44:49.501Z"
   },
   {
    "duration": 25,
    "start_time": "2023-05-29T10:44:49.837Z"
   },
   {
    "duration": 38,
    "start_time": "2023-05-29T10:44:49.864Z"
   },
   {
    "duration": 21,
    "start_time": "2023-05-29T10:44:49.912Z"
   },
   {
    "duration": 16,
    "start_time": "2023-05-29T10:44:49.935Z"
   },
   {
    "duration": 34,
    "start_time": "2023-05-29T10:44:49.953Z"
   },
   {
    "duration": 324,
    "start_time": "2023-05-29T10:44:49.989Z"
   },
   {
    "duration": 10,
    "start_time": "2023-05-29T10:44:50.315Z"
   },
   {
    "duration": 336,
    "start_time": "2023-05-29T10:44:50.327Z"
   },
   {
    "duration": 18,
    "start_time": "2023-05-29T10:44:50.665Z"
   },
   {
    "duration": 335,
    "start_time": "2023-05-29T10:44:50.686Z"
   },
   {
    "duration": 8,
    "start_time": "2023-05-29T10:44:51.023Z"
   },
   {
    "duration": 476,
    "start_time": "2023-05-29T10:44:51.033Z"
   },
   {
    "duration": 47,
    "start_time": "2023-05-29T10:44:51.513Z"
   },
   {
    "duration": 20,
    "start_time": "2023-05-29T10:44:51.562Z"
   },
   {
    "duration": 22,
    "start_time": "2023-05-29T10:44:51.584Z"
   },
   {
    "duration": 1493,
    "start_time": "2023-05-29T11:06:03.335Z"
   },
   {
    "duration": 12,
    "start_time": "2023-05-29T11:06:21.903Z"
   },
   {
    "duration": 13,
    "start_time": "2023-05-29T11:10:35.404Z"
   },
   {
    "duration": 3,
    "start_time": "2023-05-29T11:11:43.005Z"
   },
   {
    "duration": 35,
    "start_time": "2023-05-29T11:11:43.010Z"
   },
   {
    "duration": 11,
    "start_time": "2023-05-29T11:11:43.047Z"
   },
   {
    "duration": 62,
    "start_time": "2023-05-29T11:11:43.060Z"
   },
   {
    "duration": 11,
    "start_time": "2023-05-29T11:11:43.123Z"
   },
   {
    "duration": 19,
    "start_time": "2023-05-29T11:11:43.136Z"
   },
   {
    "duration": 10,
    "start_time": "2023-05-29T11:11:43.157Z"
   },
   {
    "duration": 18,
    "start_time": "2023-05-29T11:11:43.168Z"
   },
   {
    "duration": 18,
    "start_time": "2023-05-29T11:11:43.189Z"
   },
   {
    "duration": 15,
    "start_time": "2023-05-29T11:11:43.209Z"
   },
   {
    "duration": 5,
    "start_time": "2023-05-29T11:11:43.225Z"
   },
   {
    "duration": 9,
    "start_time": "2023-05-29T11:11:43.231Z"
   },
   {
    "duration": 33,
    "start_time": "2023-05-29T11:11:43.242Z"
   },
   {
    "duration": 9,
    "start_time": "2023-05-29T11:11:43.278Z"
   },
   {
    "duration": 206,
    "start_time": "2023-05-29T11:11:43.289Z"
   },
   {
    "duration": 12,
    "start_time": "2023-05-29T11:11:43.499Z"
   },
   {
    "duration": 7,
    "start_time": "2023-05-29T11:11:43.513Z"
   },
   {
    "duration": 103,
    "start_time": "2023-05-29T11:11:43.522Z"
   },
   {
    "duration": 228,
    "start_time": "2023-05-29T11:11:43.628Z"
   },
   {
    "duration": 9,
    "start_time": "2023-05-29T11:11:43.858Z"
   },
   {
    "duration": 14,
    "start_time": "2023-05-29T11:11:43.869Z"
   },
   {
    "duration": 438,
    "start_time": "2023-05-29T11:11:43.885Z"
   },
   {
    "duration": 13,
    "start_time": "2023-05-29T11:11:44.325Z"
   },
   {
    "duration": 12,
    "start_time": "2023-05-29T11:11:44.340Z"
   },
   {
    "duration": 371,
    "start_time": "2023-05-29T11:11:44.354Z"
   },
   {
    "duration": 13,
    "start_time": "2023-05-29T11:11:44.728Z"
   },
   {
    "duration": 8,
    "start_time": "2023-05-29T11:11:44.742Z"
   },
   {
    "duration": 9,
    "start_time": "2023-05-29T11:11:44.752Z"
   },
   {
    "duration": 469,
    "start_time": "2023-05-29T11:11:44.763Z"
   },
   {
    "duration": 26,
    "start_time": "2023-05-29T11:11:45.233Z"
   },
   {
    "duration": 35,
    "start_time": "2023-05-29T11:11:45.262Z"
   },
   {
    "duration": 21,
    "start_time": "2023-05-29T11:11:45.299Z"
   },
   {
    "duration": 15,
    "start_time": "2023-05-29T11:11:45.322Z"
   },
   {
    "duration": 8,
    "start_time": "2023-05-29T11:11:45.340Z"
   },
   {
    "duration": 300,
    "start_time": "2023-05-29T11:11:45.389Z"
   },
   {
    "duration": 14,
    "start_time": "2023-05-29T11:11:45.691Z"
   },
   {
    "duration": 295,
    "start_time": "2023-05-29T11:11:45.707Z"
   },
   {
    "duration": 10,
    "start_time": "2023-05-29T11:11:46.004Z"
   },
   {
    "duration": 338,
    "start_time": "2023-05-29T11:11:46.016Z"
   },
   {
    "duration": 8,
    "start_time": "2023-05-29T11:11:46.356Z"
   },
   {
    "duration": 292,
    "start_time": "2023-05-29T11:11:46.366Z"
   },
   {
    "duration": 58,
    "start_time": "2023-05-29T11:11:46.660Z"
   },
   {
    "duration": 13,
    "start_time": "2023-05-29T11:11:46.719Z"
   },
   {
    "duration": 13,
    "start_time": "2023-05-29T11:11:46.733Z"
   },
   {
    "duration": 34,
    "start_time": "2023-05-29T11:11:46.748Z"
   },
   {
    "duration": 3,
    "start_time": "2023-05-29T12:08:01.745Z"
   },
   {
    "duration": 68,
    "start_time": "2023-05-29T12:08:01.753Z"
   },
   {
    "duration": 13,
    "start_time": "2023-05-29T12:08:01.823Z"
   },
   {
    "duration": 57,
    "start_time": "2023-05-29T12:08:01.838Z"
   },
   {
    "duration": 13,
    "start_time": "2023-05-29T12:08:01.897Z"
   },
   {
    "duration": 24,
    "start_time": "2023-05-29T12:08:01.912Z"
   },
   {
    "duration": 31,
    "start_time": "2023-05-29T12:08:01.938Z"
   },
   {
    "duration": 38,
    "start_time": "2023-05-29T12:08:01.971Z"
   },
   {
    "duration": 28,
    "start_time": "2023-05-29T12:08:02.011Z"
   },
   {
    "duration": 29,
    "start_time": "2023-05-29T12:08:02.041Z"
   },
   {
    "duration": 11,
    "start_time": "2023-05-29T12:08:02.073Z"
   },
   {
    "duration": 44,
    "start_time": "2023-05-29T12:08:02.086Z"
   },
   {
    "duration": 18,
    "start_time": "2023-05-29T12:08:02.133Z"
   },
   {
    "duration": 6,
    "start_time": "2023-05-29T12:08:02.153Z"
   },
   {
    "duration": 177,
    "start_time": "2023-05-29T12:08:02.161Z"
   },
   {
    "duration": 6,
    "start_time": "2023-05-29T12:08:02.340Z"
   },
   {
    "duration": 16,
    "start_time": "2023-05-29T12:08:02.348Z"
   },
   {
    "duration": 101,
    "start_time": "2023-05-29T12:08:02.365Z"
   },
   {
    "duration": 373,
    "start_time": "2023-05-29T12:08:02.468Z"
   },
   {
    "duration": 10,
    "start_time": "2023-05-29T12:08:02.843Z"
   },
   {
    "duration": 32,
    "start_time": "2023-05-29T12:08:02.855Z"
   },
   {
    "duration": 308,
    "start_time": "2023-05-29T12:08:02.891Z"
   },
   {
    "duration": 10,
    "start_time": "2023-05-29T12:08:03.200Z"
   },
   {
    "duration": 10,
    "start_time": "2023-05-29T12:08:03.212Z"
   },
   {
    "duration": 334,
    "start_time": "2023-05-29T12:08:03.224Z"
   },
   {
    "duration": 11,
    "start_time": "2023-05-29T12:08:03.560Z"
   },
   {
    "duration": 10,
    "start_time": "2023-05-29T12:08:03.575Z"
   },
   {
    "duration": 14,
    "start_time": "2023-05-29T12:08:03.586Z"
   },
   {
    "duration": 295,
    "start_time": "2023-05-29T12:08:03.602Z"
   },
   {
    "duration": 27,
    "start_time": "2023-05-29T12:08:03.901Z"
   },
   {
    "duration": 13,
    "start_time": "2023-05-29T12:08:03.930Z"
   },
   {
    "duration": 33,
    "start_time": "2023-05-29T12:08:03.945Z"
   },
   {
    "duration": 23,
    "start_time": "2023-05-29T12:08:03.979Z"
   },
   {
    "duration": 11,
    "start_time": "2023-05-29T12:08:04.004Z"
   },
   {
    "duration": 339,
    "start_time": "2023-05-29T12:08:04.017Z"
   },
   {
    "duration": 23,
    "start_time": "2023-05-29T12:08:04.358Z"
   },
   {
    "duration": 405,
    "start_time": "2023-05-29T12:08:04.386Z"
   },
   {
    "duration": 20,
    "start_time": "2023-05-29T12:08:04.793Z"
   },
   {
    "duration": 295,
    "start_time": "2023-05-29T12:08:04.816Z"
   },
   {
    "duration": 10,
    "start_time": "2023-05-29T12:08:05.113Z"
   },
   {
    "duration": 306,
    "start_time": "2023-05-29T12:08:05.125Z"
   },
   {
    "duration": 57,
    "start_time": "2023-05-29T12:08:05.434Z"
   },
   {
    "duration": 16,
    "start_time": "2023-05-29T12:08:05.496Z"
   },
   {
    "duration": 20,
    "start_time": "2023-05-29T12:08:05.514Z"
   },
   {
    "duration": 16,
    "start_time": "2023-05-29T12:08:05.536Z"
   },
   {
    "duration": 10,
    "start_time": "2023-05-29T12:16:16.510Z"
   },
   {
    "duration": 6,
    "start_time": "2023-05-29T12:16:33.594Z"
   },
   {
    "duration": 5,
    "start_time": "2023-05-29T12:25:31.600Z"
   },
   {
    "duration": 6,
    "start_time": "2023-05-29T12:25:57.115Z"
   },
   {
    "duration": 1295,
    "start_time": "2023-05-29T12:35:49.895Z"
   },
   {
    "duration": 9,
    "start_time": "2023-05-29T12:36:38.499Z"
   },
   {
    "duration": 15,
    "start_time": "2023-05-29T12:37:24.002Z"
   },
   {
    "duration": 12,
    "start_time": "2023-05-29T12:37:37.598Z"
   },
   {
    "duration": 21,
    "start_time": "2023-05-29T12:38:04.400Z"
   },
   {
    "duration": 10,
    "start_time": "2023-05-29T12:38:29.099Z"
   },
   {
    "duration": 23,
    "start_time": "2023-05-29T12:38:40.089Z"
   },
   {
    "duration": 10,
    "start_time": "2023-05-29T12:39:02.294Z"
   },
   {
    "duration": 11,
    "start_time": "2023-05-29T12:39:48.619Z"
   },
   {
    "duration": 3,
    "start_time": "2023-05-29T12:51:32.040Z"
   },
   {
    "duration": 244,
    "start_time": "2023-05-29T12:57:16.029Z"
   },
   {
    "duration": 1605,
    "start_time": "2023-05-29T12:57:25.792Z"
   },
   {
    "duration": 10,
    "start_time": "2023-05-29T13:17:22.144Z"
   },
   {
    "duration": 3,
    "start_time": "2023-05-29T13:17:46.394Z"
   },
   {
    "duration": 6,
    "start_time": "2023-05-29T13:17:51.734Z"
   },
   {
    "duration": 6,
    "start_time": "2023-05-29T13:17:57.329Z"
   },
   {
    "duration": 15,
    "start_time": "2023-05-29T13:18:08.534Z"
   },
   {
    "duration": 6,
    "start_time": "2023-05-29T13:18:13.491Z"
   },
   {
    "duration": 6,
    "start_time": "2023-05-29T13:18:20.926Z"
   },
   {
    "duration": 6,
    "start_time": "2023-05-29T13:18:27.795Z"
   },
   {
    "duration": 5,
    "start_time": "2023-05-29T13:18:37.325Z"
   },
   {
    "duration": 5,
    "start_time": "2023-05-29T13:18:43.259Z"
   },
   {
    "duration": 5,
    "start_time": "2023-05-29T13:18:52.704Z"
   },
   {
    "duration": 6,
    "start_time": "2023-05-29T13:18:58.395Z"
   },
   {
    "duration": 5,
    "start_time": "2023-05-29T13:19:37.750Z"
   },
   {
    "duration": 7,
    "start_time": "2023-05-29T13:19:48.186Z"
   },
   {
    "duration": 5,
    "start_time": "2023-05-29T13:19:59.389Z"
   },
   {
    "duration": 5,
    "start_time": "2023-05-29T13:20:03.560Z"
   },
   {
    "duration": 5,
    "start_time": "2023-05-29T13:20:07.749Z"
   },
   {
    "duration": 5,
    "start_time": "2023-05-29T13:20:13.619Z"
   },
   {
    "duration": 7,
    "start_time": "2023-05-29T13:20:20.594Z"
   },
   {
    "duration": 6,
    "start_time": "2023-05-29T13:20:25.614Z"
   },
   {
    "duration": 40,
    "start_time": "2023-05-29T13:23:11.634Z"
   },
   {
    "duration": 3,
    "start_time": "2023-05-29T13:23:29.691Z"
   },
   {
    "duration": 61,
    "start_time": "2023-05-29T13:23:34.759Z"
   },
   {
    "duration": 13,
    "start_time": "2023-05-29T13:24:14.585Z"
   },
   {
    "duration": 4,
    "start_time": "2023-05-29T13:24:28.909Z"
   },
   {
    "duration": 2001,
    "start_time": "2023-05-29T13:24:34.600Z"
   },
   {
    "duration": 4089,
    "start_time": "2023-05-29T13:54:25.819Z"
   },
   {
    "duration": 4201,
    "start_time": "2023-05-29T13:55:01.324Z"
   },
   {
    "duration": 2055,
    "start_time": "2023-05-29T13:58:16.591Z"
   },
   {
    "duration": 1227,
    "start_time": "2023-05-29T14:02:30.900Z"
   },
   {
    "duration": 41,
    "start_time": "2023-05-29T14:02:32.130Z"
   },
   {
    "duration": 17,
    "start_time": "2023-05-29T14:02:32.173Z"
   },
   {
    "duration": 43,
    "start_time": "2023-05-29T14:02:32.195Z"
   },
   {
    "duration": 13,
    "start_time": "2023-05-29T14:02:32.241Z"
   },
   {
    "duration": 29,
    "start_time": "2023-05-29T14:02:32.255Z"
   },
   {
    "duration": 11,
    "start_time": "2023-05-29T14:02:32.286Z"
   },
   {
    "duration": 9,
    "start_time": "2023-05-29T14:02:32.299Z"
   },
   {
    "duration": 19,
    "start_time": "2023-05-29T14:02:32.310Z"
   },
   {
    "duration": 13,
    "start_time": "2023-05-29T14:02:32.330Z"
   },
   {
    "duration": 6,
    "start_time": "2023-05-29T14:02:32.345Z"
   },
   {
    "duration": 37,
    "start_time": "2023-05-29T14:02:32.352Z"
   },
   {
    "duration": 21,
    "start_time": "2023-05-29T14:02:32.394Z"
   },
   {
    "duration": 10,
    "start_time": "2023-05-29T14:02:32.418Z"
   },
   {
    "duration": 178,
    "start_time": "2023-05-29T14:02:32.430Z"
   },
   {
    "duration": 5,
    "start_time": "2023-05-29T14:02:32.610Z"
   },
   {
    "duration": 13,
    "start_time": "2023-05-29T14:02:32.617Z"
   },
   {
    "duration": 87,
    "start_time": "2023-05-29T14:02:32.632Z"
   },
   {
    "duration": 221,
    "start_time": "2023-05-29T14:02:32.720Z"
   },
   {
    "duration": 9,
    "start_time": "2023-05-29T14:02:32.942Z"
   },
   {
    "duration": 22,
    "start_time": "2023-05-29T14:02:32.954Z"
   },
   {
    "duration": 274,
    "start_time": "2023-05-29T14:02:32.982Z"
   },
   {
    "duration": 10,
    "start_time": "2023-05-29T14:02:33.257Z"
   },
   {
    "duration": 14,
    "start_time": "2023-05-29T14:02:33.275Z"
   },
   {
    "duration": 281,
    "start_time": "2023-05-29T14:02:33.291Z"
   },
   {
    "duration": 13,
    "start_time": "2023-05-29T14:02:33.574Z"
   },
   {
    "duration": 7,
    "start_time": "2023-05-29T14:02:33.588Z"
   },
   {
    "duration": 16,
    "start_time": "2023-05-29T14:02:33.597Z"
   },
   {
    "duration": 404,
    "start_time": "2023-05-29T14:02:33.614Z"
   },
   {
    "duration": 32,
    "start_time": "2023-05-29T14:02:34.020Z"
   },
   {
    "duration": 41,
    "start_time": "2023-05-29T14:02:34.054Z"
   },
   {
    "duration": 26,
    "start_time": "2023-05-29T14:02:34.106Z"
   },
   {
    "duration": 28,
    "start_time": "2023-05-29T14:02:34.135Z"
   },
   {
    "duration": 18,
    "start_time": "2023-05-29T14:02:34.165Z"
   },
   {
    "duration": 327,
    "start_time": "2023-05-29T14:02:34.187Z"
   },
   {
    "duration": 11,
    "start_time": "2023-05-29T14:02:34.516Z"
   },
   {
    "duration": 320,
    "start_time": "2023-05-29T14:02:34.529Z"
   },
   {
    "duration": 10,
    "start_time": "2023-05-29T14:02:34.852Z"
   },
   {
    "duration": 298,
    "start_time": "2023-05-29T14:02:34.875Z"
   },
   {
    "duration": 16,
    "start_time": "2023-05-29T14:02:35.177Z"
   },
   {
    "duration": 255,
    "start_time": "2023-05-29T14:02:35.197Z"
   },
   {
    "duration": 52,
    "start_time": "2023-05-29T14:02:35.454Z"
   },
   {
    "duration": 16,
    "start_time": "2023-05-29T14:02:35.508Z"
   },
   {
    "duration": 15,
    "start_time": "2023-05-29T14:02:35.525Z"
   },
   {
    "duration": 43,
    "start_time": "2023-05-29T14:02:35.541Z"
   },
   {
    "duration": 9,
    "start_time": "2023-05-29T14:02:35.585Z"
   },
   {
    "duration": 5,
    "start_time": "2023-05-29T14:02:35.596Z"
   },
   {
    "duration": 14,
    "start_time": "2023-05-29T14:02:35.603Z"
   },
   {
    "duration": 1906,
    "start_time": "2023-05-29T14:02:35.619Z"
   },
   {
    "duration": 285,
    "start_time": "2023-05-29T14:16:45.899Z"
   },
   {
    "duration": 10,
    "start_time": "2023-05-29T14:16:50.254Z"
   },
   {
    "duration": 212,
    "start_time": "2023-05-29T14:19:55.615Z"
   },
   {
    "duration": 249,
    "start_time": "2023-05-29T14:20:02.154Z"
   },
   {
    "duration": 293,
    "start_time": "2023-05-29T14:20:14.399Z"
   },
   {
    "duration": 1127,
    "start_time": "2023-05-29T14:30:07.305Z"
   },
   {
    "duration": 38,
    "start_time": "2023-05-29T14:30:08.434Z"
   },
   {
    "duration": 20,
    "start_time": "2023-05-29T14:30:08.473Z"
   },
   {
    "duration": 35,
    "start_time": "2023-05-29T14:30:08.495Z"
   },
   {
    "duration": 12,
    "start_time": "2023-05-29T14:30:08.532Z"
   },
   {
    "duration": 21,
    "start_time": "2023-05-29T14:30:08.545Z"
   },
   {
    "duration": 12,
    "start_time": "2023-05-29T14:30:08.568Z"
   },
   {
    "duration": 13,
    "start_time": "2023-05-29T14:30:08.582Z"
   },
   {
    "duration": 11,
    "start_time": "2023-05-29T14:30:08.596Z"
   },
   {
    "duration": 13,
    "start_time": "2023-05-29T14:30:08.609Z"
   },
   {
    "duration": 12,
    "start_time": "2023-05-29T14:30:08.623Z"
   },
   {
    "duration": 18,
    "start_time": "2023-05-29T14:30:08.636Z"
   },
   {
    "duration": 34,
    "start_time": "2023-05-29T14:30:08.655Z"
   },
   {
    "duration": 6,
    "start_time": "2023-05-29T14:30:08.693Z"
   },
   {
    "duration": 181,
    "start_time": "2023-05-29T14:30:08.701Z"
   },
   {
    "duration": 8,
    "start_time": "2023-05-29T14:30:08.884Z"
   },
   {
    "duration": 23,
    "start_time": "2023-05-29T14:30:08.893Z"
   },
   {
    "duration": 78,
    "start_time": "2023-05-29T14:30:08.917Z"
   },
   {
    "duration": 211,
    "start_time": "2023-05-29T14:30:08.996Z"
   },
   {
    "duration": 8,
    "start_time": "2023-05-29T14:30:09.208Z"
   },
   {
    "duration": 8,
    "start_time": "2023-05-29T14:30:09.218Z"
   },
   {
    "duration": 283,
    "start_time": "2023-05-29T14:30:09.228Z"
   },
   {
    "duration": 9,
    "start_time": "2023-05-29T14:30:09.513Z"
   },
   {
    "duration": 9,
    "start_time": "2023-05-29T14:30:09.523Z"
   },
   {
    "duration": 293,
    "start_time": "2023-05-29T14:30:09.534Z"
   },
   {
    "duration": 14,
    "start_time": "2023-05-29T14:30:09.828Z"
   },
   {
    "duration": 8,
    "start_time": "2023-05-29T14:30:09.844Z"
   },
   {
    "duration": 28,
    "start_time": "2023-05-29T14:30:09.854Z"
   },
   {
    "duration": 368,
    "start_time": "2023-05-29T14:30:09.888Z"
   },
   {
    "duration": 39,
    "start_time": "2023-05-29T14:30:10.258Z"
   },
   {
    "duration": 19,
    "start_time": "2023-05-29T14:30:10.299Z"
   },
   {
    "duration": 18,
    "start_time": "2023-05-29T14:30:10.320Z"
   },
   {
    "duration": 51,
    "start_time": "2023-05-29T14:30:10.340Z"
   },
   {
    "duration": 8,
    "start_time": "2023-05-29T14:30:10.396Z"
   },
   {
    "duration": 259,
    "start_time": "2023-05-29T14:30:10.406Z"
   },
   {
    "duration": 20,
    "start_time": "2023-05-29T14:30:10.666Z"
   },
   {
    "duration": 270,
    "start_time": "2023-05-29T14:30:10.690Z"
   },
   {
    "duration": 16,
    "start_time": "2023-05-29T14:30:10.962Z"
   },
   {
    "duration": 288,
    "start_time": "2023-05-29T14:30:10.979Z"
   },
   {
    "duration": 26,
    "start_time": "2023-05-29T14:30:11.269Z"
   },
   {
    "duration": 266,
    "start_time": "2023-05-29T14:30:11.304Z"
   },
   {
    "duration": 52,
    "start_time": "2023-05-29T14:30:11.571Z"
   },
   {
    "duration": 14,
    "start_time": "2023-05-29T14:30:11.624Z"
   },
   {
    "duration": 14,
    "start_time": "2023-05-29T14:30:11.639Z"
   },
   {
    "duration": 39,
    "start_time": "2023-05-29T14:30:11.654Z"
   },
   {
    "duration": 11,
    "start_time": "2023-05-29T14:30:11.695Z"
   },
   {
    "duration": 299,
    "start_time": "2023-05-29T14:30:11.707Z"
   },
   {
    "duration": 5,
    "start_time": "2023-05-29T14:30:12.008Z"
   },
   {
    "duration": 25,
    "start_time": "2023-05-29T14:30:12.014Z"
   },
   {
    "duration": 29,
    "start_time": "2023-05-29T14:30:12.040Z"
   },
   {
    "duration": 1893,
    "start_time": "2023-05-29T14:30:12.071Z"
   },
   {
    "duration": 1180,
    "start_time": "2023-05-29T15:48:37.356Z"
   },
   {
    "duration": 95,
    "start_time": "2023-05-29T15:48:38.538Z"
   },
   {
    "duration": 10,
    "start_time": "2023-05-29T15:48:38.635Z"
   },
   {
    "duration": 91,
    "start_time": "2023-05-29T15:48:38.647Z"
   },
   {
    "duration": 10,
    "start_time": "2023-05-29T15:48:38.740Z"
   },
   {
    "duration": 61,
    "start_time": "2023-05-29T15:48:38.752Z"
   },
   {
    "duration": 10,
    "start_time": "2023-05-29T15:48:38.815Z"
   },
   {
    "duration": 20,
    "start_time": "2023-05-29T15:48:38.826Z"
   },
   {
    "duration": 12,
    "start_time": "2023-05-29T15:48:38.847Z"
   },
   {
    "duration": 12,
    "start_time": "2023-05-29T15:48:38.861Z"
   },
   {
    "duration": 5,
    "start_time": "2023-05-29T15:48:38.874Z"
   },
   {
    "duration": 11,
    "start_time": "2023-05-29T15:48:38.880Z"
   },
   {
    "duration": 22,
    "start_time": "2023-05-29T15:48:38.893Z"
   },
   {
    "duration": 5,
    "start_time": "2023-05-29T15:48:38.917Z"
   },
   {
    "duration": 151,
    "start_time": "2023-05-29T15:48:38.923Z"
   },
   {
    "duration": 5,
    "start_time": "2023-05-29T15:48:39.075Z"
   },
   {
    "duration": 27,
    "start_time": "2023-05-29T15:48:39.082Z"
   },
   {
    "duration": 66,
    "start_time": "2023-05-29T15:48:39.111Z"
   },
   {
    "duration": 206,
    "start_time": "2023-05-29T15:48:39.179Z"
   },
   {
    "duration": 9,
    "start_time": "2023-05-29T15:48:39.386Z"
   },
   {
    "duration": 29,
    "start_time": "2023-05-29T15:48:39.396Z"
   },
   {
    "duration": 242,
    "start_time": "2023-05-29T15:48:39.427Z"
   },
   {
    "duration": 9,
    "start_time": "2023-05-29T15:48:39.670Z"
   },
   {
    "duration": 29,
    "start_time": "2023-05-29T15:48:39.680Z"
   },
   {
    "duration": 242,
    "start_time": "2023-05-29T15:48:39.711Z"
   },
   {
    "duration": 10,
    "start_time": "2023-05-29T15:48:39.955Z"
   },
   {
    "duration": 16,
    "start_time": "2023-05-29T15:48:39.967Z"
   },
   {
    "duration": 22,
    "start_time": "2023-05-29T15:48:39.987Z"
   },
   {
    "duration": 307,
    "start_time": "2023-05-29T15:48:40.010Z"
   },
   {
    "duration": 21,
    "start_time": "2023-05-29T15:48:40.318Z"
   },
   {
    "duration": 12,
    "start_time": "2023-05-29T15:48:40.341Z"
   },
   {
    "duration": 14,
    "start_time": "2023-05-29T15:48:40.354Z"
   },
   {
    "duration": 37,
    "start_time": "2023-05-29T15:48:40.369Z"
   },
   {
    "duration": 9,
    "start_time": "2023-05-29T15:48:40.407Z"
   },
   {
    "duration": 252,
    "start_time": "2023-05-29T15:48:40.417Z"
   },
   {
    "duration": 7,
    "start_time": "2023-05-29T15:48:40.671Z"
   },
   {
    "duration": 269,
    "start_time": "2023-05-29T15:48:40.679Z"
   },
   {
    "duration": 8,
    "start_time": "2023-05-29T15:48:40.949Z"
   },
   {
    "duration": 255,
    "start_time": "2023-05-29T15:48:40.959Z"
   },
   {
    "duration": 8,
    "start_time": "2023-05-29T15:48:41.215Z"
   },
   {
    "duration": 252,
    "start_time": "2023-05-29T15:48:41.224Z"
   },
   {
    "duration": 52,
    "start_time": "2023-05-29T15:48:41.477Z"
   },
   {
    "duration": 12,
    "start_time": "2023-05-29T15:48:41.531Z"
   },
   {
    "duration": 12,
    "start_time": "2023-05-29T15:48:41.544Z"
   },
   {
    "duration": 11,
    "start_time": "2023-05-29T15:48:41.557Z"
   },
   {
    "duration": 31,
    "start_time": "2023-05-29T15:48:41.569Z"
   },
   {
    "duration": 261,
    "start_time": "2023-05-29T15:48:41.601Z"
   },
   {
    "duration": 6,
    "start_time": "2023-05-29T15:48:41.863Z"
   },
   {
    "duration": 11,
    "start_time": "2023-05-29T15:48:41.870Z"
   },
   {
    "duration": 27,
    "start_time": "2023-05-29T15:48:41.882Z"
   },
   {
    "duration": 1720,
    "start_time": "2023-05-29T15:48:41.911Z"
   },
   {
    "duration": 10,
    "start_time": "2023-05-29T15:49:57.227Z"
   },
   {
    "duration": 15,
    "start_time": "2023-05-29T15:57:45.965Z"
   },
   {
    "duration": 6,
    "start_time": "2023-05-29T15:58:13.550Z"
   },
   {
    "duration": 1203,
    "start_time": "2023-05-29T16:06:16.666Z"
   },
   {
    "duration": 43,
    "start_time": "2023-05-29T16:06:17.871Z"
   },
   {
    "duration": 11,
    "start_time": "2023-05-29T16:06:17.916Z"
   },
   {
    "duration": 37,
    "start_time": "2023-05-29T16:06:17.929Z"
   },
   {
    "duration": 11,
    "start_time": "2023-05-29T16:06:17.968Z"
   },
   {
    "duration": 33,
    "start_time": "2023-05-29T16:06:17.980Z"
   },
   {
    "duration": 10,
    "start_time": "2023-05-29T16:06:18.015Z"
   },
   {
    "duration": 11,
    "start_time": "2023-05-29T16:06:18.027Z"
   },
   {
    "duration": 28,
    "start_time": "2023-05-29T16:06:18.040Z"
   },
   {
    "duration": 17,
    "start_time": "2023-05-29T16:06:18.070Z"
   },
   {
    "duration": 5,
    "start_time": "2023-05-29T16:06:18.088Z"
   },
   {
    "duration": 40,
    "start_time": "2023-05-29T16:06:18.094Z"
   },
   {
    "duration": 24,
    "start_time": "2023-05-29T16:06:18.136Z"
   },
   {
    "duration": 6,
    "start_time": "2023-05-29T16:06:18.161Z"
   },
   {
    "duration": 173,
    "start_time": "2023-05-29T16:06:18.169Z"
   },
   {
    "duration": 5,
    "start_time": "2023-05-29T16:06:18.344Z"
   },
   {
    "duration": 36,
    "start_time": "2023-05-29T16:06:18.351Z"
   },
   {
    "duration": 75,
    "start_time": "2023-05-29T16:06:18.389Z"
   },
   {
    "duration": 225,
    "start_time": "2023-05-29T16:06:18.466Z"
   },
   {
    "duration": 18,
    "start_time": "2023-05-29T16:06:18.693Z"
   },
   {
    "duration": 21,
    "start_time": "2023-05-29T16:06:18.713Z"
   },
   {
    "duration": 278,
    "start_time": "2023-05-29T16:06:18.736Z"
   },
   {
    "duration": 9,
    "start_time": "2023-05-29T16:06:19.016Z"
   },
   {
    "duration": 12,
    "start_time": "2023-05-29T16:06:19.027Z"
   },
   {
    "duration": 277,
    "start_time": "2023-05-29T16:06:19.040Z"
   },
   {
    "duration": 10,
    "start_time": "2023-05-29T16:06:19.318Z"
   },
   {
    "duration": 28,
    "start_time": "2023-05-29T16:06:19.329Z"
   },
   {
    "duration": 12,
    "start_time": "2023-05-29T16:06:19.360Z"
   },
   {
    "duration": 361,
    "start_time": "2023-05-29T16:06:19.374Z"
   },
   {
    "duration": 24,
    "start_time": "2023-05-29T16:06:19.736Z"
   },
   {
    "duration": 14,
    "start_time": "2023-05-29T16:06:19.762Z"
   },
   {
    "duration": 40,
    "start_time": "2023-05-29T16:06:19.777Z"
   },
   {
    "duration": 20,
    "start_time": "2023-05-29T16:06:19.818Z"
   },
   {
    "duration": 9,
    "start_time": "2023-05-29T16:06:19.839Z"
   },
   {
    "duration": 282,
    "start_time": "2023-05-29T16:06:19.850Z"
   },
   {
    "duration": 10,
    "start_time": "2023-05-29T16:06:20.133Z"
   },
   {
    "duration": 290,
    "start_time": "2023-05-29T16:06:20.145Z"
   },
   {
    "duration": 10,
    "start_time": "2023-05-29T16:06:20.437Z"
   },
   {
    "duration": 294,
    "start_time": "2023-05-29T16:06:20.449Z"
   },
   {
    "duration": 9,
    "start_time": "2023-05-29T16:06:20.744Z"
   },
   {
    "duration": 276,
    "start_time": "2023-05-29T16:06:20.755Z"
   },
   {
    "duration": 39,
    "start_time": "2023-05-29T16:06:21.033Z"
   },
   {
    "duration": 37,
    "start_time": "2023-05-29T16:06:21.074Z"
   },
   {
    "duration": 14,
    "start_time": "2023-05-29T16:06:21.113Z"
   },
   {
    "duration": 14,
    "start_time": "2023-05-29T16:06:21.129Z"
   },
   {
    "duration": 28,
    "start_time": "2023-05-29T16:06:21.145Z"
   },
   {
    "duration": 280,
    "start_time": "2023-05-29T16:06:21.175Z"
   },
   {
    "duration": 6,
    "start_time": "2023-05-29T16:06:21.456Z"
   },
   {
    "duration": 15,
    "start_time": "2023-05-29T16:06:21.464Z"
   },
   {
    "duration": 20,
    "start_time": "2023-05-29T16:06:21.480Z"
   },
   {
    "duration": 1947,
    "start_time": "2023-05-29T16:06:21.502Z"
   },
   {
    "duration": 1339,
    "start_time": "2023-06-01T07:42:14.483Z"
   },
   {
    "duration": 115,
    "start_time": "2023-06-01T07:42:15.828Z"
   },
   {
    "duration": 18,
    "start_time": "2023-06-01T07:42:15.948Z"
   },
   {
    "duration": 307,
    "start_time": "2023-06-01T07:42:15.967Z"
   },
   {
    "duration": 12,
    "start_time": "2023-06-01T07:42:16.277Z"
   },
   {
    "duration": 93,
    "start_time": "2023-06-01T07:42:16.291Z"
   },
   {
    "duration": 10,
    "start_time": "2023-06-01T07:42:16.386Z"
   },
   {
    "duration": 11,
    "start_time": "2023-06-01T07:42:16.398Z"
   },
   {
    "duration": 19,
    "start_time": "2023-06-01T07:42:16.410Z"
   },
   {
    "duration": 28,
    "start_time": "2023-06-01T07:42:16.432Z"
   },
   {
    "duration": 6,
    "start_time": "2023-06-01T07:42:16.462Z"
   },
   {
    "duration": 38,
    "start_time": "2023-06-01T07:42:16.470Z"
   },
   {
    "duration": 69,
    "start_time": "2023-06-01T07:42:16.510Z"
   },
   {
    "duration": 6,
    "start_time": "2023-06-01T07:42:16.582Z"
   },
   {
    "duration": 178,
    "start_time": "2023-06-01T07:42:16.590Z"
   },
   {
    "duration": 5,
    "start_time": "2023-06-01T07:42:16.770Z"
   },
   {
    "duration": 21,
    "start_time": "2023-06-01T07:42:16.776Z"
   },
   {
    "duration": 85,
    "start_time": "2023-06-01T07:42:16.799Z"
   },
   {
    "duration": 257,
    "start_time": "2023-06-01T07:42:16.885Z"
   },
   {
    "duration": 10,
    "start_time": "2023-06-01T07:42:17.146Z"
   },
   {
    "duration": 11,
    "start_time": "2023-06-01T07:42:17.158Z"
   },
   {
    "duration": 336,
    "start_time": "2023-06-01T07:42:17.171Z"
   },
   {
    "duration": 9,
    "start_time": "2023-06-01T07:42:17.508Z"
   },
   {
    "duration": 17,
    "start_time": "2023-06-01T07:42:17.525Z"
   },
   {
    "duration": 241,
    "start_time": "2023-06-01T07:42:17.544Z"
   },
   {
    "duration": 10,
    "start_time": "2023-06-01T07:42:17.787Z"
   },
   {
    "duration": 12,
    "start_time": "2023-06-01T07:42:17.799Z"
   },
   {
    "duration": 26,
    "start_time": "2023-06-01T07:42:17.813Z"
   },
   {
    "duration": 316,
    "start_time": "2023-06-01T07:42:17.844Z"
   },
   {
    "duration": 22,
    "start_time": "2023-06-01T07:42:18.162Z"
   },
   {
    "duration": 16,
    "start_time": "2023-06-01T07:42:18.186Z"
   },
   {
    "duration": 40,
    "start_time": "2023-06-01T07:42:18.204Z"
   },
   {
    "duration": 14,
    "start_time": "2023-06-01T07:42:18.245Z"
   },
   {
    "duration": 25,
    "start_time": "2023-06-01T07:42:18.261Z"
   },
   {
    "duration": 257,
    "start_time": "2023-06-01T07:42:18.288Z"
   },
   {
    "duration": 8,
    "start_time": "2023-06-01T07:42:18.546Z"
   },
   {
    "duration": 262,
    "start_time": "2023-06-01T07:42:18.555Z"
   },
   {
    "duration": 28,
    "start_time": "2023-06-01T07:42:18.819Z"
   },
   {
    "duration": 286,
    "start_time": "2023-06-01T07:42:18.849Z"
   },
   {
    "duration": 10,
    "start_time": "2023-06-01T07:42:19.141Z"
   },
   {
    "duration": 307,
    "start_time": "2023-06-01T07:42:19.157Z"
   },
   {
    "duration": 38,
    "start_time": "2023-06-01T07:42:19.466Z"
   },
   {
    "duration": 32,
    "start_time": "2023-06-01T07:42:19.505Z"
   },
   {
    "duration": 14,
    "start_time": "2023-06-01T07:42:19.541Z"
   },
   {
    "duration": 11,
    "start_time": "2023-06-01T07:42:19.557Z"
   },
   {
    "duration": 12,
    "start_time": "2023-06-01T07:42:19.569Z"
   },
   {
    "duration": 326,
    "start_time": "2023-06-01T07:42:19.583Z"
   },
   {
    "duration": 16,
    "start_time": "2023-06-01T07:42:19.911Z"
   },
   {
    "duration": 6,
    "start_time": "2023-06-01T07:42:19.930Z"
   },
   {
    "duration": 20,
    "start_time": "2023-06-01T07:42:19.943Z"
   },
   {
    "duration": 1826,
    "start_time": "2023-06-01T07:42:19.964Z"
   },
   {
    "duration": 1173,
    "start_time": "2023-06-01T07:44:35.702Z"
   },
   {
    "duration": 56,
    "start_time": "2023-06-01T07:44:36.877Z"
   },
   {
    "duration": 14,
    "start_time": "2023-06-01T07:44:36.935Z"
   },
   {
    "duration": 39,
    "start_time": "2023-06-01T07:44:36.951Z"
   },
   {
    "duration": 13,
    "start_time": "2023-06-01T07:44:36.992Z"
   },
   {
    "duration": 34,
    "start_time": "2023-06-01T07:44:37.006Z"
   },
   {
    "duration": 12,
    "start_time": "2023-06-01T07:44:37.047Z"
   },
   {
    "duration": 9,
    "start_time": "2023-06-01T07:44:37.060Z"
   },
   {
    "duration": 10,
    "start_time": "2023-06-01T07:44:37.071Z"
   },
   {
    "duration": 19,
    "start_time": "2023-06-01T07:44:37.082Z"
   },
   {
    "duration": 5,
    "start_time": "2023-06-01T07:44:37.102Z"
   },
   {
    "duration": 41,
    "start_time": "2023-06-01T07:44:37.108Z"
   },
   {
    "duration": 11,
    "start_time": "2023-06-01T07:44:37.151Z"
   },
   {
    "duration": 6,
    "start_time": "2023-06-01T07:44:37.166Z"
   },
   {
    "duration": 233,
    "start_time": "2023-06-01T07:44:37.174Z"
   },
   {
    "duration": 6,
    "start_time": "2023-06-01T07:44:37.410Z"
   },
   {
    "duration": 25,
    "start_time": "2023-06-01T07:44:37.424Z"
   },
   {
    "duration": 103,
    "start_time": "2023-06-01T07:44:37.451Z"
   },
   {
    "duration": 223,
    "start_time": "2023-06-01T07:44:37.555Z"
   },
   {
    "duration": 8,
    "start_time": "2023-06-01T07:44:37.779Z"
   },
   {
    "duration": 48,
    "start_time": "2023-06-01T07:44:37.788Z"
   },
   {
    "duration": 273,
    "start_time": "2023-06-01T07:44:37.837Z"
   },
   {
    "duration": 17,
    "start_time": "2023-06-01T07:44:38.112Z"
   },
   {
    "duration": 36,
    "start_time": "2023-06-01T07:44:38.130Z"
   },
   {
    "duration": 376,
    "start_time": "2023-06-01T07:44:38.167Z"
   },
   {
    "duration": 12,
    "start_time": "2023-06-01T07:44:38.545Z"
   },
   {
    "duration": 9,
    "start_time": "2023-06-01T07:44:38.559Z"
   },
   {
    "duration": 11,
    "start_time": "2023-06-01T07:44:38.570Z"
   },
   {
    "duration": 381,
    "start_time": "2023-06-01T07:44:38.583Z"
   },
   {
    "duration": 24,
    "start_time": "2023-06-01T07:44:38.967Z"
   },
   {
    "duration": 13,
    "start_time": "2023-06-01T07:44:38.993Z"
   },
   {
    "duration": 27,
    "start_time": "2023-06-01T07:44:39.025Z"
   },
   {
    "duration": 19,
    "start_time": "2023-06-01T07:44:39.054Z"
   },
   {
    "duration": 9,
    "start_time": "2023-06-01T07:44:39.075Z"
   },
   {
    "duration": 268,
    "start_time": "2023-06-01T07:44:39.086Z"
   },
   {
    "duration": 9,
    "start_time": "2023-06-01T07:44:39.356Z"
   },
   {
    "duration": 304,
    "start_time": "2023-06-01T07:44:39.366Z"
   },
   {
    "duration": 10,
    "start_time": "2023-06-01T07:44:39.672Z"
   },
   {
    "duration": 378,
    "start_time": "2023-06-01T07:44:39.684Z"
   },
   {
    "duration": 14,
    "start_time": "2023-06-01T07:44:40.065Z"
   },
   {
    "duration": 384,
    "start_time": "2023-06-01T07:44:40.085Z"
   },
   {
    "duration": 80,
    "start_time": "2023-06-01T07:44:40.471Z"
   },
   {
    "duration": 19,
    "start_time": "2023-06-01T07:44:40.553Z"
   },
   {
    "duration": 18,
    "start_time": "2023-06-01T07:44:40.574Z"
   },
   {
    "duration": 15,
    "start_time": "2023-06-01T07:44:40.594Z"
   },
   {
    "duration": 14,
    "start_time": "2023-06-01T07:44:40.625Z"
   },
   {
    "duration": 321,
    "start_time": "2023-06-01T07:44:40.642Z"
   },
   {
    "duration": 6,
    "start_time": "2023-06-01T07:44:40.966Z"
   },
   {
    "duration": 29,
    "start_time": "2023-06-01T07:44:40.974Z"
   },
   {
    "duration": 40,
    "start_time": "2023-06-01T07:44:41.005Z"
   },
   {
    "duration": 1949,
    "start_time": "2023-06-01T07:44:41.047Z"
   },
   {
    "duration": 4,
    "start_time": "2023-06-01T07:46:56.278Z"
   },
   {
    "duration": 54,
    "start_time": "2023-06-01T07:46:56.284Z"
   },
   {
    "duration": 11,
    "start_time": "2023-06-01T07:46:56.341Z"
   },
   {
    "duration": 42,
    "start_time": "2023-06-01T07:46:56.355Z"
   },
   {
    "duration": 13,
    "start_time": "2023-06-01T07:46:56.399Z"
   },
   {
    "duration": 23,
    "start_time": "2023-06-01T07:46:56.547Z"
   },
   {
    "duration": 13,
    "start_time": "2023-06-01T07:46:56.573Z"
   },
   {
    "duration": 17,
    "start_time": "2023-06-01T07:46:56.587Z"
   },
   {
    "duration": 17,
    "start_time": "2023-06-01T07:46:56.606Z"
   },
   {
    "duration": 32,
    "start_time": "2023-06-01T07:46:56.625Z"
   },
   {
    "duration": 7,
    "start_time": "2023-06-01T07:46:56.659Z"
   },
   {
    "duration": 9,
    "start_time": "2023-06-01T07:46:56.668Z"
   },
   {
    "duration": 10,
    "start_time": "2023-06-01T07:46:56.679Z"
   },
   {
    "duration": 6,
    "start_time": "2023-06-01T07:46:56.691Z"
   },
   {
    "duration": 195,
    "start_time": "2023-06-01T07:46:56.699Z"
   },
   {
    "duration": 10,
    "start_time": "2023-06-01T07:46:56.896Z"
   },
   {
    "duration": 30,
    "start_time": "2023-06-01T07:46:56.908Z"
   },
   {
    "duration": 65,
    "start_time": "2023-06-01T07:46:56.942Z"
   },
   {
    "duration": 352,
    "start_time": "2023-06-01T07:46:57.012Z"
   },
   {
    "duration": 11,
    "start_time": "2023-06-01T07:46:57.367Z"
   },
   {
    "duration": 16,
    "start_time": "2023-06-01T07:46:57.381Z"
   },
   {
    "duration": 365,
    "start_time": "2023-06-01T07:46:57.400Z"
   },
   {
    "duration": 13,
    "start_time": "2023-06-01T07:46:57.767Z"
   },
   {
    "duration": 23,
    "start_time": "2023-06-01T07:46:57.783Z"
   },
   {
    "duration": 355,
    "start_time": "2023-06-01T07:46:57.808Z"
   },
   {
    "duration": 15,
    "start_time": "2023-06-01T07:46:58.165Z"
   },
   {
    "duration": 8,
    "start_time": "2023-06-01T07:46:58.182Z"
   },
   {
    "duration": 47,
    "start_time": "2023-06-01T07:46:58.192Z"
   },
   {
    "duration": 526,
    "start_time": "2023-06-01T07:46:58.240Z"
   },
   {
    "duration": 32,
    "start_time": "2023-06-01T07:46:58.768Z"
   },
   {
    "duration": 34,
    "start_time": "2023-06-01T07:46:58.802Z"
   },
   {
    "duration": 21,
    "start_time": "2023-06-01T07:46:58.846Z"
   },
   {
    "duration": 19,
    "start_time": "2023-06-01T07:46:58.869Z"
   },
   {
    "duration": 8,
    "start_time": "2023-06-01T07:46:58.890Z"
   },
   {
    "duration": 398,
    "start_time": "2023-06-01T07:46:58.900Z"
   },
   {
    "duration": 10,
    "start_time": "2023-06-01T07:46:59.300Z"
   },
   {
    "duration": 424,
    "start_time": "2023-06-01T07:46:59.313Z"
   },
   {
    "duration": 14,
    "start_time": "2023-06-01T07:46:59.738Z"
   },
   {
    "duration": 414,
    "start_time": "2023-06-01T07:46:59.754Z"
   },
   {
    "duration": 11,
    "start_time": "2023-06-01T07:47:00.174Z"
   },
   {
    "duration": 327,
    "start_time": "2023-06-01T07:47:00.187Z"
   },
   {
    "duration": 62,
    "start_time": "2023-06-01T07:47:00.516Z"
   },
   {
    "duration": 55,
    "start_time": "2023-06-01T07:47:00.580Z"
   },
   {
    "duration": 26,
    "start_time": "2023-06-01T07:47:00.637Z"
   },
   {
    "duration": 42,
    "start_time": "2023-06-01T07:47:00.666Z"
   },
   {
    "duration": 19,
    "start_time": "2023-06-01T07:47:00.714Z"
   },
   {
    "duration": 654,
    "start_time": "2023-06-01T07:47:00.735Z"
   },
   {
    "duration": 6,
    "start_time": "2023-06-01T07:47:01.391Z"
   },
   {
    "duration": 77,
    "start_time": "2023-06-01T07:47:01.399Z"
   },
   {
    "duration": 56,
    "start_time": "2023-06-01T07:47:01.479Z"
   },
   {
    "duration": 2193,
    "start_time": "2023-06-01T07:47:01.537Z"
   },
   {
    "duration": 1403,
    "start_time": "2023-06-01T07:53:23.890Z"
   },
   {
    "duration": 49,
    "start_time": "2023-06-01T07:53:25.295Z"
   },
   {
    "duration": 16,
    "start_time": "2023-06-01T07:53:25.349Z"
   },
   {
    "duration": 44,
    "start_time": "2023-06-01T07:53:25.368Z"
   },
   {
    "duration": 23,
    "start_time": "2023-06-01T07:53:25.414Z"
   },
   {
    "duration": 32,
    "start_time": "2023-06-01T07:53:25.441Z"
   },
   {
    "duration": 15,
    "start_time": "2023-06-01T07:53:25.474Z"
   },
   {
    "duration": 50,
    "start_time": "2023-06-01T07:53:25.491Z"
   },
   {
    "duration": 59,
    "start_time": "2023-06-01T07:53:25.544Z"
   },
   {
    "duration": 31,
    "start_time": "2023-06-01T07:53:25.606Z"
   },
   {
    "duration": 6,
    "start_time": "2023-06-01T07:53:25.639Z"
   },
   {
    "duration": 34,
    "start_time": "2023-06-01T07:53:25.647Z"
   },
   {
    "duration": 32,
    "start_time": "2023-06-01T07:53:25.683Z"
   },
   {
    "duration": 13,
    "start_time": "2023-06-01T07:53:25.718Z"
   },
   {
    "duration": 272,
    "start_time": "2023-06-01T07:53:25.733Z"
   },
   {
    "duration": 13,
    "start_time": "2023-06-01T07:53:26.007Z"
   },
   {
    "duration": 41,
    "start_time": "2023-06-01T07:53:26.024Z"
   },
   {
    "duration": 124,
    "start_time": "2023-06-01T07:53:26.071Z"
   },
   {
    "duration": 344,
    "start_time": "2023-06-01T07:53:26.201Z"
   },
   {
    "duration": 12,
    "start_time": "2023-06-01T07:53:26.551Z"
   },
   {
    "duration": 12,
    "start_time": "2023-06-01T07:53:26.569Z"
   },
   {
    "duration": 420,
    "start_time": "2023-06-01T07:53:26.583Z"
   },
   {
    "duration": 22,
    "start_time": "2023-06-01T07:53:27.006Z"
   },
   {
    "duration": 41,
    "start_time": "2023-06-01T07:53:27.030Z"
   },
   {
    "duration": 427,
    "start_time": "2023-06-01T07:53:27.074Z"
   },
   {
    "duration": 22,
    "start_time": "2023-06-01T07:53:27.503Z"
   },
   {
    "duration": 14,
    "start_time": "2023-06-01T07:53:27.540Z"
   },
   {
    "duration": 11,
    "start_time": "2023-06-01T07:53:27.558Z"
   },
   {
    "duration": 507,
    "start_time": "2023-06-01T07:53:27.572Z"
   },
   {
    "duration": 46,
    "start_time": "2023-06-01T07:53:28.082Z"
   },
   {
    "duration": 24,
    "start_time": "2023-06-01T07:53:28.133Z"
   },
   {
    "duration": 26,
    "start_time": "2023-06-01T07:53:28.159Z"
   },
   {
    "duration": 22,
    "start_time": "2023-06-01T07:53:28.187Z"
   },
   {
    "duration": 28,
    "start_time": "2023-06-01T07:53:28.225Z"
   },
   {
    "duration": 410,
    "start_time": "2023-06-01T07:53:28.256Z"
   },
   {
    "duration": 11,
    "start_time": "2023-06-01T07:53:28.669Z"
   },
   {
    "duration": 446,
    "start_time": "2023-06-01T07:53:28.682Z"
   },
   {
    "duration": 20,
    "start_time": "2023-06-01T07:53:29.137Z"
   },
   {
    "duration": 400,
    "start_time": "2023-06-01T07:53:29.162Z"
   },
   {
    "duration": 23,
    "start_time": "2023-06-01T07:53:29.564Z"
   },
   {
    "duration": 340,
    "start_time": "2023-06-01T07:53:29.590Z"
   },
   {
    "duration": 59,
    "start_time": "2023-06-01T07:53:29.932Z"
   },
   {
    "duration": 18,
    "start_time": "2023-06-01T07:53:29.993Z"
   },
   {
    "duration": 43,
    "start_time": "2023-06-01T07:53:30.014Z"
   },
   {
    "duration": 17,
    "start_time": "2023-06-01T07:53:30.064Z"
   },
   {
    "duration": 40,
    "start_time": "2023-06-01T07:53:30.083Z"
   },
   {
    "duration": 379,
    "start_time": "2023-06-01T07:53:30.127Z"
   },
   {
    "duration": 22,
    "start_time": "2023-06-01T07:53:30.508Z"
   },
   {
    "duration": 12,
    "start_time": "2023-06-01T07:53:30.534Z"
   },
   {
    "duration": 17,
    "start_time": "2023-06-01T07:53:30.554Z"
   },
   {
    "duration": 2233,
    "start_time": "2023-06-01T07:53:30.573Z"
   },
   {
    "duration": 4,
    "start_time": "2023-06-01T08:04:37.369Z"
   },
   {
    "duration": 47,
    "start_time": "2023-06-01T08:04:37.377Z"
   },
   {
    "duration": 18,
    "start_time": "2023-06-01T08:04:37.430Z"
   },
   {
    "duration": 58,
    "start_time": "2023-06-01T08:04:37.451Z"
   },
   {
    "duration": 15,
    "start_time": "2023-06-01T08:04:37.511Z"
   },
   {
    "duration": 40,
    "start_time": "2023-06-01T08:04:37.528Z"
   },
   {
    "duration": 11,
    "start_time": "2023-06-01T08:04:37.569Z"
   },
   {
    "duration": 9,
    "start_time": "2023-06-01T08:04:37.582Z"
   },
   {
    "duration": 10,
    "start_time": "2023-06-01T08:04:37.593Z"
   },
   {
    "duration": 14,
    "start_time": "2023-06-01T08:04:37.605Z"
   },
   {
    "duration": 7,
    "start_time": "2023-06-01T08:04:37.624Z"
   },
   {
    "duration": 13,
    "start_time": "2023-06-01T08:04:37.633Z"
   },
   {
    "duration": 17,
    "start_time": "2023-06-01T08:04:37.648Z"
   },
   {
    "duration": 19,
    "start_time": "2023-06-01T08:04:37.669Z"
   },
   {
    "duration": 191,
    "start_time": "2023-06-01T08:04:37.690Z"
   },
   {
    "duration": 7,
    "start_time": "2023-06-01T08:04:37.884Z"
   },
   {
    "duration": 8,
    "start_time": "2023-06-01T08:04:37.893Z"
   },
   {
    "duration": 104,
    "start_time": "2023-06-01T08:04:37.903Z"
   },
   {
    "duration": 341,
    "start_time": "2023-06-01T08:04:38.009Z"
   },
   {
    "duration": 11,
    "start_time": "2023-06-01T08:04:38.352Z"
   },
   {
    "duration": 12,
    "start_time": "2023-06-01T08:04:38.373Z"
   },
   {
    "duration": 465,
    "start_time": "2023-06-01T08:04:38.388Z"
   },
   {
    "duration": 21,
    "start_time": "2023-06-01T08:04:38.857Z"
   },
   {
    "duration": 25,
    "start_time": "2023-06-01T08:04:38.880Z"
   },
   {
    "duration": 459,
    "start_time": "2023-06-01T08:04:38.912Z"
   },
   {
    "duration": 20,
    "start_time": "2023-06-01T08:04:39.377Z"
   },
   {
    "duration": 10,
    "start_time": "2023-06-01T08:04:39.400Z"
   },
   {
    "duration": 29,
    "start_time": "2023-06-01T08:04:39.414Z"
   },
   {
    "duration": 633,
    "start_time": "2023-06-01T08:04:39.448Z"
   },
   {
    "duration": 38,
    "start_time": "2023-06-01T08:04:40.086Z"
   },
   {
    "duration": 35,
    "start_time": "2023-06-01T08:04:40.134Z"
   },
   {
    "duration": 32,
    "start_time": "2023-06-01T08:04:40.176Z"
   },
   {
    "duration": 30,
    "start_time": "2023-06-01T08:04:40.215Z"
   },
   {
    "duration": 16,
    "start_time": "2023-06-01T08:04:40.252Z"
   },
   {
    "duration": 390,
    "start_time": "2023-06-01T08:04:40.276Z"
   },
   {
    "duration": 17,
    "start_time": "2023-06-01T08:04:40.671Z"
   },
   {
    "duration": 351,
    "start_time": "2023-06-01T08:04:40.690Z"
   },
   {
    "duration": 10,
    "start_time": "2023-06-01T08:04:41.043Z"
   },
   {
    "duration": 305,
    "start_time": "2023-06-01T08:04:41.055Z"
   },
   {
    "duration": 12,
    "start_time": "2023-06-01T08:04:41.362Z"
   },
   {
    "duration": 283,
    "start_time": "2023-06-01T08:04:41.379Z"
   },
   {
    "duration": 42,
    "start_time": "2023-06-01T08:04:41.664Z"
   },
   {
    "duration": 44,
    "start_time": "2023-06-01T08:04:41.707Z"
   },
   {
    "duration": 24,
    "start_time": "2023-06-01T08:04:41.752Z"
   },
   {
    "duration": 14,
    "start_time": "2023-06-01T08:04:41.778Z"
   },
   {
    "duration": 10,
    "start_time": "2023-06-01T08:04:41.794Z"
   },
   {
    "duration": 536,
    "start_time": "2023-06-01T08:04:41.826Z"
   },
   {
    "duration": 7,
    "start_time": "2023-06-01T08:04:42.363Z"
   },
   {
    "duration": 6,
    "start_time": "2023-06-01T08:04:42.372Z"
   },
   {
    "duration": 13,
    "start_time": "2023-06-01T08:04:42.379Z"
   },
   {
    "duration": 2724,
    "start_time": "2023-06-01T08:04:42.394Z"
   },
   {
    "duration": 4,
    "start_time": "2023-06-01T08:06:07.779Z"
   },
   {
    "duration": 58,
    "start_time": "2023-06-01T08:06:07.814Z"
   },
   {
    "duration": 13,
    "start_time": "2023-06-01T08:06:07.875Z"
   },
   {
    "duration": 42,
    "start_time": "2023-06-01T08:06:07.890Z"
   },
   {
    "duration": 12,
    "start_time": "2023-06-01T08:06:07.933Z"
   },
   {
    "duration": 31,
    "start_time": "2023-06-01T08:06:07.947Z"
   },
   {
    "duration": 15,
    "start_time": "2023-06-01T08:06:07.980Z"
   },
   {
    "duration": 8,
    "start_time": "2023-06-01T08:06:07.997Z"
   },
   {
    "duration": 26,
    "start_time": "2023-06-01T08:06:08.008Z"
   },
   {
    "duration": 51,
    "start_time": "2023-06-01T08:06:08.036Z"
   },
   {
    "duration": 7,
    "start_time": "2023-06-01T08:06:08.091Z"
   },
   {
    "duration": 22,
    "start_time": "2023-06-01T08:06:08.100Z"
   },
   {
    "duration": 14,
    "start_time": "2023-06-01T08:06:08.124Z"
   },
   {
    "duration": 8,
    "start_time": "2023-06-01T08:06:08.141Z"
   },
   {
    "duration": 214,
    "start_time": "2023-06-01T08:06:08.156Z"
   },
   {
    "duration": 6,
    "start_time": "2023-06-01T08:06:08.373Z"
   },
   {
    "duration": 11,
    "start_time": "2023-06-01T08:06:08.381Z"
   },
   {
    "duration": 106,
    "start_time": "2023-06-01T08:06:08.394Z"
   },
   {
    "duration": 293,
    "start_time": "2023-06-01T08:06:08.502Z"
   },
   {
    "duration": 9,
    "start_time": "2023-06-01T08:06:08.797Z"
   },
   {
    "duration": 23,
    "start_time": "2023-06-01T08:06:08.807Z"
   },
   {
    "duration": 301,
    "start_time": "2023-06-01T08:06:08.834Z"
   },
   {
    "duration": 13,
    "start_time": "2023-06-01T08:06:09.136Z"
   },
   {
    "duration": 10,
    "start_time": "2023-06-01T08:06:09.150Z"
   },
   {
    "duration": 456,
    "start_time": "2023-06-01T08:06:09.162Z"
   },
   {
    "duration": 15,
    "start_time": "2023-06-01T08:06:09.625Z"
   },
   {
    "duration": 21,
    "start_time": "2023-06-01T08:06:09.645Z"
   },
   {
    "duration": 11,
    "start_time": "2023-06-01T08:06:09.668Z"
   },
   {
    "duration": 319,
    "start_time": "2023-06-01T08:06:09.680Z"
   },
   {
    "duration": 43,
    "start_time": "2023-06-01T08:06:10.001Z"
   },
   {
    "duration": 23,
    "start_time": "2023-06-01T08:06:10.050Z"
   },
   {
    "duration": 43,
    "start_time": "2023-06-01T08:06:10.075Z"
   },
   {
    "duration": 23,
    "start_time": "2023-06-01T08:06:10.120Z"
   },
   {
    "duration": 13,
    "start_time": "2023-06-01T08:06:10.145Z"
   },
   {
    "duration": 261,
    "start_time": "2023-06-01T08:06:10.160Z"
   },
   {
    "duration": 13,
    "start_time": "2023-06-01T08:06:10.426Z"
   },
   {
    "duration": 303,
    "start_time": "2023-06-01T08:06:10.444Z"
   },
   {
    "duration": 9,
    "start_time": "2023-06-01T08:06:10.748Z"
   },
   {
    "duration": 284,
    "start_time": "2023-06-01T08:06:10.759Z"
   },
   {
    "duration": 11,
    "start_time": "2023-06-01T08:06:11.045Z"
   },
   {
    "duration": 297,
    "start_time": "2023-06-01T08:06:11.058Z"
   },
   {
    "duration": 68,
    "start_time": "2023-06-01T08:06:11.360Z"
   },
   {
    "duration": 18,
    "start_time": "2023-06-01T08:06:11.430Z"
   },
   {
    "duration": 15,
    "start_time": "2023-06-01T08:06:11.450Z"
   },
   {
    "duration": 13,
    "start_time": "2023-06-01T08:06:11.466Z"
   },
   {
    "duration": 10,
    "start_time": "2023-06-01T08:06:11.481Z"
   },
   {
    "duration": 328,
    "start_time": "2023-06-01T08:06:11.493Z"
   },
   {
    "duration": 13,
    "start_time": "2023-06-01T08:06:11.826Z"
   },
   {
    "duration": 5,
    "start_time": "2023-06-01T08:06:11.845Z"
   },
   {
    "duration": 19,
    "start_time": "2023-06-01T08:06:11.852Z"
   },
   {
    "duration": 2100,
    "start_time": "2023-06-01T08:06:11.874Z"
   },
   {
    "duration": 16,
    "start_time": "2023-06-01T08:15:42.884Z"
   },
   {
    "duration": 1381,
    "start_time": "2023-06-01T08:16:06.093Z"
   },
   {
    "duration": 46,
    "start_time": "2023-06-01T08:16:07.476Z"
   },
   {
    "duration": 31,
    "start_time": "2023-06-01T08:16:07.523Z"
   },
   {
    "duration": 48,
    "start_time": "2023-06-01T08:16:07.564Z"
   },
   {
    "duration": 19,
    "start_time": "2023-06-01T08:16:07.614Z"
   },
   {
    "duration": 39,
    "start_time": "2023-06-01T08:16:07.637Z"
   },
   {
    "duration": 25,
    "start_time": "2023-06-01T08:16:07.679Z"
   },
   {
    "duration": 38,
    "start_time": "2023-06-01T08:16:07.707Z"
   },
   {
    "duration": 21,
    "start_time": "2023-06-01T08:16:07.747Z"
   },
   {
    "duration": 24,
    "start_time": "2023-06-01T08:16:07.771Z"
   },
   {
    "duration": 10,
    "start_time": "2023-06-01T08:16:21.387Z"
   },
   {
    "duration": 15,
    "start_time": "2023-06-01T08:16:26.202Z"
   },
   {
    "duration": 10,
    "start_time": "2023-06-01T08:16:29.908Z"
   },
   {
    "duration": 17,
    "start_time": "2023-06-01T08:20:12.174Z"
   },
   {
    "duration": 12,
    "start_time": "2023-06-01T08:20:15.887Z"
   },
   {
    "duration": 14,
    "start_time": "2023-06-01T08:20:29.785Z"
   },
   {
    "duration": 7,
    "start_time": "2023-06-01T08:21:35.353Z"
   },
   {
    "duration": 8,
    "start_time": "2023-06-01T08:21:40.304Z"
   },
   {
    "duration": 17,
    "start_time": "2023-06-01T08:21:42.063Z"
   },
   {
    "duration": 1700,
    "start_time": "2023-06-01T08:23:51.914Z"
   },
   {
    "duration": 9,
    "start_time": "2023-06-01T08:24:04.243Z"
   },
   {
    "duration": 53,
    "start_time": "2023-06-01T08:24:04.255Z"
   },
   {
    "duration": 22,
    "start_time": "2023-06-01T08:24:04.311Z"
   },
   {
    "duration": 82,
    "start_time": "2023-06-01T08:24:04.340Z"
   },
   {
    "duration": 35,
    "start_time": "2023-06-01T08:24:04.433Z"
   },
   {
    "duration": 45,
    "start_time": "2023-06-01T08:24:04.478Z"
   },
   {
    "duration": 25,
    "start_time": "2023-06-01T08:24:04.525Z"
   },
   {
    "duration": 17,
    "start_time": "2023-06-01T08:24:04.559Z"
   },
   {
    "duration": 23,
    "start_time": "2023-06-01T08:24:04.583Z"
   },
   {
    "duration": 9,
    "start_time": "2023-06-01T08:24:04.614Z"
   },
   {
    "duration": 34,
    "start_time": "2023-06-01T08:24:04.630Z"
   },
   {
    "duration": 13,
    "start_time": "2023-06-01T08:24:04.669Z"
   },
   {
    "duration": 24,
    "start_time": "2023-06-01T08:24:04.690Z"
   },
   {
    "duration": 421,
    "start_time": "2023-06-01T08:24:08.648Z"
   },
   {
    "duration": 7,
    "start_time": "2023-06-01T08:24:27.609Z"
   },
   {
    "duration": 3,
    "start_time": "2023-06-01T08:25:13.895Z"
   },
   {
    "duration": 19,
    "start_time": "2023-06-01T08:25:29.914Z"
   },
   {
    "duration": 59,
    "start_time": "2023-06-01T10:44:46.512Z"
   },
   {
    "duration": 1342,
    "start_time": "2023-06-01T10:44:52.652Z"
   },
   {
    "duration": 104,
    "start_time": "2023-06-01T10:44:53.996Z"
   },
   {
    "duration": 16,
    "start_time": "2023-06-01T10:44:54.102Z"
   },
   {
    "duration": 86,
    "start_time": "2023-06-01T10:44:54.120Z"
   },
   {
    "duration": 13,
    "start_time": "2023-06-01T10:44:54.208Z"
   },
   {
    "duration": 67,
    "start_time": "2023-06-01T10:44:54.223Z"
   },
   {
    "duration": 11,
    "start_time": "2023-06-01T10:44:54.292Z"
   },
   {
    "duration": 14,
    "start_time": "2023-06-01T10:44:54.305Z"
   },
   {
    "duration": 28,
    "start_time": "2023-06-01T10:44:54.321Z"
   },
   {
    "duration": 16,
    "start_time": "2023-06-01T10:44:54.350Z"
   },
   {
    "duration": 19,
    "start_time": "2023-06-01T10:44:54.368Z"
   },
   {
    "duration": 8,
    "start_time": "2023-06-01T10:44:54.389Z"
   },
   {
    "duration": 18,
    "start_time": "2023-06-01T10:44:54.398Z"
   },
   {
    "duration": 5,
    "start_time": "2023-06-01T10:44:54.419Z"
   },
   {
    "duration": 20,
    "start_time": "2023-06-01T10:44:54.426Z"
   },
   {
    "duration": 5,
    "start_time": "2023-06-01T10:44:54.448Z"
   },
   {
    "duration": 170,
    "start_time": "2023-06-01T10:44:54.455Z"
   },
   {
    "duration": 141,
    "start_time": "2023-06-01T10:45:02.221Z"
   },
   {
    "duration": 137,
    "start_time": "2023-06-01T10:45:22.571Z"
   },
   {
    "duration": 149,
    "start_time": "2023-06-01T10:45:30.986Z"
   },
   {
    "duration": 141,
    "start_time": "2023-06-01T10:45:51.888Z"
   },
   {
    "duration": 8,
    "start_time": "2023-06-01T10:46:37.740Z"
   },
   {
    "duration": 157,
    "start_time": "2023-06-01T10:46:48.169Z"
   },
   {
    "duration": 137,
    "start_time": "2023-06-01T10:46:53.385Z"
   },
   {
    "duration": 155,
    "start_time": "2023-06-01T10:47:24.540Z"
   },
   {
    "duration": 72,
    "start_time": "2023-06-01T10:52:41.760Z"
   },
   {
    "duration": 11,
    "start_time": "2023-06-01T10:52:47.979Z"
   },
   {
    "duration": 11,
    "start_time": "2023-06-01T10:52:56.159Z"
   },
   {
    "duration": 145,
    "start_time": "2023-06-01T10:54:08.485Z"
   },
   {
    "duration": 231,
    "start_time": "2023-06-01T10:54:30.884Z"
   },
   {
    "duration": 147,
    "start_time": "2023-06-01T10:55:15.599Z"
   },
   {
    "duration": 149,
    "start_time": "2023-06-01T10:55:24.200Z"
   },
   {
    "duration": 153,
    "start_time": "2023-06-01T10:56:38.059Z"
   },
   {
    "duration": 155,
    "start_time": "2023-06-01T10:58:29.378Z"
   },
   {
    "duration": 153,
    "start_time": "2023-06-01T10:59:27.164Z"
   },
   {
    "duration": 150,
    "start_time": "2023-06-01T11:00:46.684Z"
   },
   {
    "duration": 151,
    "start_time": "2023-06-01T11:00:54.723Z"
   },
   {
    "duration": 73,
    "start_time": "2023-06-01T11:01:22.863Z"
   },
   {
    "duration": 80,
    "start_time": "2023-06-01T11:01:45.178Z"
   },
   {
    "duration": 83,
    "start_time": "2023-06-01T11:01:55.363Z"
   },
   {
    "duration": 76,
    "start_time": "2023-06-01T11:02:05.698Z"
   },
   {
    "duration": 88,
    "start_time": "2023-06-01T11:02:22.538Z"
   },
   {
    "duration": 76,
    "start_time": "2023-06-01T11:04:20.193Z"
   },
   {
    "duration": 182,
    "start_time": "2023-06-01T11:04:30.377Z"
   },
   {
    "duration": 12,
    "start_time": "2023-06-01T11:05:56.398Z"
   },
   {
    "duration": 193,
    "start_time": "2023-06-01T11:06:08.588Z"
   },
   {
    "duration": 134,
    "start_time": "2023-06-01T11:06:27.118Z"
   },
   {
    "duration": 94,
    "start_time": "2023-06-01T11:06:43.385Z"
   },
   {
    "duration": 118,
    "start_time": "2023-06-01T11:06:47.429Z"
   },
   {
    "duration": 115,
    "start_time": "2023-06-01T11:07:18.858Z"
   },
   {
    "duration": 110,
    "start_time": "2023-06-01T11:07:28.458Z"
   },
   {
    "duration": 130,
    "start_time": "2023-06-01T11:07:41.821Z"
   },
   {
    "duration": 108,
    "start_time": "2023-06-01T11:07:55.947Z"
   },
   {
    "duration": 103,
    "start_time": "2023-06-01T11:08:10.404Z"
   },
   {
    "duration": 109,
    "start_time": "2023-06-01T11:08:15.451Z"
   },
   {
    "duration": 179,
    "start_time": "2023-06-01T11:08:47.752Z"
   },
   {
    "duration": 112,
    "start_time": "2023-06-01T11:08:55.989Z"
   },
   {
    "duration": 175,
    "start_time": "2023-06-01T11:09:02.013Z"
   },
   {
    "duration": 196,
    "start_time": "2023-06-01T11:10:39.584Z"
   },
   {
    "duration": 133,
    "start_time": "2023-06-01T11:11:21.283Z"
   },
   {
    "duration": 131,
    "start_time": "2023-06-01T11:11:31.860Z"
   },
   {
    "duration": 135,
    "start_time": "2023-06-01T11:13:47.805Z"
   },
   {
    "duration": 247,
    "start_time": "2023-06-01T11:15:53.864Z"
   },
   {
    "duration": 132,
    "start_time": "2023-06-01T11:15:59.100Z"
   },
   {
    "duration": 122,
    "start_time": "2023-06-01T11:16:20.205Z"
   },
   {
    "duration": 146,
    "start_time": "2023-06-01T11:16:23.844Z"
   },
   {
    "duration": 8,
    "start_time": "2023-06-01T11:16:30.644Z"
   },
   {
    "duration": 134,
    "start_time": "2023-06-01T11:16:44.524Z"
   },
   {
    "duration": 128,
    "start_time": "2023-06-01T11:17:20.688Z"
   },
   {
    "duration": 138,
    "start_time": "2023-06-01T11:17:28.725Z"
   },
   {
    "duration": 231,
    "start_time": "2023-06-01T11:19:09.661Z"
   },
   {
    "duration": 291,
    "start_time": "2023-06-01T11:19:49.380Z"
   },
   {
    "duration": 370,
    "start_time": "2023-06-01T11:20:12.910Z"
   },
   {
    "duration": 275,
    "start_time": "2023-06-01T11:20:25.690Z"
   },
   {
    "duration": 11,
    "start_time": "2023-06-01T11:20:39.689Z"
   },
   {
    "duration": 4,
    "start_time": "2023-06-01T11:20:45.225Z"
   },
   {
    "duration": 34,
    "start_time": "2023-06-01T11:20:45.262Z"
   },
   {
    "duration": 12,
    "start_time": "2023-06-01T11:20:45.298Z"
   },
   {
    "duration": 39,
    "start_time": "2023-06-01T11:20:45.311Z"
   },
   {
    "duration": 13,
    "start_time": "2023-06-01T11:20:45.351Z"
   },
   {
    "duration": 24,
    "start_time": "2023-06-01T11:20:45.367Z"
   },
   {
    "duration": 12,
    "start_time": "2023-06-01T11:20:45.393Z"
   },
   {
    "duration": 10,
    "start_time": "2023-06-01T11:20:45.407Z"
   },
   {
    "duration": 30,
    "start_time": "2023-06-01T11:20:45.419Z"
   },
   {
    "duration": 5,
    "start_time": "2023-06-01T11:20:45.450Z"
   },
   {
    "duration": 10,
    "start_time": "2023-06-01T11:20:45.528Z"
   },
   {
    "duration": 14,
    "start_time": "2023-06-01T11:20:45.540Z"
   },
   {
    "duration": 19,
    "start_time": "2023-06-01T11:20:45.555Z"
   },
   {
    "duration": 4,
    "start_time": "2023-06-01T11:20:45.576Z"
   },
   {
    "duration": 13,
    "start_time": "2023-06-01T11:20:45.582Z"
   },
   {
    "duration": 5,
    "start_time": "2023-06-01T11:20:45.597Z"
   },
   {
    "duration": 170,
    "start_time": "2023-06-01T11:20:45.604Z"
   },
   {
    "duration": 6,
    "start_time": "2023-06-01T11:20:45.776Z"
   },
   {
    "duration": 14,
    "start_time": "2023-06-01T11:20:45.783Z"
   },
   {
    "duration": 145,
    "start_time": "2023-06-01T11:20:45.798Z"
   },
   {
    "duration": 226,
    "start_time": "2023-06-01T11:20:45.945Z"
   },
   {
    "duration": 8,
    "start_time": "2023-06-01T11:20:46.174Z"
   },
   {
    "duration": 10,
    "start_time": "2023-06-01T11:20:46.184Z"
   },
   {
    "duration": 291,
    "start_time": "2023-06-01T11:20:46.197Z"
   },
   {
    "duration": 11,
    "start_time": "2023-06-01T11:20:46.490Z"
   },
   {
    "duration": 12,
    "start_time": "2023-06-01T11:20:46.502Z"
   },
   {
    "duration": 289,
    "start_time": "2023-06-01T11:20:46.516Z"
   },
   {
    "duration": 11,
    "start_time": "2023-06-01T11:20:46.807Z"
   },
   {
    "duration": 25,
    "start_time": "2023-06-01T11:20:46.820Z"
   },
   {
    "duration": 10,
    "start_time": "2023-06-01T11:20:46.847Z"
   },
   {
    "duration": 414,
    "start_time": "2023-06-01T11:20:46.859Z"
   },
   {
    "duration": 32,
    "start_time": "2023-06-01T11:20:47.275Z"
   },
   {
    "duration": 34,
    "start_time": "2023-06-01T11:20:47.309Z"
   },
   {
    "duration": 18,
    "start_time": "2023-06-01T11:20:47.345Z"
   },
   {
    "duration": 16,
    "start_time": "2023-06-01T11:20:47.365Z"
   },
   {
    "duration": 9,
    "start_time": "2023-06-01T11:20:47.382Z"
   },
   {
    "duration": 293,
    "start_time": "2023-06-01T11:20:47.392Z"
   },
   {
    "duration": 9,
    "start_time": "2023-06-01T11:21:00.423Z"
   },
   {
    "duration": 283,
    "start_time": "2023-06-01T11:21:13.866Z"
   },
   {
    "duration": 248,
    "start_time": "2023-06-01T11:21:25.458Z"
   },
   {
    "duration": 260,
    "start_time": "2023-06-01T11:21:37.357Z"
   },
   {
    "duration": 431,
    "start_time": "2023-06-01T11:30:29.120Z"
   },
   {
    "duration": 309,
    "start_time": "2023-06-01T11:32:00.551Z"
   },
   {
    "duration": 253,
    "start_time": "2023-06-01T11:32:10.376Z"
   },
   {
    "duration": 417,
    "start_time": "2023-06-01T11:33:12.382Z"
   },
   {
    "duration": 514,
    "start_time": "2023-06-01T11:34:02.657Z"
   },
   {
    "duration": 705,
    "start_time": "2023-06-01T11:35:01.424Z"
   },
   {
    "duration": 10,
    "start_time": "2023-06-01T11:38:07.473Z"
   },
   {
    "duration": 3,
    "start_time": "2023-06-01T11:38:12.815Z"
   },
   {
    "duration": 43,
    "start_time": "2023-06-01T11:38:12.821Z"
   },
   {
    "duration": 13,
    "start_time": "2023-06-01T11:38:12.866Z"
   },
   {
    "duration": 41,
    "start_time": "2023-06-01T11:38:12.881Z"
   },
   {
    "duration": 11,
    "start_time": "2023-06-01T11:38:12.924Z"
   },
   {
    "duration": 31,
    "start_time": "2023-06-01T11:38:12.937Z"
   },
   {
    "duration": 11,
    "start_time": "2023-06-01T11:38:12.970Z"
   },
   {
    "duration": 15,
    "start_time": "2023-06-01T11:38:12.983Z"
   },
   {
    "duration": 15,
    "start_time": "2023-06-01T11:38:12.999Z"
   },
   {
    "duration": 5,
    "start_time": "2023-06-01T11:38:13.016Z"
   },
   {
    "duration": 14,
    "start_time": "2023-06-01T11:38:13.022Z"
   },
   {
    "duration": 4,
    "start_time": "2023-06-01T11:38:13.038Z"
   },
   {
    "duration": 23,
    "start_time": "2023-06-01T11:38:13.044Z"
   },
   {
    "duration": 11,
    "start_time": "2023-06-01T11:38:13.069Z"
   },
   {
    "duration": 14,
    "start_time": "2023-06-01T11:38:13.082Z"
   },
   {
    "duration": 5,
    "start_time": "2023-06-01T11:38:13.098Z"
   },
   {
    "duration": 161,
    "start_time": "2023-06-01T11:38:13.105Z"
   },
   {
    "duration": 6,
    "start_time": "2023-06-01T11:38:13.268Z"
   },
   {
    "duration": 11,
    "start_time": "2023-06-01T11:38:13.276Z"
   },
   {
    "duration": 148,
    "start_time": "2023-06-01T11:38:13.290Z"
   },
   {
    "duration": 216,
    "start_time": "2023-06-01T11:38:13.442Z"
   },
   {
    "duration": 10,
    "start_time": "2023-06-01T11:38:13.659Z"
   },
   {
    "duration": 14,
    "start_time": "2023-06-01T11:38:13.671Z"
   },
   {
    "duration": 293,
    "start_time": "2023-06-01T11:38:13.687Z"
   },
   {
    "duration": 13,
    "start_time": "2023-06-01T11:38:13.982Z"
   },
   {
    "duration": 40,
    "start_time": "2023-06-01T11:38:13.996Z"
   },
   {
    "duration": 413,
    "start_time": "2023-06-01T11:38:14.038Z"
   },
   {
    "duration": 10,
    "start_time": "2023-06-01T11:38:14.454Z"
   },
   {
    "duration": 8,
    "start_time": "2023-06-01T11:38:14.465Z"
   },
   {
    "duration": 9,
    "start_time": "2023-06-01T11:38:14.475Z"
   },
   {
    "duration": 412,
    "start_time": "2023-06-01T11:38:14.485Z"
   },
   {
    "duration": 24,
    "start_time": "2023-06-01T11:38:14.899Z"
   },
   {
    "duration": 29,
    "start_time": "2023-06-01T11:38:14.925Z"
   },
   {
    "duration": 17,
    "start_time": "2023-06-01T11:38:14.955Z"
   },
   {
    "duration": 16,
    "start_time": "2023-06-01T11:38:14.973Z"
   },
   {
    "duration": 9,
    "start_time": "2023-06-01T11:38:14.991Z"
   },
   {
    "duration": 292,
    "start_time": "2023-06-01T11:38:15.002Z"
   },
   {
    "duration": 9,
    "start_time": "2023-06-01T11:38:15.296Z"
   },
   {
    "duration": 284,
    "start_time": "2023-06-01T11:38:15.306Z"
   },
   {
    "duration": 9,
    "start_time": "2023-06-01T11:38:15.591Z"
   },
   {
    "duration": 277,
    "start_time": "2023-06-01T11:38:15.601Z"
   },
   {
    "duration": 9,
    "start_time": "2023-06-01T11:38:15.879Z"
   },
   {
    "duration": 273,
    "start_time": "2023-06-01T11:38:15.889Z"
   },
   {
    "duration": 636,
    "start_time": "2023-06-01T11:38:16.166Z"
   },
   {
    "duration": 509,
    "start_time": "2023-06-01T11:38:16.804Z"
   },
   {
    "duration": 9,
    "start_time": "2023-06-01T11:38:17.315Z"
   },
   {
    "duration": 46,
    "start_time": "2023-06-01T11:38:51.373Z"
   },
   {
    "duration": 15,
    "start_time": "2023-06-01T11:39:14.387Z"
   },
   {
    "duration": 14,
    "start_time": "2023-06-01T11:39:17.209Z"
   },
   {
    "duration": 289,
    "start_time": "2023-06-01T11:39:48.753Z"
   },
   {
    "duration": 7,
    "start_time": "2023-06-01T11:41:43.148Z"
   },
   {
    "duration": 3,
    "start_time": "2023-06-01T11:54:34.216Z"
   },
   {
    "duration": 48,
    "start_time": "2023-06-01T11:54:34.221Z"
   },
   {
    "duration": 13,
    "start_time": "2023-06-01T11:54:34.272Z"
   },
   {
    "duration": 48,
    "start_time": "2023-06-01T11:54:34.287Z"
   },
   {
    "duration": 13,
    "start_time": "2023-06-01T11:54:34.337Z"
   },
   {
    "duration": 28,
    "start_time": "2023-06-01T11:54:34.352Z"
   },
   {
    "duration": 13,
    "start_time": "2023-06-01T11:54:34.382Z"
   },
   {
    "duration": 17,
    "start_time": "2023-06-01T11:54:34.397Z"
   },
   {
    "duration": 23,
    "start_time": "2023-06-01T11:54:34.416Z"
   },
   {
    "duration": 7,
    "start_time": "2023-06-01T11:54:34.443Z"
   },
   {
    "duration": 14,
    "start_time": "2023-06-01T11:54:34.453Z"
   },
   {
    "duration": 9,
    "start_time": "2023-06-01T11:54:34.469Z"
   },
   {
    "duration": 16,
    "start_time": "2023-06-01T11:54:34.480Z"
   },
   {
    "duration": 5,
    "start_time": "2023-06-01T11:54:34.499Z"
   },
   {
    "duration": 43,
    "start_time": "2023-06-01T11:54:34.507Z"
   },
   {
    "duration": 10,
    "start_time": "2023-06-01T11:54:34.553Z"
   },
   {
    "duration": 192,
    "start_time": "2023-06-01T11:54:34.565Z"
   },
   {
    "duration": 7,
    "start_time": "2023-06-01T11:54:34.760Z"
   },
   {
    "duration": 19,
    "start_time": "2023-06-01T11:54:34.769Z"
   },
   {
    "duration": 200,
    "start_time": "2023-06-01T11:54:34.790Z"
   },
   {
    "duration": 263,
    "start_time": "2023-06-01T11:54:34.992Z"
   },
   {
    "duration": 10,
    "start_time": "2023-06-01T11:54:35.257Z"
   },
   {
    "duration": 14,
    "start_time": "2023-06-01T11:54:35.269Z"
   },
   {
    "duration": 513,
    "start_time": "2023-06-01T11:54:35.285Z"
   },
   {
    "duration": 15,
    "start_time": "2023-06-01T11:54:35.804Z"
   },
   {
    "duration": 33,
    "start_time": "2023-06-01T11:54:35.821Z"
   },
   {
    "duration": 293,
    "start_time": "2023-06-01T11:54:35.857Z"
   },
   {
    "duration": 11,
    "start_time": "2023-06-01T11:54:36.152Z"
   },
   {
    "duration": 13,
    "start_time": "2023-06-01T11:54:36.165Z"
   },
   {
    "duration": 11,
    "start_time": "2023-06-01T11:54:36.180Z"
   },
   {
    "duration": 319,
    "start_time": "2023-06-01T11:54:36.193Z"
   },
   {
    "duration": 37,
    "start_time": "2023-06-01T11:54:36.514Z"
   },
   {
    "duration": 14,
    "start_time": "2023-06-01T11:54:36.553Z"
   },
   {
    "duration": 16,
    "start_time": "2023-06-01T11:54:36.569Z"
   },
   {
    "duration": 17,
    "start_time": "2023-06-01T11:54:36.587Z"
   },
   {
    "duration": 37,
    "start_time": "2023-06-01T11:54:36.605Z"
   },
   {
    "duration": 314,
    "start_time": "2023-06-01T11:54:36.644Z"
   },
   {
    "duration": 12,
    "start_time": "2023-06-01T11:54:36.960Z"
   },
   {
    "duration": 287,
    "start_time": "2023-06-01T11:54:36.973Z"
   },
   {
    "duration": 10,
    "start_time": "2023-06-01T11:54:37.261Z"
   },
   {
    "duration": 564,
    "start_time": "2023-06-01T11:54:37.273Z"
   },
   {
    "duration": 10,
    "start_time": "2023-06-01T11:54:37.839Z"
   },
   {
    "duration": 312,
    "start_time": "2023-06-01T11:54:37.851Z"
   },
   {
    "duration": 557,
    "start_time": "2023-06-01T11:54:38.165Z"
   },
   {
    "duration": 508,
    "start_time": "2023-06-01T11:54:38.724Z"
   },
   {
    "duration": 63,
    "start_time": "2023-06-01T11:54:39.234Z"
   },
   {
    "duration": 21,
    "start_time": "2023-06-01T11:54:39.299Z"
   },
   {
    "duration": 34,
    "start_time": "2023-06-01T11:54:39.321Z"
   },
   {
    "duration": 19,
    "start_time": "2023-06-01T11:54:39.357Z"
   },
   {
    "duration": 25,
    "start_time": "2023-06-01T11:54:39.378Z"
   },
   {
    "duration": 313,
    "start_time": "2023-06-01T11:54:39.405Z"
   },
   {
    "duration": 6,
    "start_time": "2023-06-01T11:54:39.720Z"
   },
   {
    "duration": 18,
    "start_time": "2023-06-01T11:54:39.727Z"
   },
   {
    "duration": 13,
    "start_time": "2023-06-01T11:54:39.750Z"
   },
   {
    "duration": 2243,
    "start_time": "2023-06-01T11:54:39.765Z"
   },
   {
    "duration": 2042,
    "start_time": "2023-06-01T11:54:50.219Z"
   },
   {
    "duration": 1164,
    "start_time": "2023-06-01T11:58:58.355Z"
   },
   {
    "duration": 52,
    "start_time": "2023-06-01T11:58:59.521Z"
   },
   {
    "duration": 13,
    "start_time": "2023-06-01T11:58:59.574Z"
   },
   {
    "duration": 36,
    "start_time": "2023-06-01T11:58:59.589Z"
   },
   {
    "duration": 12,
    "start_time": "2023-06-01T11:58:59.628Z"
   },
   {
    "duration": 29,
    "start_time": "2023-06-01T11:58:59.642Z"
   },
   {
    "duration": 11,
    "start_time": "2023-06-01T11:58:59.673Z"
   },
   {
    "duration": 11,
    "start_time": "2023-06-01T11:58:59.686Z"
   },
   {
    "duration": 12,
    "start_time": "2023-06-01T11:58:59.699Z"
   },
   {
    "duration": 6,
    "start_time": "2023-06-01T11:58:59.712Z"
   },
   {
    "duration": 30,
    "start_time": "2023-06-01T11:58:59.720Z"
   },
   {
    "duration": 5,
    "start_time": "2023-06-01T11:58:59.752Z"
   },
   {
    "duration": 14,
    "start_time": "2023-06-01T11:58:59.759Z"
   },
   {
    "duration": 5,
    "start_time": "2023-06-01T11:58:59.777Z"
   },
   {
    "duration": 15,
    "start_time": "2023-06-01T11:58:59.784Z"
   },
   {
    "duration": 6,
    "start_time": "2023-06-01T11:58:59.801Z"
   },
   {
    "duration": 184,
    "start_time": "2023-06-01T11:58:59.842Z"
   },
   {
    "duration": 6,
    "start_time": "2023-06-01T11:59:00.028Z"
   },
   {
    "duration": 12,
    "start_time": "2023-06-01T11:59:00.042Z"
   },
   {
    "duration": 161,
    "start_time": "2023-06-01T11:59:00.055Z"
   },
   {
    "duration": 225,
    "start_time": "2023-06-01T11:59:00.218Z"
   },
   {
    "duration": 8,
    "start_time": "2023-06-01T11:59:00.445Z"
   },
   {
    "duration": 32,
    "start_time": "2023-06-01T11:59:00.455Z"
   },
   {
    "duration": 281,
    "start_time": "2023-06-01T11:59:00.489Z"
   },
   {
    "duration": 10,
    "start_time": "2023-06-01T11:59:00.772Z"
   },
   {
    "duration": 23,
    "start_time": "2023-06-01T11:59:00.784Z"
   },
   {
    "duration": 306,
    "start_time": "2023-06-01T11:59:00.809Z"
   },
   {
    "duration": 12,
    "start_time": "2023-06-01T11:59:01.117Z"
   },
   {
    "duration": 27,
    "start_time": "2023-06-01T11:59:01.141Z"
   },
   {
    "duration": 27,
    "start_time": "2023-06-01T11:59:01.170Z"
   },
   {
    "duration": 411,
    "start_time": "2023-06-01T11:59:01.199Z"
   },
   {
    "duration": 40,
    "start_time": "2023-06-01T11:59:01.612Z"
   },
   {
    "duration": 13,
    "start_time": "2023-06-01T11:59:01.654Z"
   },
   {
    "duration": 36,
    "start_time": "2023-06-01T11:59:01.669Z"
   },
   {
    "duration": 29,
    "start_time": "2023-06-01T11:59:01.706Z"
   },
   {
    "duration": 23,
    "start_time": "2023-06-01T11:59:01.737Z"
   },
   {
    "duration": 308,
    "start_time": "2023-06-01T11:59:01.762Z"
   },
   {
    "duration": 10,
    "start_time": "2023-06-01T11:59:02.072Z"
   },
   {
    "duration": 305,
    "start_time": "2023-06-01T11:59:02.084Z"
   },
   {
    "duration": 10,
    "start_time": "2023-06-01T11:59:02.391Z"
   },
   {
    "duration": 284,
    "start_time": "2023-06-01T11:59:02.405Z"
   },
   {
    "duration": 12,
    "start_time": "2023-06-01T11:59:02.691Z"
   },
   {
    "duration": 297,
    "start_time": "2023-06-01T11:59:02.705Z"
   },
   {
    "duration": 661,
    "start_time": "2023-06-01T11:59:03.004Z"
   },
   {
    "duration": 478,
    "start_time": "2023-06-01T11:59:03.667Z"
   },
   {
    "duration": 44,
    "start_time": "2023-06-01T11:59:04.146Z"
   },
   {
    "duration": 19,
    "start_time": "2023-06-01T11:59:04.193Z"
   },
   {
    "duration": 38,
    "start_time": "2023-06-01T11:59:04.214Z"
   },
   {
    "duration": 23,
    "start_time": "2023-06-01T11:59:04.254Z"
   },
   {
    "duration": 10,
    "start_time": "2023-06-01T11:59:04.279Z"
   },
   {
    "duration": 299,
    "start_time": "2023-06-01T11:59:04.290Z"
   },
   {
    "duration": 8,
    "start_time": "2023-06-01T11:59:04.591Z"
   },
   {
    "duration": 6,
    "start_time": "2023-06-01T11:59:04.601Z"
   },
   {
    "duration": 13,
    "start_time": "2023-06-01T11:59:04.608Z"
   },
   {
    "duration": 1816,
    "start_time": "2023-06-01T11:59:04.642Z"
   },
   {
    "duration": 3,
    "start_time": "2023-06-01T12:10:19.110Z"
   },
   {
    "duration": 3,
    "start_time": "2023-06-01T12:10:40.821Z"
   },
   {
    "duration": 98,
    "start_time": "2023-06-01T12:11:23.154Z"
   },
   {
    "duration": 10,
    "start_time": "2023-06-01T12:12:23.655Z"
   },
   {
    "duration": 66,
    "start_time": "2023-06-01T12:12:47.815Z"
   },
   {
    "duration": 11,
    "start_time": "2023-06-01T12:13:23.645Z"
   },
   {
    "duration": 9,
    "start_time": "2023-06-01T12:14:05.045Z"
   },
   {
    "duration": 5,
    "start_time": "2023-06-01T12:14:39.543Z"
   },
   {
    "duration": 3,
    "start_time": "2023-06-01T12:14:51.652Z"
   },
   {
    "duration": 11,
    "start_time": "2023-06-01T12:15:33.496Z"
   },
   {
    "duration": 15,
    "start_time": "2023-06-01T12:15:48.591Z"
   },
   {
    "duration": 5,
    "start_time": "2023-06-01T12:16:21.453Z"
   },
   {
    "duration": 5,
    "start_time": "2023-06-01T12:17:05.261Z"
   },
   {
    "duration": 3,
    "start_time": "2023-06-01T12:23:08.867Z"
   },
   {
    "duration": 46,
    "start_time": "2023-06-01T12:23:08.872Z"
   },
   {
    "duration": 10,
    "start_time": "2023-06-01T12:23:08.920Z"
   },
   {
    "duration": 39,
    "start_time": "2023-06-01T12:23:08.932Z"
   },
   {
    "duration": 12,
    "start_time": "2023-06-01T12:23:08.974Z"
   },
   {
    "duration": 20,
    "start_time": "2023-06-01T12:23:08.988Z"
   },
   {
    "duration": 11,
    "start_time": "2023-06-01T12:23:09.009Z"
   },
   {
    "duration": 10,
    "start_time": "2023-06-01T12:23:09.021Z"
   },
   {
    "duration": 17,
    "start_time": "2023-06-01T12:23:09.033Z"
   },
   {
    "duration": 4,
    "start_time": "2023-06-01T12:23:09.052Z"
   },
   {
    "duration": 12,
    "start_time": "2023-06-01T12:23:09.058Z"
   },
   {
    "duration": 6,
    "start_time": "2023-06-01T12:23:09.071Z"
   },
   {
    "duration": 15,
    "start_time": "2023-06-01T12:23:09.079Z"
   },
   {
    "duration": 4,
    "start_time": "2023-06-01T12:23:09.097Z"
   },
   {
    "duration": 68,
    "start_time": "2023-06-01T12:23:09.103Z"
   },
   {
    "duration": 17,
    "start_time": "2023-06-01T12:23:09.174Z"
   },
   {
    "duration": 187,
    "start_time": "2023-06-01T12:23:09.193Z"
   },
   {
    "duration": 6,
    "start_time": "2023-06-01T12:23:09.381Z"
   },
   {
    "duration": 9,
    "start_time": "2023-06-01T12:23:09.389Z"
   },
   {
    "duration": 154,
    "start_time": "2023-06-01T12:23:09.399Z"
   },
   {
    "duration": 226,
    "start_time": "2023-06-01T12:23:09.555Z"
   },
   {
    "duration": 9,
    "start_time": "2023-06-01T12:23:09.783Z"
   },
   {
    "duration": 10,
    "start_time": "2023-06-01T12:23:09.794Z"
   },
   {
    "duration": 489,
    "start_time": "2023-06-01T12:23:09.806Z"
   },
   {
    "duration": 11,
    "start_time": "2023-06-01T12:23:10.296Z"
   },
   {
    "duration": 16,
    "start_time": "2023-06-01T12:23:10.309Z"
   },
   {
    "duration": 283,
    "start_time": "2023-06-01T12:23:10.327Z"
   },
   {
    "duration": 11,
    "start_time": "2023-06-01T12:23:10.611Z"
   },
   {
    "duration": 18,
    "start_time": "2023-06-01T12:23:10.624Z"
   },
   {
    "duration": 9,
    "start_time": "2023-06-01T12:23:10.644Z"
   },
   {
    "duration": 264,
    "start_time": "2023-06-01T12:23:10.655Z"
   },
   {
    "duration": 31,
    "start_time": "2023-06-01T12:23:10.921Z"
   },
   {
    "duration": 13,
    "start_time": "2023-06-01T12:23:10.954Z"
   },
   {
    "duration": 5,
    "start_time": "2023-06-01T12:23:10.969Z"
   },
   {
    "duration": 22,
    "start_time": "2023-06-01T12:23:10.976Z"
   },
   {
    "duration": 16,
    "start_time": "2023-06-01T12:23:10.999Z"
   },
   {
    "duration": 9,
    "start_time": "2023-06-01T12:23:11.041Z"
   },
   {
    "duration": 263,
    "start_time": "2023-06-01T12:23:11.052Z"
   },
   {
    "duration": 10,
    "start_time": "2023-06-01T12:23:11.316Z"
   },
   {
    "duration": 283,
    "start_time": "2023-06-01T12:23:11.327Z"
   },
   {
    "duration": 10,
    "start_time": "2023-06-01T12:23:11.614Z"
   },
   {
    "duration": 397,
    "start_time": "2023-06-01T12:23:11.625Z"
   },
   {
    "duration": 9,
    "start_time": "2023-06-01T12:23:12.023Z"
   },
   {
    "duration": 264,
    "start_time": "2023-06-01T12:23:12.042Z"
   },
   {
    "duration": 497,
    "start_time": "2023-06-01T12:23:12.309Z"
   },
   {
    "duration": 485,
    "start_time": "2023-06-01T12:23:12.808Z"
   },
   {
    "duration": 52,
    "start_time": "2023-06-01T12:23:13.295Z"
   },
   {
    "duration": 14,
    "start_time": "2023-06-01T12:23:13.349Z"
   },
   {
    "duration": 13,
    "start_time": "2023-06-01T12:23:13.365Z"
   },
   {
    "duration": 11,
    "start_time": "2023-06-01T12:23:13.380Z"
   },
   {
    "duration": 7,
    "start_time": "2023-06-01T12:23:13.393Z"
   },
   {
    "duration": 298,
    "start_time": "2023-06-01T12:23:13.402Z"
   },
   {
    "duration": 6,
    "start_time": "2023-06-01T12:23:13.702Z"
   },
   {
    "duration": 13,
    "start_time": "2023-06-01T12:23:13.710Z"
   },
   {
    "duration": 23,
    "start_time": "2023-06-01T12:23:13.724Z"
   },
   {
    "duration": 2004,
    "start_time": "2023-06-01T12:23:13.749Z"
   },
   {
    "duration": 1174,
    "start_time": "2023-06-01T12:29:30.975Z"
   },
   {
    "duration": 39,
    "start_time": "2023-06-01T12:29:32.151Z"
   },
   {
    "duration": 13,
    "start_time": "2023-06-01T12:29:32.192Z"
   },
   {
    "duration": 78,
    "start_time": "2023-06-01T12:29:32.208Z"
   },
   {
    "duration": 12,
    "start_time": "2023-06-01T12:29:32.288Z"
   },
   {
    "duration": 34,
    "start_time": "2023-06-01T12:29:32.302Z"
   },
   {
    "duration": 10,
    "start_time": "2023-06-01T12:29:32.338Z"
   },
   {
    "duration": 34,
    "start_time": "2023-06-01T12:29:32.350Z"
   },
   {
    "duration": 37,
    "start_time": "2023-06-01T12:29:32.386Z"
   },
   {
    "duration": 16,
    "start_time": "2023-06-01T12:29:32.425Z"
   },
   {
    "duration": 22,
    "start_time": "2023-06-01T12:29:32.443Z"
   },
   {
    "duration": 7,
    "start_time": "2023-06-01T12:29:32.467Z"
   },
   {
    "duration": 20,
    "start_time": "2023-06-01T12:29:32.476Z"
   },
   {
    "duration": 21,
    "start_time": "2023-06-01T12:29:32.498Z"
   },
   {
    "duration": 14,
    "start_time": "2023-06-01T12:29:32.521Z"
   },
   {
    "duration": 10,
    "start_time": "2023-06-01T12:29:32.536Z"
   },
   {
    "duration": 175,
    "start_time": "2023-06-01T12:29:32.547Z"
   },
   {
    "duration": 6,
    "start_time": "2023-06-01T12:29:32.724Z"
   },
   {
    "duration": 16,
    "start_time": "2023-06-01T12:29:32.741Z"
   },
   {
    "duration": 158,
    "start_time": "2023-06-01T12:29:32.759Z"
   },
   {
    "duration": 221,
    "start_time": "2023-06-01T12:29:32.919Z"
   },
   {
    "duration": 8,
    "start_time": "2023-06-01T12:29:33.142Z"
   },
   {
    "duration": 14,
    "start_time": "2023-06-01T12:29:33.151Z"
   },
   {
    "duration": 285,
    "start_time": "2023-06-01T12:29:33.167Z"
   },
   {
    "duration": 9,
    "start_time": "2023-06-01T12:29:33.454Z"
   },
   {
    "duration": 20,
    "start_time": "2023-06-01T12:29:33.465Z"
   },
   {
    "duration": 308,
    "start_time": "2023-06-01T12:29:33.487Z"
   },
   {
    "duration": 10,
    "start_time": "2023-06-01T12:29:33.799Z"
   },
   {
    "duration": 12,
    "start_time": "2023-06-01T12:29:33.811Z"
   },
   {
    "duration": 22,
    "start_time": "2023-06-01T12:29:33.825Z"
   },
   {
    "duration": 381,
    "start_time": "2023-06-01T12:29:33.849Z"
   },
   {
    "duration": 27,
    "start_time": "2023-06-01T12:29:34.231Z"
   },
   {
    "duration": 15,
    "start_time": "2023-06-01T12:29:34.260Z"
   },
   {
    "duration": 5,
    "start_time": "2023-06-01T12:29:34.277Z"
   },
   {
    "duration": 20,
    "start_time": "2023-06-01T12:29:34.284Z"
   },
   {
    "duration": 48,
    "start_time": "2023-06-01T12:29:34.306Z"
   },
   {
    "duration": 8,
    "start_time": "2023-06-01T12:29:34.357Z"
   },
   {
    "duration": 285,
    "start_time": "2023-06-01T12:29:34.367Z"
   },
   {
    "duration": 9,
    "start_time": "2023-06-01T12:29:34.653Z"
   },
   {
    "duration": 294,
    "start_time": "2023-06-01T12:29:34.664Z"
   },
   {
    "duration": 9,
    "start_time": "2023-06-01T12:29:34.959Z"
   },
   {
    "duration": 291,
    "start_time": "2023-06-01T12:29:34.970Z"
   },
   {
    "duration": 10,
    "start_time": "2023-06-01T12:29:35.263Z"
   },
   {
    "duration": 302,
    "start_time": "2023-06-01T12:29:35.275Z"
   },
   {
    "duration": 651,
    "start_time": "2023-06-01T12:29:35.579Z"
   },
   {
    "duration": 516,
    "start_time": "2023-06-01T12:29:36.231Z"
   },
   {
    "duration": 44,
    "start_time": "2023-06-01T12:29:36.748Z"
   },
   {
    "duration": 16,
    "start_time": "2023-06-01T12:29:36.794Z"
   },
   {
    "duration": 37,
    "start_time": "2023-06-01T12:29:36.812Z"
   },
   {
    "duration": 15,
    "start_time": "2023-06-01T12:29:36.851Z"
   },
   {
    "duration": 9,
    "start_time": "2023-06-01T12:29:36.869Z"
   },
   {
    "duration": 314,
    "start_time": "2023-06-01T12:29:36.880Z"
   },
   {
    "duration": 7,
    "start_time": "2023-06-01T12:29:37.196Z"
   },
   {
    "duration": 18,
    "start_time": "2023-06-01T12:29:37.205Z"
   },
   {
    "duration": 22,
    "start_time": "2023-06-01T12:29:37.225Z"
   },
   {
    "duration": 2053,
    "start_time": "2023-06-01T12:29:37.248Z"
   },
   {
    "duration": 44,
    "start_time": "2023-06-01T12:51:29.079Z"
   },
   {
    "duration": 8,
    "start_time": "2023-06-01T12:52:01.274Z"
   },
   {
    "duration": 1950,
    "start_time": "2023-06-01T13:08:20.103Z"
   },
   {
    "duration": 17,
    "start_time": "2023-06-01T13:11:09.859Z"
   },
   {
    "duration": 123,
    "start_time": "2023-06-01T13:11:59.336Z"
   },
   {
    "duration": 16,
    "start_time": "2023-06-01T13:12:18.184Z"
   },
   {
    "duration": 760,
    "start_time": "2023-06-01T13:27:48.118Z"
   },
   {
    "duration": 493,
    "start_time": "2023-06-01T13:28:06.758Z"
   },
   {
    "duration": 1902,
    "start_time": "2023-06-01T13:34:45.114Z"
   },
   {
    "duration": 1020,
    "start_time": "2023-06-01T15:30:40.666Z"
   },
   {
    "duration": 38,
    "start_time": "2023-06-01T15:30:41.687Z"
   },
   {
    "duration": 9,
    "start_time": "2023-06-01T15:30:41.726Z"
   },
   {
    "duration": 33,
    "start_time": "2023-06-01T15:30:41.736Z"
   },
   {
    "duration": 9,
    "start_time": "2023-06-01T15:30:41.772Z"
   },
   {
    "duration": 21,
    "start_time": "2023-06-01T15:30:41.783Z"
   },
   {
    "duration": 8,
    "start_time": "2023-06-01T15:30:41.806Z"
   },
   {
    "duration": 9,
    "start_time": "2023-06-01T15:30:41.816Z"
   },
   {
    "duration": 11,
    "start_time": "2023-06-01T15:30:41.827Z"
   },
   {
    "duration": 11,
    "start_time": "2023-06-01T15:30:41.839Z"
   },
   {
    "duration": 25,
    "start_time": "2023-06-01T15:30:41.851Z"
   },
   {
    "duration": 8,
    "start_time": "2023-06-01T15:30:41.877Z"
   },
   {
    "duration": 9,
    "start_time": "2023-06-01T15:30:41.887Z"
   },
   {
    "duration": 4,
    "start_time": "2023-06-01T15:30:41.898Z"
   },
   {
    "duration": 16,
    "start_time": "2023-06-01T15:30:41.904Z"
   },
   {
    "duration": 5,
    "start_time": "2023-06-01T15:30:41.921Z"
   },
   {
    "duration": 170,
    "start_time": "2023-06-01T15:30:41.928Z"
   },
   {
    "duration": 5,
    "start_time": "2023-06-01T15:30:42.100Z"
   },
   {
    "duration": 15,
    "start_time": "2023-06-01T15:30:42.106Z"
   },
   {
    "duration": 125,
    "start_time": "2023-06-01T15:30:42.122Z"
   },
   {
    "duration": 188,
    "start_time": "2023-06-01T15:30:42.248Z"
   },
   {
    "duration": 6,
    "start_time": "2023-06-01T15:30:42.438Z"
   },
   {
    "duration": 19,
    "start_time": "2023-06-01T15:30:42.445Z"
   },
   {
    "duration": 233,
    "start_time": "2023-06-01T15:30:42.465Z"
   },
   {
    "duration": 8,
    "start_time": "2023-06-01T15:30:42.699Z"
   },
   {
    "duration": 21,
    "start_time": "2023-06-01T15:30:42.708Z"
   },
   {
    "duration": 223,
    "start_time": "2023-06-01T15:30:42.731Z"
   },
   {
    "duration": 11,
    "start_time": "2023-06-01T15:30:42.955Z"
   },
   {
    "duration": 17,
    "start_time": "2023-06-01T15:30:42.968Z"
   },
   {
    "duration": 30,
    "start_time": "2023-06-01T15:30:42.987Z"
   },
   {
    "duration": 275,
    "start_time": "2023-06-01T15:30:43.019Z"
   },
   {
    "duration": 20,
    "start_time": "2023-06-01T15:30:43.295Z"
   },
   {
    "duration": 11,
    "start_time": "2023-06-01T15:30:43.316Z"
   },
   {
    "duration": 20,
    "start_time": "2023-06-01T15:30:43.328Z"
   },
   {
    "duration": 34,
    "start_time": "2023-06-01T15:30:43.350Z"
   },
   {
    "duration": 18,
    "start_time": "2023-06-01T15:30:43.385Z"
   },
   {
    "duration": 8,
    "start_time": "2023-06-01T15:30:43.405Z"
   },
   {
    "duration": 230,
    "start_time": "2023-06-01T15:30:43.415Z"
   },
   {
    "duration": 8,
    "start_time": "2023-06-01T15:30:43.646Z"
   },
   {
    "duration": 246,
    "start_time": "2023-06-01T15:30:43.656Z"
   },
   {
    "duration": 8,
    "start_time": "2023-06-01T15:30:43.905Z"
   },
   {
    "duration": 225,
    "start_time": "2023-06-01T15:30:43.914Z"
   },
   {
    "duration": 7,
    "start_time": "2023-06-01T15:30:44.141Z"
   },
   {
    "duration": 235,
    "start_time": "2023-06-01T15:30:44.150Z"
   },
   {
    "duration": 467,
    "start_time": "2023-06-01T15:30:44.386Z"
   },
   {
    "duration": 394,
    "start_time": "2023-06-01T15:30:44.854Z"
   },
   {
    "duration": 42,
    "start_time": "2023-06-01T15:30:45.250Z"
   },
   {
    "duration": 12,
    "start_time": "2023-06-01T15:30:45.293Z"
   },
   {
    "duration": 15,
    "start_time": "2023-06-01T15:30:45.306Z"
   },
   {
    "duration": 15,
    "start_time": "2023-06-01T15:30:45.322Z"
   },
   {
    "duration": 8,
    "start_time": "2023-06-01T15:30:45.339Z"
   },
   {
    "duration": 275,
    "start_time": "2023-06-01T15:30:45.349Z"
   },
   {
    "duration": 6,
    "start_time": "2023-06-01T15:30:45.626Z"
   },
   {
    "duration": 18,
    "start_time": "2023-06-01T15:30:45.633Z"
   },
   {
    "duration": 22,
    "start_time": "2023-06-01T15:30:45.653Z"
   },
   {
    "duration": 1179,
    "start_time": "2023-11-01T09:45:06.311Z"
   },
   {
    "duration": 90,
    "start_time": "2023-11-01T09:45:07.492Z"
   },
   {
    "duration": 110,
    "start_time": "2023-11-01T09:45:07.583Z"
   },
   {
    "duration": 194,
    "start_time": "2023-11-01T09:45:07.695Z"
   },
   {
    "duration": 167,
    "start_time": "2023-11-01T09:45:07.891Z"
   },
   {
    "duration": 488,
    "start_time": "2023-11-01T09:45:08.059Z"
   },
   {
    "duration": 188,
    "start_time": "2023-11-01T09:45:08.548Z"
   },
   {
    "duration": 371,
    "start_time": "2023-11-01T09:45:08.738Z"
   },
   {
    "duration": 193,
    "start_time": "2023-11-01T09:45:09.111Z"
   },
   {
    "duration": 188,
    "start_time": "2023-11-01T09:45:09.306Z"
   },
   {
    "duration": 159,
    "start_time": "2023-11-01T09:45:09.495Z"
   },
   {
    "duration": 66,
    "start_time": "2023-11-01T09:45:09.656Z"
   },
   {
    "duration": 84,
    "start_time": "2023-11-01T09:45:09.725Z"
   },
   {
    "duration": 63,
    "start_time": "2023-11-01T09:45:09.811Z"
   },
   {
    "duration": 48,
    "start_time": "2023-11-01T09:45:09.876Z"
   },
   {
    "duration": 163,
    "start_time": "2023-11-01T09:45:09.926Z"
   },
   {
    "duration": 289,
    "start_time": "2023-11-01T09:45:10.090Z"
   },
   {
    "duration": 336,
    "start_time": "2023-11-01T09:45:10.381Z"
   },
   {
    "duration": 120,
    "start_time": "2023-11-01T09:45:10.718Z"
   },
   {
    "duration": 261,
    "start_time": "2023-11-01T09:45:10.840Z"
   },
   {
    "duration": 302,
    "start_time": "2023-11-01T09:45:11.103Z"
   },
   {
    "duration": 8,
    "start_time": "2023-11-01T09:45:11.406Z"
   },
   {
    "duration": 96,
    "start_time": "2023-11-01T09:45:11.424Z"
   },
   {
    "duration": 285,
    "start_time": "2023-11-01T09:45:11.522Z"
   },
   {
    "duration": 19,
    "start_time": "2023-11-01T09:45:11.809Z"
   },
   {
    "duration": 144,
    "start_time": "2023-11-01T09:45:11.830Z"
   },
   {
    "duration": 344,
    "start_time": "2023-11-01T09:45:11.975Z"
   },
   {
    "duration": 9,
    "start_time": "2023-11-01T09:45:12.324Z"
   },
   {
    "duration": 63,
    "start_time": "2023-11-01T09:45:12.335Z"
   },
   {
    "duration": 108,
    "start_time": "2023-11-01T09:45:12.399Z"
   },
   {
    "duration": 384,
    "start_time": "2023-11-01T09:45:12.509Z"
   },
   {
    "duration": 30,
    "start_time": "2023-11-01T09:45:12.895Z"
   },
   {
    "duration": 15,
    "start_time": "2023-11-01T09:45:12.926Z"
   },
   {
    "duration": 18,
    "start_time": "2023-11-01T09:45:12.942Z"
   },
   {
    "duration": 37,
    "start_time": "2023-11-01T09:45:12.962Z"
   },
   {
    "duration": 17,
    "start_time": "2023-11-01T09:45:13.001Z"
   },
   {
    "duration": 15,
    "start_time": "2023-11-01T09:45:13.023Z"
   },
   {
    "duration": 285,
    "start_time": "2023-11-01T09:45:13.039Z"
   },
   {
    "duration": 8,
    "start_time": "2023-11-01T09:45:13.325Z"
   },
   {
    "duration": 268,
    "start_time": "2023-11-01T09:45:13.337Z"
   },
   {
    "duration": 17,
    "start_time": "2023-11-01T09:45:13.607Z"
   },
   {
    "duration": 299,
    "start_time": "2023-11-01T09:45:13.625Z"
   },
   {
    "duration": 9,
    "start_time": "2023-11-01T09:45:13.925Z"
   },
   {
    "duration": 252,
    "start_time": "2023-11-01T09:45:13.935Z"
   },
   {
    "duration": 547,
    "start_time": "2023-11-01T09:45:14.189Z"
   },
   {
    "duration": 477,
    "start_time": "2023-11-01T09:45:14.738Z"
   },
   {
    "duration": 47,
    "start_time": "2023-11-01T09:45:15.216Z"
   },
   {
    "duration": 105,
    "start_time": "2023-11-01T09:45:15.264Z"
   },
   {
    "duration": 15,
    "start_time": "2023-11-01T09:45:15.371Z"
   },
   {
    "duration": 12,
    "start_time": "2023-11-01T09:45:15.388Z"
   },
   {
    "duration": 12,
    "start_time": "2023-11-01T09:45:15.401Z"
   },
   {
    "duration": 263,
    "start_time": "2023-11-01T09:45:15.414Z"
   },
   {
    "duration": 7,
    "start_time": "2023-11-01T09:45:15.678Z"
   },
   {
    "duration": 109,
    "start_time": "2023-11-01T09:45:15.686Z"
   },
   {
    "duration": 43,
    "start_time": "2023-11-01T09:45:15.797Z"
   }
  ],
  "kernelspec": {
   "display_name": "Python 3 (ipykernel)",
   "language": "python",
   "name": "python3"
  },
  "language_info": {
   "codemirror_mode": {
    "name": "ipython",
    "version": 3
   },
   "file_extension": ".py",
   "mimetype": "text/x-python",
   "name": "python",
   "nbconvert_exporter": "python",
   "pygments_lexer": "ipython3",
   "version": "3.10.9"
  },
  "toc": {
   "base_numbering": 1,
   "nav_menu": {
    "height": "322px",
    "width": "432px"
   },
   "number_sections": true,
   "sideBar": true,
   "skip_h1_title": true,
   "title_cell": "Table of Contents",
   "title_sidebar": "Contents",
   "toc_cell": false,
   "toc_position": {},
   "toc_section_display": true,
   "toc_window_display": false
  }
 },
 "nbformat": 4,
 "nbformat_minor": 5
}
