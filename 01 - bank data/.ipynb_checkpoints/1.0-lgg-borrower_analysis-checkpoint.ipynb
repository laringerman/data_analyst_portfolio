{
 "cells": [
  {
   "cell_type": "markdown",
   "id": "386f2ae7",
   "metadata": {
    "deletable": false,
    "editable": false,
    "id": "386f2ae7"
   },
   "source": [
    "# Исследование надежности заемщиков\n"
   ]
  },
  {
   "cell_type": "markdown",
   "id": "ffe86f65",
   "metadata": {
    "deletable": false,
    "editable": false,
    "id": "ffe86f65"
   },
   "source": [
    "Во второй части проекта вы выполните шаги 3 и 4. Их вручную проверит ревьюер.\n",
    "Чтобы вам не пришлось писать код заново для шагов 1 и 2, мы добавили авторские решения в ячейки с кодом. \n",
    "\n"
   ]
  },
  {
   "cell_type": "markdown",
   "id": "26613308",
   "metadata": {
    "deletable": false,
    "editable": false,
    "id": "26613308"
   },
   "source": [
    "## Откройте таблицу и изучите общую информацию о данных"
   ]
  },
  {
   "cell_type": "markdown",
   "id": "3c9f838e",
   "metadata": {
    "deletable": false,
    "editable": false,
    "id": "3c9f838e"
   },
   "source": [
    "**Задание 1. Импортируйте библиотеку pandas. Считайте данные из csv-файла в датафрейм и сохраните в переменную `data`. Путь к файлу:**\n",
    "\n",
    "`/datasets/data.csv`"
   ]
  },
  {
   "cell_type": "code",
   "execution_count": 1,
   "id": "77a68a90",
   "metadata": {
    "deletable": false,
    "id": "77a68a90"
   },
   "outputs": [],
   "source": [
    "import pandas as pd\n",
    "\n",
    "try:\n",
    "    data = pd.read_csv('/datasets/data.csv')\n",
    "except:\n",
    "    data = pd.read_csv('https://code.s3.yandex.net/datasets/data.csv')"
   ]
  },
  {
   "cell_type": "markdown",
   "id": "45365635",
   "metadata": {
    "deletable": false,
    "editable": false,
    "id": "45365635"
   },
   "source": [
    "**Задание 2. Выведите первые 20 строчек датафрейма `data` на экран.**"
   ]
  },
  {
   "cell_type": "code",
   "execution_count": 2,
   "id": "b0451a9a",
   "metadata": {
    "deletable": false,
    "id": "b0451a9a",
    "outputId": "1a8f3ef2-d323-4ec2-ddf7-89670b5944c4"
   },
   "outputs": [
    {
     "data": {
      "text/html": [
       "<div>\n",
       "<style scoped>\n",
       "    .dataframe tbody tr th:only-of-type {\n",
       "        vertical-align: middle;\n",
       "    }\n",
       "\n",
       "    .dataframe tbody tr th {\n",
       "        vertical-align: top;\n",
       "    }\n",
       "\n",
       "    .dataframe thead th {\n",
       "        text-align: right;\n",
       "    }\n",
       "</style>\n",
       "<table border=\"1\" class=\"dataframe\">\n",
       "  <thead>\n",
       "    <tr style=\"text-align: right;\">\n",
       "      <th></th>\n",
       "      <th>children</th>\n",
       "      <th>days_employed</th>\n",
       "      <th>dob_years</th>\n",
       "      <th>education</th>\n",
       "      <th>education_id</th>\n",
       "      <th>family_status</th>\n",
       "      <th>family_status_id</th>\n",
       "      <th>gender</th>\n",
       "      <th>income_type</th>\n",
       "      <th>debt</th>\n",
       "      <th>total_income</th>\n",
       "      <th>purpose</th>\n",
       "    </tr>\n",
       "  </thead>\n",
       "  <tbody>\n",
       "    <tr>\n",
       "      <th>0</th>\n",
       "      <td>1</td>\n",
       "      <td>-8437.673028</td>\n",
       "      <td>42</td>\n",
       "      <td>высшее</td>\n",
       "      <td>0</td>\n",
       "      <td>женат / замужем</td>\n",
       "      <td>0</td>\n",
       "      <td>F</td>\n",
       "      <td>сотрудник</td>\n",
       "      <td>0</td>\n",
       "      <td>253875.639453</td>\n",
       "      <td>покупка жилья</td>\n",
       "    </tr>\n",
       "    <tr>\n",
       "      <th>1</th>\n",
       "      <td>1</td>\n",
       "      <td>-4024.803754</td>\n",
       "      <td>36</td>\n",
       "      <td>среднее</td>\n",
       "      <td>1</td>\n",
       "      <td>женат / замужем</td>\n",
       "      <td>0</td>\n",
       "      <td>F</td>\n",
       "      <td>сотрудник</td>\n",
       "      <td>0</td>\n",
       "      <td>112080.014102</td>\n",
       "      <td>приобретение автомобиля</td>\n",
       "    </tr>\n",
       "    <tr>\n",
       "      <th>2</th>\n",
       "      <td>0</td>\n",
       "      <td>-5623.422610</td>\n",
       "      <td>33</td>\n",
       "      <td>Среднее</td>\n",
       "      <td>1</td>\n",
       "      <td>женат / замужем</td>\n",
       "      <td>0</td>\n",
       "      <td>M</td>\n",
       "      <td>сотрудник</td>\n",
       "      <td>0</td>\n",
       "      <td>145885.952297</td>\n",
       "      <td>покупка жилья</td>\n",
       "    </tr>\n",
       "    <tr>\n",
       "      <th>3</th>\n",
       "      <td>3</td>\n",
       "      <td>-4124.747207</td>\n",
       "      <td>32</td>\n",
       "      <td>среднее</td>\n",
       "      <td>1</td>\n",
       "      <td>женат / замужем</td>\n",
       "      <td>0</td>\n",
       "      <td>M</td>\n",
       "      <td>сотрудник</td>\n",
       "      <td>0</td>\n",
       "      <td>267628.550329</td>\n",
       "      <td>дополнительное образование</td>\n",
       "    </tr>\n",
       "    <tr>\n",
       "      <th>4</th>\n",
       "      <td>0</td>\n",
       "      <td>340266.072047</td>\n",
       "      <td>53</td>\n",
       "      <td>среднее</td>\n",
       "      <td>1</td>\n",
       "      <td>гражданский брак</td>\n",
       "      <td>1</td>\n",
       "      <td>F</td>\n",
       "      <td>пенсионер</td>\n",
       "      <td>0</td>\n",
       "      <td>158616.077870</td>\n",
       "      <td>сыграть свадьбу</td>\n",
       "    </tr>\n",
       "    <tr>\n",
       "      <th>5</th>\n",
       "      <td>0</td>\n",
       "      <td>-926.185831</td>\n",
       "      <td>27</td>\n",
       "      <td>высшее</td>\n",
       "      <td>0</td>\n",
       "      <td>гражданский брак</td>\n",
       "      <td>1</td>\n",
       "      <td>M</td>\n",
       "      <td>компаньон</td>\n",
       "      <td>0</td>\n",
       "      <td>255763.565419</td>\n",
       "      <td>покупка жилья</td>\n",
       "    </tr>\n",
       "    <tr>\n",
       "      <th>6</th>\n",
       "      <td>0</td>\n",
       "      <td>-2879.202052</td>\n",
       "      <td>43</td>\n",
       "      <td>высшее</td>\n",
       "      <td>0</td>\n",
       "      <td>женат / замужем</td>\n",
       "      <td>0</td>\n",
       "      <td>F</td>\n",
       "      <td>компаньон</td>\n",
       "      <td>0</td>\n",
       "      <td>240525.971920</td>\n",
       "      <td>операции с жильем</td>\n",
       "    </tr>\n",
       "    <tr>\n",
       "      <th>7</th>\n",
       "      <td>0</td>\n",
       "      <td>-152.779569</td>\n",
       "      <td>50</td>\n",
       "      <td>СРЕДНЕЕ</td>\n",
       "      <td>1</td>\n",
       "      <td>женат / замужем</td>\n",
       "      <td>0</td>\n",
       "      <td>M</td>\n",
       "      <td>сотрудник</td>\n",
       "      <td>0</td>\n",
       "      <td>135823.934197</td>\n",
       "      <td>образование</td>\n",
       "    </tr>\n",
       "    <tr>\n",
       "      <th>8</th>\n",
       "      <td>2</td>\n",
       "      <td>-6929.865299</td>\n",
       "      <td>35</td>\n",
       "      <td>ВЫСШЕЕ</td>\n",
       "      <td>0</td>\n",
       "      <td>гражданский брак</td>\n",
       "      <td>1</td>\n",
       "      <td>F</td>\n",
       "      <td>сотрудник</td>\n",
       "      <td>0</td>\n",
       "      <td>95856.832424</td>\n",
       "      <td>на проведение свадьбы</td>\n",
       "    </tr>\n",
       "    <tr>\n",
       "      <th>9</th>\n",
       "      <td>0</td>\n",
       "      <td>-2188.756445</td>\n",
       "      <td>41</td>\n",
       "      <td>среднее</td>\n",
       "      <td>1</td>\n",
       "      <td>женат / замужем</td>\n",
       "      <td>0</td>\n",
       "      <td>M</td>\n",
       "      <td>сотрудник</td>\n",
       "      <td>0</td>\n",
       "      <td>144425.938277</td>\n",
       "      <td>покупка жилья для семьи</td>\n",
       "    </tr>\n",
       "    <tr>\n",
       "      <th>10</th>\n",
       "      <td>2</td>\n",
       "      <td>-4171.483647</td>\n",
       "      <td>36</td>\n",
       "      <td>высшее</td>\n",
       "      <td>0</td>\n",
       "      <td>женат / замужем</td>\n",
       "      <td>0</td>\n",
       "      <td>M</td>\n",
       "      <td>компаньон</td>\n",
       "      <td>0</td>\n",
       "      <td>113943.491460</td>\n",
       "      <td>покупка недвижимости</td>\n",
       "    </tr>\n",
       "    <tr>\n",
       "      <th>11</th>\n",
       "      <td>0</td>\n",
       "      <td>-792.701887</td>\n",
       "      <td>40</td>\n",
       "      <td>среднее</td>\n",
       "      <td>1</td>\n",
       "      <td>женат / замужем</td>\n",
       "      <td>0</td>\n",
       "      <td>F</td>\n",
       "      <td>сотрудник</td>\n",
       "      <td>0</td>\n",
       "      <td>77069.234271</td>\n",
       "      <td>покупка коммерческой недвижимости</td>\n",
       "    </tr>\n",
       "    <tr>\n",
       "      <th>12</th>\n",
       "      <td>0</td>\n",
       "      <td>NaN</td>\n",
       "      <td>65</td>\n",
       "      <td>среднее</td>\n",
       "      <td>1</td>\n",
       "      <td>гражданский брак</td>\n",
       "      <td>1</td>\n",
       "      <td>M</td>\n",
       "      <td>пенсионер</td>\n",
       "      <td>0</td>\n",
       "      <td>NaN</td>\n",
       "      <td>сыграть свадьбу</td>\n",
       "    </tr>\n",
       "    <tr>\n",
       "      <th>13</th>\n",
       "      <td>0</td>\n",
       "      <td>-1846.641941</td>\n",
       "      <td>54</td>\n",
       "      <td>неоконченное высшее</td>\n",
       "      <td>2</td>\n",
       "      <td>женат / замужем</td>\n",
       "      <td>0</td>\n",
       "      <td>F</td>\n",
       "      <td>сотрудник</td>\n",
       "      <td>0</td>\n",
       "      <td>130458.228857</td>\n",
       "      <td>приобретение автомобиля</td>\n",
       "    </tr>\n",
       "    <tr>\n",
       "      <th>14</th>\n",
       "      <td>0</td>\n",
       "      <td>-1844.956182</td>\n",
       "      <td>56</td>\n",
       "      <td>высшее</td>\n",
       "      <td>0</td>\n",
       "      <td>гражданский брак</td>\n",
       "      <td>1</td>\n",
       "      <td>F</td>\n",
       "      <td>компаньон</td>\n",
       "      <td>1</td>\n",
       "      <td>165127.911772</td>\n",
       "      <td>покупка жилой недвижимости</td>\n",
       "    </tr>\n",
       "    <tr>\n",
       "      <th>15</th>\n",
       "      <td>1</td>\n",
       "      <td>-972.364419</td>\n",
       "      <td>26</td>\n",
       "      <td>среднее</td>\n",
       "      <td>1</td>\n",
       "      <td>женат / замужем</td>\n",
       "      <td>0</td>\n",
       "      <td>F</td>\n",
       "      <td>сотрудник</td>\n",
       "      <td>0</td>\n",
       "      <td>116820.904450</td>\n",
       "      <td>строительство собственной недвижимости</td>\n",
       "    </tr>\n",
       "    <tr>\n",
       "      <th>16</th>\n",
       "      <td>0</td>\n",
       "      <td>-1719.934226</td>\n",
       "      <td>35</td>\n",
       "      <td>среднее</td>\n",
       "      <td>1</td>\n",
       "      <td>женат / замужем</td>\n",
       "      <td>0</td>\n",
       "      <td>F</td>\n",
       "      <td>сотрудник</td>\n",
       "      <td>0</td>\n",
       "      <td>289202.704229</td>\n",
       "      <td>недвижимость</td>\n",
       "    </tr>\n",
       "    <tr>\n",
       "      <th>17</th>\n",
       "      <td>0</td>\n",
       "      <td>-2369.999720</td>\n",
       "      <td>33</td>\n",
       "      <td>высшее</td>\n",
       "      <td>0</td>\n",
       "      <td>гражданский брак</td>\n",
       "      <td>1</td>\n",
       "      <td>M</td>\n",
       "      <td>сотрудник</td>\n",
       "      <td>0</td>\n",
       "      <td>90410.586745</td>\n",
       "      <td>строительство недвижимости</td>\n",
       "    </tr>\n",
       "    <tr>\n",
       "      <th>18</th>\n",
       "      <td>0</td>\n",
       "      <td>400281.136913</td>\n",
       "      <td>53</td>\n",
       "      <td>среднее</td>\n",
       "      <td>1</td>\n",
       "      <td>вдовец / вдова</td>\n",
       "      <td>2</td>\n",
       "      <td>F</td>\n",
       "      <td>пенсионер</td>\n",
       "      <td>0</td>\n",
       "      <td>56823.777243</td>\n",
       "      <td>на покупку подержанного автомобиля</td>\n",
       "    </tr>\n",
       "    <tr>\n",
       "      <th>19</th>\n",
       "      <td>0</td>\n",
       "      <td>-10038.818549</td>\n",
       "      <td>48</td>\n",
       "      <td>СРЕДНЕЕ</td>\n",
       "      <td>1</td>\n",
       "      <td>в разводе</td>\n",
       "      <td>3</td>\n",
       "      <td>F</td>\n",
       "      <td>сотрудник</td>\n",
       "      <td>0</td>\n",
       "      <td>242831.107982</td>\n",
       "      <td>на покупку своего автомобиля</td>\n",
       "    </tr>\n",
       "  </tbody>\n",
       "</table>\n",
       "</div>"
      ],
      "text/plain": [
       "    children  days_employed  dob_years            education  education_id  \\\n",
       "0          1   -8437.673028         42               высшее             0   \n",
       "1          1   -4024.803754         36              среднее             1   \n",
       "2          0   -5623.422610         33              Среднее             1   \n",
       "3          3   -4124.747207         32              среднее             1   \n",
       "4          0  340266.072047         53              среднее             1   \n",
       "5          0    -926.185831         27               высшее             0   \n",
       "6          0   -2879.202052         43               высшее             0   \n",
       "7          0    -152.779569         50              СРЕДНЕЕ             1   \n",
       "8          2   -6929.865299         35               ВЫСШЕЕ             0   \n",
       "9          0   -2188.756445         41              среднее             1   \n",
       "10         2   -4171.483647         36               высшее             0   \n",
       "11         0    -792.701887         40              среднее             1   \n",
       "12         0            NaN         65              среднее             1   \n",
       "13         0   -1846.641941         54  неоконченное высшее             2   \n",
       "14         0   -1844.956182         56               высшее             0   \n",
       "15         1    -972.364419         26              среднее             1   \n",
       "16         0   -1719.934226         35              среднее             1   \n",
       "17         0   -2369.999720         33               высшее             0   \n",
       "18         0  400281.136913         53              среднее             1   \n",
       "19         0  -10038.818549         48              СРЕДНЕЕ             1   \n",
       "\n",
       "       family_status  family_status_id gender income_type  debt  \\\n",
       "0    женат / замужем                 0      F   сотрудник     0   \n",
       "1    женат / замужем                 0      F   сотрудник     0   \n",
       "2    женат / замужем                 0      M   сотрудник     0   \n",
       "3    женат / замужем                 0      M   сотрудник     0   \n",
       "4   гражданский брак                 1      F   пенсионер     0   \n",
       "5   гражданский брак                 1      M   компаньон     0   \n",
       "6    женат / замужем                 0      F   компаньон     0   \n",
       "7    женат / замужем                 0      M   сотрудник     0   \n",
       "8   гражданский брак                 1      F   сотрудник     0   \n",
       "9    женат / замужем                 0      M   сотрудник     0   \n",
       "10   женат / замужем                 0      M   компаньон     0   \n",
       "11   женат / замужем                 0      F   сотрудник     0   \n",
       "12  гражданский брак                 1      M   пенсионер     0   \n",
       "13   женат / замужем                 0      F   сотрудник     0   \n",
       "14  гражданский брак                 1      F   компаньон     1   \n",
       "15   женат / замужем                 0      F   сотрудник     0   \n",
       "16   женат / замужем                 0      F   сотрудник     0   \n",
       "17  гражданский брак                 1      M   сотрудник     0   \n",
       "18    вдовец / вдова                 2      F   пенсионер     0   \n",
       "19         в разводе                 3      F   сотрудник     0   \n",
       "\n",
       "     total_income                                 purpose  \n",
       "0   253875.639453                           покупка жилья  \n",
       "1   112080.014102                 приобретение автомобиля  \n",
       "2   145885.952297                           покупка жилья  \n",
       "3   267628.550329              дополнительное образование  \n",
       "4   158616.077870                         сыграть свадьбу  \n",
       "5   255763.565419                           покупка жилья  \n",
       "6   240525.971920                       операции с жильем  \n",
       "7   135823.934197                             образование  \n",
       "8    95856.832424                   на проведение свадьбы  \n",
       "9   144425.938277                 покупка жилья для семьи  \n",
       "10  113943.491460                    покупка недвижимости  \n",
       "11   77069.234271       покупка коммерческой недвижимости  \n",
       "12            NaN                         сыграть свадьбу  \n",
       "13  130458.228857                 приобретение автомобиля  \n",
       "14  165127.911772              покупка жилой недвижимости  \n",
       "15  116820.904450  строительство собственной недвижимости  \n",
       "16  289202.704229                            недвижимость  \n",
       "17   90410.586745              строительство недвижимости  \n",
       "18   56823.777243      на покупку подержанного автомобиля  \n",
       "19  242831.107982            на покупку своего автомобиля  "
      ]
     },
     "execution_count": 2,
     "metadata": {},
     "output_type": "execute_result"
    }
   ],
   "source": [
    "data.head(20)"
   ]
  },
  {
   "cell_type": "markdown",
   "id": "0ed8f27f",
   "metadata": {
    "deletable": false,
    "editable": false,
    "id": "0ed8f27f"
   },
   "source": [
    "**Задание 3. Выведите основную информацию о датафрейме с помощью метода `info()`.**"
   ]
  },
  {
   "cell_type": "code",
   "execution_count": 3,
   "id": "ab3f863b",
   "metadata": {
    "deletable": false,
    "id": "ab3f863b",
    "outputId": "15376089-8dad-46c9-b520-c05248d43158"
   },
   "outputs": [
    {
     "name": "stdout",
     "output_type": "stream",
     "text": [
      "<class 'pandas.core.frame.DataFrame'>\n",
      "RangeIndex: 21525 entries, 0 to 21524\n",
      "Data columns (total 12 columns):\n",
      " #   Column            Non-Null Count  Dtype  \n",
      "---  ------            --------------  -----  \n",
      " 0   children          21525 non-null  int64  \n",
      " 1   days_employed     19351 non-null  float64\n",
      " 2   dob_years         21525 non-null  int64  \n",
      " 3   education         21525 non-null  object \n",
      " 4   education_id      21525 non-null  int64  \n",
      " 5   family_status     21525 non-null  object \n",
      " 6   family_status_id  21525 non-null  int64  \n",
      " 7   gender            21525 non-null  object \n",
      " 8   income_type       21525 non-null  object \n",
      " 9   debt              21525 non-null  int64  \n",
      " 10  total_income      19351 non-null  float64\n",
      " 11  purpose           21525 non-null  object \n",
      "dtypes: float64(2), int64(5), object(5)\n",
      "memory usage: 2.0+ MB\n"
     ]
    }
   ],
   "source": [
    "data.info()"
   ]
  },
  {
   "cell_type": "markdown",
   "id": "60e3e22d",
   "metadata": {
    "deletable": false,
    "editable": false,
    "id": "60e3e22d"
   },
   "source": [
    "## Предобработка данных"
   ]
  },
  {
   "cell_type": "markdown",
   "id": "03dc170c",
   "metadata": {
    "deletable": false,
    "editable": false,
    "id": "03dc170c"
   },
   "source": [
    "### Удаление пропусков"
   ]
  },
  {
   "cell_type": "markdown",
   "id": "a4f54eef",
   "metadata": {
    "deletable": false,
    "editable": false,
    "id": "a4f54eef"
   },
   "source": [
    "**Задание 4. Выведите количество пропущенных значений для каждого столбца. Используйте комбинацию двух методов.**"
   ]
  },
  {
   "cell_type": "code",
   "execution_count": 4,
   "id": "2dc372b2",
   "metadata": {
    "deletable": false,
    "id": "2dc372b2",
    "outputId": "81f4d817-781c-465c-ed15-91ce4446810d"
   },
   "outputs": [
    {
     "data": {
      "text/plain": [
       "children               0\n",
       "days_employed       2174\n",
       "dob_years              0\n",
       "education              0\n",
       "education_id           0\n",
       "family_status          0\n",
       "family_status_id       0\n",
       "gender                 0\n",
       "income_type            0\n",
       "debt                   0\n",
       "total_income        2174\n",
       "purpose                0\n",
       "dtype: int64"
      ]
     },
     "execution_count": 4,
     "metadata": {},
     "output_type": "execute_result"
    }
   ],
   "source": [
    "data.isna().sum()"
   ]
  },
  {
   "cell_type": "markdown",
   "id": "14f011b1",
   "metadata": {
    "deletable": false,
    "editable": false,
    "id": "14f011b1"
   },
   "source": [
    "**Задание 5. В двух столбцах есть пропущенные значения. Один из них — `days_employed`. Пропуски в этом столбце вы обработаете на следующем этапе. Другой столбец с пропущенными значениями — `total_income` — хранит данные о доходах. На сумму дохода сильнее всего влияет тип занятости, поэтому заполнить пропуски в этом столбце нужно медианным значением по каждому типу из столбца `income_type`. Например, у человека с типом занятости `сотрудник` пропуск в столбце `total_income` должен быть заполнен медианным доходом среди всех записей с тем же типом.**"
   ]
  },
  {
   "cell_type": "code",
   "execution_count": 5,
   "id": "bdabfb6e",
   "metadata": {
    "deletable": false,
    "id": "bdabfb6e"
   },
   "outputs": [],
   "source": [
    "for t in data['income_type'].unique():\n",
    "    data.loc[(data['income_type'] == t) & (data['total_income'].isna()), 'total_income'] = \\\n",
    "    data.loc[(data['income_type'] == t), 'total_income'].median()"
   ]
  },
  {
   "cell_type": "markdown",
   "id": "5be34059",
   "metadata": {
    "deletable": false,
    "editable": false,
    "id": "5be34059"
   },
   "source": [
    "### Обработка аномальных значений"
   ]
  },
  {
   "cell_type": "markdown",
   "id": "a87606cb",
   "metadata": {
    "deletable": false,
    "editable": false,
    "id": "a87606cb"
   },
   "source": [
    "**Задание 6. В данных могут встречаться артефакты (аномалии) — значения, которые не отражают действительность и появились по какой-то ошибке. таким артефактом будет отрицательное количество дней трудового стажа в столбце `days_employed`. Для реальных данных это нормально. Обработайте значения в этом столбце: замените все отрицательные значения положительными с помощью метода `abs()`.**"
   ]
  },
  {
   "cell_type": "code",
   "execution_count": 6,
   "id": "020c46cc",
   "metadata": {
    "deletable": false,
    "id": "020c46cc"
   },
   "outputs": [],
   "source": [
    "data['days_employed'] = data['days_employed'].abs()"
   ]
  },
  {
   "cell_type": "markdown",
   "id": "45538a3a",
   "metadata": {
    "deletable": false,
    "editable": false,
    "id": "45538a3a"
   },
   "source": [
    "**Задание 7. Для каждого типа занятости выведите медианное значение трудового стажа `days_employed` в днях.**"
   ]
  },
  {
   "cell_type": "code",
   "execution_count": 7,
   "id": "cd3e6328",
   "metadata": {
    "deletable": false,
    "id": "cd3e6328",
    "outputId": "801ef80e-522b-4668-f34e-565af7432bcf"
   },
   "outputs": [
    {
     "data": {
      "text/plain": [
       "income_type\n",
       "безработный        366413.652744\n",
       "в декрете            3296.759962\n",
       "госслужащий          2689.368353\n",
       "компаньон            1547.382223\n",
       "пенсионер          365213.306266\n",
       "предприниматель       520.848083\n",
       "сотрудник            1574.202821\n",
       "студент               578.751554\n",
       "Name: days_employed, dtype: float64"
      ]
     },
     "execution_count": 7,
     "metadata": {},
     "output_type": "execute_result"
    }
   ],
   "source": [
    "data.groupby('income_type')['days_employed'].agg('median')"
   ]
  },
  {
   "cell_type": "markdown",
   "id": "90c5f058",
   "metadata": {
    "deletable": false,
    "editable": false,
    "id": "90c5f058"
   },
   "source": [
    "У двух типов (безработные и пенсионеры) получатся аномально большие значения. Исправить такие значения сложно, поэтому оставьте их как есть."
   ]
  },
  {
   "cell_type": "markdown",
   "id": "9652e50d",
   "metadata": {
    "deletable": false,
    "editable": false,
    "id": "9652e50d"
   },
   "source": [
    "**Задание 8. Выведите перечень уникальных значений столбца `children`.**"
   ]
  },
  {
   "cell_type": "code",
   "execution_count": 8,
   "id": "dbb37b8e",
   "metadata": {
    "deletable": false,
    "id": "dbb37b8e",
    "outputId": "6975b15c-7f95-4697-d16d-a0c79b657b03"
   },
   "outputs": [
    {
     "data": {
      "text/plain": [
       "array([ 1,  0,  3,  2, -1,  4, 20,  5])"
      ]
     },
     "execution_count": 8,
     "metadata": {},
     "output_type": "execute_result"
    }
   ],
   "source": [
    "data['children'].unique()"
   ]
  },
  {
   "cell_type": "markdown",
   "id": "2b8b0715",
   "metadata": {
    "deletable": false,
    "editable": false,
    "id": "2b8b0715"
   },
   "source": [
    "**Задание 9. В столбце `children` есть два аномальных значения. Удалите строки, в которых встречаются такие аномальные значения из датафрейма `data`.**"
   ]
  },
  {
   "cell_type": "code",
   "execution_count": 9,
   "id": "20009df8",
   "metadata": {
    "deletable": false,
    "id": "20009df8"
   },
   "outputs": [],
   "source": [
    "data = data[(data['children'] != -1) & (data['children'] != 20)]"
   ]
  },
  {
   "cell_type": "markdown",
   "id": "8c6ac9f1",
   "metadata": {
    "deletable": false,
    "editable": false,
    "id": "8c6ac9f1"
   },
   "source": [
    "**Задание 10. Ещё раз выведите перечень уникальных значений столбца `children`, чтобы убедиться, что артефакты удалены.**"
   ]
  },
  {
   "cell_type": "code",
   "execution_count": 10,
   "id": "07337b81",
   "metadata": {
    "deletable": false,
    "id": "07337b81",
    "outputId": "b2097101-d49d-44d9-901b-32a65c9463d1"
   },
   "outputs": [
    {
     "data": {
      "text/plain": [
       "array([1, 0, 3, 2, 4, 5])"
      ]
     },
     "execution_count": 10,
     "metadata": {},
     "output_type": "execute_result"
    }
   ],
   "source": [
    "data['children'].unique()"
   ]
  },
  {
   "cell_type": "markdown",
   "id": "ee3f52d4",
   "metadata": {
    "deletable": false,
    "editable": false,
    "id": "ee3f52d4"
   },
   "source": [
    "### Удаление пропусков (продолжение)"
   ]
  },
  {
   "cell_type": "markdown",
   "id": "a700b0e4",
   "metadata": {
    "deletable": false,
    "editable": false,
    "id": "a700b0e4"
   },
   "source": [
    "**Задание 11. Заполните пропуски в столбце `days_employed` медианными значениями по каждого типа занятости `income_type`.**"
   ]
  },
  {
   "cell_type": "code",
   "execution_count": 11,
   "id": "61946b83",
   "metadata": {
    "deletable": false,
    "id": "61946b83"
   },
   "outputs": [],
   "source": [
    "for t in data['income_type'].unique():\n",
    "    data.loc[(data['income_type'] == t) & (data['days_employed'].isna()), 'days_employed'] = \\\n",
    "    data.loc[(data['income_type'] == t), 'days_employed'].median()"
   ]
  },
  {
   "cell_type": "markdown",
   "id": "550dcd9b",
   "metadata": {
    "deletable": false,
    "editable": false,
    "id": "550dcd9b"
   },
   "source": [
    "**Задание 12. Убедитесь, что все пропуски заполнены. Проверьте себя и ещё раз выведите количество пропущенных значений для каждого столбца с помощью двух методов.**"
   ]
  },
  {
   "cell_type": "code",
   "execution_count": 12,
   "id": "937c7014",
   "metadata": {
    "deletable": false,
    "id": "937c7014",
    "outputId": "8da1e4e1-358e-4e87-98c9-f261bce0a7b2"
   },
   "outputs": [
    {
     "data": {
      "text/plain": [
       "children            0\n",
       "days_employed       0\n",
       "dob_years           0\n",
       "education           0\n",
       "education_id        0\n",
       "family_status       0\n",
       "family_status_id    0\n",
       "gender              0\n",
       "income_type         0\n",
       "debt                0\n",
       "total_income        0\n",
       "purpose             0\n",
       "dtype: int64"
      ]
     },
     "execution_count": 12,
     "metadata": {},
     "output_type": "execute_result"
    }
   ],
   "source": [
    "data.isna().sum()"
   ]
  },
  {
   "cell_type": "markdown",
   "id": "d522e295",
   "metadata": {
    "deletable": false,
    "editable": false,
    "id": "d522e295"
   },
   "source": [
    "### Изменение типов данных"
   ]
  },
  {
   "cell_type": "markdown",
   "id": "c229c581",
   "metadata": {
    "deletable": false,
    "editable": false,
    "id": "c229c581"
   },
   "source": [
    "**Задание 13. Замените вещественный тип данных в столбце `total_income` на целочисленный с помощью метода `astype()`.**"
   ]
  },
  {
   "cell_type": "code",
   "execution_count": 13,
   "id": "31036462",
   "metadata": {
    "deletable": false,
    "id": "31036462"
   },
   "outputs": [],
   "source": [
    "data['total_income'] = data['total_income'].astype(int)"
   ]
  },
  {
   "cell_type": "markdown",
   "id": "b8e3d1d9",
   "metadata": {
    "deletable": false,
    "editable": false,
    "id": "b8e3d1d9"
   },
   "source": [
    "### Обработка дубликатов"
   ]
  },
  {
   "cell_type": "markdown",
   "id": "9be53c49",
   "metadata": {
    "deletable": false,
    "editable": false,
    "id": "9be53c49"
   },
   "source": [
    "**Задание 14. Обработайте неявные дубликаты в столбце `education`. В этом столбце есть одни и те же значения, но записанные по-разному: с использованием заглавных и строчных букв. Приведите их к нижнему регистру.**"
   ]
  },
  {
   "cell_type": "code",
   "execution_count": 14,
   "id": "d89e73e1",
   "metadata": {
    "deletable": false,
    "id": "d89e73e1"
   },
   "outputs": [],
   "source": [
    "data['education'] = data['education'].str.lower()"
   ]
  },
  {
   "cell_type": "markdown",
   "id": "01d4500e",
   "metadata": {
    "deletable": false,
    "editable": false,
    "id": "01d4500e"
   },
   "source": [
    "**Задание 15. Выведите на экран количество строк-дубликатов в данных. Если такие строки присутствуют, удалите их.**"
   ]
  },
  {
   "cell_type": "code",
   "execution_count": 15,
   "id": "e10efb23",
   "metadata": {
    "deletable": false,
    "id": "e10efb23",
    "outputId": "9684deba-1934-42d1-99e1-cda61740f822"
   },
   "outputs": [
    {
     "data": {
      "text/plain": [
       "71"
      ]
     },
     "execution_count": 15,
     "metadata": {},
     "output_type": "execute_result"
    }
   ],
   "source": [
    "data.duplicated().sum()"
   ]
  },
  {
   "cell_type": "code",
   "execution_count": 16,
   "id": "df853f20",
   "metadata": {
    "deletable": false,
    "id": "df853f20"
   },
   "outputs": [],
   "source": [
    "data = data.drop_duplicates()"
   ]
  },
  {
   "cell_type": "markdown",
   "id": "627be38f",
   "metadata": {
    "deletable": false,
    "editable": false,
    "id": "627be38f"
   },
   "source": [
    "### Категоризация данных"
   ]
  },
  {
   "cell_type": "markdown",
   "id": "4684c3e0",
   "metadata": {
    "deletable": false,
    "editable": false,
    "id": "4684c3e0"
   },
   "source": [
    "**Задание 16. На основании диапазонов, указанных ниже, создайте в датафрейме `data` столбец `total_income_category` с категориями:**\n",
    "\n",
    "- 0–30000 — `'E'`;\n",
    "- 30001–50000 — `'D'`;\n",
    "- 50001–200000 — `'C'`;\n",
    "- 200001–1000000 — `'B'`;\n",
    "- 1000001 и выше — `'A'`.\n",
    "\n",
    "\n",
    "**Например, кредитополучателю с доходом 25000 нужно назначить категорию `'E'`, а клиенту, получающему 235000, — `'B'`. Используйте собственную функцию с именем `categorize_income()` и метод `apply()`.**"
   ]
  },
  {
   "cell_type": "code",
   "execution_count": 17,
   "id": "78965238",
   "metadata": {
    "deletable": false,
    "id": "78965238"
   },
   "outputs": [],
   "source": [
    "def categorize_income(income):\n",
    "    try:\n",
    "        if 0 <= income <= 30000:\n",
    "            return 'E'\n",
    "        elif 30001 <= income <= 50000:\n",
    "            return 'D'\n",
    "        elif 50001 <= income <= 200000:\n",
    "            return 'C'\n",
    "        elif 200001 <= income <= 1000000:\n",
    "            return 'B'\n",
    "        elif income >= 1000001:\n",
    "            return 'A'\n",
    "    except:\n",
    "        pass"
   ]
  },
  {
   "cell_type": "code",
   "execution_count": 18,
   "id": "0980ada1",
   "metadata": {
    "deletable": false,
    "id": "0980ada1"
   },
   "outputs": [],
   "source": [
    "data['total_income_category'] = data['total_income'].apply(categorize_income)"
   ]
  },
  {
   "cell_type": "markdown",
   "id": "9917bba0",
   "metadata": {
    "deletable": false,
    "editable": false,
    "id": "9917bba0"
   },
   "source": [
    "**Задание 17. Выведите на экран перечень уникальных целей взятия кредита из столбца `purpose`.**"
   ]
  },
  {
   "cell_type": "code",
   "execution_count": 19,
   "id": "ee07b65e",
   "metadata": {
    "deletable": false,
    "id": "ee07b65e",
    "outputId": "673c12d9-7d7e-4ae0-9812-c622c89dd244"
   },
   "outputs": [
    {
     "data": {
      "text/plain": [
       "array(['покупка жилья', 'приобретение автомобиля',\n",
       "       'дополнительное образование', 'сыграть свадьбу',\n",
       "       'операции с жильем', 'образование', 'на проведение свадьбы',\n",
       "       'покупка жилья для семьи', 'покупка недвижимости',\n",
       "       'покупка коммерческой недвижимости', 'покупка жилой недвижимости',\n",
       "       'строительство собственной недвижимости', 'недвижимость',\n",
       "       'строительство недвижимости', 'на покупку подержанного автомобиля',\n",
       "       'на покупку своего автомобиля',\n",
       "       'операции с коммерческой недвижимостью',\n",
       "       'строительство жилой недвижимости', 'жилье',\n",
       "       'операции со своей недвижимостью', 'автомобили',\n",
       "       'заняться образованием', 'сделка с подержанным автомобилем',\n",
       "       'получение образования', 'автомобиль', 'свадьба',\n",
       "       'получение дополнительного образования', 'покупка своего жилья',\n",
       "       'операции с недвижимостью', 'получение высшего образования',\n",
       "       'свой автомобиль', 'сделка с автомобилем',\n",
       "       'профильное образование', 'высшее образование',\n",
       "       'покупка жилья для сдачи', 'на покупку автомобиля', 'ремонт жилью',\n",
       "       'заняться высшим образованием'], dtype=object)"
      ]
     },
     "execution_count": 19,
     "metadata": {},
     "output_type": "execute_result"
    }
   ],
   "source": [
    "data['purpose'].unique()"
   ]
  },
  {
   "cell_type": "markdown",
   "id": "52b79d56",
   "metadata": {
    "deletable": false,
    "editable": false,
    "id": "52b79d56"
   },
   "source": [
    "**Задание 18. Создайте функцию, которая на основании данных из столбца `purpose` сформирует новый столбец `purpose_category`, в который войдут следующие категории:**\n",
    "\n",
    "- `'операции с автомобилем'`,\n",
    "- `'операции с недвижимостью'`,\n",
    "- `'проведение свадьбы'`,\n",
    "- `'получение образования'`.\n",
    "\n",
    "**Например, если в столбце `purpose` находится подстрока `'на покупку автомобиля'`, то в столбце `purpose_category` должна появиться строка `'операции с автомобилем'`.**\n",
    "\n",
    "**Используйте собственную функцию с именем `categorize_purpose()` и метод `apply()`. Изучите данные в столбце `purpose` и определите, какие подстроки помогут вам правильно определить категорию.**"
   ]
  },
  {
   "cell_type": "code",
   "execution_count": 20,
   "id": "be41da5d",
   "metadata": {
    "deletable": false,
    "id": "be41da5d"
   },
   "outputs": [],
   "source": [
    "def categorize_purpose(row):\n",
    "    try:\n",
    "        if 'автом' in row:\n",
    "            return 'операции с автомобилем'\n",
    "        elif 'жил' in row or 'недвиж' in row:\n",
    "            return 'операции с недвижимостью'\n",
    "        elif 'свад' in row:\n",
    "            return 'проведение свадьбы'\n",
    "        elif 'образов' in row:\n",
    "            return 'получение образования'\n",
    "    except:\n",
    "        return 'нет категории'"
   ]
  },
  {
   "cell_type": "code",
   "execution_count": 21,
   "id": "94c4a19a",
   "metadata": {
    "deletable": false,
    "id": "94c4a19a"
   },
   "outputs": [],
   "source": [
    "data['purpose_category'] = data['purpose'].apply(categorize_purpose)"
   ]
  },
  {
   "cell_type": "markdown",
   "id": "3d596c34",
   "metadata": {
    "deletable": false,
    "editable": false,
    "id": "3d596c34"
   },
   "source": [
    "### Шаг 3. Исследуйте данные и ответьте на вопросы"
   ]
  },
  {
   "cell_type": "markdown",
   "id": "648db036",
   "metadata": {
    "deletable": false,
    "editable": false,
    "id": "648db036"
   },
   "source": [
    "#### 3.1 Есть ли зависимость между количеством детей и возвратом кредита в срок?"
   ]
  },
  {
   "cell_type": "markdown",
   "id": "004ece69",
   "metadata": {
    "deletable": false,
    "id": "7fcff25e"
   },
   "source": [
    " "
   ]
  },
  {
   "cell_type": "markdown",
   "id": "3c142b84",
   "metadata": {},
   "source": [
    "Для того, чтобы понять, есть ли зависимость возникновения задолженности по кредиту у клиентов от количества детей, мы сгруппируем данные из столбца `debt` по значениям из столбца `children`: посчитаем количество значений - это будет количество заемщиков для каждого количества детей, сумму - т.к.  столбец `debt` у нас имеет тип int64, и состоит только из 0 и 1, то сумма значений покажет нам количество заемщиков с задолженностями, а также посчитаем среднее знаение - это покажет нам долю заемщиков с задолженностью, от общего числа для каждой категории. Для удобства также сделаем дополнительный столбец с процентным количеством заемщиков с задолженностью от общего числа для каждой категории.\n",
    "Обозначения столбцов:\n",
    "- `Кол-во детей` - количество детей у клиента;\n",
    "- `Кол-во заемщиков` - количество клиентов для каждой категории;\n",
    "- `Кол-во должников` - количество клиентов с задолженностью для каждой категории;\n",
    "- `Доля с задолженностью` - доля клиентов с задолженностью для каждой категории;\n",
    "- `% с задолженностью` - процентное соотношение людей с задолженностью от всех клиентов для каждой категории."
   ]
  },
  {
   "cell_type": "code",
   "execution_count": 22,
   "id": "9dfd648a",
   "metadata": {},
   "outputs": [
    {
     "data": {
      "text/html": [
       "<div>\n",
       "<style scoped>\n",
       "    .dataframe tbody tr th:only-of-type {\n",
       "        vertical-align: middle;\n",
       "    }\n",
       "\n",
       "    .dataframe tbody tr th {\n",
       "        vertical-align: top;\n",
       "    }\n",
       "\n",
       "    .dataframe thead tr th {\n",
       "        text-align: left;\n",
       "    }\n",
       "</style>\n",
       "<table border=\"1\" class=\"dataframe\">\n",
       "  <thead>\n",
       "    <tr>\n",
       "      <th></th>\n",
       "      <th>Кол-во детей</th>\n",
       "      <th colspan=\"3\" halign=\"left\"></th>\n",
       "      <th>% с задолженностью</th>\n",
       "    </tr>\n",
       "    <tr>\n",
       "      <th></th>\n",
       "      <th></th>\n",
       "      <th>Кол-во заемщиков</th>\n",
       "      <th>Кол-во должников</th>\n",
       "      <th>Доля с задолженностью</th>\n",
       "      <th></th>\n",
       "    </tr>\n",
       "  </thead>\n",
       "  <tbody>\n",
       "    <tr>\n",
       "      <th>0</th>\n",
       "      <td>0</td>\n",
       "      <td>14091</td>\n",
       "      <td>1063</td>\n",
       "      <td>0.075438</td>\n",
       "      <td>7.543822</td>\n",
       "    </tr>\n",
       "    <tr>\n",
       "      <th>1</th>\n",
       "      <td>1</td>\n",
       "      <td>4808</td>\n",
       "      <td>444</td>\n",
       "      <td>0.092346</td>\n",
       "      <td>9.234609</td>\n",
       "    </tr>\n",
       "    <tr>\n",
       "      <th>2</th>\n",
       "      <td>2</td>\n",
       "      <td>2052</td>\n",
       "      <td>194</td>\n",
       "      <td>0.094542</td>\n",
       "      <td>9.454191</td>\n",
       "    </tr>\n",
       "    <tr>\n",
       "      <th>3</th>\n",
       "      <td>3</td>\n",
       "      <td>330</td>\n",
       "      <td>27</td>\n",
       "      <td>0.081818</td>\n",
       "      <td>8.181818</td>\n",
       "    </tr>\n",
       "    <tr>\n",
       "      <th>4</th>\n",
       "      <td>4</td>\n",
       "      <td>41</td>\n",
       "      <td>4</td>\n",
       "      <td>0.097561</td>\n",
       "      <td>9.756098</td>\n",
       "    </tr>\n",
       "    <tr>\n",
       "      <th>5</th>\n",
       "      <td>5</td>\n",
       "      <td>9</td>\n",
       "      <td>0</td>\n",
       "      <td>0.000000</td>\n",
       "      <td>0.000000</td>\n",
       "    </tr>\n",
       "  </tbody>\n",
       "</table>\n",
       "</div>"
      ],
      "text/plain": [
       "  Кол-во детей                                                          \\\n",
       "               Кол-во заемщиков Кол-во должников Доля с задолженностью   \n",
       "0            0            14091             1063              0.075438   \n",
       "1            1             4808              444              0.092346   \n",
       "2            2             2052              194              0.094542   \n",
       "3            3              330               27              0.081818   \n",
       "4            4               41                4              0.097561   \n",
       "5            5                9                0              0.000000   \n",
       "\n",
       "  % с задолженностью  \n",
       "                      \n",
       "0           7.543822  \n",
       "1           9.234609  \n",
       "2           9.454191  \n",
       "3           8.181818  \n",
       "4           9.756098  \n",
       "5           0.000000  "
      ]
     },
     "execution_count": 22,
     "metadata": {},
     "output_type": "execute_result"
    }
   ],
   "source": [
    "#группируем данные из столбца 'debt' по 'children', считаем их количество, сумму, среднее значение\n",
    "data_groupe_children = data.groupby(['children'], as_index=False).agg({'debt': ['count', 'sum', 'mean']})\n",
    "#создаем новый столбец mean_percent, в котором, вместо долей будут проценты\n",
    "data_groupe_children['mean_percent']  = data_groupe_children['debt']['mean'] * 100\n",
    "#переименовываем столбцы\n",
    "data_groupe_children = data_groupe_children.rename(columns={'children':'Кол-во детей', \n",
    "                                                            'debt':' ', \n",
    "                                                            'count':'Кол-во заемщиков', 'sum':'Кол-во должников',\n",
    "                                                            'mean':'Доля с задолженностью', \n",
    "                                                            'mean_percent':'% с задолженностью'})\n",
    "#выводим таблицу\n",
    "data_groupe_children\n"
   ]
  },
  {
   "cell_type": "markdown",
   "id": "51c0a9fc",
   "metadata": {},
   "source": [
    "Мы видим, что в наших данных всего 41 человек, у которых 4 детей, и 9 человек, с 5 детьми. Поэтому выводы об этих катеориях по этим данным, возможно, будут ошибочны. В итоговом выводе мы их не будем учитывать."
   ]
  },
  {
   "cell_type": "markdown",
   "id": "2eb9088e",
   "metadata": {
    "deletable": false,
    "id": "2eb9088e"
   },
   "source": [
    "**Вывод:** мы видим, что по сравнению с людьми без детей:\n",
    "люди с 1 ребенком на 1,69% чаще не платят по кредитам в срок;\n",
    "люди с 2 детьми на 1,91% чаще не платят по кредитам в срок;\n",
    "люди с 3 детьми на 0,63% чаще не платят по кредитам в срок;\n",
    "на основании этого, мы можем предположить, что наличие ребенка увеличивает риск того, что человек заплатит по кредиту в срок.\n",
    "\n",
    "Если мы посчитаем, что данных для клиентов с 3 детьми тоже недостаточно, для вывода, то мы можем предположить, что с увеличеснием количества детей у клиента он с большей вероятностью будет иметь задолженность по кредиту."
   ]
  },
  {
   "cell_type": "markdown",
   "id": "74c9b3a7",
   "metadata": {
    "deletable": false,
    "editable": false,
    "id": "74c9b3a7"
   },
   "source": [
    "#### 3.2 Есть ли зависимость между семейным положением и возвратом кредита в срок?"
   ]
  },
  {
   "cell_type": "markdown",
   "id": "2645e2a8",
   "metadata": {},
   "source": [
    "Посмотрим, какие уникальные значения у нас указаны в столбце `family_status`:"
   ]
  },
  {
   "cell_type": "code",
   "execution_count": 23,
   "id": "8098ab3b",
   "metadata": {
    "deletable": false,
    "id": "8098ab3b"
   },
   "outputs": [
    {
     "data": {
      "text/plain": [
       "array(['женат / замужем', 'гражданский брак', 'вдовец / вдова',\n",
       "       'в разводе', 'Не женат / не замужем'], dtype=object)"
      ]
     },
     "execution_count": 23,
     "metadata": {},
     "output_type": "execute_result"
    }
   ],
   "source": [
    "data['family_status'].unique()"
   ]
  },
  {
   "cell_type": "markdown",
   "id": "c8acc204",
   "metadata": {},
   "source": [
    "Есть 5 категорий."
   ]
  },
  {
   "cell_type": "markdown",
   "id": "1fba9eb1",
   "metadata": {},
   "source": [
    "Как и в предыдущем случаем, мы сгруппируем данные из столбца `debt`, но уже по столбцу `family_status`. Посчитаем их количество, количество заемщиков с задолженностью, их долю, а также % соотношение.\n",
    "Обозначения столбцов:\n",
    "- `Семейное положение` - Семейное положение у клиента;\n",
    "- `Кол-во заемщиков` - количество клиентов для каждой категории;\n",
    "- `Кол-во должников` - количество клиентов с задолженностью для каждой категории;\n",
    "- `Доля с задолженностью` - доля клиентов с задолженностью для каждой категории;\n",
    "- `% с задолженностью` - процентное соотношение людей с задолженностью от всех клиентов для каждой категории."
   ]
  },
  {
   "cell_type": "code",
   "execution_count": 24,
   "id": "88bc7247",
   "metadata": {},
   "outputs": [
    {
     "data": {
      "text/html": [
       "<div>\n",
       "<style scoped>\n",
       "    .dataframe tbody tr th:only-of-type {\n",
       "        vertical-align: middle;\n",
       "    }\n",
       "\n",
       "    .dataframe tbody tr th {\n",
       "        vertical-align: top;\n",
       "    }\n",
       "\n",
       "    .dataframe thead tr th {\n",
       "        text-align: left;\n",
       "    }\n",
       "</style>\n",
       "<table border=\"1\" class=\"dataframe\">\n",
       "  <thead>\n",
       "    <tr>\n",
       "      <th></th>\n",
       "      <th>Семейное положение</th>\n",
       "      <th colspan=\"3\" halign=\"left\"></th>\n",
       "      <th>% с задолженностью</th>\n",
       "    </tr>\n",
       "    <tr>\n",
       "      <th></th>\n",
       "      <th></th>\n",
       "      <th>Кол-во заемщиков</th>\n",
       "      <th>Кол-во должников</th>\n",
       "      <th>Доля с задолженностью</th>\n",
       "      <th></th>\n",
       "    </tr>\n",
       "  </thead>\n",
       "  <tbody>\n",
       "    <tr>\n",
       "      <th>0</th>\n",
       "      <td>Не женат / не замужем</td>\n",
       "      <td>2796</td>\n",
       "      <td>273</td>\n",
       "      <td>0.097639</td>\n",
       "      <td>9.763948</td>\n",
       "    </tr>\n",
       "    <tr>\n",
       "      <th>1</th>\n",
       "      <td>в разводе</td>\n",
       "      <td>1189</td>\n",
       "      <td>84</td>\n",
       "      <td>0.070648</td>\n",
       "      <td>7.064760</td>\n",
       "    </tr>\n",
       "    <tr>\n",
       "      <th>2</th>\n",
       "      <td>вдовец / вдова</td>\n",
       "      <td>951</td>\n",
       "      <td>63</td>\n",
       "      <td>0.066246</td>\n",
       "      <td>6.624606</td>\n",
       "    </tr>\n",
       "    <tr>\n",
       "      <th>3</th>\n",
       "      <td>гражданский брак</td>\n",
       "      <td>4134</td>\n",
       "      <td>385</td>\n",
       "      <td>0.093130</td>\n",
       "      <td>9.313014</td>\n",
       "    </tr>\n",
       "    <tr>\n",
       "      <th>4</th>\n",
       "      <td>женат / замужем</td>\n",
       "      <td>12261</td>\n",
       "      <td>927</td>\n",
       "      <td>0.075606</td>\n",
       "      <td>7.560558</td>\n",
       "    </tr>\n",
       "  </tbody>\n",
       "</table>\n",
       "</div>"
      ],
      "text/plain": [
       "      Семейное положение                                    \\\n",
       "                         Кол-во заемщиков Кол-во должников   \n",
       "0  Не женат / не замужем             2796              273   \n",
       "1              в разводе             1189               84   \n",
       "2         вдовец / вдова              951               63   \n",
       "3       гражданский брак             4134              385   \n",
       "4        женат / замужем            12261              927   \n",
       "\n",
       "                        % с задолженностью  \n",
       "  Доля с задолженностью                     \n",
       "0              0.097639           9.763948  \n",
       "1              0.070648           7.064760  \n",
       "2              0.066246           6.624606  \n",
       "3              0.093130           9.313014  \n",
       "4              0.075606           7.560558  "
      ]
     },
     "execution_count": 24,
     "metadata": {},
     "output_type": "execute_result"
    }
   ],
   "source": [
    "#группируем данные из столбца 'debt' по 'children', считаем их количество, сумму, среднее значение\n",
    "data_groupe_family_status = data.groupby(['family_status'], as_index=False).agg({'debt': ['count', 'sum', 'mean']})\n",
    "#создаем новый столбец 'mean_percent', в котором, вместо долей, будут проценты\n",
    "data_groupe_family_status['mean_percent']  = data_groupe_family_status['debt']['mean'] * 100\n",
    "#переименовываем столбцы\n",
    "data_groupe_family_status = data_groupe_family_status.rename(columns={'family_status':'Семейное положение', \n",
    "                                                            'debt':' ', \n",
    "                                                            'count':'Кол-во заемщиков', 'sum':'Кол-во должников',\n",
    "                                                            'mean':'Доля с задолженностью', \n",
    "                                                            'mean_percent':'% с задолженностью'})\n",
    "#выводим таблицу\n",
    "data_groupe_family_status\n"
   ]
  },
  {
   "cell_type": "markdown",
   "id": "d65e11e9",
   "metadata": {},
   "source": [
    "Мы видим, что в каждой катеогрии достаточно данных, чтобы сделать выводы."
   ]
  },
  {
   "cell_type": "markdown",
   "id": "c389ca63",
   "metadata": {
    "deletable": false,
    "id": "c389ca63"
   },
   "source": [
    "**Вывод:** Мы можем предположить, что вдовы и вдовцы своевременнее всех платят по кредитам, в то время, как люди, никогда не состоящие в браке чаще имеют проблемы со своевременностью оплаты по кредиту."
   ]
  },
  {
   "cell_type": "markdown",
   "id": "9529de68",
   "metadata": {
    "deletable": false,
    "editable": false,
    "id": "9529de68"
   },
   "source": [
    "#### 3.3 Есть ли зависимость между уровнем дохода и возвратом кредита в срок?"
   ]
  },
  {
   "cell_type": "markdown",
   "id": "11611a4f",
   "metadata": {
    "deletable": false,
    "id": "8787f44a"
   },
   "source": [
    " "
   ]
  },
  {
   "cell_type": "markdown",
   "id": "6dd14b57",
   "metadata": {
    "deletable": false,
    "id": "6dd14b57"
   },
   "source": [
    " "
   ]
  },
  {
   "cell_type": "markdown",
   "id": "e691ae13",
   "metadata": {},
   "source": [
    "Для более удобного сравнения клиентов по уровню дохода разделим их на 5 равных групп. Для определения группы поделим наши данные на равные части методом qcut():"
   ]
  },
  {
   "cell_type": "code",
   "execution_count": 25,
   "id": "4f9ae893",
   "metadata": {},
   "outputs": [
    {
     "data": {
      "text/plain": [
       "0        (214604.0, 2265604.0]\n",
       "1          (98514.0, 132113.0]\n",
       "2         (132113.0, 161380.0]\n",
       "3        (214604.0, 2265604.0]\n",
       "4         (132113.0, 161380.0]\n",
       "                 ...          \n",
       "21520    (214604.0, 2265604.0]\n",
       "21521     (132113.0, 161380.0]\n",
       "21522     (20666.999, 98514.0]\n",
       "21523    (214604.0, 2265604.0]\n",
       "21524     (20666.999, 98514.0]\n",
       "Name: total_income, Length: 21331, dtype: category\n",
       "Categories (5, interval[float64]): [(20666.999, 98514.0] < (98514.0, 132113.0] < (132113.0, 161380.0] < (161380.0, 214604.0] < (214604.0, 2265604.0]]"
      ]
     },
     "execution_count": 25,
     "metadata": {},
     "output_type": "execute_result"
    }
   ],
   "source": [
    "pd.qcut(data['total_income'], q=5)"
   ]
  },
  {
   "cell_type": "markdown",
   "id": "c31851ae",
   "metadata": {},
   "source": [
    "Данные поделлились на 4 категории, назовем их для удобства:\n",
    "- 0–98514 — `'E'`;\n",
    "- 98515–132113 — `'D'`;\n",
    "- 132114–161380 — `'C'`;\n",
    "- 161381–214604 — `'B'`;\n",
    "- 214605 и выше — `'A'`.\n",
    "\n",
    "и добавим название для каждой категории в столбцец `income_type`, а значения в столбец `income_range`:"
   ]
  },
  {
   "cell_type": "code",
   "execution_count": 26,
   "id": "b378c472",
   "metadata": {
    "scrolled": true
   },
   "outputs": [
    {
     "data": {
      "text/html": [
       "<div>\n",
       "<style scoped>\n",
       "    .dataframe tbody tr th:only-of-type {\n",
       "        vertical-align: middle;\n",
       "    }\n",
       "\n",
       "    .dataframe tbody tr th {\n",
       "        vertical-align: top;\n",
       "    }\n",
       "\n",
       "    .dataframe thead th {\n",
       "        text-align: right;\n",
       "    }\n",
       "</style>\n",
       "<table border=\"1\" class=\"dataframe\">\n",
       "  <thead>\n",
       "    <tr style=\"text-align: right;\">\n",
       "      <th></th>\n",
       "      <th>children</th>\n",
       "      <th>days_employed</th>\n",
       "      <th>dob_years</th>\n",
       "      <th>education</th>\n",
       "      <th>education_id</th>\n",
       "      <th>family_status</th>\n",
       "      <th>family_status_id</th>\n",
       "      <th>gender</th>\n",
       "      <th>income_type</th>\n",
       "      <th>debt</th>\n",
       "      <th>total_income</th>\n",
       "      <th>purpose</th>\n",
       "      <th>total_income_category</th>\n",
       "      <th>purpose_category</th>\n",
       "      <th>income_range</th>\n",
       "    </tr>\n",
       "  </thead>\n",
       "  <tbody>\n",
       "    <tr>\n",
       "      <th>0</th>\n",
       "      <td>1</td>\n",
       "      <td>8437.673028</td>\n",
       "      <td>42</td>\n",
       "      <td>высшее</td>\n",
       "      <td>0</td>\n",
       "      <td>женат / замужем</td>\n",
       "      <td>0</td>\n",
       "      <td>F</td>\n",
       "      <td>A</td>\n",
       "      <td>0</td>\n",
       "      <td>253875</td>\n",
       "      <td>покупка жилья</td>\n",
       "      <td>B</td>\n",
       "      <td>операции с недвижимостью</td>\n",
       "      <td>(214604.0, 2265604.0]</td>\n",
       "    </tr>\n",
       "    <tr>\n",
       "      <th>1</th>\n",
       "      <td>1</td>\n",
       "      <td>4024.803754</td>\n",
       "      <td>36</td>\n",
       "      <td>среднее</td>\n",
       "      <td>1</td>\n",
       "      <td>женат / замужем</td>\n",
       "      <td>0</td>\n",
       "      <td>F</td>\n",
       "      <td>D</td>\n",
       "      <td>0</td>\n",
       "      <td>112080</td>\n",
       "      <td>приобретение автомобиля</td>\n",
       "      <td>C</td>\n",
       "      <td>операции с автомобилем</td>\n",
       "      <td>(98514.0, 132113.0]</td>\n",
       "    </tr>\n",
       "    <tr>\n",
       "      <th>2</th>\n",
       "      <td>0</td>\n",
       "      <td>5623.422610</td>\n",
       "      <td>33</td>\n",
       "      <td>среднее</td>\n",
       "      <td>1</td>\n",
       "      <td>женат / замужем</td>\n",
       "      <td>0</td>\n",
       "      <td>M</td>\n",
       "      <td>C</td>\n",
       "      <td>0</td>\n",
       "      <td>145885</td>\n",
       "      <td>покупка жилья</td>\n",
       "      <td>C</td>\n",
       "      <td>операции с недвижимостью</td>\n",
       "      <td>(132113.0, 161380.0]</td>\n",
       "    </tr>\n",
       "    <tr>\n",
       "      <th>3</th>\n",
       "      <td>3</td>\n",
       "      <td>4124.747207</td>\n",
       "      <td>32</td>\n",
       "      <td>среднее</td>\n",
       "      <td>1</td>\n",
       "      <td>женат / замужем</td>\n",
       "      <td>0</td>\n",
       "      <td>M</td>\n",
       "      <td>A</td>\n",
       "      <td>0</td>\n",
       "      <td>267628</td>\n",
       "      <td>дополнительное образование</td>\n",
       "      <td>B</td>\n",
       "      <td>получение образования</td>\n",
       "      <td>(214604.0, 2265604.0]</td>\n",
       "    </tr>\n",
       "    <tr>\n",
       "      <th>4</th>\n",
       "      <td>0</td>\n",
       "      <td>340266.072047</td>\n",
       "      <td>53</td>\n",
       "      <td>среднее</td>\n",
       "      <td>1</td>\n",
       "      <td>гражданский брак</td>\n",
       "      <td>1</td>\n",
       "      <td>F</td>\n",
       "      <td>C</td>\n",
       "      <td>0</td>\n",
       "      <td>158616</td>\n",
       "      <td>сыграть свадьбу</td>\n",
       "      <td>C</td>\n",
       "      <td>проведение свадьбы</td>\n",
       "      <td>(132113.0, 161380.0]</td>\n",
       "    </tr>\n",
       "  </tbody>\n",
       "</table>\n",
       "</div>"
      ],
      "text/plain": [
       "   children  days_employed  dob_years education  education_id  \\\n",
       "0         1    8437.673028         42    высшее             0   \n",
       "1         1    4024.803754         36   среднее             1   \n",
       "2         0    5623.422610         33   среднее             1   \n",
       "3         3    4124.747207         32   среднее             1   \n",
       "4         0  340266.072047         53   среднее             1   \n",
       "\n",
       "      family_status  family_status_id gender income_type  debt  total_income  \\\n",
       "0   женат / замужем                 0      F           A     0        253875   \n",
       "1   женат / замужем                 0      F           D     0        112080   \n",
       "2   женат / замужем                 0      M           C     0        145885   \n",
       "3   женат / замужем                 0      M           A     0        267628   \n",
       "4  гражданский брак                 1      F           C     0        158616   \n",
       "\n",
       "                      purpose total_income_category          purpose_category  \\\n",
       "0               покупка жилья                     B  операции с недвижимостью   \n",
       "1     приобретение автомобиля                     C    операции с автомобилем   \n",
       "2               покупка жилья                     C  операции с недвижимостью   \n",
       "3  дополнительное образование                     B     получение образования   \n",
       "4             сыграть свадьбу                     C        проведение свадьбы   \n",
       "\n",
       "            income_range  \n",
       "0  (214604.0, 2265604.0]  \n",
       "1    (98514.0, 132113.0]  \n",
       "2   (132113.0, 161380.0]  \n",
       "3  (214604.0, 2265604.0]  \n",
       "4   (132113.0, 161380.0]  "
      ]
     },
     "execution_count": 26,
     "metadata": {},
     "output_type": "execute_result"
    }
   ],
   "source": [
    "#создаем список названий для категорий\n",
    "income_lebel = ['E', 'D', 'C', 'B', 'A']\n",
    "#добавляем столбец 'income_range' со значениями категорий дохода\n",
    "data['income_range'] = pd.qcut(data['total_income'], q=5)\n",
    "#добавляем столбец 'income_type' со названиями категорий дохода\n",
    "data['income_type'] = pd.qcut(data['total_income'], q=5, labels=income_lebel)\n",
    "#выводим первые 5 строк\n",
    "data.head()\n"
   ]
  },
  {
   "cell_type": "markdown",
   "id": "b27c454a",
   "metadata": {},
   "source": [
    "Проверим, ровно ли поделились значения:"
   ]
  },
  {
   "cell_type": "code",
   "execution_count": 27,
   "id": "e0037015",
   "metadata": {},
   "outputs": [
    {
     "data": {
      "text/plain": [
       "E    4267\n",
       "D    4266\n",
       "C    4266\n",
       "B    4266\n",
       "A    4266\n",
       "Name: income_type, dtype: int64"
      ]
     },
     "execution_count": 27,
     "metadata": {},
     "output_type": "execute_result"
    }
   ],
   "source": [
    "data['income_type'].value_counts()"
   ]
  },
  {
   "cell_type": "markdown",
   "id": "ef213e0c",
   "metadata": {},
   "source": [
    "Данные поделились на раыне категории."
   ]
  },
  {
   "cell_type": "markdown",
   "id": "e0e7e41a",
   "metadata": {},
   "source": [
    "Как и в предыдущих случаях, мы сгруппируем данные из столбца `debt`, но уже по столбцам `income_range`  и `income_type`. Посчитаем их количество, количество заемщиков с задолженностью, их долю, а также % соотношение.\n",
    "Обозначения столбцов:\n",
    "- `Уровень дохода` - Диапазон уровня дохода;\n",
    "- `Категория` - Категория уровня дохода;\n",
    "- `Кол-во заемщиков` - количество клиентов для каждой категории;\n",
    "- `Кол-во должников` - количество клиентов с задолженностью для каждой категории;\n",
    "- `Доля с задолженностью` - доля клиентов с задолженностью для каждой категории;\n",
    "- `% с задолженностью` - процентное соотношение людей с задолженностью от всех клиентов для каждой категории.\n"
   ]
  },
  {
   "cell_type": "code",
   "execution_count": 28,
   "id": "d7794065",
   "metadata": {},
   "outputs": [
    {
     "data": {
      "text/html": [
       "<div>\n",
       "<style scoped>\n",
       "    .dataframe tbody tr th:only-of-type {\n",
       "        vertical-align: middle;\n",
       "    }\n",
       "\n",
       "    .dataframe tbody tr th {\n",
       "        vertical-align: top;\n",
       "    }\n",
       "\n",
       "    .dataframe thead tr th {\n",
       "        text-align: left;\n",
       "    }\n",
       "</style>\n",
       "<table border=\"1\" class=\"dataframe\">\n",
       "  <thead>\n",
       "    <tr>\n",
       "      <th></th>\n",
       "      <th>Уровень дохода</th>\n",
       "      <th>Категория</th>\n",
       "      <th colspan=\"3\" halign=\"left\"></th>\n",
       "      <th>% с задолженностью</th>\n",
       "    </tr>\n",
       "    <tr>\n",
       "      <th></th>\n",
       "      <th></th>\n",
       "      <th></th>\n",
       "      <th>Кол-во заемщиков</th>\n",
       "      <th>Кол-во должников</th>\n",
       "      <th>Доля с задолженностью</th>\n",
       "      <th></th>\n",
       "    </tr>\n",
       "  </thead>\n",
       "  <tbody>\n",
       "    <tr>\n",
       "      <th>0</th>\n",
       "      <td>(20666.999, 98514.0]</td>\n",
       "      <td>E</td>\n",
       "      <td>4267</td>\n",
       "      <td>344</td>\n",
       "      <td>0.080619</td>\n",
       "      <td>8.061870</td>\n",
       "    </tr>\n",
       "    <tr>\n",
       "      <th>1</th>\n",
       "      <td>(98514.0, 132113.0]</td>\n",
       "      <td>D</td>\n",
       "      <td>4266</td>\n",
       "      <td>358</td>\n",
       "      <td>0.083919</td>\n",
       "      <td>8.391936</td>\n",
       "    </tr>\n",
       "    <tr>\n",
       "      <th>2</th>\n",
       "      <td>(132113.0, 161380.0]</td>\n",
       "      <td>C</td>\n",
       "      <td>4266</td>\n",
       "      <td>373</td>\n",
       "      <td>0.087436</td>\n",
       "      <td>8.743554</td>\n",
       "    </tr>\n",
       "    <tr>\n",
       "      <th>3</th>\n",
       "      <td>(161380.0, 214604.0]</td>\n",
       "      <td>B</td>\n",
       "      <td>4266</td>\n",
       "      <td>358</td>\n",
       "      <td>0.083919</td>\n",
       "      <td>8.391936</td>\n",
       "    </tr>\n",
       "    <tr>\n",
       "      <th>4</th>\n",
       "      <td>(214604.0, 2265604.0]</td>\n",
       "      <td>A</td>\n",
       "      <td>4266</td>\n",
       "      <td>299</td>\n",
       "      <td>0.070089</td>\n",
       "      <td>7.008908</td>\n",
       "    </tr>\n",
       "  </tbody>\n",
       "</table>\n",
       "</div>"
      ],
      "text/plain": [
       "          Уровень дохода Категория                                    \\\n",
       "                                   Кол-во заемщиков Кол-во должников   \n",
       "0   (20666.999, 98514.0]         E             4267              344   \n",
       "1    (98514.0, 132113.0]         D             4266              358   \n",
       "2   (132113.0, 161380.0]         C             4266              373   \n",
       "3   (161380.0, 214604.0]         B             4266              358   \n",
       "4  (214604.0, 2265604.0]         A             4266              299   \n",
       "\n",
       "                        % с задолженностью  \n",
       "  Доля с задолженностью                     \n",
       "0              0.080619           8.061870  \n",
       "1              0.083919           8.391936  \n",
       "2              0.087436           8.743554  \n",
       "3              0.083919           8.391936  \n",
       "4              0.070089           7.008908  "
      ]
     },
     "execution_count": 28,
     "metadata": {},
     "output_type": "execute_result"
    }
   ],
   "source": [
    "#группируем данные из столбца 'debt' по 'children', считаем их количество, сумму, среднее значение, убираем пустые значения и сбрасываем индексы\n",
    "data_group_income = data.groupby(['income_range','income_type']).agg({'debt': ['count', 'sum', 'mean']}).dropna().reset_index()\n",
    "#создаем новый столбец 'mean_percent', в котором, вместо долей, будут проценты\n",
    "data_group_income['mean_percent']  = data_group_income['debt']['mean'] * 100\n",
    "#переименовываем столбцы\n",
    "data_group_income= data_group_income.rename(columns = {'income_range':'Уровень дохода', \n",
    "                                                       'income_type':'Категория',\n",
    "                                                      'debt':' ',\n",
    "                                                      'count':'Кол-во заемщиков',\n",
    "                                                      'sum':'Кол-во должников',\n",
    "                                                      'mean':'Доля с задолженностью',\n",
    "                                                      'mean_percent':'% с задолженностью'})\n",
    "#выводим таблицу\n",
    "data_group_income"
   ]
  },
  {
   "cell_type": "markdown",
   "id": "0e70505f",
   "metadata": {},
   "source": [
    "**Вывод:** На основании данных мы можем предположить, что с ростом дохода количество должников растет до определенного уровня (до дохода в диапазоне 132113 - 161381), а потом начинает снижаться. Меньше всего должников с доходом от 214605. "
   ]
  },
  {
   "cell_type": "markdown",
   "id": "1dcc9b12",
   "metadata": {
    "deletable": false,
    "editable": false,
    "id": "1dcc9b12"
   },
   "source": [
    "#### 3.4 Как разные цели кредита влияют на его возврат в срок?"
   ]
  },
  {
   "cell_type": "markdown",
   "id": "f30a448f",
   "metadata": {
    "deletable": false,
    "id": "c602bc8b"
   },
   "source": [
    " "
   ]
  },
  {
   "cell_type": "markdown",
   "id": "7d1b3a3b",
   "metadata": {},
   "source": [
    "Как и в предыдущем случаем, мы сгруппируем данные из столбца `debt`, но уже по столбцу `family_status`. Посчитаем их количество, количество заемщиков с задолженностью, их долю, а также % соотношение.\n",
    "Обозначения столбцов:\n",
    "- `Цель кредита` - Цель, на которую брался кредит;\n",
    "- `Кол-во заемщиков` - количество клиентов для каждой категории;\n",
    "- `Кол-во должников` - количество клиентов с задолженностью для каждой категории;\n",
    "- `Доля с задолженностью` - доля клиентов с задолженностью для каждой категории;\n",
    "- `% с задолженностью` - процентное соотношение людей с задолженностью от всех клиентов для каждой категории."
   ]
  },
  {
   "cell_type": "code",
   "execution_count": 29,
   "id": "04f86542",
   "metadata": {},
   "outputs": [
    {
     "data": {
      "text/html": [
       "<div>\n",
       "<style scoped>\n",
       "    .dataframe tbody tr th:only-of-type {\n",
       "        vertical-align: middle;\n",
       "    }\n",
       "\n",
       "    .dataframe tbody tr th {\n",
       "        vertical-align: top;\n",
       "    }\n",
       "\n",
       "    .dataframe thead tr th {\n",
       "        text-align: left;\n",
       "    }\n",
       "</style>\n",
       "<table border=\"1\" class=\"dataframe\">\n",
       "  <thead>\n",
       "    <tr>\n",
       "      <th></th>\n",
       "      <th>Цель кредита</th>\n",
       "      <th colspan=\"3\" halign=\"left\"></th>\n",
       "      <th>% с задолженностью</th>\n",
       "    </tr>\n",
       "    <tr>\n",
       "      <th></th>\n",
       "      <th></th>\n",
       "      <th>Кол-во заемщиков</th>\n",
       "      <th>Кол-во должников</th>\n",
       "      <th>Доля с задолженностью</th>\n",
       "      <th></th>\n",
       "    </tr>\n",
       "  </thead>\n",
       "  <tbody>\n",
       "    <tr>\n",
       "      <th>0</th>\n",
       "      <td>операции с автомобилем</td>\n",
       "      <td>4279</td>\n",
       "      <td>400</td>\n",
       "      <td>0.093480</td>\n",
       "      <td>9.347978</td>\n",
       "    </tr>\n",
       "    <tr>\n",
       "      <th>1</th>\n",
       "      <td>операции с недвижимостью</td>\n",
       "      <td>10751</td>\n",
       "      <td>780</td>\n",
       "      <td>0.072551</td>\n",
       "      <td>7.255139</td>\n",
       "    </tr>\n",
       "    <tr>\n",
       "      <th>2</th>\n",
       "      <td>получение образования</td>\n",
       "      <td>3988</td>\n",
       "      <td>369</td>\n",
       "      <td>0.092528</td>\n",
       "      <td>9.252758</td>\n",
       "    </tr>\n",
       "    <tr>\n",
       "      <th>3</th>\n",
       "      <td>проведение свадьбы</td>\n",
       "      <td>2313</td>\n",
       "      <td>183</td>\n",
       "      <td>0.079118</td>\n",
       "      <td>7.911803</td>\n",
       "    </tr>\n",
       "  </tbody>\n",
       "</table>\n",
       "</div>"
      ],
      "text/plain": [
       "               Цель кредита                                    \\\n",
       "                            Кол-во заемщиков Кол-во должников   \n",
       "0    операции с автомобилем             4279              400   \n",
       "1  операции с недвижимостью            10751              780   \n",
       "2     получение образования             3988              369   \n",
       "3        проведение свадьбы             2313              183   \n",
       "\n",
       "                        % с задолженностью  \n",
       "  Доля с задолженностью                     \n",
       "0              0.093480           9.347978  \n",
       "1              0.072551           7.255139  \n",
       "2              0.092528           9.252758  \n",
       "3              0.079118           7.911803  "
      ]
     },
     "execution_count": 29,
     "metadata": {},
     "output_type": "execute_result"
    }
   ],
   "source": [
    "#группируем данные из столбца 'debt' по 'children', считаем их количество, сумму, среднее значение\n",
    "data_groupe_purpose = data.groupby(['purpose_category'], as_index=False).agg({'debt': ['count', 'sum', 'mean']})\n",
    "#создаем новый столбец 'mean_percent', в котором, вместо долей, будут проценты\n",
    "data_groupe_purpose['mean_percent']  = data_groupe_purpose['debt']['mean'] * 100\n",
    "#переименовываем столбцы\n",
    "data_groupe_purpose = data_groupe_purpose.rename(columns={'purpose_category':'Цель кредита', \n",
    "                                                            'debt':' ', \n",
    "                                                            'count':'Кол-во заемщиков', 'sum':'Кол-во должников',\n",
    "                                                            'mean':'Доля с задолженностью', \n",
    "                                                            'mean_percent':'% с задолженностью'})\n",
    "#выводим таблицу\n",
    "data_groupe_purpose\n"
   ]
  },
  {
   "cell_type": "markdown",
   "id": "40d66012",
   "metadata": {},
   "source": [
    "Мы видим, что в каждой катеогрии достаточно данных, чтобы сделать выводы."
   ]
  },
  {
   "cell_type": "markdown",
   "id": "cf05ed63",
   "metadata": {
    "deletable": false,
    "id": "cf05ed63"
   },
   "source": [
    "**Вывод:** Люди, котрые берут кредиты на операции с недвижимостью, реже всех имеют задолженности по кредиту, в то время, как люди, берущие кредит на операции с автомобилем, чаще других имеют задолженности по кредиту. "
   ]
  },
  {
   "cell_type": "markdown",
   "id": "46c1f10b",
   "metadata": {
    "deletable": false,
    "editable": false,
    "id": "46c1f10b"
   },
   "source": [
    "#### 3.5 Приведите возможные причины появления пропусков в исходных данных."
   ]
  },
  {
   "cell_type": "markdown",
   "id": "3697d2a9",
   "metadata": {
    "deletable": false,
    "id": "3697d2a9"
   },
   "source": [
    "*Ответ:* Пропуски в данных у нас были в столбцах total_income и days_employed. И количество пропусков было одинаковым - по 2174. И либо одинаковое количество людей не захотели считать или расскрывать свой трудовой стаж и доход, что маловероятно для закредитованных клиентов банка, либо была какая-то техническая ошибка при сборе или выгрузки данных."
   ]
  },
  {
   "cell_type": "markdown",
   "id": "3137d257",
   "metadata": {
    "deletable": false,
    "editable": false,
    "id": "3137d257"
   },
   "source": [
    "#### 3.6 Объясните, почему заполнить пропуски медианным значением — лучшее решение для количественных переменных."
   ]
  },
  {
   "cell_type": "markdown",
   "id": "cf40012a",
   "metadata": {
    "deletable": false,
    "id": "cf40012a"
   },
   "source": [
    "*Ответ:* т.к. на медианные значения слабее влияют выбросы, как, например, на среднее арифметические. При нормальном распределении, можно было бы использовать средне арифметическое значение, но т.к. у нас были данные с явными выбросами (например 340266.072047 дней трудового стажа в 4 строке, что равно 932 годам), оно бы показывало искаженные значения."
   ]
  },
  {
   "cell_type": "markdown",
   "id": "57bc304e",
   "metadata": {
    "deletable": false,
    "editable": false,
    "id": "57bc304e"
   },
   "source": [
    "### Шаг 4: общий вывод."
   ]
  },
  {
   "cell_type": "markdown",
   "id": "1ab75d1c",
   "metadata": {
    "deletable": false,
    "id": "1ab75d1c"
   },
   "source": [
    "В данной работе мы работали со статистикой о платёжеспособности 21525 клиентов, в которой были указаны:\n",
    "-  количество детей в семье\n",
    "-  общий трудовой стаж в днях\n",
    "-  возраст клиента в годах\n",
    "-  уровень образования клиента\n",
    "-  семейное положение\n",
    "-  пол клиента\n",
    "-  тип занятости\n",
    "-  имел ли задолженность по возврату кредитов\n",
    "-  ежемесячный доход\n",
    "-  цель получения кредита.\n",
    "\n",
    "У 2174 клиентов в `общий трудовой стаж в днях` и `ежемесячный доход` были пропуски в данных. Это значит, что либо одинаковое количество людей не захотели считать или расскрывать свой трудовой стаж и доход, что маловероятно для закредитованных клиентов банка, либо была какая-то техническая ошибка при сборе или выгрузки данных, которую рекомендуем в дальнейшем исправить. Но в данном исследовании мы заполнили пропуски в ужемесечном доходе и общем трудовом стаже по медианным значениям для каждого типа занятости.\n",
    "\n",
    "Также при анализе обнаружились аномальные данные общего трудового стажа у некоторых клиентов по типу занятости, а именно у безработных и пенсионеров. В данном исследовании эти данные не учитывались.\n",
    "\n",
    "И в данных были обнаружены 71 дубликат, которые мы не учитывали в исследовании. \n",
    "\n",
    "По итогам исследования мы можем предположить:\n",
    "- есть зависимость между количеством детей и возвратом кредита в срок:  с увеличеснием количества детей у клиента он с большей вероятностью будет иметь задолженность по кредиту.\n",
    "- есть зависимость, между семейным положением и возвратом редита в срок: вдовцы своевременнее всех платят по кредитам, в то время, как люди, никогда не состоящие в браке чаще имеют проблемы со своевременностью оплаты по кредиту.\n",
    "- есть зависимость между уровнем дохода и возвратом кредита в срок: с ростом дохода количество должников растет до определенного уровня (до дохода в диапазоне 132113 - 161381), а потом начинает снижаться. Меньше всего должников с доходом от 214605.\n",
    "- есть зависимость между уровнем дохода и возвратом кредита в срок: клиенты, котрые берут кредиты на операции с недвижимостью, реже всех имеют задолженности по кредиту, в то время, как люди, берущие кредит на операции с автомобилем, чаще других имеют задолженности по кредиту."
   ]
  }
 ],
 "metadata": {
  "ExecuteTimeLog": [
   {
    "duration": 687,
    "start_time": "2023-05-01T08:23:13.575Z"
   },
   {
    "duration": 24,
    "start_time": "2023-05-01T08:23:14.264Z"
   },
   {
    "duration": 23,
    "start_time": "2023-05-01T08:23:14.290Z"
   },
   {
    "duration": 12,
    "start_time": "2023-05-01T08:23:14.315Z"
   },
   {
    "duration": 61,
    "start_time": "2023-05-01T08:23:14.329Z"
   },
   {
    "duration": 4,
    "start_time": "2023-05-01T08:23:14.392Z"
   },
   {
    "duration": 32,
    "start_time": "2023-05-01T08:23:14.398Z"
   },
   {
    "duration": 13,
    "start_time": "2023-05-01T08:23:14.432Z"
   },
   {
    "duration": 42,
    "start_time": "2023-05-01T08:23:14.447Z"
   },
   {
    "duration": 12,
    "start_time": "2023-05-01T08:23:14.490Z"
   },
   {
    "duration": 47,
    "start_time": "2023-05-01T08:23:14.504Z"
   },
   {
    "duration": 10,
    "start_time": "2023-05-01T08:23:14.552Z"
   },
   {
    "duration": 18,
    "start_time": "2023-05-01T08:23:14.563Z"
   },
   {
    "duration": 39,
    "start_time": "2023-05-01T08:23:14.584Z"
   },
   {
    "duration": 37,
    "start_time": "2023-05-01T08:23:14.625Z"
   },
   {
    "duration": 17,
    "start_time": "2023-05-01T08:23:14.663Z"
   },
   {
    "duration": 4,
    "start_time": "2023-05-01T08:23:14.682Z"
   },
   {
    "duration": 17,
    "start_time": "2023-05-01T08:23:14.687Z"
   },
   {
    "duration": 8,
    "start_time": "2023-05-01T08:23:14.706Z"
   },
   {
    "duration": 6,
    "start_time": "2023-05-01T08:23:14.716Z"
   },
   {
    "duration": 57,
    "start_time": "2023-05-01T08:23:14.724Z"
   },
   {
    "duration": 15,
    "start_time": "2023-05-01T08:23:14.783Z"
   },
   {
    "duration": 23,
    "start_time": "2023-05-01T08:23:14.801Z"
   },
   {
    "duration": 27,
    "start_time": "2023-05-01T08:23:14.826Z"
   },
   {
    "duration": 27,
    "start_time": "2023-05-01T08:23:14.856Z"
   },
   {
    "duration": 8,
    "start_time": "2023-05-01T08:37:29.904Z"
   },
   {
    "duration": 76,
    "start_time": "2023-05-01T08:38:17.174Z"
   },
   {
    "duration": 8,
    "start_time": "2023-05-01T08:38:22.040Z"
   },
   {
    "duration": 251,
    "start_time": "2023-05-01T08:40:04.915Z"
   },
   {
    "duration": 60,
    "start_time": "2023-05-01T08:40:09.905Z"
   },
   {
    "duration": 31,
    "start_time": "2023-05-01T08:40:27.446Z"
   },
   {
    "duration": 27,
    "start_time": "2023-05-01T08:41:46.659Z"
   },
   {
    "duration": 7,
    "start_time": "2023-05-01T08:42:04.630Z"
   },
   {
    "duration": 108,
    "start_time": "2023-05-01T08:47:32.715Z"
   },
   {
    "duration": 7,
    "start_time": "2023-05-01T08:53:13.300Z"
   },
   {
    "duration": 5,
    "start_time": "2023-05-01T09:24:20.546Z"
   },
   {
    "duration": 9,
    "start_time": "2023-05-01T09:24:29.097Z"
   },
   {
    "duration": 7,
    "start_time": "2023-05-01T09:25:07.098Z"
   },
   {
    "duration": 6,
    "start_time": "2023-05-01T09:33:18.868Z"
   },
   {
    "duration": 11,
    "start_time": "2023-05-01T09:40:05.820Z"
   },
   {
    "duration": 9,
    "start_time": "2023-05-01T09:41:34.304Z"
   },
   {
    "duration": 14,
    "start_time": "2023-05-01T10:03:31.105Z"
   },
   {
    "duration": 9,
    "start_time": "2023-05-01T10:03:38.058Z"
   },
   {
    "duration": 10,
    "start_time": "2023-05-01T10:04:19.732Z"
   },
   {
    "duration": 9,
    "start_time": "2023-05-01T10:05:16.901Z"
   },
   {
    "duration": 8,
    "start_time": "2023-05-01T10:05:21.548Z"
   },
   {
    "duration": 1275,
    "start_time": "2023-05-01T10:05:45.096Z"
   },
   {
    "duration": 748,
    "start_time": "2023-05-01T10:05:52.210Z"
   },
   {
    "duration": 11,
    "start_time": "2023-05-01T10:14:06.484Z"
   },
   {
    "duration": 11,
    "start_time": "2023-05-01T10:14:17.698Z"
   },
   {
    "duration": 8,
    "start_time": "2023-05-01T10:16:15.700Z"
   },
   {
    "duration": 9,
    "start_time": "2023-05-01T10:19:02.103Z"
   },
   {
    "duration": 9,
    "start_time": "2023-05-01T10:29:34.059Z"
   },
   {
    "duration": 13,
    "start_time": "2023-05-01T10:29:53.409Z"
   },
   {
    "duration": 527,
    "start_time": "2023-05-01T10:30:09.014Z"
   },
   {
    "duration": 26,
    "start_time": "2023-05-01T10:30:09.544Z"
   },
   {
    "duration": 66,
    "start_time": "2023-05-01T10:30:09.572Z"
   },
   {
    "duration": 53,
    "start_time": "2023-05-01T10:30:09.640Z"
   },
   {
    "duration": 65,
    "start_time": "2023-05-01T10:30:09.696Z"
   },
   {
    "duration": 4,
    "start_time": "2023-05-01T10:30:09.763Z"
   },
   {
    "duration": 14,
    "start_time": "2023-05-01T10:30:09.769Z"
   },
   {
    "duration": 28,
    "start_time": "2023-05-01T10:30:09.786Z"
   },
   {
    "duration": 36,
    "start_time": "2023-05-01T10:30:09.816Z"
   },
   {
    "duration": 12,
    "start_time": "2023-05-01T10:30:09.854Z"
   },
   {
    "duration": 63,
    "start_time": "2023-05-01T10:30:09.868Z"
   },
   {
    "duration": 11,
    "start_time": "2023-05-01T10:30:09.932Z"
   },
   {
    "duration": 184,
    "start_time": "2023-05-01T10:30:09.945Z"
   },
   {
    "duration": 19,
    "start_time": "2023-05-01T10:30:10.133Z"
   },
   {
    "duration": 24,
    "start_time": "2023-05-01T10:30:10.154Z"
   },
   {
    "duration": 30,
    "start_time": "2023-05-01T10:30:10.180Z"
   },
   {
    "duration": 15,
    "start_time": "2023-05-01T10:30:10.212Z"
   },
   {
    "duration": 22,
    "start_time": "2023-05-01T10:30:10.229Z"
   },
   {
    "duration": 14,
    "start_time": "2023-05-01T10:30:10.252Z"
   },
   {
    "duration": 8,
    "start_time": "2023-05-01T10:30:10.268Z"
   },
   {
    "duration": 42,
    "start_time": "2023-05-01T10:30:10.278Z"
   },
   {
    "duration": 12,
    "start_time": "2023-05-01T10:30:10.322Z"
   },
   {
    "duration": 10,
    "start_time": "2023-05-01T10:30:10.336Z"
   },
   {
    "duration": 9,
    "start_time": "2023-05-01T10:30:10.349Z"
   },
   {
    "duration": 13,
    "start_time": "2023-05-01T10:30:10.360Z"
   },
   {
    "duration": 10,
    "start_time": "2023-05-01T10:30:10.375Z"
   },
   {
    "duration": 32,
    "start_time": "2023-05-01T10:30:10.392Z"
   },
   {
    "duration": 7,
    "start_time": "2023-05-01T10:30:10.426Z"
   },
   {
    "duration": 65,
    "start_time": "2023-05-01T10:30:11.414Z"
   },
   {
    "duration": 10,
    "start_time": "2023-05-01T10:31:32.549Z"
   },
   {
    "duration": 18,
    "start_time": "2023-05-01T10:31:51.220Z"
   },
   {
    "duration": 11,
    "start_time": "2023-05-01T10:32:12.110Z"
   },
   {
    "duration": 8,
    "start_time": "2023-05-01T10:32:38.209Z"
   },
   {
    "duration": 12,
    "start_time": "2023-05-01T10:32:51.317Z"
   },
   {
    "duration": 8,
    "start_time": "2023-05-01T10:33:21.915Z"
   },
   {
    "duration": 11,
    "start_time": "2023-05-01T10:33:33.935Z"
   },
   {
    "duration": 14,
    "start_time": "2023-05-01T10:34:27.004Z"
   },
   {
    "duration": 743,
    "start_time": "2023-05-01T17:40:20.647Z"
   },
   {
    "duration": 22,
    "start_time": "2023-05-01T17:40:21.392Z"
   },
   {
    "duration": 29,
    "start_time": "2023-05-01T17:40:21.416Z"
   },
   {
    "duration": 28,
    "start_time": "2023-05-01T17:40:21.447Z"
   },
   {
    "duration": 74,
    "start_time": "2023-05-01T17:40:21.476Z"
   },
   {
    "duration": 6,
    "start_time": "2023-05-01T17:40:21.551Z"
   },
   {
    "duration": 11,
    "start_time": "2023-05-01T17:40:21.559Z"
   },
   {
    "duration": 3,
    "start_time": "2023-05-01T17:40:21.571Z"
   },
   {
    "duration": 8,
    "start_time": "2023-05-01T17:40:21.575Z"
   },
   {
    "duration": 4,
    "start_time": "2023-05-01T17:40:21.586Z"
   },
   {
    "duration": 45,
    "start_time": "2023-05-01T17:40:21.591Z"
   },
   {
    "duration": 11,
    "start_time": "2023-05-01T17:40:21.637Z"
   },
   {
    "duration": 16,
    "start_time": "2023-05-01T17:40:21.650Z"
   },
   {
    "duration": 15,
    "start_time": "2023-05-01T17:40:21.668Z"
   },
   {
    "duration": 17,
    "start_time": "2023-05-01T17:40:21.684Z"
   },
   {
    "duration": 14,
    "start_time": "2023-05-01T17:40:21.702Z"
   },
   {
    "duration": 3,
    "start_time": "2023-05-01T17:40:21.717Z"
   },
   {
    "duration": 22,
    "start_time": "2023-05-01T17:40:21.721Z"
   },
   {
    "duration": 14,
    "start_time": "2023-05-01T17:40:21.744Z"
   },
   {
    "duration": 4,
    "start_time": "2023-05-01T17:40:21.760Z"
   },
   {
    "duration": 13,
    "start_time": "2023-05-01T17:40:21.766Z"
   },
   {
    "duration": 6,
    "start_time": "2023-05-01T17:40:21.780Z"
   },
   {
    "duration": 5,
    "start_time": "2023-05-01T17:40:21.787Z"
   },
   {
    "duration": 6,
    "start_time": "2023-05-01T17:40:21.794Z"
   },
   {
    "duration": 9,
    "start_time": "2023-05-01T17:40:21.802Z"
   },
   {
    "duration": 25,
    "start_time": "2023-05-01T17:40:21.813Z"
   },
   {
    "duration": 8,
    "start_time": "2023-05-01T17:40:21.840Z"
   },
   {
    "duration": 6,
    "start_time": "2023-05-01T17:40:21.851Z"
   },
   {
    "duration": 8,
    "start_time": "2023-05-01T17:40:21.858Z"
   },
   {
    "duration": 6,
    "start_time": "2023-05-01T17:40:21.868Z"
   },
   {
    "duration": 54,
    "start_time": "2023-05-02T08:48:40.053Z"
   },
   {
    "duration": 518,
    "start_time": "2023-05-02T08:49:14.959Z"
   },
   {
    "duration": 23,
    "start_time": "2023-05-02T08:49:15.478Z"
   },
   {
    "duration": 16,
    "start_time": "2023-05-02T08:49:15.503Z"
   },
   {
    "duration": 10,
    "start_time": "2023-05-02T08:49:15.961Z"
   },
   {
    "duration": 48,
    "start_time": "2023-05-02T08:49:15.973Z"
   },
   {
    "duration": 3,
    "start_time": "2023-05-02T08:49:16.023Z"
   },
   {
    "duration": 17,
    "start_time": "2023-05-02T08:49:16.028Z"
   },
   {
    "duration": 4,
    "start_time": "2023-05-02T08:49:16.047Z"
   },
   {
    "duration": 24,
    "start_time": "2023-05-02T08:49:16.052Z"
   },
   {
    "duration": 24,
    "start_time": "2023-05-02T08:49:16.078Z"
   },
   {
    "duration": 42,
    "start_time": "2023-05-02T08:49:16.103Z"
   },
   {
    "duration": 11,
    "start_time": "2023-05-02T08:49:16.146Z"
   },
   {
    "duration": 16,
    "start_time": "2023-05-02T08:49:16.158Z"
   },
   {
    "duration": 16,
    "start_time": "2023-05-02T08:49:16.176Z"
   },
   {
    "duration": 25,
    "start_time": "2023-05-02T08:49:16.194Z"
   },
   {
    "duration": 17,
    "start_time": "2023-05-02T08:49:16.221Z"
   },
   {
    "duration": 4,
    "start_time": "2023-05-02T08:49:16.240Z"
   },
   {
    "duration": 15,
    "start_time": "2023-05-02T08:49:16.245Z"
   },
   {
    "duration": 6,
    "start_time": "2023-05-02T08:49:16.262Z"
   },
   {
    "duration": 10,
    "start_time": "2023-05-02T08:49:16.270Z"
   },
   {
    "duration": 44,
    "start_time": "2023-05-02T08:49:16.281Z"
   },
   {
    "duration": 12,
    "start_time": "2023-05-02T08:49:16.326Z"
   },
   {
    "duration": 18,
    "start_time": "2023-05-02T08:49:16.340Z"
   },
   {
    "duration": 488,
    "start_time": "2023-05-02T08:49:48.141Z"
   },
   {
    "duration": 24,
    "start_time": "2023-05-02T08:49:48.631Z"
   },
   {
    "duration": 18,
    "start_time": "2023-05-02T08:49:48.657Z"
   },
   {
    "duration": 15,
    "start_time": "2023-05-02T08:49:48.676Z"
   },
   {
    "duration": 35,
    "start_time": "2023-05-02T08:49:48.713Z"
   },
   {
    "duration": 4,
    "start_time": "2023-05-02T08:49:48.749Z"
   },
   {
    "duration": 12,
    "start_time": "2023-05-02T08:49:48.754Z"
   },
   {
    "duration": 23,
    "start_time": "2023-05-02T08:49:48.767Z"
   },
   {
    "duration": 19,
    "start_time": "2023-05-02T08:49:48.792Z"
   },
   {
    "duration": 21,
    "start_time": "2023-05-02T08:49:48.813Z"
   },
   {
    "duration": 66,
    "start_time": "2023-05-02T08:49:48.836Z"
   },
   {
    "duration": 11,
    "start_time": "2023-05-02T08:49:48.904Z"
   },
   {
    "duration": 48,
    "start_time": "2023-05-02T08:49:48.917Z"
   },
   {
    "duration": 26,
    "start_time": "2023-05-02T08:49:48.968Z"
   },
   {
    "duration": 33,
    "start_time": "2023-05-02T08:49:48.996Z"
   },
   {
    "duration": 23,
    "start_time": "2023-05-02T08:49:49.031Z"
   },
   {
    "duration": 5,
    "start_time": "2023-05-02T08:49:49.056Z"
   },
   {
    "duration": 19,
    "start_time": "2023-05-02T08:49:49.064Z"
   },
   {
    "duration": 31,
    "start_time": "2023-05-02T08:49:49.086Z"
   },
   {
    "duration": 23,
    "start_time": "2023-05-02T08:49:49.120Z"
   },
   {
    "duration": 20,
    "start_time": "2023-05-02T08:49:49.145Z"
   },
   {
    "duration": 14,
    "start_time": "2023-05-02T08:49:49.168Z"
   },
   {
    "duration": 6,
    "start_time": "2023-05-02T08:49:49.183Z"
   },
   {
    "duration": 85,
    "start_time": "2023-05-02T08:50:00.132Z"
   },
   {
    "duration": 11,
    "start_time": "2023-05-02T08:55:05.683Z"
   },
   {
    "duration": 9,
    "start_time": "2023-05-02T08:55:29.684Z"
   },
   {
    "duration": 10,
    "start_time": "2023-05-02T08:55:34.717Z"
   },
   {
    "duration": 123,
    "start_time": "2023-05-02T08:55:42.686Z"
   },
   {
    "duration": 11,
    "start_time": "2023-05-02T08:57:18.356Z"
   },
   {
    "duration": 14,
    "start_time": "2023-05-02T08:57:28.660Z"
   },
   {
    "duration": 12,
    "start_time": "2023-05-02T09:02:31.986Z"
   },
   {
    "duration": 12,
    "start_time": "2023-05-02T09:03:04.842Z"
   },
   {
    "duration": 13,
    "start_time": "2023-05-02T09:03:58.483Z"
   },
   {
    "duration": 1139,
    "start_time": "2023-05-02T09:07:50.256Z"
   },
   {
    "duration": 18,
    "start_time": "2023-05-02T09:10:53.321Z"
   },
   {
    "duration": 14,
    "start_time": "2023-05-02T09:11:08.681Z"
   },
   {
    "duration": 76,
    "start_time": "2023-05-02T09:13:29.575Z"
   },
   {
    "duration": 14,
    "start_time": "2023-05-02T09:13:38.079Z"
   },
   {
    "duration": 1148,
    "start_time": "2023-05-02T09:25:09.713Z"
   },
   {
    "duration": 75,
    "start_time": "2023-05-02T09:25:20.408Z"
   },
   {
    "duration": 15,
    "start_time": "2023-05-02T09:27:53.370Z"
   },
   {
    "duration": 15,
    "start_time": "2023-05-02T09:28:01.892Z"
   },
   {
    "duration": 17,
    "start_time": "2023-05-02T09:28:38.229Z"
   },
   {
    "duration": 1169,
    "start_time": "2023-05-02T09:29:31.613Z"
   },
   {
    "duration": 15,
    "start_time": "2023-05-02T09:32:50.221Z"
   },
   {
    "duration": 13,
    "start_time": "2023-05-02T09:34:44.205Z"
   },
   {
    "duration": 13,
    "start_time": "2023-05-02T09:35:00.226Z"
   },
   {
    "duration": 18,
    "start_time": "2023-05-02T09:35:12.419Z"
   },
   {
    "duration": 935,
    "start_time": "2023-05-02T09:36:33.311Z"
   },
   {
    "duration": 1079,
    "start_time": "2023-05-02T09:36:53.861Z"
   },
   {
    "duration": 18,
    "start_time": "2023-05-02T09:39:02.314Z"
   },
   {
    "duration": 22,
    "start_time": "2023-05-02T09:59:27.133Z"
   },
   {
    "duration": 19,
    "start_time": "2023-05-02T10:00:05.149Z"
   },
   {
    "duration": 23,
    "start_time": "2023-05-02T10:00:16.148Z"
   },
   {
    "duration": 21,
    "start_time": "2023-05-02T10:01:06.227Z"
   },
   {
    "duration": 20,
    "start_time": "2023-05-02T10:01:32.153Z"
   },
   {
    "duration": 28,
    "start_time": "2023-05-02T10:02:19.044Z"
   },
   {
    "duration": 18,
    "start_time": "2023-05-02T10:14:36.423Z"
   },
   {
    "duration": 22,
    "start_time": "2023-05-02T10:14:57.497Z"
   },
   {
    "duration": 29,
    "start_time": "2023-05-02T10:15:11.105Z"
   },
   {
    "duration": 21,
    "start_time": "2023-05-02T10:15:29.928Z"
   },
   {
    "duration": 1244,
    "start_time": "2023-05-02T10:15:55.209Z"
   },
   {
    "duration": 1263,
    "start_time": "2023-05-02T10:16:35.709Z"
   },
   {
    "duration": 490,
    "start_time": "2023-05-02T10:17:19.611Z"
   },
   {
    "duration": 22,
    "start_time": "2023-05-02T10:17:20.103Z"
   },
   {
    "duration": 18,
    "start_time": "2023-05-02T10:17:20.128Z"
   },
   {
    "duration": 10,
    "start_time": "2023-05-02T10:17:20.148Z"
   },
   {
    "duration": 61,
    "start_time": "2023-05-02T10:17:20.160Z"
   },
   {
    "duration": 4,
    "start_time": "2023-05-02T10:17:20.223Z"
   },
   {
    "duration": 14,
    "start_time": "2023-05-02T10:17:20.228Z"
   },
   {
    "duration": 5,
    "start_time": "2023-05-02T10:17:20.243Z"
   },
   {
    "duration": 26,
    "start_time": "2023-05-02T10:17:20.250Z"
   },
   {
    "duration": 11,
    "start_time": "2023-05-02T10:17:20.277Z"
   },
   {
    "duration": 44,
    "start_time": "2023-05-02T10:17:20.290Z"
   },
   {
    "duration": 10,
    "start_time": "2023-05-02T10:17:20.336Z"
   },
   {
    "duration": 11,
    "start_time": "2023-05-02T10:17:20.348Z"
   },
   {
    "duration": 12,
    "start_time": "2023-05-02T10:17:20.362Z"
   },
   {
    "duration": 40,
    "start_time": "2023-05-02T10:17:20.376Z"
   },
   {
    "duration": 18,
    "start_time": "2023-05-02T10:17:20.418Z"
   },
   {
    "duration": 3,
    "start_time": "2023-05-02T10:17:20.438Z"
   },
   {
    "duration": 39,
    "start_time": "2023-05-02T10:17:20.443Z"
   },
   {
    "duration": 48,
    "start_time": "2023-05-02T10:17:20.484Z"
   },
   {
    "duration": 26,
    "start_time": "2023-05-02T10:17:20.534Z"
   },
   {
    "duration": 33,
    "start_time": "2023-05-02T10:17:20.562Z"
   },
   {
    "duration": 18,
    "start_time": "2023-05-02T10:17:20.597Z"
   },
   {
    "duration": 11,
    "start_time": "2023-05-02T10:17:20.617Z"
   },
   {
    "duration": 26,
    "start_time": "2023-05-02T10:17:20.630Z"
   },
   {
    "duration": 6,
    "start_time": "2023-05-02T10:17:20.659Z"
   },
   {
    "duration": 10,
    "start_time": "2023-05-02T10:17:20.667Z"
   },
   {
    "duration": 39,
    "start_time": "2023-05-02T10:17:20.679Z"
   },
   {
    "duration": 1576,
    "start_time": "2023-05-02T10:17:23.702Z"
   },
   {
    "duration": 18,
    "start_time": "2023-05-02T10:18:05.839Z"
   },
   {
    "duration": 1200,
    "start_time": "2023-05-02T10:18:28.418Z"
   },
   {
    "duration": 1349,
    "start_time": "2023-05-02T10:19:01.553Z"
   },
   {
    "duration": 16,
    "start_time": "2023-05-02T10:19:07.406Z"
   },
   {
    "duration": 21,
    "start_time": "2023-05-02T10:19:20.696Z"
   },
   {
    "duration": 21,
    "start_time": "2023-05-02T10:20:11.652Z"
   },
   {
    "duration": 21,
    "start_time": "2023-05-02T10:20:15.623Z"
   },
   {
    "duration": 21,
    "start_time": "2023-05-02T10:20:28.617Z"
   },
   {
    "duration": 21,
    "start_time": "2023-05-02T10:20:39.614Z"
   },
   {
    "duration": 13,
    "start_time": "2023-05-02T10:29:56.660Z"
   },
   {
    "duration": 19,
    "start_time": "2023-05-02T10:39:49.834Z"
   },
   {
    "duration": 12,
    "start_time": "2023-05-02T10:40:46.179Z"
   },
   {
    "duration": 32,
    "start_time": "2023-05-02T10:41:10.727Z"
   },
   {
    "duration": 19,
    "start_time": "2023-05-02T10:43:39.183Z"
   },
   {
    "duration": 7,
    "start_time": "2023-05-02T10:45:49.783Z"
   },
   {
    "duration": 69,
    "start_time": "2023-05-02T10:49:50.840Z"
   },
   {
    "duration": 16,
    "start_time": "2023-05-02T10:49:57.883Z"
   },
   {
    "duration": 25,
    "start_time": "2023-05-02T10:52:11.742Z"
   },
   {
    "duration": 28,
    "start_time": "2023-05-02T10:55:05.606Z"
   },
   {
    "duration": 10,
    "start_time": "2023-05-02T10:55:27.511Z"
   },
   {
    "duration": 47,
    "start_time": "2023-05-02T10:59:11.325Z"
   },
   {
    "duration": 45,
    "start_time": "2023-05-02T10:59:48.625Z"
   },
   {
    "duration": 56,
    "start_time": "2023-05-02T11:00:19.449Z"
   },
   {
    "duration": 47,
    "start_time": "2023-05-02T11:00:34.216Z"
   },
   {
    "duration": 46,
    "start_time": "2023-05-02T11:00:41.051Z"
   },
   {
    "duration": 51,
    "start_time": "2023-05-02T11:02:02.178Z"
   },
   {
    "duration": 56,
    "start_time": "2023-05-02T11:02:15.180Z"
   },
   {
    "duration": 51,
    "start_time": "2023-05-02T11:02:28.588Z"
   },
   {
    "duration": 56,
    "start_time": "2023-05-02T11:11:43.877Z"
   },
   {
    "duration": 43,
    "start_time": "2023-05-02T11:12:07.058Z"
   },
   {
    "duration": 45,
    "start_time": "2023-05-02T11:12:23.738Z"
   },
   {
    "duration": 54,
    "start_time": "2023-05-02T11:12:49.671Z"
   },
   {
    "duration": 55,
    "start_time": "2023-05-02T11:13:41.407Z"
   },
   {
    "duration": 51,
    "start_time": "2023-05-02T11:14:11.738Z"
   },
   {
    "duration": 27,
    "start_time": "2023-05-02T11:26:12.858Z"
   },
   {
    "duration": 84,
    "start_time": "2023-05-02T11:26:44.374Z"
   },
   {
    "duration": 17,
    "start_time": "2023-05-02T11:26:44.461Z"
   },
   {
    "duration": 48,
    "start_time": "2023-05-02T11:26:44.480Z"
   },
   {
    "duration": 12,
    "start_time": "2023-05-02T11:26:44.530Z"
   },
   {
    "duration": 36,
    "start_time": "2023-05-02T11:26:44.544Z"
   },
   {
    "duration": 4,
    "start_time": "2023-05-02T11:26:44.582Z"
   },
   {
    "duration": 36,
    "start_time": "2023-05-02T11:26:44.587Z"
   },
   {
    "duration": 6,
    "start_time": "2023-05-02T11:26:44.628Z"
   },
   {
    "duration": 9,
    "start_time": "2023-05-02T11:26:44.636Z"
   },
   {
    "duration": 16,
    "start_time": "2023-05-02T11:26:44.647Z"
   },
   {
    "duration": 68,
    "start_time": "2023-05-02T11:26:44.665Z"
   },
   {
    "duration": 10,
    "start_time": "2023-05-02T11:26:44.737Z"
   },
   {
    "duration": 25,
    "start_time": "2023-05-02T11:26:44.749Z"
   },
   {
    "duration": 24,
    "start_time": "2023-05-02T11:26:44.777Z"
   },
   {
    "duration": 42,
    "start_time": "2023-05-02T11:26:44.802Z"
   },
   {
    "duration": 21,
    "start_time": "2023-05-02T11:26:44.846Z"
   },
   {
    "duration": 9,
    "start_time": "2023-05-02T11:26:44.868Z"
   },
   {
    "duration": 45,
    "start_time": "2023-05-02T11:26:44.879Z"
   },
   {
    "duration": 14,
    "start_time": "2023-05-02T11:26:44.928Z"
   },
   {
    "duration": 17,
    "start_time": "2023-05-02T11:26:44.944Z"
   },
   {
    "duration": 12,
    "start_time": "2023-05-02T11:26:44.963Z"
   },
   {
    "duration": 8,
    "start_time": "2023-05-02T11:26:44.978Z"
   },
   {
    "duration": 15,
    "start_time": "2023-05-02T11:26:44.988Z"
   },
   {
    "duration": 44,
    "start_time": "2023-05-02T11:26:45.005Z"
   },
   {
    "duration": 5,
    "start_time": "2023-05-02T11:26:45.051Z"
   },
   {
    "duration": 18,
    "start_time": "2023-05-02T11:26:45.058Z"
   },
   {
    "duration": 7,
    "start_time": "2023-05-02T11:26:45.078Z"
   },
   {
    "duration": 43,
    "start_time": "2023-05-02T11:26:45.087Z"
   },
   {
    "duration": 8,
    "start_time": "2023-05-02T11:26:45.133Z"
   },
   {
    "duration": 16,
    "start_time": "2023-05-02T11:26:45.143Z"
   },
   {
    "duration": 15,
    "start_time": "2023-05-02T11:26:45.161Z"
   },
   {
    "duration": 45,
    "start_time": "2023-05-02T11:26:45.178Z"
   },
   {
    "duration": 7,
    "start_time": "2023-05-02T11:26:45.228Z"
   },
   {
    "duration": 60,
    "start_time": "2023-05-02T11:26:45.237Z"
   },
   {
    "duration": 27,
    "start_time": "2023-05-02T11:26:45.298Z"
   },
   {
    "duration": 9,
    "start_time": "2023-05-02T11:26:45.328Z"
   },
   {
    "duration": 30,
    "start_time": "2023-05-02T11:26:45.338Z"
   },
   {
    "duration": 532,
    "start_time": "2023-05-02T11:27:18.837Z"
   },
   {
    "duration": 59,
    "start_time": "2023-05-02T11:27:19.372Z"
   },
   {
    "duration": 23,
    "start_time": "2023-05-02T11:27:19.434Z"
   },
   {
    "duration": 15,
    "start_time": "2023-05-02T11:27:19.459Z"
   },
   {
    "duration": 72,
    "start_time": "2023-05-02T11:27:19.477Z"
   },
   {
    "duration": 5,
    "start_time": "2023-05-02T11:27:19.551Z"
   },
   {
    "duration": 36,
    "start_time": "2023-05-02T11:27:19.558Z"
   },
   {
    "duration": 29,
    "start_time": "2023-05-02T11:27:19.598Z"
   },
   {
    "duration": 16,
    "start_time": "2023-05-02T11:27:19.630Z"
   },
   {
    "duration": 19,
    "start_time": "2023-05-02T11:27:19.649Z"
   },
   {
    "duration": 79,
    "start_time": "2023-05-02T11:27:19.670Z"
   },
   {
    "duration": 15,
    "start_time": "2023-05-02T11:27:19.751Z"
   },
   {
    "duration": 26,
    "start_time": "2023-05-02T11:27:19.768Z"
   },
   {
    "duration": 29,
    "start_time": "2023-05-02T11:27:19.798Z"
   },
   {
    "duration": 53,
    "start_time": "2023-05-02T11:27:19.829Z"
   },
   {
    "duration": 50,
    "start_time": "2023-05-02T11:27:19.885Z"
   },
   {
    "duration": 4,
    "start_time": "2023-05-02T11:27:19.937Z"
   },
   {
    "duration": 40,
    "start_time": "2023-05-02T11:27:19.942Z"
   },
   {
    "duration": 16,
    "start_time": "2023-05-02T11:27:19.984Z"
   },
   {
    "duration": 4,
    "start_time": "2023-05-02T11:27:20.002Z"
   },
   {
    "duration": 43,
    "start_time": "2023-05-02T11:27:20.007Z"
   },
   {
    "duration": 38,
    "start_time": "2023-05-02T11:27:20.052Z"
   },
   {
    "duration": 12,
    "start_time": "2023-05-02T11:27:20.092Z"
   },
   {
    "duration": 37,
    "start_time": "2023-05-02T11:27:20.106Z"
   },
   {
    "duration": 7,
    "start_time": "2023-05-02T11:27:20.145Z"
   },
   {
    "duration": 13,
    "start_time": "2023-05-02T11:27:20.154Z"
   },
   {
    "duration": 9,
    "start_time": "2023-05-02T11:27:20.169Z"
   },
   {
    "duration": 53,
    "start_time": "2023-05-02T11:27:20.179Z"
   },
   {
    "duration": 12,
    "start_time": "2023-05-02T11:27:20.234Z"
   },
   {
    "duration": 15,
    "start_time": "2023-05-02T11:27:20.249Z"
   },
   {
    "duration": 14,
    "start_time": "2023-05-02T11:27:20.266Z"
   },
   {
    "duration": 54,
    "start_time": "2023-05-02T11:27:20.281Z"
   },
   {
    "duration": 7,
    "start_time": "2023-05-02T11:27:20.337Z"
   },
   {
    "duration": 83,
    "start_time": "2023-05-02T11:27:20.345Z"
   },
   {
    "duration": 11,
    "start_time": "2023-05-02T11:27:20.429Z"
   },
   {
    "duration": 20,
    "start_time": "2023-05-02T11:27:20.442Z"
   },
   {
    "duration": 57,
    "start_time": "2023-05-02T11:27:20.464Z"
   },
   {
    "duration": 503,
    "start_time": "2023-05-02T12:05:56.084Z"
   },
   {
    "duration": 36,
    "start_time": "2023-05-02T12:05:56.589Z"
   },
   {
    "duration": 17,
    "start_time": "2023-05-02T12:05:56.627Z"
   },
   {
    "duration": 15,
    "start_time": "2023-05-02T12:05:56.645Z"
   },
   {
    "duration": 40,
    "start_time": "2023-05-02T12:05:56.662Z"
   },
   {
    "duration": 10,
    "start_time": "2023-05-02T12:05:56.704Z"
   },
   {
    "duration": 17,
    "start_time": "2023-05-02T12:05:56.716Z"
   },
   {
    "duration": 5,
    "start_time": "2023-05-02T12:05:56.737Z"
   },
   {
    "duration": 14,
    "start_time": "2023-05-02T12:05:56.745Z"
   },
   {
    "duration": 27,
    "start_time": "2023-05-02T12:05:56.760Z"
   },
   {
    "duration": 43,
    "start_time": "2023-05-02T12:05:56.789Z"
   },
   {
    "duration": 12,
    "start_time": "2023-05-02T12:05:56.834Z"
   },
   {
    "duration": 11,
    "start_time": "2023-05-02T12:05:56.848Z"
   },
   {
    "duration": 21,
    "start_time": "2023-05-02T12:05:56.863Z"
   },
   {
    "duration": 31,
    "start_time": "2023-05-02T12:05:56.886Z"
   },
   {
    "duration": 25,
    "start_time": "2023-05-02T12:05:56.918Z"
   },
   {
    "duration": 5,
    "start_time": "2023-05-02T12:05:56.945Z"
   },
   {
    "duration": 16,
    "start_time": "2023-05-02T12:05:56.951Z"
   },
   {
    "duration": 8,
    "start_time": "2023-05-02T12:05:56.968Z"
   },
   {
    "duration": 4,
    "start_time": "2023-05-02T12:05:56.978Z"
   },
   {
    "duration": 44,
    "start_time": "2023-05-02T12:05:56.983Z"
   },
   {
    "duration": 29,
    "start_time": "2023-05-02T12:05:57.030Z"
   },
   {
    "duration": 6,
    "start_time": "2023-05-02T12:05:57.061Z"
   },
   {
    "duration": 21,
    "start_time": "2023-05-02T12:05:57.068Z"
   },
   {
    "duration": 40,
    "start_time": "2023-05-02T12:05:57.091Z"
   },
   {
    "duration": 27,
    "start_time": "2023-05-02T12:05:57.132Z"
   },
   {
    "duration": 6,
    "start_time": "2023-05-02T12:05:57.161Z"
   },
   {
    "duration": 75,
    "start_time": "2023-05-02T12:05:57.169Z"
   },
   {
    "duration": 22,
    "start_time": "2023-05-02T12:05:57.246Z"
   },
   {
    "duration": 518,
    "start_time": "2023-05-03T05:57:42.599Z"
   },
   {
    "duration": 27,
    "start_time": "2023-05-03T05:57:43.120Z"
   },
   {
    "duration": 15,
    "start_time": "2023-05-03T05:57:43.148Z"
   },
   {
    "duration": 27,
    "start_time": "2023-05-03T05:57:43.166Z"
   },
   {
    "duration": 56,
    "start_time": "2023-05-03T05:57:43.194Z"
   },
   {
    "duration": 4,
    "start_time": "2023-05-03T05:57:43.252Z"
   },
   {
    "duration": 57,
    "start_time": "2023-05-03T05:57:43.257Z"
   },
   {
    "duration": 15,
    "start_time": "2023-05-03T05:57:43.315Z"
   },
   {
    "duration": 26,
    "start_time": "2023-05-03T05:57:43.332Z"
   },
   {
    "duration": 5,
    "start_time": "2023-05-03T05:57:43.363Z"
   },
   {
    "duration": 43,
    "start_time": "2023-05-03T05:57:43.370Z"
   },
   {
    "duration": 10,
    "start_time": "2023-05-03T05:57:43.415Z"
   },
   {
    "duration": 16,
    "start_time": "2023-05-03T05:57:43.426Z"
   },
   {
    "duration": 25,
    "start_time": "2023-05-03T05:57:43.444Z"
   },
   {
    "duration": 21,
    "start_time": "2023-05-03T05:57:43.471Z"
   },
   {
    "duration": 18,
    "start_time": "2023-05-03T05:57:43.494Z"
   },
   {
    "duration": 16,
    "start_time": "2023-05-03T05:57:43.513Z"
   },
   {
    "duration": 19,
    "start_time": "2023-05-03T05:57:43.530Z"
   },
   {
    "duration": 27,
    "start_time": "2023-05-03T05:57:43.550Z"
   },
   {
    "duration": 6,
    "start_time": "2023-05-03T05:57:43.579Z"
   },
   {
    "duration": 22,
    "start_time": "2023-05-03T05:57:43.587Z"
   },
   {
    "duration": 30,
    "start_time": "2023-05-03T05:57:43.611Z"
   },
   {
    "duration": 7,
    "start_time": "2023-05-03T05:57:43.644Z"
   },
   {
    "duration": 45,
    "start_time": "2023-05-03T05:57:43.654Z"
   },
   {
    "duration": 22,
    "start_time": "2023-05-03T05:57:43.702Z"
   },
   {
    "duration": 33,
    "start_time": "2023-05-03T05:57:43.726Z"
   },
   {
    "duration": 7,
    "start_time": "2023-05-03T05:57:43.761Z"
   },
   {
    "duration": 66,
    "start_time": "2023-05-03T05:57:43.771Z"
   },
   {
    "duration": 38,
    "start_time": "2023-05-03T05:57:43.839Z"
   },
   {
    "duration": 513,
    "start_time": "2023-05-18T07:18:18.969Z"
   },
   {
    "duration": 23,
    "start_time": "2023-05-18T07:18:19.484Z"
   },
   {
    "duration": 16,
    "start_time": "2023-05-18T07:18:19.509Z"
   },
   {
    "duration": 9,
    "start_time": "2023-05-18T07:18:19.527Z"
   },
   {
    "duration": 45,
    "start_time": "2023-05-18T07:18:19.537Z"
   },
   {
    "duration": 4,
    "start_time": "2023-05-18T07:18:19.583Z"
   },
   {
    "duration": 9,
    "start_time": "2023-05-18T07:18:19.588Z"
   },
   {
    "duration": 6,
    "start_time": "2023-05-18T07:18:19.599Z"
   },
   {
    "duration": 10,
    "start_time": "2023-05-18T07:18:19.606Z"
   },
   {
    "duration": 5,
    "start_time": "2023-05-18T07:18:19.618Z"
   },
   {
    "duration": 66,
    "start_time": "2023-05-18T07:18:19.624Z"
   },
   {
    "duration": 8,
    "start_time": "2023-05-18T07:18:19.692Z"
   },
   {
    "duration": 4,
    "start_time": "2023-05-18T07:18:19.702Z"
   },
   {
    "duration": 12,
    "start_time": "2023-05-18T07:18:19.707Z"
   },
   {
    "duration": 18,
    "start_time": "2023-05-18T07:18:19.721Z"
   },
   {
    "duration": 39,
    "start_time": "2023-05-18T07:18:19.741Z"
   },
   {
    "duration": 5,
    "start_time": "2023-05-18T07:18:19.781Z"
   },
   {
    "duration": 13,
    "start_time": "2023-05-18T07:18:19.787Z"
   },
   {
    "duration": 8,
    "start_time": "2023-05-18T07:18:19.801Z"
   },
   {
    "duration": 4,
    "start_time": "2023-05-18T07:18:19.811Z"
   },
   {
    "duration": 9,
    "start_time": "2023-05-18T07:18:19.817Z"
   },
   {
    "duration": 46,
    "start_time": "2023-05-18T07:18:19.828Z"
   },
   {
    "duration": 6,
    "start_time": "2023-05-18T07:18:19.876Z"
   },
   {
    "duration": 22,
    "start_time": "2023-05-18T07:18:19.884Z"
   },
   {
    "duration": 21,
    "start_time": "2023-05-18T07:18:19.908Z"
   },
   {
    "duration": 44,
    "start_time": "2023-05-18T07:18:19.931Z"
   },
   {
    "duration": 6,
    "start_time": "2023-05-18T07:18:19.976Z"
   },
   {
    "duration": 59,
    "start_time": "2023-05-18T07:18:19.984Z"
   },
   {
    "duration": 23,
    "start_time": "2023-05-18T07:18:20.057Z"
   },
   {
    "duration": 725,
    "start_time": "2023-11-01T09:38:23.413Z"
   },
   {
    "duration": 22,
    "start_time": "2023-11-01T09:38:24.140Z"
   },
   {
    "duration": 257,
    "start_time": "2023-11-01T09:38:24.164Z"
   },
   {
    "duration": 109,
    "start_time": "2023-11-01T09:38:24.424Z"
   },
   {
    "duration": 49,
    "start_time": "2023-11-01T09:38:24.535Z"
   },
   {
    "duration": 10,
    "start_time": "2023-11-01T09:38:24.586Z"
   },
   {
    "duration": 71,
    "start_time": "2023-11-01T09:38:24.597Z"
   },
   {
    "duration": 98,
    "start_time": "2023-11-01T09:38:24.670Z"
   },
   {
    "duration": 132,
    "start_time": "2023-11-01T09:38:24.770Z"
   },
   {
    "duration": 23,
    "start_time": "2023-11-01T09:38:24.907Z"
   },
   {
    "duration": 49,
    "start_time": "2023-11-01T09:38:24.931Z"
   },
   {
    "duration": 10,
    "start_time": "2023-11-01T09:38:24.981Z"
   },
   {
    "duration": 168,
    "start_time": "2023-11-01T09:38:24.992Z"
   },
   {
    "duration": 186,
    "start_time": "2023-11-01T09:38:25.161Z"
   },
   {
    "duration": 120,
    "start_time": "2023-11-01T09:38:25.349Z"
   },
   {
    "duration": 66,
    "start_time": "2023-11-01T09:38:25.471Z"
   },
   {
    "duration": 21,
    "start_time": "2023-11-01T09:38:25.539Z"
   },
   {
    "duration": 37,
    "start_time": "2023-11-01T09:38:25.562Z"
   },
   {
    "duration": 60,
    "start_time": "2023-11-01T09:38:25.600Z"
   },
   {
    "duration": 79,
    "start_time": "2023-11-01T09:38:25.662Z"
   },
   {
    "duration": 29,
    "start_time": "2023-11-01T09:38:25.744Z"
   },
   {
    "duration": 37,
    "start_time": "2023-11-01T09:38:25.775Z"
   },
   {
    "duration": 42,
    "start_time": "2023-11-01T09:38:25.814Z"
   },
   {
    "duration": 75,
    "start_time": "2023-11-01T09:38:25.858Z"
   },
   {
    "duration": 27,
    "start_time": "2023-11-01T09:38:25.935Z"
   },
   {
    "duration": 30,
    "start_time": "2023-11-01T09:38:25.963Z"
   },
   {
    "duration": 7,
    "start_time": "2023-11-01T09:38:25.995Z"
   },
   {
    "duration": 82,
    "start_time": "2023-11-01T09:38:26.004Z"
   },
   {
    "duration": 20,
    "start_time": "2023-11-01T09:38:26.087Z"
   }
  ],
  "colab": {
   "provenance": []
  },
  "kernelspec": {
   "display_name": "Python 3 (ipykernel)",
   "language": "python",
   "name": "python3"
  },
  "language_info": {
   "codemirror_mode": {
    "name": "ipython",
    "version": 3
   },
   "file_extension": ".py",
   "mimetype": "text/x-python",
   "name": "python",
   "nbconvert_exporter": "python",
   "pygments_lexer": "ipython3",
   "version": "3.10.9"
  },
  "toc": {
   "base_numbering": 1,
   "nav_menu": {},
   "number_sections": true,
   "sideBar": false,
   "skip_h1_title": true,
   "title_cell": "Table of Contents",
   "title_sidebar": "Contents",
   "toc_cell": false,
   "toc_position": {
    "height": "47.7109px",
    "left": "1215.64px",
    "top": "111.141px",
    "width": "159.359px"
   },
   "toc_section_display": false,
   "toc_window_display": true
  }
 },
 "nbformat": 4,
 "nbformat_minor": 5
}
