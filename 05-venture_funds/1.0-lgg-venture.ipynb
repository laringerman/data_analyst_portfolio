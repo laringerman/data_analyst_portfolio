{
 "cells": [
  {
   "cell_type": "markdown",
   "id": "3178400f",
   "metadata": {},
   "source": [
    "# SQL Анализ венчурных фондов  Startup Investments"
   ]
  },
  {
   "cell_type": "markdown",
   "id": "d0368d30",
   "metadata": {},
   "source": [
    "<img src=\"https://code.s3.yandex.net/SQL%20for%20data%20and%20analytics/ER/basic_sql_project_ERD.png\" alt=\"ER\"/>"
   ]
  },
  {
   "cell_type": "markdown",
   "id": "97c0be51",
   "metadata": {},
   "source": [
    "## 1. Отобразите все записи из таблицы company по компаниям, которые закрылись."
   ]
  },
  {
   "cell_type": "code",
   "execution_count": null,
   "id": "364fb690",
   "metadata": {},
   "outputs": [],
   "source": [
    "SELECT COUNT(status)\n",
    "FROM company\n",
    "WHERE status = 'closed';"
   ]
  },
  {
   "cell_type": "markdown",
   "id": "cf30aea6",
   "metadata": {},
   "source": [
    "## 2. Отобразите количество привлечённых средств для новостных компаний США. Используйте данные из таблицы company. Отсортируйте таблицу по убыванию значений в поле funding_total."
   ]
  },
  {
   "cell_type": "code",
   "execution_count": null,
   "id": "8442ab14",
   "metadata": {},
   "outputs": [],
   "source": [
    "SELECT funding_total\n",
    "FROM company\n",
    "WHERE id IN (\n",
    "    SELECT id\n",
    "    FROM company\n",
    "    WHERE category_code = 'news'\n",
    "    )\n",
    "AND country_code = 'USA'\n",
    "ORDER BY funding_total DESC;"
   ]
  },
  {
   "cell_type": "markdown",
   "id": "53043b86",
   "metadata": {},
   "source": [
    "## 3. Найдите общую сумму сделок по покупке одних компаний другими в долларах. Отберите сделки, которые осуществлялись только за наличные с 2011 по 2013 год включительно."
   ]
  },
  {
   "cell_type": "code",
   "execution_count": null,
   "id": "4406b33f",
   "metadata": {},
   "outputs": [],
   "source": [
    "SELECT SUM(price_amount)\n",
    "FROM acquisition\n",
    "WHERE EXTRACT(YEAR FROM CAST(acquired_at AS timestamp)) BETWEEN 2011 AND 2013\n",
    "AND term_code = 'cash';"
   ]
  },
  {
   "cell_type": "markdown",
   "id": "6c8fad89",
   "metadata": {},
   "source": [
    "## 4. Отобразите имя, фамилию и названия аккаунтов людей в поле network_username, у которых названия аккаунтов начинаются на 'Silver'."
   ]
  },
  {
   "cell_type": "code",
   "execution_count": null,
   "id": "db8f0a75",
   "metadata": {},
   "outputs": [],
   "source": [
    "SELECT first_name,\n",
    "        last_name,\n",
    "        twitter_username\n",
    "FROM people\n",
    "WHERE twitter_username LIKE 'Silver%';"
   ]
  },
  {
   "cell_type": "markdown",
   "id": "3e9f32d6",
   "metadata": {},
   "source": [
    "## 5. Выведите на экран всю информацию о людях, у которых названия аккаунтов в поле network_username содержат подстроку 'money', а фамилия начинается на 'K'."
   ]
  },
  {
   "cell_type": "code",
   "execution_count": null,
   "id": "c0320fff",
   "metadata": {},
   "outputs": [],
   "source": [
    "SELECT *\n",
    "FROM people\n",
    "WHERE twitter_username LIKE '%money%'\n",
    "AND last_name LIKE 'K%';"
   ]
  },
  {
   "cell_type": "markdown",
   "id": "343357fe",
   "metadata": {},
   "source": [
    "## 6. Для каждой страны отобразите общую сумму привлечённых инвестиций, которые получили компании, зарегистрированные в этой стране. Страну, в которой зарегистрирована компания, можно определить по коду страны. Отсортируйте данные по убыванию суммы."
   ]
  },
  {
   "cell_type": "code",
   "execution_count": null,
   "id": "62050a43",
   "metadata": {},
   "outputs": [],
   "source": [
    "SELECT country_code,\n",
    "        SUM(funding_total)\n",
    "FROM company\n",
    "GROUP BY country_code\n",
    "ORDER BY SUM(funding_total) DESC;"
   ]
  },
  {
   "cell_type": "markdown",
   "id": "4da759fb",
   "metadata": {},
   "source": [
    "## 7. Составьте таблицу, в которую войдёт дата проведения раунда, а также минимальное и максимальное значения суммы инвестиций, привлечённых в эту дату. Оставьте в итоговой таблице только те записи, в которых минимальное значение суммы инвестиций не равно нулю и не равно максимальному значению."
   ]
  },
  {
   "cell_type": "code",
   "execution_count": null,
   "id": "ec8c4bd6",
   "metadata": {},
   "outputs": [],
   "source": [
    "SELECT funded_at,\n",
    "        MIN(raised_amount),\n",
    "        MAX(raised_amount)\n",
    "FROM funding_round\n",
    "GROUP BY funded_at\n",
    "HAVING MIN(raised_amount) <> 0 AND MIN(raised_amount) <> MAX(raised_amount);"
   ]
  },
  {
   "cell_type": "markdown",
   "id": "7717929b",
   "metadata": {},
   "source": [
    "## 8. Создайте поле с категориями:\n",
    "- Для фондов, которые инвестируют в 100 и более компаний, назначьте категорию high_activity,\n",
    "- Для фондов, которые инвестируют в 20 и более компаний до 100, назначьте категорию middle_activity,\n",
    "- Если количество инвестируемых компаний фонда не достигает 20, назначьте категорию low_activity,  \n",
    "  \n",
    "Отобразите все поля таблицы fund и новое поле с категориями."
   ]
  },
  {
   "cell_type": "code",
   "execution_count": null,
   "id": "130a2cf0",
   "metadata": {},
   "outputs": [],
   "source": [
    "SELECT *,\n",
    "        CASE\n",
    "        WHEN invested_companies < 20 THEN 'low_activity'\n",
    "        WHEN invested_companies >= 100 THEN 'high_activity'\n",
    "        ELSE 'middle_activity'\n",
    "        END\n",
    "FROM fund;"
   ]
  },
  {
   "cell_type": "markdown",
   "id": "f14957ed",
   "metadata": {},
   "source": [
    "## 9. Для каждой из категорий, назначенных в предыдущем задании, посчитайте округлённое до ближайшего целого числа среднее количество инвестиционных раундов, в которых фонд принимал участие. Выведите на экран категории и среднее число инвестиционных раундов. Отсортируйте таблицу по возрастанию среднего."
   ]
  },
  {
   "cell_type": "code",
   "execution_count": null,
   "id": "4a1ce1f6",
   "metadata": {},
   "outputs": [],
   "source": [
    "SELECT \n",
    "       CASE\n",
    "           WHEN invested_companies>=100 THEN 'high_activity'\n",
    "           WHEN invested_companies>=20 THEN 'middle_activity'\n",
    "           ELSE 'low_activity'\n",
    "       END AS activity,\n",
    "       ROUND(AVG(investment_rounds))\n",
    "FROM fund\n",
    "GROUP BY activity\n",
    "ORDER BY ROUND(AVG(investment_rounds));"
   ]
  },
  {
   "cell_type": "markdown",
   "id": "4bb33615",
   "metadata": {},
   "source": [
    "## 10. Проанализируйте, в каких странах находятся фонды, которые чаще всего инвестируют в стартапы.  \n",
    "Для каждой страны посчитайте минимальное, максимальное и среднее число компаний, в которые инвестировали фонды этой страны, основанные с 2010 по 2012 год включительно. Исключите страны с фондами, у которых минимальное число компаний, получивших инвестиции, равно нулю.  \n",
    "Выгрузите десять самых активных стран-инвесторов: отсортируйте таблицу по среднему количеству компаний от большего к меньшему. Затем добавьте сортировку по коду страны в лексикографическом порядке."
   ]
  },
  {
   "cell_type": "code",
   "execution_count": null,
   "id": "e7a4d725",
   "metadata": {},
   "outputs": [],
   "source": [
    "SELECT country_code,\n",
    "        MIN(invested_companies),\n",
    "        MAX(invested_companies),\n",
    "        AVG(invested_companies)\n",
    "FROM fund\n",
    "WHERE EXTRACT(YEAR FROM CAST(founded_at AS timestamp)) BETWEEN 2010 AND 2012\n",
    "GROUP BY country_code\n",
    "HAVING MIN(invested_companies) > 0\n",
    "ORDER BY AVG(invested_companies) DESC, country_code\n",
    "LIMIT 10;"
   ]
  },
  {
   "cell_type": "markdown",
   "id": "0892c75a",
   "metadata": {},
   "source": [
    "## 11. Отобразите имя и фамилию всех сотрудников стартапов. Добавьте поле с названием учебного заведения, которое окончил сотрудник, если эта информация известна."
   ]
  },
  {
   "cell_type": "code",
   "execution_count": null,
   "id": "d8523c02",
   "metadata": {},
   "outputs": [],
   "source": [
    "SELECT p.first_name,\n",
    "         p.last_name,\n",
    "         e.instituition\n",
    "FROM people AS p\n",
    "LEFT OUTER JOIN education AS e ON p.id=e.person_id;"
   ]
  },
  {
   "cell_type": "markdown",
   "id": "7ad0a971",
   "metadata": {},
   "source": [
    "## 12. Для каждой компании найдите количество учебных заведений, которые окончили её сотрудники. Выведите название компании и число уникальных названий учебных заведений. Составьте топ-5 компаний по количеству университетов."
   ]
  },
  {
   "cell_type": "code",
   "execution_count": null,
   "id": "ed43dea9",
   "metadata": {},
   "outputs": [],
   "source": [
    "WITH\n",
    "e AS (\n",
    "    SELECT person_id,\n",
    "        instituition,\n",
    "        graduated_at\n",
    "    FROM education\n",
    "),\n",
    "c AS (\n",
    "    SELECT id,\n",
    "        name\n",
    "    FROM company\n",
    "),\n",
    "p AS (\n",
    "SELECT id,\n",
    "        company_id\n",
    "FROM people\n",
    ")    \n",
    "\n",
    "SELECT c.name,\n",
    "        COUNT(DISTINCT tab_1.instituition)\n",
    "FROM c\n",
    "RIGHT OUTER JOIN  (\n",
    "SELECT p.company_id,\n",
    "        e.instituition\n",
    "FROM p\n",
    "INNER JOIN e ON p.id=e.person_id\n",
    "WHERE e.instituition IS NOT NULL) AS tab_1 ON tab_1.company_id=c.id\n",
    "WHERE c.name IS NOT NULL\n",
    "GROUP BY c.name\n",
    "ORDER BY COUNT(DISTINCT tab_1.instituition) DESC\n",
    "LIMIT 5;"
   ]
  },
  {
   "cell_type": "markdown",
   "id": "2e526a15",
   "metadata": {},
   "source": [
    "## 13. Составьте список с уникальными названиями закрытых компаний, для которых первый раунд финансирования оказался последним."
   ]
  },
  {
   "cell_type": "code",
   "execution_count": null,
   "id": "4c9d9693",
   "metadata": {},
   "outputs": [],
   "source": [
    "SELECT DISTINCT name\n",
    "FROM company\n",
    "WHERE id IN (\n",
    "    SELECT company_id\n",
    "    FROM funding_round\n",
    "    WHERE is_first_round = 1 AND is_last_round = 1\n",
    "    )\n",
    "AND status = 'closed';"
   ]
  },
  {
   "cell_type": "markdown",
   "id": "e9f25bee",
   "metadata": {},
   "source": [
    "## 14. Составьте список уникальных номеров сотрудников, которые работают в компаниях, отобранных в предыдущем задании."
   ]
  },
  {
   "cell_type": "code",
   "execution_count": null,
   "id": "64a9d404",
   "metadata": {},
   "outputs": [],
   "source": [
    "SELECT id\n",
    "FROM people\n",
    "WHERE company_id IN(\n",
    "    SELECT id\n",
    "    FROM company\n",
    "    WHERE id IN (\n",
    "        SELECT company_id\n",
    "        FROM funding_round\n",
    "        WHERE is_first_round = 1 AND is_last_round = 1\n",
    "        )\n",
    "    AND status = 'closed');"
   ]
  },
  {
   "cell_type": "markdown",
   "id": "ba98f1d3",
   "metadata": {},
   "source": [
    "## 15. Составьте таблицу, куда войдут уникальные пары с номерами сотрудников из предыдущей задачи и учебным заведением, которое окончил сотрудник."
   ]
  },
  {
   "cell_type": "code",
   "execution_count": null,
   "id": "ef0bd931",
   "metadata": {},
   "outputs": [],
   "source": [
    "SELECT DISTINCT person_id,\n",
    "        instituition\n",
    "FROM education\n",
    "WHERE person_id IN(\n",
    "SELECT id\n",
    "FROM people\n",
    "WHERE company_id IN(\n",
    "    SELECT id\n",
    "    FROM company\n",
    "    WHERE id IN (\n",
    "        SELECT company_id\n",
    "        FROM funding_round\n",
    "        WHERE is_first_round = 1 AND is_last_round = 1\n",
    "        )\n",
    "    AND status = 'closed'));"
   ]
  },
  {
   "cell_type": "markdown",
   "id": "69bee131",
   "metadata": {},
   "source": [
    "## 16. Посчитайте количество учебных заведений для каждого сотрудника из предыдущего задания. При подсчёте учитывайте, что некоторые сотрудники могли окончить одно и то же заведение дважды."
   ]
  },
  {
   "cell_type": "code",
   "execution_count": null,
   "id": "2c6fc9b0",
   "metadata": {},
   "outputs": [],
   "source": [
    "SELECT  person_id,\n",
    "       COUNT(instituition)\n",
    "FROM education\n",
    "WHERE person_id IN(\n",
    "SELECT id\n",
    "FROM people\n",
    "WHERE company_id IN(\n",
    "    SELECT id\n",
    "    FROM company\n",
    "    WHERE id IN (\n",
    "        SELECT company_id\n",
    "        FROM funding_round\n",
    "        WHERE is_first_round = 1 AND is_last_round = 1\n",
    "        )\n",
    "    AND status = 'closed'))\n",
    "GROUP BY person_id;"
   ]
  },
  {
   "cell_type": "markdown",
   "id": "44435247",
   "metadata": {},
   "source": [
    "## 17. Дополните предыдущий запрос и выведите среднее число учебных заведений (всех, не только уникальных), которые окончили сотрудники разных компаний. Нужно вывести только одну запись, группировка здесь не понадобится."
   ]
  },
  {
   "cell_type": "code",
   "execution_count": null,
   "id": "38c8de88",
   "metadata": {},
   "outputs": [],
   "source": [
    "SELECT AVG(co_in)\n",
    "FROM(\n",
    "SELECT  person_id,\n",
    "       COUNT(instituition) AS co_in\n",
    "FROM education\n",
    "WHERE person_id IN(\n",
    "SELECT id\n",
    "FROM people\n",
    "WHERE company_id IN(\n",
    "    SELECT id\n",
    "    FROM company\n",
    "    WHERE id IN (\n",
    "        SELECT company_id\n",
    "        FROM funding_round\n",
    "        WHERE is_first_round = 1 AND is_last_round = 1\n",
    "        )\n",
    "    AND status = 'closed'))\n",
    "GROUP BY person_id) AS tab_1;"
   ]
  },
  {
   "cell_type": "markdown",
   "id": "02d83ba0",
   "metadata": {},
   "source": [
    "## 18. Напишите похожий запрос: выведите среднее число учебных заведений (всех, не только уникальных), которые окончили сотрудники Socialnet."
   ]
  },
  {
   "cell_type": "code",
   "execution_count": null,
   "id": "8516394b",
   "metadata": {},
   "outputs": [],
   "source": [
    "SELECT AVG(tab_1.co_in)\n",
    "FROM (\n",
    "    SELECT person_id,\n",
    "            COUNT(instituition) AS co_in\n",
    "    FROM education\n",
    "    WHERE person_id IN (\n",
    "    SELECT id\n",
    "        FROM people\n",
    "        WHERE company_id =\n",
    "            (SELECT id\n",
    "            FROM company\n",
    "            WHERE name = 'Facebook'))\n",
    "    GROUP BY person_id) AS tab_1;"
   ]
  },
  {
   "cell_type": "markdown",
   "id": "25b291bd",
   "metadata": {},
   "source": [
    "## 19. Составьте таблицу из полей:\n",
    "- name_of_fund — название фонда;\n",
    "- name_of_company — название компании;\n",
    "- amount — сумма инвестиций, которую привлекла компания в раунде.  \n",
    "  \n",
    "В таблицу войдут данные о компаниях, в истории которых было больше шести важных этапов, а раунды финансирования проходили с 2012 по 2013 год включительно."
   ]
  },
  {
   "cell_type": "code",
   "execution_count": null,
   "id": "74ec582e",
   "metadata": {},
   "outputs": [],
   "source": [
    "SELECT f.name AS name_of_fund,\n",
    "        c.name AS name_of_company,\n",
    "        id_list.raised_amount AS amount\n",
    "FROM (SELECT company_id,\n",
    "        fund_id,\n",
    "        raised_amount\n",
    "FROM investment AS inv\n",
    "RIGHT OUTER JOIN (\n",
    "\n",
    "SELECT id,\n",
    "        raised_amount\n",
    "FROM funding_round\n",
    "WHERE EXTRACT(YEAR FROM CAST(funded_at AS timestamp)) BETWEEN 2012 AND 2013\n",
    "AND company_id IN (\n",
    "    SELECT id\n",
    "    FROM company\n",
    "    WHERE milestones > 6\n",
    ")) AS inv_list ON inv_list.id=inv.funding_round_id) AS id_list\n",
    "INNER JOIN company AS c ON c.id=id_list.company_id\n",
    "INNER JOIN fund AS f ON f.id=id_list.fund_i;"
   ]
  },
  {
   "cell_type": "markdown",
   "id": "07f5f6fe",
   "metadata": {},
   "source": [
    "## 20. Выгрузите таблицу, в которой будут такие поля:\n",
    "- название компании-покупателя;\n",
    "- сумма сделки;\n",
    "- название компании, которую купили;\n",
    "- сумма инвестиций, вложенных в купленную компанию;\n",
    "- доля, которая отображает, во сколько раз сумма покупки превысила сумму вложенных в компанию инвестиций, округлённая до ближайшего целого числа.  \n",
    "  \n",
    "Не учитывайте те сделки, в которых сумма покупки равна нулю. Если сумма инвестиций в компанию равна нулю, исключите такую компанию из таблицы.  \n",
    "Отсортируйте таблицу по сумме сделки от большей к меньшей, а затем по названию купленной компании в лексикографическом порядке. Ограничьте таблицу первыми десятью записями."
   ]
  },
  {
   "cell_type": "code",
   "execution_count": null,
   "id": "1c611271",
   "metadata": {},
   "outputs": [],
   "source": [
    "SELECT com.name AS acquiring_company,\n",
    "        \n",
    "        tab_1.price_amount,\n",
    "        tab_1.acquired_company,\n",
    "        tab_1.funding_total,\n",
    "        ROUND(tab_1.price_amount / tab_1.funding_total)\n",
    "        \n",
    "        \n",
    "FROM \n",
    "(    SELECT acquiring_company_id,\n",
    "         price_amount,\n",
    "         c.name AS acquired_company,\n",
    "            funding_total\n",
    "    FROM (\n",
    "        SELECT acquiring_company_id,\n",
    "                acquired_company_id,\n",
    "                price_amount\n",
    "        FROM acquisition\n",
    "        WHERE price_amount > 0) AS acq\n",
    "    LEFT OUTER JOIN company AS c ON acq.acquired_company_id=c.id\n",
    "    WHERE funding_total > 0) AS tab_1\n",
    "LEFT OUTER JOIN company AS com ON tab_1.acquiring_company_id=com.id\n",
    "ORDER BY tab_1.price_amount DESC, ROUND(tab_1.price_amount / tab_1.funding_total) DESC\n",
    "LIMIT 10;"
   ]
  },
  {
   "cell_type": "markdown",
   "id": "9bd2f714",
   "metadata": {},
   "source": [
    "## 21. Выгрузите таблицу, в которую войдут названия компаний из категории social, получившие финансирование с 2010 по 2013 год включительно. Проверьте, что сумма инвестиций не равна нулю. Выведите также номер месяца, в котором проходил раунд финансирования."
   ]
  },
  {
   "cell_type": "code",
   "execution_count": null,
   "id": "bc9125a5",
   "metadata": {},
   "outputs": [],
   "source": [
    "SELECT name,\n",
    "        ci.i_month\n",
    "FROM company AS c\n",
    "RIGHT OUTER JOIN \n",
    "    (SELECT company_id,\n",
    "            EXTRACT(MONTH FROM CAST(funded_at AS timestamp)) AS i_month\n",
    "    FROM funding_round\n",
    "    WHERE EXTRACT(YEAR FROM CAST(funded_at AS timestamp)) BETWEEN 2010 AND 2013\n",
    "    AND raised_amount > 0) AS ci ON c.id=ci.company_id\n",
    "WHERE category_code = 'social';"
   ]
  },
  {
   "cell_type": "markdown",
   "id": "02ae73df",
   "metadata": {},
   "source": [
    "## 22. Отберите данные по месяцам с 2010 по 2013 год, когда проходили инвестиционные раунды. Сгруппируйте данные по номеру месяца и получите таблицу, в которой будут поля:\n",
    "- номер месяца, в котором проходили раунды;\n",
    "- количество уникальных названий фондов из США, которые инвестировали в этом месяце;\n",
    "- количество компаний, купленных за этот месяц;\n",
    "- общая сумма сделок по покупкам в этом месяце."
   ]
  },
  {
   "cell_type": "code",
   "execution_count": null,
   "id": "566dd6e9",
   "metadata": {},
   "outputs": [],
   "source": [
    "WITH\n",
    "a AS (\n",
    "SELECT EXTRACT(MONTH FROM CAST(fr.funded_at AS timestamp)) AS inv_month,\n",
    "        inv.fund_id\n",
    "    FROM funding_round AS fr\n",
    "    LEFT OUTER JOIN investment AS inv ON fr.id=inv.funding_round_id\n",
    "    WHERE EXTRACT(YEAR FROM CAST(fr.funded_at AS timestamp)) BETWEEN 2010 AND 2013\n",
    "    AND inv.fund_id IN(\n",
    "        SELECT id\n",
    "    FROM fund\n",
    "    WHERE country_code = 'USA')\n",
    "),\n",
    "\n",
    "b AS (\n",
    "    SELECT COUNT(DISTINCT f.name) AS fund_count,\n",
    "            a.inv_month\n",
    "    FROM a\n",
    "    LEFT OUTER JOIN fund AS f ON a.fund_id=f.id\n",
    "    GROUP BY a.inv_month\n",
    "),\n",
    "\n",
    "r AS (\n",
    "    SELECT EXTRACT(MONTH FROM CAST(acquired_at AS timestamp)) AS acq_month,\n",
    "            COUNT(acquired_company_id) AS count_com,\n",
    "            SUM(price_amount) AS sum_amont\n",
    "    FROM acquisition\n",
    "    WHERE EXTRACT(YEAR FROM CAST(acquired_at AS timestamp)) BETWEEN 2010 AND 2013\n",
    "    GROUP BY EXTRACT(MONTH FROM CAST(acquired_at AS timestamp))\n",
    "    )\n",
    "\n",
    "SELECT acq_month,\n",
    "        count_com,\n",
    "        sum_amont,\n",
    "        fund_count\n",
    "FROM b\n",
    "INNER JOIN r ON b.inv_month=r.acq_month;"
   ]
  },
  {
   "cell_type": "markdown",
   "id": "6ad9fd56",
   "metadata": {},
   "source": [
    "## 23. Составьте сводную таблицу и выведите среднюю сумму инвестиций для стран, в которых есть стартапы, зарегистрированные в 2011, 2012 и 2013 годах. Данные за каждый год должны быть в отдельном поле. Отсортируйте таблицу по среднему значению инвестиций за 2011 год от большего к меньшему."
   ]
  },
  {
   "cell_type": "code",
   "execution_count": null,
   "id": "34a7ee30",
   "metadata": {},
   "outputs": [],
   "source": [
    "WITH\n",
    "\n",
    "inv_2011 AS (\n",
    "            SELECT AVG(funding_total) AS total_2011,\n",
    "                    country_code\n",
    "            FROM company\n",
    "            GROUP BY country_code, EXTRACT(YEAR FROM founded_at)\n",
    "            HAVING EXTRACT(YEAR FROM founded_at) = 2011\n",
    "            ),\n",
    "               \n",
    "inv_2012 AS (\n",
    "            SELECT AVG(funding_total) AS total_2012,\n",
    "                      country_code\n",
    "            FROM company\n",
    "            GROUP BY country_code, EXTRACT(YEAR FROM founded_at)\n",
    "            HAVING EXTRACT(YEAR FROM founded_at) = 2012\n",
    "            ),\n",
    "\n",
    "inv_2013 AS (\n",
    "            SELECT AVG(funding_total) AS total_2013,\n",
    "                    country_code\n",
    "            FROM company\n",
    "            GROUP BY country_code, EXTRACT(YEAR FROM founded_at)\n",
    "            HAVING EXTRACT(YEAR FROM founded_at) = 2013\n",
    "            )\n",
    "\n",
    "SELECT inv_2011.country_code,\n",
    "       inv_2011.total_2011,\n",
    "       inv_2012.total_2012,\n",
    "       inv_2013.total_2013\n",
    "FROM inv_2011 \n",
    "INNER JOIN inv_2012 ON inv_2011.country_code = inv_2012.country_code\n",
    "INNER JOIN inv_2013 ON inv_2011.country_code = inv_2013.country_code\n",
    "ORDER BY inv_2011.total_2011 DESC;"
   ]
  }
 ],
 "metadata": {
  "kernelspec": {
   "display_name": "Python 3 (ipykernel)",
   "language": "python",
   "name": "python3"
  },
  "language_info": {
   "codemirror_mode": {
    "name": "ipython",
    "version": 3
   },
   "file_extension": ".py",
   "mimetype": "text/x-python",
   "name": "python",
   "nbconvert_exporter": "python",
   "pygments_lexer": "ipython3",
   "version": "3.10.9"
  }
 },
 "nbformat": 4,
 "nbformat_minor": 5
}
